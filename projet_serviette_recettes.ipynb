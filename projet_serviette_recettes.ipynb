{
 "metadata": {
  "language_info": {
   "codemirror_mode": {
    "name": "ipython",
    "version": 3
   },
   "file_extension": ".py",
   "mimetype": "text/x-python",
   "name": "python",
   "nbconvert_exporter": "python",
   "pygments_lexer": "ipython3",
   "version": "3.9.13-final"
  },
  "orig_nbformat": 2,
  "kernelspec": {
   "name": "python3",
   "display_name": "Python 3.9.13 64-bit ('CEFIM': virtualenv)",
   "metadata": {
    "interpreter": {
     "hash": "bdff91ece41161bfc8419e2037b325266a1bff589078ccd6b21e9d3b9060f5f1"
    }
   }
  }
 },
 "nbformat": 4,
 "nbformat_minor": 2,
 "cells": [
  {
   "cell_type": "code",
   "execution_count": 1,
   "metadata": {},
   "outputs": [],
   "source": [
    "import requests\n",
    "import pandas as pd\n",
    "\n",
    "ENDPOINT = \"http://162.19.108.77:8000\""
   ]
  },
  {
   "cell_type": "code",
   "execution_count": 2,
   "metadata": {},
   "outputs": [],
   "source": [
    "url = f'{ENDPOINT}/recipe_urls'\n",
    "body = {\"name\": \"tarte aux pommes\"}\n",
    "r = requests.post(url, json=body)"
   ]
  },
  {
   "cell_type": "code",
   "execution_count": 3,
   "metadata": {},
   "outputs": [
    {
     "output_type": "execute_result",
     "data": {
      "text/plain": [
       "200"
      ]
     },
     "metadata": {},
     "execution_count": 3
    }
   ],
   "source": [
    "r.status_code"
   ]
  },
  {
   "cell_type": "code",
   "execution_count": 4,
   "metadata": {},
   "outputs": [
    {
     "output_type": "execute_result",
     "data": {
      "text/plain": [
       "b'[\"https://www.marmiton.org/recettes/recette_tarte-aux-pommes-a-l-alsacienne_11457.aspx\",\"https://www.marmiton.org/recettes/recette_tarte-aux-pommes_18588.aspx\",\"https://www.marmiton.org/recettes/recette_tarte-pommes-rapees-citrons_18437.aspx\",\"https://www.marmiton.org/recettes/recette_tarte-crumble-aux-pommes_37128.aspx\",\"https://www.marmiton.org/recettes/recette_tarte-aux-pommes-facile_92486.aspx\",\"https://www.marmiton.org/recettes/recette_tarte-pommes-amandes-et-chocolat_38664.aspx\",\"https://www.marmiton.org/recettes/recette_tarte-aux-pommes-normande-de-mag-16eme-rencontre-marmiton_35497.aspx\",\"https://www.marmiton.org/recettes/recette_tarte-aux-pommes-de-terre-et-au-roquefort_26889.aspx\",\"https://www.marmiton.org/recettes/recette_tarte-aux-pommes-miel-et-amandes_15227.aspx\",\"https://www.marmiton.org/recettes/recette_tarte-meringuee-aux-pommes-et-aux-poires_37495.aspx\",\"https://www.marmiton.org/recettes/recette_tarte-aux-pommes-et-a-la-noix-de-coco_18921.aspx\",\"https://www.marmiton.org/recettes/recette_tarte-creole-aux-pommes_20882.aspx\"]'"
      ]
     },
     "metadata": {},
     "execution_count": 4
    }
   ],
   "source": [
    "r.content"
   ]
  },
  {
   "cell_type": "code",
   "execution_count": 5,
   "metadata": {},
   "outputs": [
    {
     "output_type": "execute_result",
     "data": {
      "text/plain": [
       "b'[\"https://www.marmiton.org/recettes/recette_tarte-aux-pommes-a-l-alsacienne_11457.aspx\",\"https://www.marmiton.org/recettes/recette_tarte-aux-pommes_18588.aspx\",\"https://www.marmiton.org/recettes/recette_tarte-pommes-rapees-citrons_18437.aspx\",\"https://www.marmiton.org/recettes/recette_tarte-crumble-aux-pommes_37128.aspx\",\"https://www.marmiton.org/recettes/recette_tarte-aux-pommes-facile_92486.aspx\",\"https://www.marmiton.org/recettes/recette_tarte-pommes-amandes-et-chocolat_38664.aspx\",\"https://www.marmiton.org/recettes/recette_tarte-aux-pommes-normande-de-mag-16eme-rencontre-marmiton_35497.aspx\",\"https://www.marmiton.org/recettes/recette_tarte-aux-pommes-de-terre-et-au-roquefort_26889.aspx\",\"https://www.marmiton.org/recettes/recette_tarte-aux-pommes-miel-et-amandes_15227.aspx\",\"https://www.marmiton.org/recettes/recette_tarte-meringuee-aux-pommes-et-aux-poires_37495.aspx\",\"https://www.marmiton.org/recettes/recette_tarte-aux-pommes-et-a-la-noix-de-coco_18921.aspx\",\"https://www.marmiton.org/recettes/recette_tarte-creole-aux-pommes_20882.aspx\"]'"
      ]
     },
     "metadata": {},
     "execution_count": 5
    }
   ],
   "source": [
    "b'[\"https://www.marmiton.org/recettes/recette_tarte-aux-pommes-a-l-alsacienne_11457.aspx\",\"https://www.marmiton.org/recettes/recette_tarte-aux-pommes_18588.aspx\",\"https://www.marmiton.org/recettes/recette_tarte-pommes-rapees-citrons_18437.aspx\",\"https://www.marmiton.org/recettes/recette_tarte-crumble-aux-pommes_37128.aspx\",\"https://www.marmiton.org/recettes/recette_tarte-aux-pommes-facile_92486.aspx\",\"https://www.marmiton.org/recettes/recette_tarte-pommes-amandes-et-chocolat_38664.aspx\",\"https://www.marmiton.org/recettes/recette_tarte-aux-pommes-normande-de-mag-16eme-rencontre-marmiton_35497.aspx\",\"https://www.marmiton.org/recettes/recette_tarte-aux-pommes-de-terre-et-au-roquefort_26889.aspx\",\"https://www.marmiton.org/recettes/recette_tarte-aux-pommes-miel-et-amandes_15227.aspx\",\"https://www.marmiton.org/recettes/recette_tarte-meringuee-aux-pommes-et-aux-poires_37495.aspx\",\"https://www.marmiton.org/recettes/recette_tarte-aux-pommes-et-a-la-noix-de-coco_18921.aspx\",\"https://www.marmiton.org/recettes/recette_tarte-creole-aux-pommes_20882.aspx\"]'"
   ]
  },
  {
   "cell_type": "code",
   "execution_count": 6,
   "metadata": {},
   "outputs": [
    {
     "output_type": "execute_result",
     "data": {
      "text/plain": [
       "['https://www.marmiton.org/recettes/recette_tarte-aux-pommes-a-l-alsacienne_11457.aspx',\n",
       " 'https://www.marmiton.org/recettes/recette_tarte-aux-pommes_18588.aspx',\n",
       " 'https://www.marmiton.org/recettes/recette_tarte-pommes-rapees-citrons_18437.aspx',\n",
       " 'https://www.marmiton.org/recettes/recette_tarte-crumble-aux-pommes_37128.aspx',\n",
       " 'https://www.marmiton.org/recettes/recette_tarte-aux-pommes-facile_92486.aspx',\n",
       " 'https://www.marmiton.org/recettes/recette_tarte-pommes-amandes-et-chocolat_38664.aspx',\n",
       " 'https://www.marmiton.org/recettes/recette_tarte-aux-pommes-normande-de-mag-16eme-rencontre-marmiton_35497.aspx',\n",
       " 'https://www.marmiton.org/recettes/recette_tarte-aux-pommes-de-terre-et-au-roquefort_26889.aspx',\n",
       " 'https://www.marmiton.org/recettes/recette_tarte-aux-pommes-miel-et-amandes_15227.aspx',\n",
       " 'https://www.marmiton.org/recettes/recette_tarte-meringuee-aux-pommes-et-aux-poires_37495.aspx',\n",
       " 'https://www.marmiton.org/recettes/recette_tarte-aux-pommes-et-a-la-noix-de-coco_18921.aspx',\n",
       " 'https://www.marmiton.org/recettes/recette_tarte-creole-aux-pommes_20882.aspx']"
      ]
     },
     "metadata": {},
     "execution_count": 6
    }
   ],
   "source": [
    "data = r.json()\n",
    "data "
   ]
  },
  {
   "cell_type": "code",
   "execution_count": 7,
   "metadata": {},
   "outputs": [
    {
     "output_type": "execute_result",
     "data": {
      "text/plain": [
       "['https://www.marmiton.org/recettes/recette_tarte-aux-pommes-a-l-alsacienne_11457.aspx',\n",
       " 'https://www.marmiton.org/recettes/recette_tarte-aux-pommes_18588.aspx',\n",
       " 'https://www.marmiton.org/recettes/recette_tarte-pommes-rapees-citrons_18437.aspx',\n",
       " 'https://www.marmiton.org/recettes/recette_tarte-crumble-aux-pommes_37128.aspx',\n",
       " 'https://www.marmiton.org/recettes/recette_tarte-aux-pommes-facile_92486.aspx',\n",
       " 'https://www.marmiton.org/recettes/recette_tarte-pommes-amandes-et-chocolat_38664.aspx',\n",
       " 'https://www.marmiton.org/recettes/recette_tarte-aux-pommes-normande-de-mag-16eme-rencontre-marmiton_35497.aspx',\n",
       " 'https://www.marmiton.org/recettes/recette_tarte-aux-pommes-de-terre-et-au-roquefort_26889.aspx',\n",
       " 'https://www.marmiton.org/recettes/recette_tarte-aux-pommes-miel-et-amandes_15227.aspx',\n",
       " 'https://www.marmiton.org/recettes/recette_tarte-meringuee-aux-pommes-et-aux-poires_37495.aspx',\n",
       " 'https://www.marmiton.org/recettes/recette_tarte-aux-pommes-et-a-la-noix-de-coco_18921.aspx',\n",
       " 'https://www.marmiton.org/recettes/recette_tarte-creole-aux-pommes_20882.aspx']"
      ]
     },
     "metadata": {},
     "execution_count": 7
    }
   ],
   "source": [
    "['https://www.marmiton.org/recettes/recette_tarte-aux-pommes-a-l-alsacienne_11457.aspx',\n",
    " 'https://www.marmiton.org/recettes/recette_tarte-aux-pommes_18588.aspx',\n",
    " 'https://www.marmiton.org/recettes/recette_tarte-pommes-rapees-citrons_18437.aspx',\n",
    " 'https://www.marmiton.org/recettes/recette_tarte-crumble-aux-pommes_37128.aspx',\n",
    " 'https://www.marmiton.org/recettes/recette_tarte-aux-pommes-facile_92486.aspx',\n",
    " 'https://www.marmiton.org/recettes/recette_tarte-pommes-amandes-et-chocolat_38664.aspx',\n",
    " 'https://www.marmiton.org/recettes/recette_tarte-aux-pommes-normande-de-mag-16eme-rencontre-marmiton_35497.aspx',\n",
    " 'https://www.marmiton.org/recettes/recette_tarte-aux-pommes-de-terre-et-au-roquefort_26889.aspx',\n",
    " 'https://www.marmiton.org/recettes/recette_tarte-aux-pommes-miel-et-amandes_15227.aspx',\n",
    " 'https://www.marmiton.org/recettes/recette_tarte-meringuee-aux-pommes-et-aux-poires_37495.aspx',\n",
    " 'https://www.marmiton.org/recettes/recette_tarte-aux-pommes-et-a-la-noix-de-coco_18921.aspx',\n",
    " 'https://www.marmiton.org/recettes/recette_tarte-creole-aux-pommes_20882.aspx']"
   ]
  },
  {
   "cell_type": "code",
   "execution_count": 8,
   "metadata": {},
   "outputs": [
    {
     "output_type": "execute_result",
     "data": {
      "text/plain": [
       "'https://www.marmiton.org/recettes/recette_tarte-aux-pommes-a-l-alsacienne_11457.aspx'"
      ]
     },
     "metadata": {},
     "execution_count": 8
    }
   ],
   "source": [
    "data[0]"
   ]
  },
  {
   "cell_type": "code",
   "execution_count": 9,
   "metadata": {},
   "outputs": [
    {
     "output_type": "execute_result",
     "data": {
      "text/plain": [
       "'https://www.marmiton.org/recettes/recette_tarte-aux-pommes-a-l-alsacienne_11457.aspx'"
      ]
     },
     "metadata": {},
     "execution_count": 9
    }
   ],
   "source": [
    "'https://www.marmiton.org/recettes/recette_tarte-aux-pommes-a-l-alsacienne_11457.aspx'"
   ]
  },
  {
   "source": [
    "### Tartiflette"
   ],
   "cell_type": "markdown",
   "metadata": {}
  },
  {
   "cell_type": "code",
   "execution_count": 10,
   "metadata": {},
   "outputs": [],
   "source": [
    "url = f'{ENDPOINT}/recipe_urls'\n",
    "body = {\"name\": \"tartiflette\"}\n",
    "r = requests.post(url, json=body)"
   ]
  },
  {
   "cell_type": "code",
   "execution_count": 11,
   "metadata": {},
   "outputs": [
    {
     "output_type": "execute_result",
     "data": {
      "text/plain": [
       "200"
      ]
     },
     "metadata": {},
     "execution_count": 11
    }
   ],
   "source": [
    "r.status_code"
   ]
  },
  {
   "cell_type": "code",
   "execution_count": 12,
   "metadata": {},
   "outputs": [
    {
     "output_type": "execute_result",
     "data": {
      "text/plain": [
       "b'[\"https://www.marmiton.org/recettes/recette_la-vraie-tartiflette_17634.aspx\",\"https://www.marmiton.org/recettes/recette_tartiflette_10514.aspx\",\"https://www.marmiton.org/recettes/recette_tartiflette-facile_15733.aspx\",\"https://www.marmiton.org/recettes/recette_la-tartiflette-de-papy-d-la-savoie_65551.aspx\",\"https://www.marmiton.org/recettes/recette_tartiflette-aux-endives_21135.aspx\",\"https://www.marmiton.org/recettes/recette_tartiflette-irlandaise_17605.aspx\",\"https://www.marmiton.org/recettes/recette_pizza-tartiflette_20898.aspx\",\"https://www.marmiton.org/recettes/recette_tartiflette-de-poireaux_25336.aspx\",\"https://www.marmiton.org/recettes/recette_tartiflette-a-la-poitrine-fumee_17308.aspx\",\"https://www.marmiton.org/recettes/recette_tartiflette-a-l-espagnole_45390.aspx\",\"https://www.marmiton.org/recettes/recette_tartiflette-carottes-et-mont-d-or_26657.aspx\",\"https://www.marmiton.org/recettes/recette_tartiflette-de-chou-fleur-au-saint-marcellin_42706.aspx\"]'"
      ]
     },
     "metadata": {},
     "execution_count": 12
    }
   ],
   "source": [
    "r.content"
   ]
  },
  {
   "cell_type": "code",
   "execution_count": 13,
   "metadata": {},
   "outputs": [
    {
     "output_type": "execute_result",
     "data": {
      "text/plain": [
       "b'[\"https://www.marmiton.org/recettes/recette_la-vraie-tartiflette_17634.aspx\",\"https://www.marmiton.org/recettes/recette_tartiflette_10514.aspx\",\"https://www.marmiton.org/recettes/recette_tartiflette-facile_15733.aspx\",\"https://www.marmiton.org/recettes/recette_la-tartiflette-de-papy-d-la-savoie_65551.aspx\",\"https://www.marmiton.org/recettes/recette_tartiflette-aux-endives_21135.aspx\",\"https://www.marmiton.org/recettes/recette_tartiflette-irlandaise_17605.aspx\",\"https://www.marmiton.org/recettes/recette_pizza-tartiflette_20898.aspx\",\"https://www.marmiton.org/recettes/recette_tartiflette-de-poireaux_25336.aspx\",\"https://www.marmiton.org/recettes/recette_tartiflette-a-la-poitrine-fumee_17308.aspx\",\"https://www.marmiton.org/recettes/recette_tartiflette-a-l-espagnole_45390.aspx\",\"https://www.marmiton.org/recettes/recette_tartiflette-carottes-et-mont-d-or_26657.aspx\",\"https://www.marmiton.org/recettes/recette_tartiflette-de-chou-fleur-au-saint-marcellin_42706.aspx\"]'"
      ]
     },
     "metadata": {},
     "execution_count": 13
    }
   ],
   "source": [
    "b'[\"https://www.marmiton.org/recettes/recette_la-vraie-tartiflette_17634.aspx\",\"https://www.marmiton.org/recettes/recette_tartiflette_10514.aspx\",\"https://www.marmiton.org/recettes/recette_tartiflette-facile_15733.aspx\",\"https://www.marmiton.org/recettes/recette_la-tartiflette-de-papy-d-la-savoie_65551.aspx\",\"https://www.marmiton.org/recettes/recette_tartiflette-aux-endives_21135.aspx\",\"https://www.marmiton.org/recettes/recette_tartiflette-irlandaise_17605.aspx\",\"https://www.marmiton.org/recettes/recette_pizza-tartiflette_20898.aspx\",\"https://www.marmiton.org/recettes/recette_tartiflette-de-poireaux_25336.aspx\",\"https://www.marmiton.org/recettes/recette_tartiflette-a-la-poitrine-fumee_17308.aspx\",\"https://www.marmiton.org/recettes/recette_tartiflette-a-l-espagnole_45390.aspx\",\"https://www.marmiton.org/recettes/recette_tartiflette-carottes-et-mont-d-or_26657.aspx\",\"https://www.marmiton.org/recettes/recette_tartiflette-de-chou-fleur-au-saint-marcellin_42706.aspx\"]'"
   ]
  },
  {
   "cell_type": "code",
   "execution_count": 14,
   "metadata": {},
   "outputs": [
    {
     "output_type": "execute_result",
     "data": {
      "text/plain": [
       "['https://www.marmiton.org/recettes/recette_la-vraie-tartiflette_17634.aspx',\n",
       " 'https://www.marmiton.org/recettes/recette_tartiflette_10514.aspx',\n",
       " 'https://www.marmiton.org/recettes/recette_tartiflette-facile_15733.aspx',\n",
       " 'https://www.marmiton.org/recettes/recette_la-tartiflette-de-papy-d-la-savoie_65551.aspx',\n",
       " 'https://www.marmiton.org/recettes/recette_tartiflette-aux-endives_21135.aspx',\n",
       " 'https://www.marmiton.org/recettes/recette_tartiflette-irlandaise_17605.aspx',\n",
       " 'https://www.marmiton.org/recettes/recette_pizza-tartiflette_20898.aspx',\n",
       " 'https://www.marmiton.org/recettes/recette_tartiflette-de-poireaux_25336.aspx',\n",
       " 'https://www.marmiton.org/recettes/recette_tartiflette-a-la-poitrine-fumee_17308.aspx',\n",
       " 'https://www.marmiton.org/recettes/recette_tartiflette-a-l-espagnole_45390.aspx',\n",
       " 'https://www.marmiton.org/recettes/recette_tartiflette-carottes-et-mont-d-or_26657.aspx',\n",
       " 'https://www.marmiton.org/recettes/recette_tartiflette-de-chou-fleur-au-saint-marcellin_42706.aspx']"
      ]
     },
     "metadata": {},
     "execution_count": 14
    }
   ],
   "source": [
    "data = r.json()\n",
    "data"
   ]
  },
  {
   "cell_type": "code",
   "execution_count": 19,
   "metadata": {},
   "outputs": [
    {
     "output_type": "execute_result",
     "data": {
      "text/plain": [
       "['https://www.marmiton.org/recettes/recette_la-vraie-tartiflette_17634.aspx',\n",
       " 'https://www.marmiton.org/recettes/recette_tartiflette_10514.aspx',\n",
       " 'https://www.marmiton.org/recettes/recette_tartiflette-facile_15733.aspx',\n",
       " 'https://www.marmiton.org/recettes/recette_la-tartiflette-de-papy-d-la-savoie_65551.aspx',\n",
       " 'https://www.marmiton.org/recettes/recette_tartiflette-aux-endives_21135.aspx',\n",
       " 'https://www.marmiton.org/recettes/recette_tartiflette-irlandaise_17605.aspx',\n",
       " 'https://www.marmiton.org/recettes/recette_pizza-tartiflette_20898.aspx',\n",
       " 'https://www.marmiton.org/recettes/recette_tartiflette-de-poireaux_25336.aspx',\n",
       " 'https://www.marmiton.org/recettes/recette_tartiflette-a-la-poitrine-fumee_17308.aspx',\n",
       " 'https://www.marmiton.org/recettes/recette_tartiflette-a-l-espagnole_45390.aspx',\n",
       " 'https://www.marmiton.org/recettes/recette_tartiflette-carottes-et-mont-d-or_26657.aspx',\n",
       " 'https://www.marmiton.org/recettes/recette_tartiflette-de-chou-fleur-au-saint-marcellin_42706.aspx']"
      ]
     },
     "metadata": {},
     "execution_count": 19
    }
   ],
   "source": [
    "['https://www.marmiton.org/recettes/recette_la-vraie-tartiflette_17634.aspx',\n",
    " 'https://www.marmiton.org/recettes/recette_tartiflette_10514.aspx',\n",
    " 'https://www.marmiton.org/recettes/recette_tartiflette-facile_15733.aspx',\n",
    " 'https://www.marmiton.org/recettes/recette_la-tartiflette-de-papy-d-la-savoie_65551.aspx',\n",
    " 'https://www.marmiton.org/recettes/recette_tartiflette-aux-endives_21135.aspx',\n",
    " 'https://www.marmiton.org/recettes/recette_tartiflette-irlandaise_17605.aspx',\n",
    " 'https://www.marmiton.org/recettes/recette_pizza-tartiflette_20898.aspx',\n",
    " 'https://www.marmiton.org/recettes/recette_tartiflette-de-poireaux_25336.aspx',\n",
    " 'https://www.marmiton.org/recettes/recette_tartiflette-a-la-poitrine-fumee_17308.aspx',\n",
    " 'https://www.marmiton.org/recettes/recette_tartiflette-a-l-espagnole_45390.aspx',\n",
    " 'https://www.marmiton.org/recettes/recette_tartiflette-carottes-et-mont-d-or_26657.aspx',\n",
    " 'https://www.marmiton.org/recettes/recette_tartiflette-de-chou-fleur-au-saint-marcellin_42706.aspx']"
   ]
  },
  {
   "cell_type": "code",
   "execution_count": 16,
   "metadata": {},
   "outputs": [
    {
     "output_type": "execute_result",
     "data": {
      "text/plain": [
       "'https://www.marmiton.org/recettes/recette_la-vraie-tartiflette_17634.aspx'"
      ]
     },
     "metadata": {},
     "execution_count": 16
    }
   ],
   "source": [
    " data[0]"
   ]
  },
  {
   "cell_type": "code",
   "execution_count": 18,
   "metadata": {},
   "outputs": [
    {
     "output_type": "execute_result",
     "data": {
      "text/plain": [
       "'https://www.marmiton.org/recettes/recette_la-vraie-tartiflette_17634.aspx'"
      ]
     },
     "metadata": {},
     "execution_count": 18
    }
   ],
   "source": [
    "'https://www.marmiton.org/recettes/recette_la-vraie-tartiflette_17634.aspx'"
   ]
  },
  {
   "cell_type": "code",
   "execution_count": 20,
   "metadata": {},
   "outputs": [
    {
     "output_type": "execute_result",
     "data": {
      "text/plain": [
       "[\"200 g d'oignon émincés\",\n",
       " \"1 reblochon bien fait (lorsqu'on appuie sur le côté du reblochon, le doigt doit s'enfoncer un peu)\",\n",
       " \"2 c.à.s d'huile \",\n",
       " ' sel ',\n",
       " ' poivre ',\n",
       " '1 kg de pomme de terre ',\n",
       " '200 g de lardons fumés ',\n",
       " \"1 gousse d'ail \"]"
      ]
     },
     "metadata": {},
     "execution_count": 20
    }
   ],
   "source": [
    "[\n",
    "  \"200 g d'oignon émincés\",\n",
    "  \"1 reblochon bien fait (lorsqu'on appuie sur le côté du reblochon, le doigt doit s'enfoncer un peu)\",\n",
    "  \"2 c.à.s d'huile \",\n",
    "  \" sel \",\n",
    "  \" poivre \",\n",
    "  \"1 kg de pomme de terre \",\n",
    "  \"200 g de lardons fumés \",\n",
    "  \"1 gousse d'ail \"\n",
    "]"
   ]
  },
  {
   "cell_type": "code",
   "execution_count": 21,
   "metadata": {},
   "outputs": [
    {
     "output_type": "execute_result",
     "data": {
      "text/plain": [
       "[\"200\\xa0g d'oignon émincés\",\n",
       " \"1 reblochon bien fait (lorsqu'on appuie sur le côté du reblochon, le doigt doit s'enfoncer un peu)\",\n",
       " \"2\\xa0c.à.s d'huile \",\n",
       " ' sel ',\n",
       " ' poivre ',\n",
       " '1\\xa0kg de pomme de terre ',\n",
       " '200\\xa0g de lardons fumés ',\n",
       " \"1\\xa0gousse d'ail \"]"
      ]
     },
     "metadata": {},
     "execution_count": 21
    }
   ],
   "source": [
    "url = f'{ENDPOINT}/ingredients_marmiton/'\n",
    "body = { \"url\": data[0]}\n",
    "r = requests.post(url, json=body)\n",
    "r.status_code\n",
    "r.text\n",
    "data = r.json()\n",
    "data"
   ]
  },
  {
   "source": [
    "### Requete tokenisé\n"
   ],
   "cell_type": "markdown",
   "metadata": {}
  },
  {
   "cell_type": "code",
   "execution_count": 25,
   "metadata": {},
   "outputs": [],
   "source": [
    "import json\n",
    "with open(\"credentials.json\") as f:\n",
    "    credentials = json.load(f)\n",
    "    token = credentials[\"token\"]\n",
    " "
   ]
  },
  {
   "cell_type": "code",
   "execution_count": 26,
   "metadata": {},
   "outputs": [
    {
     "output_type": "execute_result",
     "data": {
      "text/plain": [
       "'Quota used: 0/3'"
      ]
     },
     "metadata": {},
     "execution_count": 26
    }
   ],
   "source": [
    "url = ENDPOINT + \"/quota/\"\n",
    "headers = {\"Authorization\": f\"Token {token}\"}\n",
    "\n",
    "r = requests.get(url, headers=headers)\n",
    "r.json()"
   ]
  },
  {
   "cell_type": "code",
   "execution_count": 37,
   "metadata": {},
   "outputs": [
    {
     "output_type": "execute_result",
     "data": {
      "text/plain": [
       "200"
      ]
     },
     "metadata": {},
     "execution_count": 37
    }
   ],
   "source": [
    "url = ENDPOINT + \"/ingredients_recipe/\"\n",
    "body = {\"name\": \"Quiche\"}\n",
    "headers = {\"Authorization\": f\"Token {token}\"}\n",
    "\n",
    "r = requests.post(url, json=body, headers=headers)\n",
    "r.status_code"
   ]
  },
  {
   "cell_type": "code",
   "execution_count": 38,
   "metadata": {},
   "outputs": [
    {
     "output_type": "execute_result",
     "data": {
      "text/plain": [
       "'[{\"ingredient\":\"cr\\\\u00e8me fra\\\\u00eeche\",\"Code\\\\nAGB\":\"19431\",\"mass\":100},{\"ingredient\":\"farine\",\"Code\\\\nAGB\":\"9437\",\"mass\":20},{\"ingredient\":\"gruy\\\\u00e8re r\\\\u00e2p\\\\u00e9\",\"Code\\\\nAGB\":\"12114\",\"mass\":100},{\"ingredient\":\"poivre\",\"Code\\\\nAGB\":\"11015\",\"mass\":0},{\"ingredient\":\"sel\",\"Code\\\\nAGB\":\"11017\",\"mass\":0},{\"ingredient\":\"oeufs\",\"Code\\\\nAGB\":\"22000\",\"mass\":150},{\"ingredient\":\"lait\",\"Code\\\\nAGB\":\"19024\",\"mass\":250},{\"ingredient\":\"jambon\",\"Code\\\\nAGB\":\"28800\",\"mass\":150}]'"
      ]
     },
     "metadata": {},
     "execution_count": 38
    }
   ],
   "source": [
    "r.json()"
   ]
  },
  {
   "cell_type": "code",
   "execution_count": 40,
   "metadata": {},
   "outputs": [
    {
     "output_type": "execute_result",
     "data": {
      "text/plain": [
       "      ingredient  Code\\nAGB  mass\n",
       "0  crème fraîche      19431   100\n",
       "1         farine       9437    20\n",
       "2   gruyère râpé      12114   100\n",
       "3         poivre      11015     0\n",
       "4            sel      11017     0\n",
       "5          oeufs      22000   150\n",
       "6           lait      19024   250\n",
       "7         jambon      28800   150"
      ],
      "text/html": "<div>\n<style scoped>\n    .dataframe tbody tr th:only-of-type {\n        vertical-align: middle;\n    }\n\n    .dataframe tbody tr th {\n        vertical-align: top;\n    }\n\n    .dataframe thead th {\n        text-align: right;\n    }\n</style>\n<table border=\"1\" class=\"dataframe\">\n  <thead>\n    <tr style=\"text-align: right;\">\n      <th></th>\n      <th>ingredient</th>\n      <th>Code\\nAGB</th>\n      <th>mass</th>\n    </tr>\n  </thead>\n  <tbody>\n    <tr>\n      <th>0</th>\n      <td>crème fraîche</td>\n      <td>19431</td>\n      <td>100</td>\n    </tr>\n    <tr>\n      <th>1</th>\n      <td>farine</td>\n      <td>9437</td>\n      <td>20</td>\n    </tr>\n    <tr>\n      <th>2</th>\n      <td>gruyère râpé</td>\n      <td>12114</td>\n      <td>100</td>\n    </tr>\n    <tr>\n      <th>3</th>\n      <td>poivre</td>\n      <td>11015</td>\n      <td>0</td>\n    </tr>\n    <tr>\n      <th>4</th>\n      <td>sel</td>\n      <td>11017</td>\n      <td>0</td>\n    </tr>\n    <tr>\n      <th>5</th>\n      <td>oeufs</td>\n      <td>22000</td>\n      <td>150</td>\n    </tr>\n    <tr>\n      <th>6</th>\n      <td>lait</td>\n      <td>19024</td>\n      <td>250</td>\n    </tr>\n    <tr>\n      <th>7</th>\n      <td>jambon</td>\n      <td>28800</td>\n      <td>150</td>\n    </tr>\n  </tbody>\n</table>\n</div>"
     },
     "metadata": {},
     "execution_count": 40
    }
   ],
   "source": [
    "ingredients_recipe = pd.read_json(r.json(), orient=\"records\")\n",
    "ingredients_recipe.to_csv(\"data/Quiche.csv\", sep=\";\", index=False)\n",
    "ingredients_recipe"
   ]
  },
  {
   "cell_type": "code",
   "execution_count": 41,
   "metadata": {},
   "outputs": [
    {
     "output_type": "execute_result",
     "data": {
      "text/plain": [
       "'Quota used: 2/3'"
      ]
     },
     "metadata": {},
     "execution_count": 41
    }
   ],
   "source": [
    "url = ENDPOINT + \"/quota/\"\n",
    "headers = {\"Authorization\": f\"Token {token}\"}\n",
    "\n",
    "r = requests.get(url, headers=headers)\n",
    "r.json()"
   ]
  },
  {
   "cell_type": "code",
   "execution_count": null,
   "metadata": {},
   "outputs": [],
   "source": []
  }
 ]
}