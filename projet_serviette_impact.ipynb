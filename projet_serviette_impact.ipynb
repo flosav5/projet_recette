{
 "metadata": {
  "language_info": {
   "codemirror_mode": {
    "name": "ipython",
    "version": 3
   },
   "file_extension": ".py",
   "mimetype": "text/x-python",
   "name": "python",
   "nbconvert_exporter": "python",
   "pygments_lexer": "ipython3",
   "version": "3.9.13-final"
  },
  "orig_nbformat": 2,
  "kernelspec": {
   "name": "python3",
   "display_name": "Python 3.9.13 64-bit (conda)",
   "metadata": {
    "interpreter": {
     "hash": "bdff91ece41161bfc8419e2037b325266a1bff589078ccd6b21e9d3b9060f5f1"
    }
   }
  }
 },
 "nbformat": 4,
 "nbformat_minor": 2,
 "cells": [
  {
   "cell_type": "code",
   "execution_count": 1,
   "metadata": {},
   "outputs": [],
   "source": [
    "import pandas as pd"
   ]
  },
  {
   "cell_type": "code",
   "execution_count": 29,
   "metadata": {},
   "outputs": [
    {
     "output_type": "execute_result",
     "data": {
      "text/plain": [
       "      ingredient Code\\nAGB  Masse\n",
       "0  crème fraîche     19431    100\n",
       "1         farine      9437     20\n",
       "2   gruyère râpé     12114    100\n",
       "3         poivre     11015      0\n",
       "4            sel     11017      0\n",
       "5          oeufs     22000    150\n",
       "6           lait     19024    250\n",
       "7         jambon     28800    150"
      ],
      "text/html": "<div>\n<style scoped>\n    .dataframe tbody tr th:only-of-type {\n        vertical-align: middle;\n    }\n\n    .dataframe tbody tr th {\n        vertical-align: top;\n    }\n\n    .dataframe thead th {\n        text-align: right;\n    }\n</style>\n<table border=\"1\" class=\"dataframe\">\n  <thead>\n    <tr style=\"text-align: right;\">\n      <th></th>\n      <th>ingredient</th>\n      <th>Code\\nAGB</th>\n      <th>Masse</th>\n    </tr>\n  </thead>\n  <tbody>\n    <tr>\n      <th>0</th>\n      <td>crème fraîche</td>\n      <td>19431</td>\n      <td>100</td>\n    </tr>\n    <tr>\n      <th>1</th>\n      <td>farine</td>\n      <td>9437</td>\n      <td>20</td>\n    </tr>\n    <tr>\n      <th>2</th>\n      <td>gruyère râpé</td>\n      <td>12114</td>\n      <td>100</td>\n    </tr>\n    <tr>\n      <th>3</th>\n      <td>poivre</td>\n      <td>11015</td>\n      <td>0</td>\n    </tr>\n    <tr>\n      <th>4</th>\n      <td>sel</td>\n      <td>11017</td>\n      <td>0</td>\n    </tr>\n    <tr>\n      <th>5</th>\n      <td>oeufs</td>\n      <td>22000</td>\n      <td>150</td>\n    </tr>\n    <tr>\n      <th>6</th>\n      <td>lait</td>\n      <td>19024</td>\n      <td>250</td>\n    </tr>\n    <tr>\n      <th>7</th>\n      <td>jambon</td>\n      <td>28800</td>\n      <td>150</td>\n    </tr>\n  </tbody>\n</table>\n</div>"
     },
     "metadata": {},
     "execution_count": 29
    }
   ],
   "source": [
    "df_recette=pd.read_csv(\"data/Quiche.csv\")\n",
    "data = {\n",
    "    'ingredient': ['crème fraîche', 'farine', 'gruyère râpé', 'poivre', 'sel', 'oeufs', 'lait', 'jambon'],\n",
    "    'Code\\nAGB': [19431, 9437, 12114, 11015, 11017, 22000, 19024, 28800],\n",
    "    'Masse': [100, 20, 100, 0, 0, 150, 250, 150]\n",
    "}\n",
    "\n",
    "df_recette = pd.DataFrame(data)\n",
    "df_recette['Code\\nAGB'] = df_recette['Code\\nAGB'].astype('string')\n",
    "df_recette"
   ]
  },
  {
   "cell_type": "code",
   "execution_count": 30,
   "metadata": {},
   "outputs": [
    {
     "output_type": "execute_result",
     "data": {
      "text/plain": [
       "     Code\\nAGB  Code\\nCIQUAL                        Groupe d'aliment  \\\n",
       "0        11084         11084  aides culinaires et ingrédients divers   \n",
       "1        11023         11023  aides culinaires et ingrédients divers   \n",
       "2        11000         11000  aides culinaires et ingrédients divers   \n",
       "3        11093         11093  aides culinaires et ingrédients divers   \n",
       "4        20995         20995  aides culinaires et ingrédients divers   \n",
       "...        ...           ...                                     ...   \n",
       "2512      6535          6535                 viandes, œufs, poissons   \n",
       "2513      6582          6582                 viandes, œufs, poissons   \n",
       "2514     26146         26146                 viandes, œufs, poissons   \n",
       "2515     26147         26147                 viandes, œufs, poissons   \n",
       "2516     25512         25512                 viandes, œufs, poissons   \n",
       "\n",
       "                 Sous-groupe d'aliment  \\\n",
       "0                               algues   \n",
       "1                               herbes   \n",
       "2                               herbes   \n",
       "3                               herbes   \n",
       "4                               algues   \n",
       "...                                ...   \n",
       "2512                     viandes crues   \n",
       "2513                    viandes cuites   \n",
       "2514                     poissons crus   \n",
       "2515                    poissons cuits   \n",
       "2516  autres produits à base de viande   \n",
       "\n",
       "                             Nom du Produit en Français  \\\n",
       "0                                     Agar (algue), cru   \n",
       "1                                     Ail séché, poudre   \n",
       "2                                              Ail, cru   \n",
       "3                                          Aneth, frais   \n",
       "4     Ao-nori (Enteromorpha sp.), séchée ou déshydratée   \n",
       "...                                                 ...   \n",
       "2512                      Veau, steak haché 20% MG, cru   \n",
       "2513                 Veau, tête, bouillie/cuite à l'eau   \n",
       "2514                                      Vivaneau, cru   \n",
       "2515                                     Vivaneau, cuit   \n",
       "2516               Volaille, croquette panée ou nuggets   \n",
       "\n",
       "                                               LCI Name  \\\n",
       "0                                    Seaweed, agar, raw   \n",
       "1                                 Garlic, powder, dried   \n",
       "2                                         Garlic, fresh   \n",
       "3                                           Dill, fresh   \n",
       "4     Sea lettuce (Enteromorpha sp.), dried or dehyd...   \n",
       "...                                                 ...   \n",
       "2512                   Veal, minced steak, 20% fat, raw   \n",
       "2513                 Calf, head, boiled/cooked in water   \n",
       "2514                                       Snapper, raw   \n",
       "2515                                    Snapper, cooked   \n",
       "2516                                    Poultry nuggets   \n",
       "\n",
       "      code saison (0 : hors saison ; 1 : de saison ; 2 : mix de consommation FR)  \\\n",
       "0                                                     2                            \n",
       "1                                                     2                            \n",
       "2                                                     2                            \n",
       "3                                                     2                            \n",
       "4                                                     2                            \n",
       "...                                                 ...                            \n",
       "2512                                                  2                            \n",
       "2513                                                  2                            \n",
       "2514                                                  2                            \n",
       "2515                                                  2                            \n",
       "2516                                                  2                            \n",
       "\n",
       "      code avion (1 : par avion)       Livraison Matériau d'emballage  \\\n",
       "0                              0  Ambiant (long)                 LDPE   \n",
       "1                              0  Ambiant (long)                Verre   \n",
       "2                              0  Ambiant (long)      Pas d'emballage   \n",
       "3                              0  Ambiant (long)                 LDPE   \n",
       "4                              0  Ambiant (long)                 LDPE   \n",
       "...                          ...             ...                  ...   \n",
       "2512                           0           Glacé                   PS   \n",
       "2513                           0           Glacé                   PS   \n",
       "2514                           0           Glacé                   PS   \n",
       "2515                           0           Glacé                   PP   \n",
       "2516                           0           Glacé                   PS   \n",
       "\n",
       "             Préparation  \\\n",
       "0     Pas de préparation   \n",
       "1     Pas de préparation   \n",
       "2     Pas de préparation   \n",
       "3     Pas de préparation   \n",
       "4     Pas de préparation   \n",
       "...                  ...   \n",
       "2512  Pas de préparation   \n",
       "2513     Cuisson à l'eau   \n",
       "2514  Pas de préparation   \n",
       "2515                Four   \n",
       "2516               Four    \n",
       "\n",
       "      DQR - Note de qualité de la donnée (1 excellente ; 5 très faible)  \\\n",
       "0                                                  2.99                   \n",
       "1                                                  4.11                   \n",
       "2                                                  3.54                   \n",
       "3                                                  3.75                   \n",
       "4                                                  2.99                   \n",
       "...                                                 ...                   \n",
       "2512                                               2.47                   \n",
       "2513                                               2.45                   \n",
       "2514                                               3.68                   \n",
       "2515                                               3.56                   \n",
       "2516                                               2.79                   \n",
       "\n",
       "      mPt/kg de produit  kg CO2 eq/kg de produit  \n",
       "0              1.231879                 6.766407  \n",
       "1              0.103150                 0.749409  \n",
       "2              0.063814                 0.356122  \n",
       "3              0.132081                 0.814944  \n",
       "4              1.231879                 6.766407  \n",
       "...                 ...                      ...  \n",
       "2512           2.176514                22.449542  \n",
       "2513           2.259190                23.553954  \n",
       "2514           0.816244                 4.250231  \n",
       "2515           1.025393                 5.164618  \n",
       "2516           0.861131                 6.037270  \n",
       "\n",
       "[2517 rows x 14 columns]"
      ],
      "text/html": "<div>\n<style scoped>\n    .dataframe tbody tr th:only-of-type {\n        vertical-align: middle;\n    }\n\n    .dataframe tbody tr th {\n        vertical-align: top;\n    }\n\n    .dataframe thead th {\n        text-align: right;\n    }\n</style>\n<table border=\"1\" class=\"dataframe\">\n  <thead>\n    <tr style=\"text-align: right;\">\n      <th></th>\n      <th>Code\\nAGB</th>\n      <th>Code\\nCIQUAL</th>\n      <th>Groupe d'aliment</th>\n      <th>Sous-groupe d'aliment</th>\n      <th>Nom du Produit en Français</th>\n      <th>LCI Name</th>\n      <th>code saison (0 : hors saison ; 1 : de saison ; 2 : mix de consommation FR)</th>\n      <th>code avion (1 : par avion)</th>\n      <th>Livraison</th>\n      <th>Matériau d'emballage</th>\n      <th>Préparation</th>\n      <th>DQR - Note de qualité de la donnée (1 excellente ; 5 très faible)</th>\n      <th>mPt/kg de produit</th>\n      <th>kg CO2 eq/kg de produit</th>\n    </tr>\n  </thead>\n  <tbody>\n    <tr>\n      <th>0</th>\n      <td>11084</td>\n      <td>11084</td>\n      <td>aides culinaires et ingrédients divers</td>\n      <td>algues</td>\n      <td>Agar (algue), cru</td>\n      <td>Seaweed, agar, raw</td>\n      <td>2</td>\n      <td>0</td>\n      <td>Ambiant (long)</td>\n      <td>LDPE</td>\n      <td>Pas de préparation</td>\n      <td>2.99</td>\n      <td>1.231879</td>\n      <td>6.766407</td>\n    </tr>\n    <tr>\n      <th>1</th>\n      <td>11023</td>\n      <td>11023</td>\n      <td>aides culinaires et ingrédients divers</td>\n      <td>herbes</td>\n      <td>Ail séché, poudre</td>\n      <td>Garlic, powder, dried</td>\n      <td>2</td>\n      <td>0</td>\n      <td>Ambiant (long)</td>\n      <td>Verre</td>\n      <td>Pas de préparation</td>\n      <td>4.11</td>\n      <td>0.103150</td>\n      <td>0.749409</td>\n    </tr>\n    <tr>\n      <th>2</th>\n      <td>11000</td>\n      <td>11000</td>\n      <td>aides culinaires et ingrédients divers</td>\n      <td>herbes</td>\n      <td>Ail, cru</td>\n      <td>Garlic, fresh</td>\n      <td>2</td>\n      <td>0</td>\n      <td>Ambiant (long)</td>\n      <td>Pas d'emballage</td>\n      <td>Pas de préparation</td>\n      <td>3.54</td>\n      <td>0.063814</td>\n      <td>0.356122</td>\n    </tr>\n    <tr>\n      <th>3</th>\n      <td>11093</td>\n      <td>11093</td>\n      <td>aides culinaires et ingrédients divers</td>\n      <td>herbes</td>\n      <td>Aneth, frais</td>\n      <td>Dill, fresh</td>\n      <td>2</td>\n      <td>0</td>\n      <td>Ambiant (long)</td>\n      <td>LDPE</td>\n      <td>Pas de préparation</td>\n      <td>3.75</td>\n      <td>0.132081</td>\n      <td>0.814944</td>\n    </tr>\n    <tr>\n      <th>4</th>\n      <td>20995</td>\n      <td>20995</td>\n      <td>aides culinaires et ingrédients divers</td>\n      <td>algues</td>\n      <td>Ao-nori (Enteromorpha sp.), séchée ou déshydratée</td>\n      <td>Sea lettuce (Enteromorpha sp.), dried or dehyd...</td>\n      <td>2</td>\n      <td>0</td>\n      <td>Ambiant (long)</td>\n      <td>LDPE</td>\n      <td>Pas de préparation</td>\n      <td>2.99</td>\n      <td>1.231879</td>\n      <td>6.766407</td>\n    </tr>\n    <tr>\n      <th>...</th>\n      <td>...</td>\n      <td>...</td>\n      <td>...</td>\n      <td>...</td>\n      <td>...</td>\n      <td>...</td>\n      <td>...</td>\n      <td>...</td>\n      <td>...</td>\n      <td>...</td>\n      <td>...</td>\n      <td>...</td>\n      <td>...</td>\n      <td>...</td>\n    </tr>\n    <tr>\n      <th>2512</th>\n      <td>6535</td>\n      <td>6535</td>\n      <td>viandes, œufs, poissons</td>\n      <td>viandes crues</td>\n      <td>Veau, steak haché 20% MG, cru</td>\n      <td>Veal, minced steak, 20% fat, raw</td>\n      <td>2</td>\n      <td>0</td>\n      <td>Glacé</td>\n      <td>PS</td>\n      <td>Pas de préparation</td>\n      <td>2.47</td>\n      <td>2.176514</td>\n      <td>22.449542</td>\n    </tr>\n    <tr>\n      <th>2513</th>\n      <td>6582</td>\n      <td>6582</td>\n      <td>viandes, œufs, poissons</td>\n      <td>viandes cuites</td>\n      <td>Veau, tête, bouillie/cuite à l'eau</td>\n      <td>Calf, head, boiled/cooked in water</td>\n      <td>2</td>\n      <td>0</td>\n      <td>Glacé</td>\n      <td>PS</td>\n      <td>Cuisson à l'eau</td>\n      <td>2.45</td>\n      <td>2.259190</td>\n      <td>23.553954</td>\n    </tr>\n    <tr>\n      <th>2514</th>\n      <td>26146</td>\n      <td>26146</td>\n      <td>viandes, œufs, poissons</td>\n      <td>poissons crus</td>\n      <td>Vivaneau, cru</td>\n      <td>Snapper, raw</td>\n      <td>2</td>\n      <td>0</td>\n      <td>Glacé</td>\n      <td>PS</td>\n      <td>Pas de préparation</td>\n      <td>3.68</td>\n      <td>0.816244</td>\n      <td>4.250231</td>\n    </tr>\n    <tr>\n      <th>2515</th>\n      <td>26147</td>\n      <td>26147</td>\n      <td>viandes, œufs, poissons</td>\n      <td>poissons cuits</td>\n      <td>Vivaneau, cuit</td>\n      <td>Snapper, cooked</td>\n      <td>2</td>\n      <td>0</td>\n      <td>Glacé</td>\n      <td>PP</td>\n      <td>Four</td>\n      <td>3.56</td>\n      <td>1.025393</td>\n      <td>5.164618</td>\n    </tr>\n    <tr>\n      <th>2516</th>\n      <td>25512</td>\n      <td>25512</td>\n      <td>viandes, œufs, poissons</td>\n      <td>autres produits à base de viande</td>\n      <td>Volaille, croquette panée ou nuggets</td>\n      <td>Poultry nuggets</td>\n      <td>2</td>\n      <td>0</td>\n      <td>Glacé</td>\n      <td>PS</td>\n      <td>Four</td>\n      <td>2.79</td>\n      <td>0.861131</td>\n      <td>6.037270</td>\n    </tr>\n  </tbody>\n</table>\n<p>2517 rows × 14 columns</p>\n</div>"
     },
     "metadata": {},
     "execution_count": 30
    }
   ],
   "source": [
    "df_synth=pd.read_csv(\"data/synth.csv\")\n",
    "df_synth['Code\\nAGB'] = df_synth['Code\\nAGB'].astype('string')\n",
    "df_synth"
   ]
  },
  {
   "cell_type": "code",
   "execution_count": 13,
   "metadata": {},
   "outputs": [
    {
     "output_type": "stream",
     "name": "stdout",
     "text": [
      "<class 'pandas.core.frame.DataFrame'>\nRangeIndex: 2517 entries, 0 to 2516\nData columns (total 14 columns):\n #   Column                                                                      Non-Null Count  Dtype  \n---  ------                                                                      --------------  -----  \n 0   Code\nAGB                                                                    2517 non-null   object \n 1   Code\nCIQUAL                                                                 2517 non-null   int64  \n 2   Groupe d'aliment                                                            2517 non-null   object \n 3   Sous-groupe d'aliment                                                       2517 non-null   object \n 4   Nom du Produit en Français                                                  2517 non-null   object \n 5   LCI Name                                                                    2517 non-null   object \n 6   code saison (0 : hors saison ; 1 : de saison ; 2 : mix de consommation FR)  2517 non-null   int64  \n 7   code avion (1 : par avion)                                                  2517 non-null   int64  \n 8   Livraison                                                                   2517 non-null   object \n 9   Matériau d'emballage                                                        2517 non-null   object \n 10  Préparation                                                                 2517 non-null   object \n 11  DQR - Note de qualité de la donnée (1 excellente ; 5 très faible)           2517 non-null   float64\n 12  mPt/kg de produit                                                           2517 non-null   float64\n 13  kg CO2 eq/kg de produit                                                     2517 non-null   float64\ndtypes: float64(3), int64(3), object(8)\nmemory usage: 275.4+ KB\n"
     ]
    }
   ],
   "source": [
    "df_synth.info()"
   ]
  },
  {
   "cell_type": "code",
   "execution_count": 41,
   "metadata": {},
   "outputs": [
    {
     "output_type": "execute_result",
     "data": {
      "text/plain": [
       "      ingredient Code\\nAGB  Masse  Code\\nCIQUAL  \\\n",
       "0  crème fraîche     19431    100         19431   \n",
       "1         farine      9437     20          9437   \n",
       "2   gruyère râpé     12114    100         12114   \n",
       "3         poivre     11015      0         11015   \n",
       "4            sel     11017      0         11017   \n",
       "5          oeufs     22000    150         22000   \n",
       "6           lait     19024    250         19024   \n",
       "7         jambon     28800    150         28800   \n",
       "\n",
       "                         Groupe d'aliment  \\\n",
       "0               lait et produits laitiers   \n",
       "1                     produits céréaliers   \n",
       "2               lait et produits laitiers   \n",
       "3  aides culinaires et ingrédients divers   \n",
       "4  aides culinaires et ingrédients divers   \n",
       "5                 viandes, œufs, poissons   \n",
       "6               lait et produits laitiers   \n",
       "7                 viandes, œufs, poissons   \n",
       "\n",
       "                   Sous-groupe d'aliment  \\\n",
       "0  crèmes et spécialités à base de crème   \n",
       "1               farines et pâtes à tarte   \n",
       "2                               fromages   \n",
       "3                                 épices   \n",
       "4                                   sels   \n",
       "5                                   œufs   \n",
       "6                                  laits   \n",
       "7                           charcuteries   \n",
       "\n",
       "                          Nom du Produit en Français  \\\n",
       "0  Crème de lait, 15 à 20% MG, légère, épaisse, r...   \n",
       "1  Farine de blé tendre ou froment avec levure in...   \n",
       "2                                            Gruyère   \n",
       "3                                Poivre noir, poudre   \n",
       "4  Sel blanc alimentaire, non iodé, non fluoré (m...   \n",
       "5                                          Oeuf, cru   \n",
       "6                            Lait entier, pasteurisé   \n",
       "7                                         Jambon cru   \n",
       "\n",
       "                                            LCI Name  \\\n",
       "0       Thick cream, light, 15-20% fat, refrigerated   \n",
       "1                          Wheat flour, self-raising   \n",
       "2                    Gruyere cheese, from cow's milk   \n",
       "3                               Black pepper, powder   \n",
       "4  Salt, white, for human consumption (sea, igneo...   \n",
       "5                                           Egg, raw   \n",
       "6                           Milk, whole, pasteurised   \n",
       "7                                     Cured ham, raw   \n",
       "\n",
       "   code saison (0 : hors saison ; 1 : de saison ; 2 : mix de consommation FR)  \\\n",
       "0                                                  2                            \n",
       "1                                                  2                            \n",
       "2                                                  2                            \n",
       "3                                                  2                            \n",
       "4                                                  2                            \n",
       "5                                                  2                            \n",
       "6                                                  2                            \n",
       "7                                                  2                            \n",
       "\n",
       "   code avion (1 : par avion)        Livraison Matériau d'emballage  \\\n",
       "0                           0            Glacé                   PP   \n",
       "1                           0   Ambiant (long)               Papier   \n",
       "2                           0            Glacé                 LDPE   \n",
       "3                           0   Ambiant (long)                Verre   \n",
       "4                           0   Ambiant (long)                  PVC   \n",
       "5                           0  Ambiant (moyen)               Carton   \n",
       "6                           0   Ambiant (long)                 HPDE   \n",
       "7                           0            Glacé                PP/PE   \n",
       "\n",
       "          Préparation  \\\n",
       "0  Pas de préparation   \n",
       "1  Pas de préparation   \n",
       "2  Pas de préparation   \n",
       "3  Pas de préparation   \n",
       "4  Pas de préparation   \n",
       "5  Pas de préparation   \n",
       "6  Pas de préparation   \n",
       "7  Pas de préparation   \n",
       "\n",
       "   DQR - Note de qualité de la donnée (1 excellente ; 5 très faible)  \\\n",
       "0                                               4.08                   \n",
       "1                                               2.57                   \n",
       "2                                               1.81                   \n",
       "3                                               2.34                   \n",
       "4                                               2.44                   \n",
       "5                                               2.43                   \n",
       "6                                               2.03                   \n",
       "7                                               2.51                   \n",
       "\n",
       "   mPt/kg de produit  kg CO2 eq/kg de produit  \n",
       "0           0.258273                 2.554770  \n",
       "1           0.099493                 0.719650  \n",
       "2           0.597363                 6.255774  \n",
       "3           1.423977                 9.193984  \n",
       "4           0.079425                 0.605573  \n",
       "5           0.546134                 3.194602  \n",
       "6           0.141467                 1.501777  \n",
       "7           1.978515                14.226993  "
      ],
      "text/html": "<div>\n<style scoped>\n    .dataframe tbody tr th:only-of-type {\n        vertical-align: middle;\n    }\n\n    .dataframe tbody tr th {\n        vertical-align: top;\n    }\n\n    .dataframe thead th {\n        text-align: right;\n    }\n</style>\n<table border=\"1\" class=\"dataframe\">\n  <thead>\n    <tr style=\"text-align: right;\">\n      <th></th>\n      <th>ingredient</th>\n      <th>Code\\nAGB</th>\n      <th>Masse</th>\n      <th>Code\\nCIQUAL</th>\n      <th>Groupe d'aliment</th>\n      <th>Sous-groupe d'aliment</th>\n      <th>Nom du Produit en Français</th>\n      <th>LCI Name</th>\n      <th>code saison (0 : hors saison ; 1 : de saison ; 2 : mix de consommation FR)</th>\n      <th>code avion (1 : par avion)</th>\n      <th>Livraison</th>\n      <th>Matériau d'emballage</th>\n      <th>Préparation</th>\n      <th>DQR - Note de qualité de la donnée (1 excellente ; 5 très faible)</th>\n      <th>mPt/kg de produit</th>\n      <th>kg CO2 eq/kg de produit</th>\n    </tr>\n  </thead>\n  <tbody>\n    <tr>\n      <th>0</th>\n      <td>crème fraîche</td>\n      <td>19431</td>\n      <td>100</td>\n      <td>19431</td>\n      <td>lait et produits laitiers</td>\n      <td>crèmes et spécialités à base de crème</td>\n      <td>Crème de lait, 15 à 20% MG, légère, épaisse, r...</td>\n      <td>Thick cream, light, 15-20% fat, refrigerated</td>\n      <td>2</td>\n      <td>0</td>\n      <td>Glacé</td>\n      <td>PP</td>\n      <td>Pas de préparation</td>\n      <td>4.08</td>\n      <td>0.258273</td>\n      <td>2.554770</td>\n    </tr>\n    <tr>\n      <th>1</th>\n      <td>farine</td>\n      <td>9437</td>\n      <td>20</td>\n      <td>9437</td>\n      <td>produits céréaliers</td>\n      <td>farines et pâtes à tarte</td>\n      <td>Farine de blé tendre ou froment avec levure in...</td>\n      <td>Wheat flour, self-raising</td>\n      <td>2</td>\n      <td>0</td>\n      <td>Ambiant (long)</td>\n      <td>Papier</td>\n      <td>Pas de préparation</td>\n      <td>2.57</td>\n      <td>0.099493</td>\n      <td>0.719650</td>\n    </tr>\n    <tr>\n      <th>2</th>\n      <td>gruyère râpé</td>\n      <td>12114</td>\n      <td>100</td>\n      <td>12114</td>\n      <td>lait et produits laitiers</td>\n      <td>fromages</td>\n      <td>Gruyère</td>\n      <td>Gruyere cheese, from cow's milk</td>\n      <td>2</td>\n      <td>0</td>\n      <td>Glacé</td>\n      <td>LDPE</td>\n      <td>Pas de préparation</td>\n      <td>1.81</td>\n      <td>0.597363</td>\n      <td>6.255774</td>\n    </tr>\n    <tr>\n      <th>3</th>\n      <td>poivre</td>\n      <td>11015</td>\n      <td>0</td>\n      <td>11015</td>\n      <td>aides culinaires et ingrédients divers</td>\n      <td>épices</td>\n      <td>Poivre noir, poudre</td>\n      <td>Black pepper, powder</td>\n      <td>2</td>\n      <td>0</td>\n      <td>Ambiant (long)</td>\n      <td>Verre</td>\n      <td>Pas de préparation</td>\n      <td>2.34</td>\n      <td>1.423977</td>\n      <td>9.193984</td>\n    </tr>\n    <tr>\n      <th>4</th>\n      <td>sel</td>\n      <td>11017</td>\n      <td>0</td>\n      <td>11017</td>\n      <td>aides culinaires et ingrédients divers</td>\n      <td>sels</td>\n      <td>Sel blanc alimentaire, non iodé, non fluoré (m...</td>\n      <td>Salt, white, for human consumption (sea, igneo...</td>\n      <td>2</td>\n      <td>0</td>\n      <td>Ambiant (long)</td>\n      <td>PVC</td>\n      <td>Pas de préparation</td>\n      <td>2.44</td>\n      <td>0.079425</td>\n      <td>0.605573</td>\n    </tr>\n    <tr>\n      <th>5</th>\n      <td>oeufs</td>\n      <td>22000</td>\n      <td>150</td>\n      <td>22000</td>\n      <td>viandes, œufs, poissons</td>\n      <td>œufs</td>\n      <td>Oeuf, cru</td>\n      <td>Egg, raw</td>\n      <td>2</td>\n      <td>0</td>\n      <td>Ambiant (moyen)</td>\n      <td>Carton</td>\n      <td>Pas de préparation</td>\n      <td>2.43</td>\n      <td>0.546134</td>\n      <td>3.194602</td>\n    </tr>\n    <tr>\n      <th>6</th>\n      <td>lait</td>\n      <td>19024</td>\n      <td>250</td>\n      <td>19024</td>\n      <td>lait et produits laitiers</td>\n      <td>laits</td>\n      <td>Lait entier, pasteurisé</td>\n      <td>Milk, whole, pasteurised</td>\n      <td>2</td>\n      <td>0</td>\n      <td>Ambiant (long)</td>\n      <td>HPDE</td>\n      <td>Pas de préparation</td>\n      <td>2.03</td>\n      <td>0.141467</td>\n      <td>1.501777</td>\n    </tr>\n    <tr>\n      <th>7</th>\n      <td>jambon</td>\n      <td>28800</td>\n      <td>150</td>\n      <td>28800</td>\n      <td>viandes, œufs, poissons</td>\n      <td>charcuteries</td>\n      <td>Jambon cru</td>\n      <td>Cured ham, raw</td>\n      <td>2</td>\n      <td>0</td>\n      <td>Glacé</td>\n      <td>PP/PE</td>\n      <td>Pas de préparation</td>\n      <td>2.51</td>\n      <td>1.978515</td>\n      <td>14.226993</td>\n    </tr>\n  </tbody>\n</table>\n</div>"
     },
     "metadata": {},
     "execution_count": 41
    }
   ],
   "source": [
    "df_fusion = df_recette.merge(df_synth, on='Code\\nAGB', how='left')\n",
    "df_fusion"
   ]
  },
  {
   "cell_type": "code",
   "execution_count": 37,
   "metadata": {},
   "outputs": [
    {
     "output_type": "stream",
     "name": "stdout",
     "text": [
      "L'impact carboné de la recette Quiche est : 3.884130866 kg de CO2.\n"
     ]
    }
   ],
   "source": [
    "calcul = 0\n",
    "\n",
    "for index, row in df_fusion.iterrows():\n",
    "    calcul += (row['Masse'] / 1000) * row['kg CO2 eq/kg de produit']\n",
    "\n",
    "print(f\"L'impact carboné de la recette Quiche est : {calcul} kg de CO2.\")"
   ]
  },
  {
   "cell_type": "code",
   "execution_count": null,
   "metadata": {},
   "outputs": [],
   "source": []
  }
 ]
}