{
 "metadata": {
  "language_info": {
   "codemirror_mode": {
    "name": "ipython",
    "version": 3
   },
   "file_extension": ".py",
   "mimetype": "text/x-python",
   "name": "python",
   "nbconvert_exporter": "python",
   "pygments_lexer": "ipython3",
   "version": "3.9.13-final"
  },
  "orig_nbformat": 2,
  "kernelspec": {
   "name": "python3",
   "display_name": "Python 3.9.13 64-bit ('CEFIM': virtualenv)",
   "metadata": {
    "interpreter": {
     "hash": "bdff91ece41161bfc8419e2037b325266a1bff589078ccd6b21e9d3b9060f5f1"
    }
   }
  }
 },
 "nbformat": 4,
 "nbformat_minor": 2,
 "cells": [
  {
   "cell_type": "code",
   "execution_count": 1,
   "metadata": {},
   "outputs": [],
   "source": [
    "import pandas as pd\n",
    "\n",
    "import plotly.graph_objects as go\n",
    "import plotly.express as px\n",
    "from plotly.subplots import make_subplots"
   ]
  },
  {
   "cell_type": "code",
   "execution_count": 2,
   "metadata": {},
   "outputs": [],
   "source": [
    "df=pd.read_csv(\"data/etape.csv\")"
   ]
  },
  {
   "cell_type": "code",
   "execution_count": null,
   "metadata": {},
   "outputs": [],
   "source": [
    "# mPt/Kg de produit"
   ]
  },
  {
   "cell_type": "code",
   "execution_count": 3,
   "metadata": {},
   "outputs": [
    {
     "output_type": "execute_result",
     "data": {
      "text/plain": [
       "     Code AGB  Code CIQUAL                        Groupe d'aliment  \\\n",
       "0       11084        11084  aides culinaires et ingrédients divers   \n",
       "1       11023        11023  aides culinaires et ingrédients divers   \n",
       "2       11000        11000  aides culinaires et ingrédients divers   \n",
       "3       11093        11093  aides culinaires et ingrédients divers   \n",
       "4       20995        20995  aides culinaires et ingrédients divers   \n",
       "...       ...          ...                                     ...   \n",
       "2512     6535         6535                 viandes, œufs, poissons   \n",
       "2513     6582         6582                 viandes, œufs, poissons   \n",
       "2514    26146        26146                 viandes, œufs, poissons   \n",
       "2515    26147        26147                 viandes, œufs, poissons   \n",
       "2516    25512        25512                 viandes, œufs, poissons   \n",
       "\n",
       "                 Sous-groupe d'aliment  \\\n",
       "0                               algues   \n",
       "1                               herbes   \n",
       "2                               herbes   \n",
       "3                               herbes   \n",
       "4                               algues   \n",
       "...                                ...   \n",
       "2512                     viandes crues   \n",
       "2513                    viandes cuites   \n",
       "2514                     poissons crus   \n",
       "2515                    poissons cuits   \n",
       "2516  autres produits à base de viande   \n",
       "\n",
       "                             Nom du Produit en Français  \\\n",
       "0                                     Agar (algue), cru   \n",
       "1                                     Ail séché, poudre   \n",
       "2                                              Ail, cru   \n",
       "3                                          Aneth, frais   \n",
       "4     Ao-nori (Enteromorpha sp.), séchée ou déshydratée   \n",
       "...                                                 ...   \n",
       "2512                      Veau, steak haché 20% MG, cru   \n",
       "2513                 Veau, tête, bouillie/cuite à l'eau   \n",
       "2514                                      Vivaneau, cru   \n",
       "2515                                     Vivaneau, cuit   \n",
       "2516               Volaille, croquette panée ou nuggets   \n",
       "\n",
       "                                               LCI Name   DQR  \\\n",
       "0                                    Seaweed, agar, raw  2.99   \n",
       "1                                 Garlic, powder, dried  4.11   \n",
       "2                                         Garlic, fresh  3.54   \n",
       "3                                           Dill, fresh  3.75   \n",
       "4     Sea lettuce (Enteromorpha sp.), dried or dehyd...  2.99   \n",
       "...                                                 ...   ...   \n",
       "2512                   Veal, minced steak, 20% fat, raw  2.47   \n",
       "2513                 Calf, head, boiled/cooked in water  2.45   \n",
       "2514                                       Snapper, raw  3.68   \n",
       "2515                                    Snapper, cooked  3.56   \n",
       "2516                                    Poultry nuggets  2.79   \n",
       "\n",
       "                                            Nom et code  Agriculture  \\\n",
       "0                             Agar (algue), cru (11084)     0.654812   \n",
       "1                             Ail séché, poudre (11023)     0.032661   \n",
       "2                                      Ail, cru (11000)     0.040826   \n",
       "3                                  Aneth, frais (11093)     0.082933   \n",
       "4     Ao-nori (Enteromorpha sp.), séchée ou déshydra...     0.654812   \n",
       "...                                                 ...          ...   \n",
       "2512               Veau, steak haché 20% MG, cru (6535)     2.085451   \n",
       "2513          Veau, tête, bouillie/cuite à l'eau (6582)     2.147376   \n",
       "2514                              Vivaneau, cru (26146)     0.719615   \n",
       "2515                             Vivaneau, cuit (26147)     0.878692   \n",
       "2516       Volaille, croquette panée ou nuggets (25512)     0.633044   \n",
       "\n",
       "      Transformation  Emballage  Transport  Supermarché et distribution  \\\n",
       "0           0.500987   0.024443   0.046250                     0.004981   \n",
       "1           0.000000   0.050709   0.015277                     0.004503   \n",
       "2           0.000000   0.000000   0.014071                     0.005629   \n",
       "3           0.000000   0.027221   0.013011                     0.005629   \n",
       "4           0.500987   0.024443   0.046250                     0.004981   \n",
       "...              ...        ...        ...                          ...   \n",
       "2512        0.045533   0.017899   0.016104                     0.009053   \n",
       "2513        0.010702   0.028263   0.024679                     0.014295   \n",
       "2514        0.000000   0.017899   0.067222                     0.009053   \n",
       "2515        0.000000   0.018973   0.082082                     0.011054   \n",
       "2516        0.129015   0.039739   0.016279                     0.009087   \n",
       "\n",
       "      Consommation  \n",
       "0         0.000407  \n",
       "1         0.000000  \n",
       "2         0.003288  \n",
       "3         0.003288  \n",
       "4         0.000407  \n",
       "...            ...  \n",
       "2512      0.002455  \n",
       "2513      0.033860  \n",
       "2514      0.002455  \n",
       "2515      0.034592  \n",
       "2516      0.034049  \n",
       "\n",
       "[2517 rows x 14 columns]"
      ],
      "text/html": "<div>\n<style scoped>\n    .dataframe tbody tr th:only-of-type {\n        vertical-align: middle;\n    }\n\n    .dataframe tbody tr th {\n        vertical-align: top;\n    }\n\n    .dataframe thead th {\n        text-align: right;\n    }\n</style>\n<table border=\"1\" class=\"dataframe\">\n  <thead>\n    <tr style=\"text-align: right;\">\n      <th></th>\n      <th>Code AGB</th>\n      <th>Code CIQUAL</th>\n      <th>Groupe d'aliment</th>\n      <th>Sous-groupe d'aliment</th>\n      <th>Nom du Produit en Français</th>\n      <th>LCI Name</th>\n      <th>DQR</th>\n      <th>Nom et code</th>\n      <th>Agriculture</th>\n      <th>Transformation</th>\n      <th>Emballage</th>\n      <th>Transport</th>\n      <th>Supermarché et distribution</th>\n      <th>Consommation</th>\n    </tr>\n  </thead>\n  <tbody>\n    <tr>\n      <th>0</th>\n      <td>11084</td>\n      <td>11084</td>\n      <td>aides culinaires et ingrédients divers</td>\n      <td>algues</td>\n      <td>Agar (algue), cru</td>\n      <td>Seaweed, agar, raw</td>\n      <td>2.99</td>\n      <td>Agar (algue), cru (11084)</td>\n      <td>0.654812</td>\n      <td>0.500987</td>\n      <td>0.024443</td>\n      <td>0.046250</td>\n      <td>0.004981</td>\n      <td>0.000407</td>\n    </tr>\n    <tr>\n      <th>1</th>\n      <td>11023</td>\n      <td>11023</td>\n      <td>aides culinaires et ingrédients divers</td>\n      <td>herbes</td>\n      <td>Ail séché, poudre</td>\n      <td>Garlic, powder, dried</td>\n      <td>4.11</td>\n      <td>Ail séché, poudre (11023)</td>\n      <td>0.032661</td>\n      <td>0.000000</td>\n      <td>0.050709</td>\n      <td>0.015277</td>\n      <td>0.004503</td>\n      <td>0.000000</td>\n    </tr>\n    <tr>\n      <th>2</th>\n      <td>11000</td>\n      <td>11000</td>\n      <td>aides culinaires et ingrédients divers</td>\n      <td>herbes</td>\n      <td>Ail, cru</td>\n      <td>Garlic, fresh</td>\n      <td>3.54</td>\n      <td>Ail, cru (11000)</td>\n      <td>0.040826</td>\n      <td>0.000000</td>\n      <td>0.000000</td>\n      <td>0.014071</td>\n      <td>0.005629</td>\n      <td>0.003288</td>\n    </tr>\n    <tr>\n      <th>3</th>\n      <td>11093</td>\n      <td>11093</td>\n      <td>aides culinaires et ingrédients divers</td>\n      <td>herbes</td>\n      <td>Aneth, frais</td>\n      <td>Dill, fresh</td>\n      <td>3.75</td>\n      <td>Aneth, frais (11093)</td>\n      <td>0.082933</td>\n      <td>0.000000</td>\n      <td>0.027221</td>\n      <td>0.013011</td>\n      <td>0.005629</td>\n      <td>0.003288</td>\n    </tr>\n    <tr>\n      <th>4</th>\n      <td>20995</td>\n      <td>20995</td>\n      <td>aides culinaires et ingrédients divers</td>\n      <td>algues</td>\n      <td>Ao-nori (Enteromorpha sp.), séchée ou déshydratée</td>\n      <td>Sea lettuce (Enteromorpha sp.), dried or dehyd...</td>\n      <td>2.99</td>\n      <td>Ao-nori (Enteromorpha sp.), séchée ou déshydra...</td>\n      <td>0.654812</td>\n      <td>0.500987</td>\n      <td>0.024443</td>\n      <td>0.046250</td>\n      <td>0.004981</td>\n      <td>0.000407</td>\n    </tr>\n    <tr>\n      <th>...</th>\n      <td>...</td>\n      <td>...</td>\n      <td>...</td>\n      <td>...</td>\n      <td>...</td>\n      <td>...</td>\n      <td>...</td>\n      <td>...</td>\n      <td>...</td>\n      <td>...</td>\n      <td>...</td>\n      <td>...</td>\n      <td>...</td>\n      <td>...</td>\n    </tr>\n    <tr>\n      <th>2512</th>\n      <td>6535</td>\n      <td>6535</td>\n      <td>viandes, œufs, poissons</td>\n      <td>viandes crues</td>\n      <td>Veau, steak haché 20% MG, cru</td>\n      <td>Veal, minced steak, 20% fat, raw</td>\n      <td>2.47</td>\n      <td>Veau, steak haché 20% MG, cru (6535)</td>\n      <td>2.085451</td>\n      <td>0.045533</td>\n      <td>0.017899</td>\n      <td>0.016104</td>\n      <td>0.009053</td>\n      <td>0.002455</td>\n    </tr>\n    <tr>\n      <th>2513</th>\n      <td>6582</td>\n      <td>6582</td>\n      <td>viandes, œufs, poissons</td>\n      <td>viandes cuites</td>\n      <td>Veau, tête, bouillie/cuite à l'eau</td>\n      <td>Calf, head, boiled/cooked in water</td>\n      <td>2.45</td>\n      <td>Veau, tête, bouillie/cuite à l'eau (6582)</td>\n      <td>2.147376</td>\n      <td>0.010702</td>\n      <td>0.028263</td>\n      <td>0.024679</td>\n      <td>0.014295</td>\n      <td>0.033860</td>\n    </tr>\n    <tr>\n      <th>2514</th>\n      <td>26146</td>\n      <td>26146</td>\n      <td>viandes, œufs, poissons</td>\n      <td>poissons crus</td>\n      <td>Vivaneau, cru</td>\n      <td>Snapper, raw</td>\n      <td>3.68</td>\n      <td>Vivaneau, cru (26146)</td>\n      <td>0.719615</td>\n      <td>0.000000</td>\n      <td>0.017899</td>\n      <td>0.067222</td>\n      <td>0.009053</td>\n      <td>0.002455</td>\n    </tr>\n    <tr>\n      <th>2515</th>\n      <td>26147</td>\n      <td>26147</td>\n      <td>viandes, œufs, poissons</td>\n      <td>poissons cuits</td>\n      <td>Vivaneau, cuit</td>\n      <td>Snapper, cooked</td>\n      <td>3.56</td>\n      <td>Vivaneau, cuit (26147)</td>\n      <td>0.878692</td>\n      <td>0.000000</td>\n      <td>0.018973</td>\n      <td>0.082082</td>\n      <td>0.011054</td>\n      <td>0.034592</td>\n    </tr>\n    <tr>\n      <th>2516</th>\n      <td>25512</td>\n      <td>25512</td>\n      <td>viandes, œufs, poissons</td>\n      <td>autres produits à base de viande</td>\n      <td>Volaille, croquette panée ou nuggets</td>\n      <td>Poultry nuggets</td>\n      <td>2.79</td>\n      <td>Volaille, croquette panée ou nuggets (25512)</td>\n      <td>0.633044</td>\n      <td>0.129015</td>\n      <td>0.039739</td>\n      <td>0.016279</td>\n      <td>0.009087</td>\n      <td>0.034049</td>\n    </tr>\n  </tbody>\n</table>\n<p>2517 rows × 14 columns</p>\n</div>"
     },
     "metadata": {},
     "execution_count": 3
    }
   ],
   "source": [
    "df"
   ]
  },
  {
   "cell_type": "code",
   "execution_count": 101,
   "metadata": {},
   "outputs": [
    {
     "output_type": "stream",
     "name": "stdout",
     "text": [
      "                                             Agriculture  Transformation  \\\nGroupe d'aliment                                                           \naides culinaires et ingrédients divers          0.320451        0.100962   \naliments infantiles                             0.207173        0.048868   \nboissons                                        0.100389        0.031453   \nentrées et plats composés                       0.468684        0.059792   \nfruits, légumes, légumineuses et oléagineux     0.165761        0.022262   \nglaces et sorbets                               0.125140        0.044961   \nlait et produits laitiers                       0.384358        0.041104   \nmatières grasses                                0.353561        0.054216   \nproduits céréaliers                             0.241296        0.055356   \nproduits sucrés                                 0.219140        0.237136   \nviandes, œufs, poissons                         1.444120        0.066213   \n\n                                             Emballage  Transport  \\\nGroupe d'aliment                                                    \naides culinaires et ingrédients divers        0.031071   0.021325   \naliments infantiles                           0.016139   0.013200   \nboissons                                      0.027859   0.014394   \nentrées et plats composés                     0.016792   0.023325   \nfruits, légumes, légumineuses et oléagineux   0.015301   0.026126   \nglaces et sorbets                             0.015343   0.016236   \nlait et produits laitiers                     0.019442   0.016631   \nmatières grasses                              0.023303   0.025262   \nproduits céréaliers                           0.015797   0.014302   \nproduits sucrés                               0.018220   0.020157   \nviandes, œufs, poissons                       0.031382   0.044673   \n\n                                             Supermarché et distribution  \\\nGroupe d'aliment                                                           \naides culinaires et ingrédients divers                          0.006488   \naliments infantiles                                             0.005029   \nboissons                                                        0.005698   \nentrées et plats composés                                       0.007796   \nfruits, légumes, légumineuses et oléagineux                     0.008617   \nglaces et sorbets                                               0.016141   \nlait et produits laitiers                                       0.008488   \nmatières grasses                                                0.007688   \nproduits céréaliers                                             0.004403   \nproduits sucrés                                                 0.004671   \nviandes, œufs, poissons                                         0.010459   \n\n                                             Consommation  \nGroupe d'aliment                                           \naides culinaires et ingrédients divers           0.002127  \naliments infantiles                              0.002360  \nboissons                                         0.001404  \nentrées et plats composés                        0.013589  \nfruits, légumes, légumineuses et oléagineux      0.006934  \nglaces et sorbets                                0.009289  \nlait et produits laitiers                        0.002235  \nmatières grasses                                 0.001490  \nproduits céréaliers                              0.002623  \nproduits sucrés                                  0.000324  \nviandes, œufs, poissons                          0.015095  \n"
     ]
    }
   ],
   "source": [
    "groupe_ali=df.groupby([\"Groupe d'aliment\"])[\"Agriculture\",\t\"Transformation\",\t\"Emballage\",\t\"Transport\",\"Supermarché et distribution\",\"Consommation\" ].mean()\n",
    "print(groupe_ali)"
   ]
  },
  {
   "cell_type": "code",
   "execution_count": 107,
   "metadata": {},
   "outputs": [
    {
     "output_type": "display_data",
     "data": {
      "application/vnd.plotly.v1+json": {
       "data": [
        {
         "marker": {
          "color": "green"
         },
         "x": [
          "viandes, œufs, poissons",
          "entrées et plats composés",
          "glaces et sorbets",
          "fruits, légumes, légumineuses et oléagineux",
          "produits céréaliers",
          "aliments infantiles",
          "lait et produits laitiers",
          "aides culinaires et ingrédients divers",
          "matières grasses",
          "boissons",
          "produits sucrés"
         ],
         "y": [
          1.4441197136294575,
          0.4686842613136986,
          0.38435815000896856,
          0.35356076575,
          0.320450832295,
          0.2412956783324468,
          0.21914017288679247,
          0.2071731791212121,
          0.1657611089061033,
          0.12513990068,
          0.1003889875464035
         ],
         "type": "bar",
         "xaxis": "x",
         "yaxis": "y"
        },
        {
         "x": [
          "viandes, œufs, poissons",
          "entrées et plats composés",
          "glaces et sorbets",
          "fruits, légumes, légumineuses et oléagineux",
          "produits céréaliers",
          "aliments infantiles",
          "lait et produits laitiers",
          "aides culinaires et ingrédients divers",
          "matières grasses",
          "boissons",
          "produits sucrés"
         ],
         "y": [
          0.23713624898113206,
          0.100961580447125,
          0.06621333976605581,
          0.059791773067226016,
          0.05535643607952126,
          0.05421596141071427,
          0.04886781728787878,
          0.044960711,
          0.04110421505874439,
          0.03145270764385965,
          0.022261784912816895
         ],
         "type": "bar",
         "xaxis": "x2",
         "yaxis": "y2"
        },
        {
         "x": [
          "viandes, œufs, poissons",
          "entrées et plats composés",
          "glaces et sorbets",
          "fruits, légumes, légumineuses et oléagineux",
          "produits céréaliers",
          "aliments infantiles",
          "lait et produits laitiers",
          "aides culinaires et ingrédients divers",
          "matières grasses",
          "boissons",
          "produits sucrés"
         ],
         "y": [
          0.03138187468852712,
          0.031071100936874967,
          0.02785949211118419,
          0.023302954214285708,
          0.019442424459192826,
          0.01821987799245283,
          0.016791530967602733,
          0.016139306090909068,
          0.015797167414095734,
          0.01534262896,
          0.015300914413380277
         ],
         "type": "bar",
         "xaxis": "x3",
         "yaxis": "y3"
        },
        {
         "x": [
          "viandes, œufs, poissons",
          "entrées et plats composés",
          "glaces et sorbets",
          "fruits, légumes, légumineuses et oléagineux",
          "produits céréaliers",
          "aliments infantiles",
          "lait et produits laitiers",
          "aides culinaires et ingrédients divers",
          "matières grasses",
          "boissons",
          "produits sucrés"
         ],
         "y": [
          0.04467337785240309,
          0.026125566697887306,
          0.025262295696428568,
          0.02332547761746574,
          0.02132517738312499,
          0.020156704594339617,
          0.016631200068609863,
          0.016235614359999997,
          0.014393819375087717,
          0.014302182598404243,
          0.013199593048484821
         ],
         "type": "bar",
         "xaxis": "x4",
         "yaxis": "y4"
        },
        {
         "x": [
          "viandes, œufs, poissons",
          "entrées et plats composés",
          "glaces et sorbets",
          "fruits, légumes, légumineuses et oléagineux",
          "produits céréaliers",
          "aliments infantiles",
          "lait et produits laitiers",
          "aides culinaires et ingrédients divers",
          "matières grasses",
          "boissons",
          "produits sucrés"
         ],
         "y": [
          0.016140657,
          0.010459161741860463,
          0.008617342788685431,
          0.00848762736412556,
          0.0077963328198767095,
          0.007687611214285661,
          0.00648813900187499,
          0.005697870380333333,
          0.005029127357575679,
          0.004670619635849045,
          0.00440309528859037
         ],
         "type": "bar",
         "xaxis": "x5",
         "yaxis": "y5"
        },
        {
         "x": [
          "viandes, œufs, poissons",
          "entrées et plats composés",
          "glaces et sorbets",
          "fruits, légumes, légumineuses et oléagineux",
          "produits céréaliers",
          "aliments infantiles",
          "lait et produits laitiers",
          "aides culinaires et ingrédients divers",
          "matières grasses",
          "boissons",
          "produits sucrés"
         ],
         "y": [
          0.015095472503565886,
          0.013589437692465752,
          0.0092886805,
          0.00693370572521124,
          0.002623010398404255,
          0.0023603702969696968,
          0.0022346982816143497,
          0.0021273895373124844,
          0.0014904541142857144,
          0.0014037959266666661,
          0.00032422753207547164
         ],
         "type": "bar",
         "xaxis": "x6",
         "yaxis": "y6"
        }
       ],
       "layout": {
        "template": {
         "data": {
          "histogram2dcontour": [
           {
            "type": "histogram2dcontour",
            "colorbar": {
             "outlinewidth": 0,
             "ticks": ""
            },
            "colorscale": [
             [
              0,
              "#0d0887"
             ],
             [
              0.1111111111111111,
              "#46039f"
             ],
             [
              0.2222222222222222,
              "#7201a8"
             ],
             [
              0.3333333333333333,
              "#9c179e"
             ],
             [
              0.4444444444444444,
              "#bd3786"
             ],
             [
              0.5555555555555556,
              "#d8576b"
             ],
             [
              0.6666666666666666,
              "#ed7953"
             ],
             [
              0.7777777777777778,
              "#fb9f3a"
             ],
             [
              0.8888888888888888,
              "#fdca26"
             ],
             [
              1,
              "#f0f921"
             ]
            ]
           }
          ],
          "choropleth": [
           {
            "type": "choropleth",
            "colorbar": {
             "outlinewidth": 0,
             "ticks": ""
            }
           }
          ],
          "histogram2d": [
           {
            "type": "histogram2d",
            "colorbar": {
             "outlinewidth": 0,
             "ticks": ""
            },
            "colorscale": [
             [
              0,
              "#0d0887"
             ],
             [
              0.1111111111111111,
              "#46039f"
             ],
             [
              0.2222222222222222,
              "#7201a8"
             ],
             [
              0.3333333333333333,
              "#9c179e"
             ],
             [
              0.4444444444444444,
              "#bd3786"
             ],
             [
              0.5555555555555556,
              "#d8576b"
             ],
             [
              0.6666666666666666,
              "#ed7953"
             ],
             [
              0.7777777777777778,
              "#fb9f3a"
             ],
             [
              0.8888888888888888,
              "#fdca26"
             ],
             [
              1,
              "#f0f921"
             ]
            ]
           }
          ],
          "heatmap": [
           {
            "type": "heatmap",
            "colorbar": {
             "outlinewidth": 0,
             "ticks": ""
            },
            "colorscale": [
             [
              0,
              "#0d0887"
             ],
             [
              0.1111111111111111,
              "#46039f"
             ],
             [
              0.2222222222222222,
              "#7201a8"
             ],
             [
              0.3333333333333333,
              "#9c179e"
             ],
             [
              0.4444444444444444,
              "#bd3786"
             ],
             [
              0.5555555555555556,
              "#d8576b"
             ],
             [
              0.6666666666666666,
              "#ed7953"
             ],
             [
              0.7777777777777778,
              "#fb9f3a"
             ],
             [
              0.8888888888888888,
              "#fdca26"
             ],
             [
              1,
              "#f0f921"
             ]
            ]
           }
          ],
          "heatmapgl": [
           {
            "type": "heatmapgl",
            "colorbar": {
             "outlinewidth": 0,
             "ticks": ""
            },
            "colorscale": [
             [
              0,
              "#0d0887"
             ],
             [
              0.1111111111111111,
              "#46039f"
             ],
             [
              0.2222222222222222,
              "#7201a8"
             ],
             [
              0.3333333333333333,
              "#9c179e"
             ],
             [
              0.4444444444444444,
              "#bd3786"
             ],
             [
              0.5555555555555556,
              "#d8576b"
             ],
             [
              0.6666666666666666,
              "#ed7953"
             ],
             [
              0.7777777777777778,
              "#fb9f3a"
             ],
             [
              0.8888888888888888,
              "#fdca26"
             ],
             [
              1,
              "#f0f921"
             ]
            ]
           }
          ],
          "contourcarpet": [
           {
            "type": "contourcarpet",
            "colorbar": {
             "outlinewidth": 0,
             "ticks": ""
            }
           }
          ],
          "contour": [
           {
            "type": "contour",
            "colorbar": {
             "outlinewidth": 0,
             "ticks": ""
            },
            "colorscale": [
             [
              0,
              "#0d0887"
             ],
             [
              0.1111111111111111,
              "#46039f"
             ],
             [
              0.2222222222222222,
              "#7201a8"
             ],
             [
              0.3333333333333333,
              "#9c179e"
             ],
             [
              0.4444444444444444,
              "#bd3786"
             ],
             [
              0.5555555555555556,
              "#d8576b"
             ],
             [
              0.6666666666666666,
              "#ed7953"
             ],
             [
              0.7777777777777778,
              "#fb9f3a"
             ],
             [
              0.8888888888888888,
              "#fdca26"
             ],
             [
              1,
              "#f0f921"
             ]
            ]
           }
          ],
          "surface": [
           {
            "type": "surface",
            "colorbar": {
             "outlinewidth": 0,
             "ticks": ""
            },
            "colorscale": [
             [
              0,
              "#0d0887"
             ],
             [
              0.1111111111111111,
              "#46039f"
             ],
             [
              0.2222222222222222,
              "#7201a8"
             ],
             [
              0.3333333333333333,
              "#9c179e"
             ],
             [
              0.4444444444444444,
              "#bd3786"
             ],
             [
              0.5555555555555556,
              "#d8576b"
             ],
             [
              0.6666666666666666,
              "#ed7953"
             ],
             [
              0.7777777777777778,
              "#fb9f3a"
             ],
             [
              0.8888888888888888,
              "#fdca26"
             ],
             [
              1,
              "#f0f921"
             ]
            ]
           }
          ],
          "mesh3d": [
           {
            "type": "mesh3d",
            "colorbar": {
             "outlinewidth": 0,
             "ticks": ""
            }
           }
          ],
          "scatter": [
           {
            "fillpattern": {
             "fillmode": "overlay",
             "size": 10,
             "solidity": 0.2
            },
            "type": "scatter"
           }
          ],
          "parcoords": [
           {
            "type": "parcoords",
            "line": {
             "colorbar": {
              "outlinewidth": 0,
              "ticks": ""
             }
            }
           }
          ],
          "scatterpolargl": [
           {
            "type": "scatterpolargl",
            "marker": {
             "colorbar": {
              "outlinewidth": 0,
              "ticks": ""
             }
            }
           }
          ],
          "bar": [
           {
            "error_x": {
             "color": "#2a3f5f"
            },
            "error_y": {
             "color": "#2a3f5f"
            },
            "marker": {
             "line": {
              "color": "#E5ECF6",
              "width": 0.5
             },
             "pattern": {
              "fillmode": "overlay",
              "size": 10,
              "solidity": 0.2
             }
            },
            "type": "bar"
           }
          ],
          "scattergeo": [
           {
            "type": "scattergeo",
            "marker": {
             "colorbar": {
              "outlinewidth": 0,
              "ticks": ""
             }
            }
           }
          ],
          "scatterpolar": [
           {
            "type": "scatterpolar",
            "marker": {
             "colorbar": {
              "outlinewidth": 0,
              "ticks": ""
             }
            }
           }
          ],
          "histogram": [
           {
            "marker": {
             "pattern": {
              "fillmode": "overlay",
              "size": 10,
              "solidity": 0.2
             }
            },
            "type": "histogram"
           }
          ],
          "scattergl": [
           {
            "type": "scattergl",
            "marker": {
             "colorbar": {
              "outlinewidth": 0,
              "ticks": ""
             }
            }
           }
          ],
          "scatter3d": [
           {
            "type": "scatter3d",
            "line": {
             "colorbar": {
              "outlinewidth": 0,
              "ticks": ""
             }
            },
            "marker": {
             "colorbar": {
              "outlinewidth": 0,
              "ticks": ""
             }
            }
           }
          ],
          "scattermapbox": [
           {
            "type": "scattermapbox",
            "marker": {
             "colorbar": {
              "outlinewidth": 0,
              "ticks": ""
             }
            }
           }
          ],
          "scatterternary": [
           {
            "type": "scatterternary",
            "marker": {
             "colorbar": {
              "outlinewidth": 0,
              "ticks": ""
             }
            }
           }
          ],
          "scattercarpet": [
           {
            "type": "scattercarpet",
            "marker": {
             "colorbar": {
              "outlinewidth": 0,
              "ticks": ""
             }
            }
           }
          ],
          "carpet": [
           {
            "aaxis": {
             "endlinecolor": "#2a3f5f",
             "gridcolor": "white",
             "linecolor": "white",
             "minorgridcolor": "white",
             "startlinecolor": "#2a3f5f"
            },
            "baxis": {
             "endlinecolor": "#2a3f5f",
             "gridcolor": "white",
             "linecolor": "white",
             "minorgridcolor": "white",
             "startlinecolor": "#2a3f5f"
            },
            "type": "carpet"
           }
          ],
          "table": [
           {
            "cells": {
             "fill": {
              "color": "#EBF0F8"
             },
             "line": {
              "color": "white"
             }
            },
            "header": {
             "fill": {
              "color": "#C8D4E3"
             },
             "line": {
              "color": "white"
             }
            },
            "type": "table"
           }
          ],
          "barpolar": [
           {
            "marker": {
             "line": {
              "color": "#E5ECF6",
              "width": 0.5
             },
             "pattern": {
              "fillmode": "overlay",
              "size": 10,
              "solidity": 0.2
             }
            },
            "type": "barpolar"
           }
          ],
          "pie": [
           {
            "automargin": true,
            "type": "pie"
           }
          ]
         },
         "layout": {
          "autotypenumbers": "strict",
          "colorway": [
           "#636efa",
           "#EF553B",
           "#00cc96",
           "#ab63fa",
           "#FFA15A",
           "#19d3f3",
           "#FF6692",
           "#B6E880",
           "#FF97FF",
           "#FECB52"
          ],
          "font": {
           "color": "#2a3f5f"
          },
          "hovermode": "closest",
          "hoverlabel": {
           "align": "left"
          },
          "paper_bgcolor": "white",
          "plot_bgcolor": "#E5ECF6",
          "polar": {
           "bgcolor": "#E5ECF6",
           "angularaxis": {
            "gridcolor": "white",
            "linecolor": "white",
            "ticks": ""
           },
           "radialaxis": {
            "gridcolor": "white",
            "linecolor": "white",
            "ticks": ""
           }
          },
          "ternary": {
           "bgcolor": "#E5ECF6",
           "aaxis": {
            "gridcolor": "white",
            "linecolor": "white",
            "ticks": ""
           },
           "baxis": {
            "gridcolor": "white",
            "linecolor": "white",
            "ticks": ""
           },
           "caxis": {
            "gridcolor": "white",
            "linecolor": "white",
            "ticks": ""
           }
          },
          "coloraxis": {
           "colorbar": {
            "outlinewidth": 0,
            "ticks": ""
           }
          },
          "colorscale": {
           "sequential": [
            [
             0,
             "#0d0887"
            ],
            [
             0.1111111111111111,
             "#46039f"
            ],
            [
             0.2222222222222222,
             "#7201a8"
            ],
            [
             0.3333333333333333,
             "#9c179e"
            ],
            [
             0.4444444444444444,
             "#bd3786"
            ],
            [
             0.5555555555555556,
             "#d8576b"
            ],
            [
             0.6666666666666666,
             "#ed7953"
            ],
            [
             0.7777777777777778,
             "#fb9f3a"
            ],
            [
             0.8888888888888888,
             "#fdca26"
            ],
            [
             1,
             "#f0f921"
            ]
           ],
           "sequentialminus": [
            [
             0,
             "#0d0887"
            ],
            [
             0.1111111111111111,
             "#46039f"
            ],
            [
             0.2222222222222222,
             "#7201a8"
            ],
            [
             0.3333333333333333,
             "#9c179e"
            ],
            [
             0.4444444444444444,
             "#bd3786"
            ],
            [
             0.5555555555555556,
             "#d8576b"
            ],
            [
             0.6666666666666666,
             "#ed7953"
            ],
            [
             0.7777777777777778,
             "#fb9f3a"
            ],
            [
             0.8888888888888888,
             "#fdca26"
            ],
            [
             1,
             "#f0f921"
            ]
           ],
           "diverging": [
            [
             0,
             "#8e0152"
            ],
            [
             0.1,
             "#c51b7d"
            ],
            [
             0.2,
             "#de77ae"
            ],
            [
             0.3,
             "#f1b6da"
            ],
            [
             0.4,
             "#fde0ef"
            ],
            [
             0.5,
             "#f7f7f7"
            ],
            [
             0.6,
             "#e6f5d0"
            ],
            [
             0.7,
             "#b8e186"
            ],
            [
             0.8,
             "#7fbc41"
            ],
            [
             0.9,
             "#4d9221"
            ],
            [
             1,
             "#276419"
            ]
           ]
          },
          "xaxis": {
           "gridcolor": "white",
           "linecolor": "white",
           "ticks": "",
           "title": {
            "standoff": 15
           },
           "zerolinecolor": "white",
           "automargin": true,
           "zerolinewidth": 2
          },
          "yaxis": {
           "gridcolor": "white",
           "linecolor": "white",
           "ticks": "",
           "title": {
            "standoff": 15
           },
           "zerolinecolor": "white",
           "automargin": true,
           "zerolinewidth": 2
          },
          "scene": {
           "xaxis": {
            "backgroundcolor": "#E5ECF6",
            "gridcolor": "white",
            "linecolor": "white",
            "showbackground": true,
            "ticks": "",
            "zerolinecolor": "white",
            "gridwidth": 2
           },
           "yaxis": {
            "backgroundcolor": "#E5ECF6",
            "gridcolor": "white",
            "linecolor": "white",
            "showbackground": true,
            "ticks": "",
            "zerolinecolor": "white",
            "gridwidth": 2
           },
           "zaxis": {
            "backgroundcolor": "#E5ECF6",
            "gridcolor": "white",
            "linecolor": "white",
            "showbackground": true,
            "ticks": "",
            "zerolinecolor": "white",
            "gridwidth": 2
           }
          },
          "shapedefaults": {
           "line": {
            "color": "#2a3f5f"
           }
          },
          "annotationdefaults": {
           "arrowcolor": "#2a3f5f",
           "arrowhead": 0,
           "arrowwidth": 1
          },
          "geo": {
           "bgcolor": "white",
           "landcolor": "#E5ECF6",
           "subunitcolor": "white",
           "showland": true,
           "showlakes": true,
           "lakecolor": "white"
          },
          "title": {
           "x": 0.05
          },
          "mapbox": {
           "style": "light"
          }
         }
        },
        "xaxis": {
         "anchor": "y",
         "domain": [
          0,
          0.1388888888888889
         ],
         "title": {
          "text": "Groupe d'aliment",
          "standoff": 30
         },
         "tickangle": 90,
         "automargin": true
        },
        "yaxis": {
         "anchor": "x",
         "domain": [
          0,
          1
         ]
        },
        "xaxis2": {
         "anchor": "y2",
         "domain": [
          0.17222222222222222,
          0.3111111111111111
         ],
         "tickangle": 90,
         "automargin": true
        },
        "yaxis2": {
         "anchor": "x2",
         "domain": [
          0,
          1
         ],
         "matches": "y",
         "showticklabels": false
        },
        "xaxis3": {
         "anchor": "y3",
         "domain": [
          0.34444444444444444,
          0.48333333333333334
         ],
         "tickangle": 90,
         "automargin": true
        },
        "yaxis3": {
         "anchor": "x3",
         "domain": [
          0,
          1
         ],
         "matches": "y",
         "showticklabels": false
        },
        "xaxis4": {
         "anchor": "y4",
         "domain": [
          0.5166666666666667,
          0.6555555555555557
         ],
         "tickangle": 90,
         "automargin": true
        },
        "yaxis4": {
         "anchor": "x4",
         "domain": [
          0,
          1
         ],
         "matches": "y",
         "showticklabels": false
        },
        "xaxis5": {
         "anchor": "y5",
         "domain": [
          0.6888888888888889,
          0.8277777777777777
         ]
        },
        "yaxis5": {
         "anchor": "x5",
         "domain": [
          0,
          1
         ],
         "matches": "y",
         "showticklabels": false
        },
        "xaxis6": {
         "anchor": "y6",
         "domain": [
          0.861111111111111,
          1
         ]
        },
        "yaxis6": {
         "anchor": "x6",
         "domain": [
          0,
          1
         ],
         "matches": "y",
         "showticklabels": false
        },
        "annotations": [
         {
          "font": {
           "size": 16
          },
          "showarrow": false,
          "text": "Agriculture",
          "x": 0.06944444444444445,
          "xanchor": "center",
          "xref": "paper",
          "y": 1,
          "yanchor": "bottom",
          "yref": "paper"
         },
         {
          "font": {
           "size": 16
          },
          "showarrow": false,
          "text": "Transformation",
          "x": 0.24166666666666667,
          "xanchor": "center",
          "xref": "paper",
          "y": 1,
          "yanchor": "bottom",
          "yref": "paper"
         },
         {
          "font": {
           "size": 16
          },
          "showarrow": false,
          "text": "Emballage",
          "x": 0.41388888888888886,
          "xanchor": "center",
          "xref": "paper",
          "y": 1,
          "yanchor": "bottom",
          "yref": "paper"
         },
         {
          "font": {
           "size": 16
          },
          "showarrow": false,
          "text": "Transport",
          "x": 0.5861111111111112,
          "xanchor": "center",
          "xref": "paper",
          "y": 1,
          "yanchor": "bottom",
          "yref": "paper"
         },
         {
          "font": {
           "size": 16
          },
          "showarrow": false,
          "text": "Distri",
          "x": 0.7583333333333333,
          "xanchor": "center",
          "xref": "paper",
          "y": 1,
          "yanchor": "bottom",
          "yref": "paper"
         },
         {
          "font": {
           "size": 16
          },
          "showarrow": false,
          "text": "Consommation",
          "x": 0.9305555555555556,
          "xanchor": "center",
          "xref": "paper",
          "y": 1,
          "yanchor": "bottom",
          "yref": "paper"
         }
        ],
        "margin": {
         "l": 50,
         "r": 50,
         "t": 100,
         "b": 100,
         "pad": 4
        },
        "title": {
         "text": "Moyennes des émissions par groupe d'aliment (en mPt/kg de produit)"
        },
        "height": 600,
        "width": 800,
        "showlegend": false
       },
       "config": {
        "plotlyServerURL": "https://plot.ly"
       }
      }
     },
     "metadata": {}
    }
   ],
   "source": [
    "\n",
    "groupe_ali = df.groupby([\"Groupe d'aliment\"])[[\"Agriculture\", \"Transformation\", \"Emballage\", \"Transport\",\"Supermarché et distribution\",\"Consommation\"]].mean().reset_index()\n",
    "\n",
    "groupe_ali = groupe_ali.sort_values(\"Agriculture\", ascending=False)\n",
    "agri_sorted = groupe_ali[\"Agriculture\"]\n",
    "groupe_ali = groupe_ali.sort_values(\"Transformation\", ascending=False)\n",
    "transf_sorted = groupe_ali[\"Transformation\"]\n",
    "groupe_ali = groupe_ali.sort_values(\"Emballage\", ascending=False)\n",
    "embal_sorted = groupe_ali[\"Emballage\"]\n",
    "groupe_ali = groupe_ali.sort_values(\"Transport\", ascending=False)\n",
    "transp_sorted = groupe_ali[\"Transport\"]\n",
    "groupe_ali = groupe_ali.sort_values(\"Supermarché et distribution\", ascending=False)\n",
    "sup_sorted = groupe_ali[\"Supermarché et distribution\"]\n",
    "groupe_ali = groupe_ali.sort_values(\"Consommation\", ascending=False)\n",
    "conso_sorted = groupe_ali[\"Consommation\"]\n",
    "\n",
    "fig = make_subplots(rows=1, cols=6, shared_yaxes=True,subplot_titles=(\"Agriculture\", \"Transformation\", \"Emballage\", \"Transport\",\"Distri\",\"Consommation\"))\n",
    "\n",
    "fig.add_trace(go.Bar(x=groupe_ali[\"Groupe d'aliment\"], y=agri_sorted, marker=dict(color='green')), row=1, col=1)\n",
    "fig.add_trace(go.Bar(x=groupe_ali[\"Groupe d'aliment\"], y=transf_sorted), row=1, col=2)\n",
    "fig.add_trace(go.Bar(x=groupe_ali[\"Groupe d'aliment\"], y=embal_sorted), row=1, col=3)\n",
    "fig.add_trace(go.Bar(x=groupe_ali[\"Groupe d'aliment\"], y=transp_sorted), row=1, col=4)\n",
    "fig.add_trace(go.Bar(x=groupe_ali[\"Groupe d'aliment\"], y=sup_sorted), row=1, col=5)\n",
    "fig.add_trace(go.Bar(x=groupe_ali[\"Groupe d'aliment\"], y=conso_sorted), row=1, col=6)\n",
    "\n",
    "fig.update_layout(\n",
    "    title=\"Moyennes des émissions par groupe d'aliment (en mPt/kg de produit)\",\n",
    "    height=600,\n",
    "    width=800,\n",
    "    showlegend=False,\n",
    "    margin=dict(l=50, r=50, t=100, b=100, pad=4),\n",
    "    xaxis=dict(\n",
    "        title=\"Groupe d'aliment\",\n",
    "        title_standoff=30,\n",
    "        tickangle=90,\n",
    "        \n",
    "        automargin=True\n",
    "    ),\n",
    "    xaxis2=dict(tickangle=90, automargin=True),\n",
    "    xaxis3=dict(tickangle=90, automargin=True),\n",
    "    xaxis4=dict(tickangle=90, automargin=True),\n",
    ")\n",
    "\n",
    "fig.show()\n"
   ]
  },
  {
   "cell_type": "code",
   "execution_count": 108,
   "metadata": {},
   "outputs": [
    {
     "output_type": "stream",
     "name": "stdout",
     "text": [
      "                                                                                          Agriculture  \\\nGroupe d'aliment                       Sous-groupe d'aliment                                            \naides culinaires et ingrédients divers aides culinaires                                      0.103435   \n                                       algues                                                0.654812   \n                                       condiments                                            0.108568   \n                                       denrées destinées à une alimentation particulière     0.151941   \n                                       herbes                                                0.186256   \n...                                                                                               ...   \nviandes, œufs, poissons                substituts de charcuterie                             0.058334   \n                                       substituts de viande                                  0.029981   \n                                       viandes crues                                         1.691483   \n                                       viandes cuites                                        2.518931   \n                                       œufs                                                  0.522951   \n\n                                                                                          Transformation  \\\nGroupe d'aliment                       Sous-groupe d'aliment                                               \naides culinaires et ingrédients divers aides culinaires                                         0.591943   \n                                       algues                                                   0.500987   \n                                       condiments                                               0.029916   \n                                       denrées destinées à une alimentation particulière        0.045760   \n                                       herbes                                                   0.000000   \n...                                                                                                  ...   \nviandes, œufs, poissons                substituts de charcuterie                                0.087680   \n                                       substituts de viande                                     0.084776   \n                                       viandes crues                                            0.062768   \n                                       viandes cuites                                           0.065358   \n                                       œufs                                                     0.021407   \n\n                                                                                          Emballage  \\\nGroupe d'aliment                       Sous-groupe d'aliment                                          \naides culinaires et ingrédients divers aides culinaires                                    0.073661   \n                                       algues                                              0.024443   \n                                       condiments                                          0.060047   \n                                       denrées destinées à une alimentation particulière   0.042666   \n                                       herbes                                              0.036369   \n...                                                                                             ...   \nviandes, œufs, poissons                substituts de charcuterie                           0.018662   \n                                       substituts de viande                                0.013713   \n                                       viandes crues                                       0.024396   \n                                       viandes cuites                                      0.029521   \n                                       œufs                                                0.014072   \n\n                                                                                          Transport  \\\nGroupe d'aliment                       Sous-groupe d'aliment                                          \naides culinaires et ingrédients divers aides culinaires                                    0.016176   \n                                       algues                                              0.032936   \n                                       condiments                                          0.019421   \n                                       denrées destinées à une alimentation particulière   0.015680   \n                                       herbes                                              0.013707   \n...                                                                                             ...   \nviandes, œufs, poissons                substituts de charcuterie                           0.016952   \n                                       substituts de viande                                0.014448   \n                                       viandes crues                                       0.018281   \n                                       viandes cuites                                      0.023583   \n                                       œufs                                                0.017158   \n\n                                                                                          Supermarché et distribution  \\\nGroupe d'aliment                       Sous-groupe d'aliment                                                            \naides culinaires et ingrédients divers aides culinaires                                                      0.004832   \n                                       algues                                                                0.004981   \n                                       condiments                                                            0.005893   \n                                       denrées destinées à une alimentation particulière                     0.009270   \n                                       herbes                                                                0.005000   \n...                                                                                                               ...   \nviandes, œufs, poissons                substituts de charcuterie                                             0.010422   \n                                       substituts de viande                                                  0.006740   \n                                       viandes crues                                                         0.009973   \n                                       viandes cuites                                                        0.012920   \n                                       œufs                                                                  0.009496   \n\n                                                                                          Consommation  \nGroupe d'aliment                       Sous-groupe d'aliment                                            \naides culinaires et ingrédients divers aides culinaires                                       0.000315  \n                                       algues                                                 0.000407  \n                                       condiments                                             0.001281  \n                                       denrées destinées à une alimentation particulière      0.002455  \n                                       herbes                                                 0.001448  \n...                                                                                                ...  \nviandes, œufs, poissons                substituts de charcuterie                              0.008004  \n                                       substituts de viande                                   0.006975  \n                                       viandes crues                                          0.004238  \n                                       viandes cuites                                         0.031726  \n                                       œufs                                                   0.011670  \n\n[61 rows x 6 columns]\n"
     ]
    }
   ],
   "source": [
    "sous_groupe=df.groupby([\"Groupe d'aliment\",\"Sous-groupe d'aliment\"])[\"Agriculture\",\t\"Transformation\",\"Emballage\",\"Transport\",\"Supermarché et distribution\",\"Consommation\"].mean()\n",
    "print(sous_groupe)"
   ]
  },
  {
   "cell_type": "code",
   "execution_count": 112,
   "metadata": {},
   "outputs": [
    {
     "output_type": "display_data",
     "data": {
      "application/vnd.plotly.v1+json": {
       "data": [
        {
         "marker": {
          "color": "green"
         },
         "x": [
          "mollusques et crustacés cuits",
          "pizzas, tartes et crêpes salées",
          "feuilletées et autres entrées",
          "viandes cuites",
          "mollusques et crustacés crus",
          "autres produits à base de viande",
          "poissons cuits",
          "farines et pâtes à tarte",
          "pommes de terre et autres tubercules",
          "charcuteries",
          "œufs",
          "plats végétariens",
          "sandwichs",
          "glaces",
          "desserts glacés",
          "sorbets",
          "produits à base de poissons et produits de la mer",
          "substituts de charcuterie",
          "légumes",
          "plats composés",
          "substituts de viande",
          "fruits à coque et graines oléagineuses",
          "soupes",
          "sauces",
          "viandes crues",
          "petits pots salés et plats infantiles",
          "pâtes, riz et céréales",
          "salades composées et crudités",
          "fruits",
          "poissons crus",
          "légumineuses",
          "denrées destinées à une alimentation particulière",
          "produits laitiers frais et assimilés",
          "fromages",
          "beurres",
          "autres matières grasses",
          "margarines",
          "confitures et assimilés",
          "boisson alcoolisées",
          "laits et boissons infantiles",
          "boissons sans alcool",
          "herbes",
          "condiments",
          "crèmes et spécialités à base de crème",
          "céréales de petit-déjeuner et biscuits",
          "algues",
          "eaux",
          "aides culinaires",
          "huiles et graisses végétales",
          "gâteaux et pâtisseries",
          "céréales et biscuits infantiles",
          "desserts infantiles",
          "sels",
          "sucres, miels et assimilés",
          "chocolats et produits à base de chocolat",
          "confiseries non chocolatées",
          "épices",
          "ingrédients divers",
          "laits",
          "huiles de poissons",
          "pains et viennoiseries"
         ],
         "y": [
          2.5189310055238097,
          1.6914830836029413,
          1.682055577142857,
          1.4984040360000002,
          1.4913588629090908,
          1.2379534295531915,
          1.0205142945833332,
          0.8594266307142856,
          0.81804387,
          0.7389575715217391,
          0.65481156,
          0.6402971447459016,
          0.6023410659999999,
          0.5645551981818181,
          0.5611763812244898,
          0.5352491977851239,
          0.5229506766666666,
          0.47253476378947373,
          0.4617789133,
          0.43416230138461537,
          0.3754505144705882,
          0.3628120633333333,
          0.3569572937777778,
          0.300945555072,
          0.2742508003548387,
          0.24422395313333334,
          0.23806090790789472,
          0.22840764411764705,
          0.2273401797457627,
          0.2239063526122449,
          0.2087565,
          0.20624694490235293,
          0.20620777899999998,
          0.20491498833333333,
          0.18625587829166665,
          0.181885335375,
          0.17958770171428573,
          0.16879197270886073,
          0.1678180922857143,
          0.15248362666666668,
          0.15194142,
          0.14708751549315066,
          0.13301425092093022,
          0.129503495,
          0.12714497,
          0.1151399910105263,
          0.11197730469230767,
          0.10856757471428571,
          0.10343527533333334,
          0.10100195899999996,
          0.080199138,
          0.07935775315736039,
          0.07659603182608694,
          0.0601972607142857,
          0.0583343223333333,
          0.05602423116666663,
          0.046244631,
          0.042389386237619044,
          0.02998084119999998,
          0.00084698284,
          0
         ],
         "type": "bar",
         "xaxis": "x",
         "yaxis": "y"
        },
        {
         "x": [
          "mollusques et crustacés cuits",
          "pizzas, tartes et crêpes salées",
          "feuilletées et autres entrées",
          "viandes cuites",
          "mollusques et crustacés crus",
          "autres produits à base de viande",
          "poissons cuits",
          "farines et pâtes à tarte",
          "pommes de terre et autres tubercules",
          "charcuteries",
          "œufs",
          "plats végétariens",
          "sandwichs",
          "glaces",
          "desserts glacés",
          "sorbets",
          "produits à base de poissons et produits de la mer",
          "substituts de charcuterie",
          "légumes",
          "plats composés",
          "substituts de viande",
          "fruits à coque et graines oléagineuses",
          "soupes",
          "sauces",
          "viandes crues",
          "petits pots salés et plats infantiles",
          "pâtes, riz et céréales",
          "salades composées et crudités",
          "fruits",
          "poissons crus",
          "légumineuses",
          "denrées destinées à une alimentation particulière",
          "produits laitiers frais et assimilés",
          "fromages",
          "beurres",
          "autres matières grasses",
          "margarines",
          "confitures et assimilés",
          "boisson alcoolisées",
          "laits et boissons infantiles",
          "boissons sans alcool",
          "herbes",
          "condiments",
          "crèmes et spécialités à base de crème",
          "céréales de petit-déjeuner et biscuits",
          "algues",
          "eaux",
          "aides culinaires",
          "huiles et graisses végétales",
          "gâteaux et pâtisseries",
          "céréales et biscuits infantiles",
          "desserts infantiles",
          "sels",
          "sucres, miels et assimilés",
          "chocolats et produits à base de chocolat",
          "confiseries non chocolatées",
          "épices",
          "ingrédients divers",
          "laits",
          "huiles de poissons",
          "pains et viennoiseries"
         ],
         "y": [
          0.591943482,
          0.50098699,
          0.386986507,
          0.37415386716,
          0.22588920766666667,
          0.14855460257142855,
          0.13227151619097222,
          0.12426650661052631,
          0.11105493,
          0.09719871357894734,
          0.08767962,
          0.08477590239999999,
          0.08469467886666666,
          0.07818865576315788,
          0.07628118700799999,
          0.0692682099090909,
          0.06535786199619047,
          0.06503456500465114,
          0.06276759622867646,
          0.06030111489117647,
          0.05944760272499998,
          0.05503952472811474,
          0.054602258169491505,
          0.05385942168888886,
          0.05223049121645569,
          0.05165232991666666,
          0.05036410584434781,
          0.04917672344444444,
          0.04720950772602738,
          0.045760481,
          0.0448098848153846,
          0.04242602128571428,
          0.04120852553846152,
          0.040377482,
          0.040110252140495864,
          0.039915366142857144,
          0.03742215639999994,
          0.03380398742857139,
          0.03347166533333334,
          0.030187908365510198,
          0.029915851991428554,
          0.027738452666666667,
          0.02515547587346939,
          0.024297705330952372,
          0.02414861989999998,
          0.023368248588235264,
          0.02254345425499999,
          0.022484784230964464,
          0.021406651572666656,
          0.017725356,
          0.017679061125,
          0.01683394956521739,
          0.01608368378130435,
          0.015943572866129026,
          0.0034204191055555552,
          0.0028925221785454547,
          0.0017636172989361702,
          0.001191760411764706,
          0,
          0,
          0
         ],
         "type": "bar",
         "xaxis": "x2",
         "yaxis": "y2"
        },
        {
         "x": [
          "mollusques et crustacés cuits",
          "pizzas, tartes et crêpes salées",
          "feuilletées et autres entrées",
          "viandes cuites",
          "mollusques et crustacés crus",
          "autres produits à base de viande",
          "poissons cuits",
          "farines et pâtes à tarte",
          "pommes de terre et autres tubercules",
          "charcuteries",
          "œufs",
          "plats végétariens",
          "sandwichs",
          "glaces",
          "desserts glacés",
          "sorbets",
          "produits à base de poissons et produits de la mer",
          "substituts de charcuterie",
          "légumes",
          "plats composés",
          "substituts de viande",
          "fruits à coque et graines oléagineuses",
          "soupes",
          "sauces",
          "viandes crues",
          "petits pots salés et plats infantiles",
          "pâtes, riz et céréales",
          "salades composées et crudités",
          "fruits",
          "poissons crus",
          "légumineuses",
          "denrées destinées à une alimentation particulière",
          "produits laitiers frais et assimilés",
          "fromages",
          "beurres",
          "autres matières grasses",
          "margarines",
          "confitures et assimilés",
          "boisson alcoolisées",
          "laits et boissons infantiles",
          "boissons sans alcool",
          "herbes",
          "condiments",
          "crèmes et spécialités à base de crème",
          "céréales de petit-déjeuner et biscuits",
          "algues",
          "eaux",
          "aides culinaires",
          "huiles et graisses végétales",
          "gâteaux et pâtisseries",
          "céréales et biscuits infantiles",
          "desserts infantiles",
          "sels",
          "sucres, miels et assimilés",
          "chocolats et produits à base de chocolat",
          "confiseries non chocolatées",
          "épices",
          "ingrédients divers",
          "laits",
          "huiles de poissons",
          "pains et viennoiseries"
         ],
         "y": [
          0.10713431145652173,
          0.07366133066666657,
          0.06004680414285712,
          0.055774591,
          0.054632010214285716,
          0.051828149309523716,
          0.04566474052173904,
          0.042666169,
          0.039279919052631576,
          0.036368619708333286,
          0.030181049270833323,
          0.029941613653061222,
          0.029520578009523808,
          0.02753471657142857,
          0.027194926666666636,
          0.026502823724999985,
          0.02458097737288134,
          0.024443288,
          0.024395957176470588,
          0.022748530076923068,
          0.022696311474019598,
          0.02214474,
          0.02141644,
          0.020287325555555555,
          0.019862191043478247,
          0.019548837,
          0.01948226382894736,
          0.019461402333333332,
          0.019265488636363567,
          0.019241924272727265,
          0.018661595666666666,
          0.01823665414285713,
          0.018131524617021274,
          0.017996227873417717,
          0.017638654735245892,
          0.01728476866666667,
          0.017204731324193544,
          0.016584576755555556,
          0.016436001,
          0.016235116384615386,
          0.01563944683684207,
          0.0152800739999999,
          0.015193238166666666,
          0.015130251000000003,
          0.015081364666666609,
          0.015077863166666665,
          0.015077706,
          0.015064636000000001,
          0.015064635999999998,
          0.014733779871999995,
          0.014677451342465748,
          0.014072343666666667,
          0.013712926619999979,
          0.013612351964705881,
          0.013600758577777766,
          0.013067046542639587,
          0.01198032806499996,
          0.011071209233333332,
          0.009858538275510203,
          0.008644169942857143,
          0.005403587810232558
         ],
         "type": "bar",
         "xaxis": "x3",
         "yaxis": "y3"
        },
        {
         "x": [
          "mollusques et crustacés cuits",
          "pizzas, tartes et crêpes salées",
          "feuilletées et autres entrées",
          "viandes cuites",
          "mollusques et crustacés crus",
          "autres produits à base de viande",
          "poissons cuits",
          "farines et pâtes à tarte",
          "pommes de terre et autres tubercules",
          "charcuteries",
          "œufs",
          "plats végétariens",
          "sandwichs",
          "glaces",
          "desserts glacés",
          "sorbets",
          "produits à base de poissons et produits de la mer",
          "substituts de charcuterie",
          "légumes",
          "plats composés",
          "substituts de viande",
          "fruits à coque et graines oléagineuses",
          "soupes",
          "sauces",
          "viandes crues",
          "petits pots salés et plats infantiles",
          "pâtes, riz et céréales",
          "salades composées et crudités",
          "fruits",
          "poissons crus",
          "légumineuses",
          "denrées destinées à une alimentation particulière",
          "produits laitiers frais et assimilés",
          "fromages",
          "beurres",
          "autres matières grasses",
          "margarines",
          "confitures et assimilés",
          "boisson alcoolisées",
          "laits et boissons infantiles",
          "boissons sans alcool",
          "herbes",
          "condiments",
          "crèmes et spécialités à base de crème",
          "céréales de petit-déjeuner et biscuits",
          "algues",
          "eaux",
          "aides culinaires",
          "huiles et graisses végétales",
          "gâteaux et pâtisseries",
          "céréales et biscuits infantiles",
          "desserts infantiles",
          "sels",
          "sucres, miels et assimilés",
          "chocolats et produits à base de chocolat",
          "confiseries non chocolatées",
          "épices",
          "ingrédients divers",
          "laits",
          "huiles de poissons",
          "pains et viennoiseries"
         ],
         "y": [
          0.22753106942857143,
          0.16301939578571428,
          0.10172006154545453,
          0.08690357695744681,
          0.06435425254347825,
          0.03299066869230768,
          0.032935657,
          0.03274797613043478,
          0.03184317735714285,
          0.030359685315789475,
          0.029777947058823515,
          0.02717002753061224,
          0.026299893629508173,
          0.026181900898477137,
          0.025175388999999996,
          0.023583218123809497,
          0.02342049863333333,
          0.022525993695652162,
          0.022486211355555553,
          0.02217697,
          0.0206682792,
          0.020416211033898294,
          0.01998667542666666,
          0.019712368642857143,
          0.019651181999999986,
          0.019454165474999986,
          0.019421484714285713,
          0.018281389367647043,
          0.017448044666666655,
          0.01731619118549019,
          0.017218883857142816,
          0.017200733149999998,
          0.017158482999999992,
          0.017151188388888884,
          0.017090809074380164,
          0.016952101333333334,
          0.016923489987341764,
          0.01649155519767441,
          0.016176071333333333,
          0.016165369778947367,
          0.015993164839199974,
          0.01567967,
          0.015432402416666657,
          0.015417062,
          0.015099135999999999,
          0.01444837767999998,
          0.014084756333333268,
          0.014071568023076892,
          0.014038264669354835,
          0.013873574029411764,
          0.013706512208333329,
          0.013449062867105255,
          0.013430513786111055,
          0.013176524941666658,
          0.0113272083,
          0.010930747105479439,
          0.010456723599999959,
          0.0101571012142857,
          0.0088004722999999,
          0.0085879575,
          0.0081859504
         ],
         "type": "bar",
         "xaxis": "x4",
         "yaxis": "y4"
        },
        {
         "x": [
          "mollusques et crustacés cuits",
          "pizzas, tartes et crêpes salées",
          "feuilletées et autres entrées",
          "viandes cuites",
          "mollusques et crustacés crus",
          "autres produits à base de viande",
          "poissons cuits",
          "farines et pâtes à tarte",
          "pommes de terre et autres tubercules",
          "charcuteries",
          "œufs",
          "plats végétariens",
          "sandwichs",
          "glaces",
          "desserts glacés",
          "sorbets",
          "produits à base de poissons et produits de la mer",
          "substituts de charcuterie",
          "légumes",
          "plats composés",
          "substituts de viande",
          "fruits à coque et graines oléagineuses",
          "soupes",
          "sauces",
          "viandes crues",
          "petits pots salés et plats infantiles",
          "pâtes, riz et céréales",
          "salades composées et crudités",
          "fruits",
          "poissons crus",
          "légumineuses",
          "denrées destinées à une alimentation particulière",
          "produits laitiers frais et assimilés",
          "fromages",
          "beurres",
          "autres matières grasses",
          "margarines",
          "confitures et assimilés",
          "boisson alcoolisées",
          "laits et boissons infantiles",
          "boissons sans alcool",
          "herbes",
          "condiments",
          "crèmes et spécialités à base de crème",
          "céréales de petit-déjeuner et biscuits",
          "algues",
          "eaux",
          "aides culinaires",
          "huiles et graisses végétales",
          "gâteaux et pâtisseries",
          "céréales et biscuits infantiles",
          "desserts infantiles",
          "sels",
          "sucres, miels et assimilés",
          "chocolats et produits à base de chocolat",
          "confiseries non chocolatées",
          "épices",
          "ingrédients divers",
          "laits",
          "huiles de poissons",
          "pains et viennoiseries"
         ],
         "y": [
          0.024407471857142853,
          0.02384903858571429,
          0.016140657,
          0.016140657,
          0.016140657,
          0.012920024152380952,
          0.012441360013888843,
          0.011956575619565203,
          0.010598130638181807,
          0.010421852633333333,
          0.009973023373529412,
          0.009804753966666666,
          0.00980049811999991,
          0.0097407918,
          0.00949562829047619,
          0.0093100956,
          0.00930436464893617,
          0.0092699714,
          0.009087125934999999,
          0.0090871221,
          0.0090871221,
          0.009072996339999998,
          0.009032519606779659,
          0.009004069527157356,
          0.008940730581818183,
          0.008882216975694444,
          0.008860203292622945,
          0.008790424069620254,
          0.008774601736734652,
          0.008527877785714285,
          0.008271606030434782,
          0.0070992554761904764,
          0.006773884700000001,
          0.00674022399999996,
          0.006130119748196079,
          0.005893459371428543,
          0.005429694524999942,
          0.005064061578947279,
          0.005000091166666667,
          0.0049809591,
          0.004922586684615384,
          0.0048919251999999,
          0.004861920728571343,
          0.0048315302999999,
          0.0048315302999999,
          0.0048315302999999,
          0.0048315302999999,
          0.0048315302999999,
          0.0048291697647999,
          0.004789177622755089,
          0.004780971238461453,
          0.004641508600000001,
          0.0046415086,
          0.0046415086,
          0.0045028964,
          0.0044723036,
          0.004470162584210506,
          0.004460334829411765,
          0.004298807506451598,
          0.002315660283813954,
          0.00075719707
         ],
         "type": "bar",
         "xaxis": "x5",
         "yaxis": "y5"
        },
        {
         "x": [
          "mollusques et crustacés cuits",
          "pizzas, tartes et crêpes salées",
          "feuilletées et autres entrées",
          "viandes cuites",
          "mollusques et crustacés crus",
          "autres produits à base de viande",
          "poissons cuits",
          "farines et pâtes à tarte",
          "pommes de terre et autres tubercules",
          "charcuteries",
          "œufs",
          "plats végétariens",
          "sandwichs",
          "glaces",
          "desserts glacés",
          "sorbets",
          "produits à base de poissons et produits de la mer",
          "substituts de charcuterie",
          "légumes",
          "plats composés",
          "substituts de viande",
          "fruits à coque et graines oléagineuses",
          "soupes",
          "sauces",
          "viandes crues",
          "petits pots salés et plats infantiles",
          "pâtes, riz et céréales",
          "salades composées et crudités",
          "fruits",
          "poissons crus",
          "légumineuses",
          "denrées destinées à une alimentation particulière",
          "produits laitiers frais et assimilés",
          "fromages",
          "beurres",
          "autres matières grasses",
          "margarines",
          "confitures et assimilés",
          "boisson alcoolisées",
          "laits et boissons infantiles",
          "boissons sans alcool",
          "herbes",
          "condiments",
          "crèmes et spécialités à base de crème",
          "céréales de petit-déjeuner et biscuits",
          "algues",
          "eaux",
          "aides culinaires",
          "huiles et graisses végétales",
          "gâteaux et pâtisseries",
          "céréales et biscuits infantiles",
          "desserts infantiles",
          "sels",
          "sucres, miels et assimilés",
          "chocolats et produits à base de chocolat",
          "confiseries non chocolatées",
          "épices",
          "ingrédients divers",
          "laits",
          "huiles de poissons",
          "pains et viennoiseries"
         ],
         "y": [
          0.06264969928571427,
          0.034049017,
          0.034049017,
          0.031725682457142836,
          0.03138079757142854,
          0.028061886413333334,
          0.02582699555818182,
          0.01770789,
          0.01532116897695651,
          0.014563385673611111,
          0.011669764147619019,
          0.011491345928571414,
          0.01035340345,
          0.0092886805,
          0.0092886805,
          0.0092886805,
          0.00924571413043478,
          0.0080036,
          0.007987029813908602,
          0.007666342291803277,
          0.0069745373999999995,
          0.005211936351020369,
          0.004979306537209302,
          0.004735302849152543,
          0.004237620899264706,
          0.0040545827,
          0.0034636775451612908,
          0.003296320538461538,
          0.0032023352138775105,
          0.0030148471329787233,
          0.002953507236111111,
          0.0024548656,
          0.0024548656,
          0.0024548656,
          0.0024548656,
          0.0024548656,
          0.0024548656,
          0.0024548655999999994,
          0.002396416419047619,
          0.002098553725,
          0.0018623293623529402,
          0.0014484315833332958,
          0.0012806162714285713,
          0.0012274328,
          0.000505506416,
          0.0004067320699999,
          0.00035069508,
          0.00031520348333333333,
          0.00012920345263157894,
          0,
          0,
          0,
          0,
          0,
          0,
          0,
          0,
          0,
          0,
          0,
          0
         ],
         "type": "bar",
         "xaxis": "x6",
         "yaxis": "y6"
        }
       ],
       "layout": {
        "template": {
         "data": {
          "histogram2dcontour": [
           {
            "type": "histogram2dcontour",
            "colorbar": {
             "outlinewidth": 0,
             "ticks": ""
            },
            "colorscale": [
             [
              0,
              "#0d0887"
             ],
             [
              0.1111111111111111,
              "#46039f"
             ],
             [
              0.2222222222222222,
              "#7201a8"
             ],
             [
              0.3333333333333333,
              "#9c179e"
             ],
             [
              0.4444444444444444,
              "#bd3786"
             ],
             [
              0.5555555555555556,
              "#d8576b"
             ],
             [
              0.6666666666666666,
              "#ed7953"
             ],
             [
              0.7777777777777778,
              "#fb9f3a"
             ],
             [
              0.8888888888888888,
              "#fdca26"
             ],
             [
              1,
              "#f0f921"
             ]
            ]
           }
          ],
          "choropleth": [
           {
            "type": "choropleth",
            "colorbar": {
             "outlinewidth": 0,
             "ticks": ""
            }
           }
          ],
          "histogram2d": [
           {
            "type": "histogram2d",
            "colorbar": {
             "outlinewidth": 0,
             "ticks": ""
            },
            "colorscale": [
             [
              0,
              "#0d0887"
             ],
             [
              0.1111111111111111,
              "#46039f"
             ],
             [
              0.2222222222222222,
              "#7201a8"
             ],
             [
              0.3333333333333333,
              "#9c179e"
             ],
             [
              0.4444444444444444,
              "#bd3786"
             ],
             [
              0.5555555555555556,
              "#d8576b"
             ],
             [
              0.6666666666666666,
              "#ed7953"
             ],
             [
              0.7777777777777778,
              "#fb9f3a"
             ],
             [
              0.8888888888888888,
              "#fdca26"
             ],
             [
              1,
              "#f0f921"
             ]
            ]
           }
          ],
          "heatmap": [
           {
            "type": "heatmap",
            "colorbar": {
             "outlinewidth": 0,
             "ticks": ""
            },
            "colorscale": [
             [
              0,
              "#0d0887"
             ],
             [
              0.1111111111111111,
              "#46039f"
             ],
             [
              0.2222222222222222,
              "#7201a8"
             ],
             [
              0.3333333333333333,
              "#9c179e"
             ],
             [
              0.4444444444444444,
              "#bd3786"
             ],
             [
              0.5555555555555556,
              "#d8576b"
             ],
             [
              0.6666666666666666,
              "#ed7953"
             ],
             [
              0.7777777777777778,
              "#fb9f3a"
             ],
             [
              0.8888888888888888,
              "#fdca26"
             ],
             [
              1,
              "#f0f921"
             ]
            ]
           }
          ],
          "heatmapgl": [
           {
            "type": "heatmapgl",
            "colorbar": {
             "outlinewidth": 0,
             "ticks": ""
            },
            "colorscale": [
             [
              0,
              "#0d0887"
             ],
             [
              0.1111111111111111,
              "#46039f"
             ],
             [
              0.2222222222222222,
              "#7201a8"
             ],
             [
              0.3333333333333333,
              "#9c179e"
             ],
             [
              0.4444444444444444,
              "#bd3786"
             ],
             [
              0.5555555555555556,
              "#d8576b"
             ],
             [
              0.6666666666666666,
              "#ed7953"
             ],
             [
              0.7777777777777778,
              "#fb9f3a"
             ],
             [
              0.8888888888888888,
              "#fdca26"
             ],
             [
              1,
              "#f0f921"
             ]
            ]
           }
          ],
          "contourcarpet": [
           {
            "type": "contourcarpet",
            "colorbar": {
             "outlinewidth": 0,
             "ticks": ""
            }
           }
          ],
          "contour": [
           {
            "type": "contour",
            "colorbar": {
             "outlinewidth": 0,
             "ticks": ""
            },
            "colorscale": [
             [
              0,
              "#0d0887"
             ],
             [
              0.1111111111111111,
              "#46039f"
             ],
             [
              0.2222222222222222,
              "#7201a8"
             ],
             [
              0.3333333333333333,
              "#9c179e"
             ],
             [
              0.4444444444444444,
              "#bd3786"
             ],
             [
              0.5555555555555556,
              "#d8576b"
             ],
             [
              0.6666666666666666,
              "#ed7953"
             ],
             [
              0.7777777777777778,
              "#fb9f3a"
             ],
             [
              0.8888888888888888,
              "#fdca26"
             ],
             [
              1,
              "#f0f921"
             ]
            ]
           }
          ],
          "surface": [
           {
            "type": "surface",
            "colorbar": {
             "outlinewidth": 0,
             "ticks": ""
            },
            "colorscale": [
             [
              0,
              "#0d0887"
             ],
             [
              0.1111111111111111,
              "#46039f"
             ],
             [
              0.2222222222222222,
              "#7201a8"
             ],
             [
              0.3333333333333333,
              "#9c179e"
             ],
             [
              0.4444444444444444,
              "#bd3786"
             ],
             [
              0.5555555555555556,
              "#d8576b"
             ],
             [
              0.6666666666666666,
              "#ed7953"
             ],
             [
              0.7777777777777778,
              "#fb9f3a"
             ],
             [
              0.8888888888888888,
              "#fdca26"
             ],
             [
              1,
              "#f0f921"
             ]
            ]
           }
          ],
          "mesh3d": [
           {
            "type": "mesh3d",
            "colorbar": {
             "outlinewidth": 0,
             "ticks": ""
            }
           }
          ],
          "scatter": [
           {
            "fillpattern": {
             "fillmode": "overlay",
             "size": 10,
             "solidity": 0.2
            },
            "type": "scatter"
           }
          ],
          "parcoords": [
           {
            "type": "parcoords",
            "line": {
             "colorbar": {
              "outlinewidth": 0,
              "ticks": ""
             }
            }
           }
          ],
          "scatterpolargl": [
           {
            "type": "scatterpolargl",
            "marker": {
             "colorbar": {
              "outlinewidth": 0,
              "ticks": ""
             }
            }
           }
          ],
          "bar": [
           {
            "error_x": {
             "color": "#2a3f5f"
            },
            "error_y": {
             "color": "#2a3f5f"
            },
            "marker": {
             "line": {
              "color": "#E5ECF6",
              "width": 0.5
             },
             "pattern": {
              "fillmode": "overlay",
              "size": 10,
              "solidity": 0.2
             }
            },
            "type": "bar"
           }
          ],
          "scattergeo": [
           {
            "type": "scattergeo",
            "marker": {
             "colorbar": {
              "outlinewidth": 0,
              "ticks": ""
             }
            }
           }
          ],
          "scatterpolar": [
           {
            "type": "scatterpolar",
            "marker": {
             "colorbar": {
              "outlinewidth": 0,
              "ticks": ""
             }
            }
           }
          ],
          "histogram": [
           {
            "marker": {
             "pattern": {
              "fillmode": "overlay",
              "size": 10,
              "solidity": 0.2
             }
            },
            "type": "histogram"
           }
          ],
          "scattergl": [
           {
            "type": "scattergl",
            "marker": {
             "colorbar": {
              "outlinewidth": 0,
              "ticks": ""
             }
            }
           }
          ],
          "scatter3d": [
           {
            "type": "scatter3d",
            "line": {
             "colorbar": {
              "outlinewidth": 0,
              "ticks": ""
             }
            },
            "marker": {
             "colorbar": {
              "outlinewidth": 0,
              "ticks": ""
             }
            }
           }
          ],
          "scattermapbox": [
           {
            "type": "scattermapbox",
            "marker": {
             "colorbar": {
              "outlinewidth": 0,
              "ticks": ""
             }
            }
           }
          ],
          "scatterternary": [
           {
            "type": "scatterternary",
            "marker": {
             "colorbar": {
              "outlinewidth": 0,
              "ticks": ""
             }
            }
           }
          ],
          "scattercarpet": [
           {
            "type": "scattercarpet",
            "marker": {
             "colorbar": {
              "outlinewidth": 0,
              "ticks": ""
             }
            }
           }
          ],
          "carpet": [
           {
            "aaxis": {
             "endlinecolor": "#2a3f5f",
             "gridcolor": "white",
             "linecolor": "white",
             "minorgridcolor": "white",
             "startlinecolor": "#2a3f5f"
            },
            "baxis": {
             "endlinecolor": "#2a3f5f",
             "gridcolor": "white",
             "linecolor": "white",
             "minorgridcolor": "white",
             "startlinecolor": "#2a3f5f"
            },
            "type": "carpet"
           }
          ],
          "table": [
           {
            "cells": {
             "fill": {
              "color": "#EBF0F8"
             },
             "line": {
              "color": "white"
             }
            },
            "header": {
             "fill": {
              "color": "#C8D4E3"
             },
             "line": {
              "color": "white"
             }
            },
            "type": "table"
           }
          ],
          "barpolar": [
           {
            "marker": {
             "line": {
              "color": "#E5ECF6",
              "width": 0.5
             },
             "pattern": {
              "fillmode": "overlay",
              "size": 10,
              "solidity": 0.2
             }
            },
            "type": "barpolar"
           }
          ],
          "pie": [
           {
            "automargin": true,
            "type": "pie"
           }
          ]
         },
         "layout": {
          "autotypenumbers": "strict",
          "colorway": [
           "#636efa",
           "#EF553B",
           "#00cc96",
           "#ab63fa",
           "#FFA15A",
           "#19d3f3",
           "#FF6692",
           "#B6E880",
           "#FF97FF",
           "#FECB52"
          ],
          "font": {
           "color": "#2a3f5f"
          },
          "hovermode": "closest",
          "hoverlabel": {
           "align": "left"
          },
          "paper_bgcolor": "white",
          "plot_bgcolor": "#E5ECF6",
          "polar": {
           "bgcolor": "#E5ECF6",
           "angularaxis": {
            "gridcolor": "white",
            "linecolor": "white",
            "ticks": ""
           },
           "radialaxis": {
            "gridcolor": "white",
            "linecolor": "white",
            "ticks": ""
           }
          },
          "ternary": {
           "bgcolor": "#E5ECF6",
           "aaxis": {
            "gridcolor": "white",
            "linecolor": "white",
            "ticks": ""
           },
           "baxis": {
            "gridcolor": "white",
            "linecolor": "white",
            "ticks": ""
           },
           "caxis": {
            "gridcolor": "white",
            "linecolor": "white",
            "ticks": ""
           }
          },
          "coloraxis": {
           "colorbar": {
            "outlinewidth": 0,
            "ticks": ""
           }
          },
          "colorscale": {
           "sequential": [
            [
             0,
             "#0d0887"
            ],
            [
             0.1111111111111111,
             "#46039f"
            ],
            [
             0.2222222222222222,
             "#7201a8"
            ],
            [
             0.3333333333333333,
             "#9c179e"
            ],
            [
             0.4444444444444444,
             "#bd3786"
            ],
            [
             0.5555555555555556,
             "#d8576b"
            ],
            [
             0.6666666666666666,
             "#ed7953"
            ],
            [
             0.7777777777777778,
             "#fb9f3a"
            ],
            [
             0.8888888888888888,
             "#fdca26"
            ],
            [
             1,
             "#f0f921"
            ]
           ],
           "sequentialminus": [
            [
             0,
             "#0d0887"
            ],
            [
             0.1111111111111111,
             "#46039f"
            ],
            [
             0.2222222222222222,
             "#7201a8"
            ],
            [
             0.3333333333333333,
             "#9c179e"
            ],
            [
             0.4444444444444444,
             "#bd3786"
            ],
            [
             0.5555555555555556,
             "#d8576b"
            ],
            [
             0.6666666666666666,
             "#ed7953"
            ],
            [
             0.7777777777777778,
             "#fb9f3a"
            ],
            [
             0.8888888888888888,
             "#fdca26"
            ],
            [
             1,
             "#f0f921"
            ]
           ],
           "diverging": [
            [
             0,
             "#8e0152"
            ],
            [
             0.1,
             "#c51b7d"
            ],
            [
             0.2,
             "#de77ae"
            ],
            [
             0.3,
             "#f1b6da"
            ],
            [
             0.4,
             "#fde0ef"
            ],
            [
             0.5,
             "#f7f7f7"
            ],
            [
             0.6,
             "#e6f5d0"
            ],
            [
             0.7,
             "#b8e186"
            ],
            [
             0.8,
             "#7fbc41"
            ],
            [
             0.9,
             "#4d9221"
            ],
            [
             1,
             "#276419"
            ]
           ]
          },
          "xaxis": {
           "gridcolor": "white",
           "linecolor": "white",
           "ticks": "",
           "title": {
            "standoff": 15
           },
           "zerolinecolor": "white",
           "automargin": true,
           "zerolinewidth": 2
          },
          "yaxis": {
           "gridcolor": "white",
           "linecolor": "white",
           "ticks": "",
           "title": {
            "standoff": 15
           },
           "zerolinecolor": "white",
           "automargin": true,
           "zerolinewidth": 2
          },
          "scene": {
           "xaxis": {
            "backgroundcolor": "#E5ECF6",
            "gridcolor": "white",
            "linecolor": "white",
            "showbackground": true,
            "ticks": "",
            "zerolinecolor": "white",
            "gridwidth": 2
           },
           "yaxis": {
            "backgroundcolor": "#E5ECF6",
            "gridcolor": "white",
            "linecolor": "white",
            "showbackground": true,
            "ticks": "",
            "zerolinecolor": "white",
            "gridwidth": 2
           },
           "zaxis": {
            "backgroundcolor": "#E5ECF6",
            "gridcolor": "white",
            "linecolor": "white",
            "showbackground": true,
            "ticks": "",
            "zerolinecolor": "white",
            "gridwidth": 2
           }
          },
          "shapedefaults": {
           "line": {
            "color": "#2a3f5f"
           }
          },
          "annotationdefaults": {
           "arrowcolor": "#2a3f5f",
           "arrowhead": 0,
           "arrowwidth": 1
          },
          "geo": {
           "bgcolor": "white",
           "landcolor": "#E5ECF6",
           "subunitcolor": "white",
           "showland": true,
           "showlakes": true,
           "lakecolor": "white"
          },
          "title": {
           "x": 0.05
          },
          "mapbox": {
           "style": "light"
          }
         }
        },
        "xaxis": {
         "anchor": "y",
         "domain": [
          0,
          0.1388888888888889
         ],
         "title": {
          "text": "Sous-groupe d'aliment",
          "standoff": 30
         },
         "tickangle": 90,
         "automargin": true
        },
        "yaxis": {
         "anchor": "x",
         "domain": [
          0,
          1
         ]
        },
        "xaxis2": {
         "anchor": "y2",
         "domain": [
          0.17222222222222222,
          0.3111111111111111
         ],
         "tickangle": 90,
         "automargin": true
        },
        "yaxis2": {
         "anchor": "x2",
         "domain": [
          0,
          1
         ],
         "matches": "y",
         "showticklabels": false
        },
        "xaxis3": {
         "anchor": "y3",
         "domain": [
          0.34444444444444444,
          0.48333333333333334
         ],
         "tickangle": 90,
         "automargin": true
        },
        "yaxis3": {
         "anchor": "x3",
         "domain": [
          0,
          1
         ],
         "matches": "y",
         "showticklabels": false
        },
        "xaxis4": {
         "anchor": "y4",
         "domain": [
          0.5166666666666667,
          0.6555555555555557
         ],
         "tickangle": 90,
         "automargin": true
        },
        "yaxis4": {
         "anchor": "x4",
         "domain": [
          0,
          1
         ],
         "matches": "y",
         "showticklabels": false
        },
        "xaxis5": {
         "anchor": "y5",
         "domain": [
          0.6888888888888889,
          0.8277777777777777
         ]
        },
        "yaxis5": {
         "anchor": "x5",
         "domain": [
          0,
          1
         ],
         "matches": "y",
         "showticklabels": false
        },
        "xaxis6": {
         "anchor": "y6",
         "domain": [
          0.861111111111111,
          1
         ]
        },
        "yaxis6": {
         "anchor": "x6",
         "domain": [
          0,
          1
         ],
         "matches": "y",
         "showticklabels": false
        },
        "annotations": [
         {
          "font": {
           "size": 16
          },
          "showarrow": false,
          "text": "Agriculture",
          "x": 0.06944444444444445,
          "xanchor": "center",
          "xref": "paper",
          "y": 1,
          "yanchor": "bottom",
          "yref": "paper"
         },
         {
          "font": {
           "size": 16
          },
          "showarrow": false,
          "text": "Transformation",
          "x": 0.24166666666666667,
          "xanchor": "center",
          "xref": "paper",
          "y": 1,
          "yanchor": "bottom",
          "yref": "paper"
         },
         {
          "font": {
           "size": 16
          },
          "showarrow": false,
          "text": "Emballage",
          "x": 0.41388888888888886,
          "xanchor": "center",
          "xref": "paper",
          "y": 1,
          "yanchor": "bottom",
          "yref": "paper"
         },
         {
          "font": {
           "size": 16
          },
          "showarrow": false,
          "text": "Transport",
          "x": 0.5861111111111112,
          "xanchor": "center",
          "xref": "paper",
          "y": 1,
          "yanchor": "bottom",
          "yref": "paper"
         },
         {
          "font": {
           "size": 16
          },
          "showarrow": false,
          "text": "Distri",
          "x": 0.7583333333333333,
          "xanchor": "center",
          "xref": "paper",
          "y": 1,
          "yanchor": "bottom",
          "yref": "paper"
         },
         {
          "font": {
           "size": 16
          },
          "showarrow": false,
          "text": "Consommation",
          "x": 0.9305555555555556,
          "xanchor": "center",
          "xref": "paper",
          "y": 1,
          "yanchor": "bottom",
          "yref": "paper"
         }
        ],
        "margin": {
         "l": 50,
         "r": 50,
         "t": 100,
         "b": 100,
         "pad": 4
        },
        "title": {
         "text": "Moyennes des variables par groupe d'aliment (ordre décroissant)"
        },
        "height": 600,
        "width": 800,
        "showlegend": false
       },
       "config": {
        "plotlyServerURL": "https://plot.ly"
       }
      }
     },
     "metadata": {}
    }
   ],
   "source": [
    "\n",
    "vi=df.groupby([\"Sous-groupe d'aliment\"])[[\"Agriculture\", \"Transformation\", \"Emballage\", \"Transport\",\"Supermarché et distribution\",\"Consommation\"]].mean().reset_index()\n",
    "\n",
    "vi = vi.sort_values(\"Agriculture\", ascending=False)\n",
    "agri_sorted = vi[\"Agriculture\"]\n",
    "vi = vi.sort_values(\"Transformation\", ascending=False)\n",
    "transf_sorted = vi[\"Transformation\"]\n",
    "vi = vi.sort_values(\"Emballage\", ascending=False)\n",
    "embal_sorted = vi[\"Emballage\"]\n",
    "vi = vi.sort_values(\"Transport\", ascending=False)\n",
    "transp_sorted = vi[\"Transport\"]\n",
    "vi = vi.sort_values(\"Supermarché et distribution\", ascending=False)\n",
    "sup_sorted = vi[\"Supermarché et distribution\"]\n",
    "vi = vi.sort_values(\"Consommation\", ascending=False)\n",
    "conso_sorted = vi[\"Consommation\"]\n",
    "\n",
    "fig = make_subplots(rows=1, cols=6, shared_yaxes=True,subplot_titles=(\"Agriculture\", \"Transformation\", \"Emballage\", \"Transport\",\"Distri\",\"Consommation\"))\n",
    "\n",
    "fig.add_trace(go.Bar(x=vi[\"Sous-groupe d'aliment\"], y=agri_sorted, marker=dict(color='green')), row=1, col=1)\n",
    "fig.add_trace(go.Bar(x=vi[\"Sous-groupe d'aliment\"], y=transf_sorted), row=1, col=2)\n",
    "fig.add_trace(go.Bar(x=vi[\"Sous-groupe d'aliment\"], y=embal_sorted), row=1, col=3)\n",
    "fig.add_trace(go.Bar(x=vi[\"Sous-groupe d'aliment\"], y=transp_sorted), row=1, col=4)\n",
    "fig.add_trace(go.Bar(x=vi[\"Sous-groupe d'aliment\"], y=sup_sorted), row=1, col=5)\n",
    "fig.add_trace(go.Bar(x=vi[\"Sous-groupe d'aliment\"], y=conso_sorted), row=1, col=6)\n",
    "\n",
    "fig.update_layout(\n",
    "    title=\"Moyennes des variables par groupe d'aliment (ordre décroissant)\",\n",
    "    height=600,\n",
    "    width=800,\n",
    "    showlegend=False,\n",
    "    margin=dict(l=50, r=50, t=100, b=100, pad=4),\n",
    "    xaxis=dict(\n",
    "        title=\"Sous-groupe d'aliment\",\n",
    "        title_standoff=30,\n",
    "        tickangle=90,\n",
    "        \n",
    "        automargin=True\n",
    "    ),\n",
    "    xaxis2=dict(tickangle=90, automargin=True),\n",
    "    xaxis3=dict(tickangle=90, automargin=True),\n",
    "    xaxis4=dict(tickangle=90, automargin=True),\n",
    ")\n",
    "\n",
    "fig.show()\n"
   ]
  },
  {
   "cell_type": "code",
   "execution_count": 113,
   "metadata": {},
   "outputs": [
    {
     "output_type": "stream",
     "name": "stdout",
     "text": [
      "                                                   Agriculture  \\\nSous-groupe d'aliment                                            \nautres produits à base de viande                      1.498404   \ncharcuteries                                          1.020514   \nmollusques et crustacés crus                          0.859427   \nmollusques et crustacés cuits                         1.682056   \npoissons crus                                         1.237953   \npoissons cuits                                        1.491359   \nproduits à base de poissons et produits de la mer     0.738958   \nsubstituts de charcuterie                             0.058334   \nsubstituts de viande                                  0.029981   \nviandes crues                                         1.691483   \nviandes cuites                                        2.518931   \nœufs                                                  0.522951   \n\n                                                   Transformation  Emballage  \\\nSous-groupe d'aliment                                                          \nautres produits à base de viande                         0.084695   0.027195   \ncharcuteries                                             0.132272   0.030181   \nmollusques et crustacés crus                             0.042426   0.054632   \nmollusques et crustacés cuits                            0.374154   0.027535   \npoissons crus                                            0.001764   0.018132   \npoissons cuits                                           0.002893   0.019265   \nproduits à base de poissons et produits de la mer        0.050364   0.107134   \nsubstituts de charcuterie                                0.087680   0.018662   \nsubstituts de viande                                     0.084776   0.013713   \nviandes crues                                            0.062768   0.024396   \nviandes cuites                                           0.065358   0.029521   \nœufs                                                     0.021407   0.014072   \n\n                                                   Transport  \\\nSous-groupe d'aliment                                          \nautres produits à base de viande                    0.019987   \ncharcuteries                                        0.017151   \nmollusques et crustacés crus                        0.163019   \nmollusques et crustacés cuits                       0.227531   \npoissons crus                                       0.086904   \npoissons cuits                                      0.101720   \nproduits à base de poissons et produits de la mer   0.064354   \nsubstituts de charcuterie                           0.016952   \nsubstituts de viande                                0.014448   \nviandes crues                                       0.018281   \nviandes cuites                                      0.023583   \nœufs                                                0.017158   \n\n                                                   Supermarché et distribution  \\\nSous-groupe d'aliment                                                            \nautres produits à base de viande                                      0.009805   \ncharcuteries                                                          0.008882   \nmollusques et crustacés crus                                          0.023849   \nmollusques et crustacés cuits                                         0.024407   \npoissons crus                                                         0.009304   \npoissons cuits                                                        0.010598   \nproduits à base de poissons et produits de la mer                     0.008272   \nsubstituts de charcuterie                                             0.010422   \nsubstituts de viande                                                  0.006740   \nviandes crues                                                         0.009973   \nviandes cuites                                                        0.012920   \nœufs                                                                  0.009496   \n\n                                                   Consommation  \nSous-groupe d'aliment                                            \nautres produits à base de viande                       0.028062  \ncharcuteries                                           0.014563  \nmollusques et crustacés crus                           0.031381  \nmollusques et crustacés cuits                          0.062650  \npoissons crus                                          0.003015  \npoissons cuits                                         0.025827  \nproduits à base de poissons et produits de la mer      0.009246  \nsubstituts de charcuterie                              0.008004  \nsubstituts de viande                                   0.006975  \nviandes crues                                          0.004238  \nviandes cuites                                         0.031726  \nœufs                                                   0.011670  \n"
     ]
    }
   ],
   "source": [
    "df_viande=df.groupby([\"Groupe d'aliment\",\"Sous-groupe d'aliment\"])[\"Agriculture\",\"Transformation\",\"Emballage\",\"Transport\",\"Supermarché et distribution\",\"Consommation\"].mean()\n",
    "viandes_liv=df_viande.loc[(\"viandes, œufs, poissons\")]\n",
    "print(viandes_liv)"
   ]
  },
  {
   "cell_type": "code",
   "execution_count": 114,
   "metadata": {},
   "outputs": [
    {
     "output_type": "stream",
     "name": "stdout",
     "text": [
      "Agriculture                    1.691483\nTransformation                 0.062768\nEmballage                      0.024396\nTransport                      0.018281\nSupermarché et distribution    0.009973\nConsommation                   0.004238\nName: viandes crues, dtype: float64\n"
     ]
    }
   ],
   "source": [
    "viandes_cru=viandes_liv.loc[(\"viandes crues\")]\n",
    "print(viandes_cru)"
   ]
  },
  {
   "cell_type": "code",
   "execution_count": 117,
   "metadata": {},
   "outputs": [
    {
     "output_type": "display_data",
     "data": {
      "application/vnd.plotly.v1+json": {
       "data": [
        {
         "marker": {
          "color": [
           "green",
           "red",
           "blue",
           "orange",
           "purple"
          ]
         },
         "x": [
          "Agriculture",
          "Transformation",
          "Emballage",
          "Transport",
          "Supermarché et distribution",
          "Consommation"
         ],
         "y": [
          1.6914830836029413,
          0.06276759622867646,
          0.024395957176470588,
          0.018281389367647043,
          0.009973023373529412,
          0.004237620899264706
         ],
         "type": "bar"
        }
       ],
       "layout": {
        "template": {
         "data": {
          "histogram2dcontour": [
           {
            "type": "histogram2dcontour",
            "colorbar": {
             "outlinewidth": 0,
             "ticks": ""
            },
            "colorscale": [
             [
              0,
              "#0d0887"
             ],
             [
              0.1111111111111111,
              "#46039f"
             ],
             [
              0.2222222222222222,
              "#7201a8"
             ],
             [
              0.3333333333333333,
              "#9c179e"
             ],
             [
              0.4444444444444444,
              "#bd3786"
             ],
             [
              0.5555555555555556,
              "#d8576b"
             ],
             [
              0.6666666666666666,
              "#ed7953"
             ],
             [
              0.7777777777777778,
              "#fb9f3a"
             ],
             [
              0.8888888888888888,
              "#fdca26"
             ],
             [
              1,
              "#f0f921"
             ]
            ]
           }
          ],
          "choropleth": [
           {
            "type": "choropleth",
            "colorbar": {
             "outlinewidth": 0,
             "ticks": ""
            }
           }
          ],
          "histogram2d": [
           {
            "type": "histogram2d",
            "colorbar": {
             "outlinewidth": 0,
             "ticks": ""
            },
            "colorscale": [
             [
              0,
              "#0d0887"
             ],
             [
              0.1111111111111111,
              "#46039f"
             ],
             [
              0.2222222222222222,
              "#7201a8"
             ],
             [
              0.3333333333333333,
              "#9c179e"
             ],
             [
              0.4444444444444444,
              "#bd3786"
             ],
             [
              0.5555555555555556,
              "#d8576b"
             ],
             [
              0.6666666666666666,
              "#ed7953"
             ],
             [
              0.7777777777777778,
              "#fb9f3a"
             ],
             [
              0.8888888888888888,
              "#fdca26"
             ],
             [
              1,
              "#f0f921"
             ]
            ]
           }
          ],
          "heatmap": [
           {
            "type": "heatmap",
            "colorbar": {
             "outlinewidth": 0,
             "ticks": ""
            },
            "colorscale": [
             [
              0,
              "#0d0887"
             ],
             [
              0.1111111111111111,
              "#46039f"
             ],
             [
              0.2222222222222222,
              "#7201a8"
             ],
             [
              0.3333333333333333,
              "#9c179e"
             ],
             [
              0.4444444444444444,
              "#bd3786"
             ],
             [
              0.5555555555555556,
              "#d8576b"
             ],
             [
              0.6666666666666666,
              "#ed7953"
             ],
             [
              0.7777777777777778,
              "#fb9f3a"
             ],
             [
              0.8888888888888888,
              "#fdca26"
             ],
             [
              1,
              "#f0f921"
             ]
            ]
           }
          ],
          "heatmapgl": [
           {
            "type": "heatmapgl",
            "colorbar": {
             "outlinewidth": 0,
             "ticks": ""
            },
            "colorscale": [
             [
              0,
              "#0d0887"
             ],
             [
              0.1111111111111111,
              "#46039f"
             ],
             [
              0.2222222222222222,
              "#7201a8"
             ],
             [
              0.3333333333333333,
              "#9c179e"
             ],
             [
              0.4444444444444444,
              "#bd3786"
             ],
             [
              0.5555555555555556,
              "#d8576b"
             ],
             [
              0.6666666666666666,
              "#ed7953"
             ],
             [
              0.7777777777777778,
              "#fb9f3a"
             ],
             [
              0.8888888888888888,
              "#fdca26"
             ],
             [
              1,
              "#f0f921"
             ]
            ]
           }
          ],
          "contourcarpet": [
           {
            "type": "contourcarpet",
            "colorbar": {
             "outlinewidth": 0,
             "ticks": ""
            }
           }
          ],
          "contour": [
           {
            "type": "contour",
            "colorbar": {
             "outlinewidth": 0,
             "ticks": ""
            },
            "colorscale": [
             [
              0,
              "#0d0887"
             ],
             [
              0.1111111111111111,
              "#46039f"
             ],
             [
              0.2222222222222222,
              "#7201a8"
             ],
             [
              0.3333333333333333,
              "#9c179e"
             ],
             [
              0.4444444444444444,
              "#bd3786"
             ],
             [
              0.5555555555555556,
              "#d8576b"
             ],
             [
              0.6666666666666666,
              "#ed7953"
             ],
             [
              0.7777777777777778,
              "#fb9f3a"
             ],
             [
              0.8888888888888888,
              "#fdca26"
             ],
             [
              1,
              "#f0f921"
             ]
            ]
           }
          ],
          "surface": [
           {
            "type": "surface",
            "colorbar": {
             "outlinewidth": 0,
             "ticks": ""
            },
            "colorscale": [
             [
              0,
              "#0d0887"
             ],
             [
              0.1111111111111111,
              "#46039f"
             ],
             [
              0.2222222222222222,
              "#7201a8"
             ],
             [
              0.3333333333333333,
              "#9c179e"
             ],
             [
              0.4444444444444444,
              "#bd3786"
             ],
             [
              0.5555555555555556,
              "#d8576b"
             ],
             [
              0.6666666666666666,
              "#ed7953"
             ],
             [
              0.7777777777777778,
              "#fb9f3a"
             ],
             [
              0.8888888888888888,
              "#fdca26"
             ],
             [
              1,
              "#f0f921"
             ]
            ]
           }
          ],
          "mesh3d": [
           {
            "type": "mesh3d",
            "colorbar": {
             "outlinewidth": 0,
             "ticks": ""
            }
           }
          ],
          "scatter": [
           {
            "fillpattern": {
             "fillmode": "overlay",
             "size": 10,
             "solidity": 0.2
            },
            "type": "scatter"
           }
          ],
          "parcoords": [
           {
            "type": "parcoords",
            "line": {
             "colorbar": {
              "outlinewidth": 0,
              "ticks": ""
             }
            }
           }
          ],
          "scatterpolargl": [
           {
            "type": "scatterpolargl",
            "marker": {
             "colorbar": {
              "outlinewidth": 0,
              "ticks": ""
             }
            }
           }
          ],
          "bar": [
           {
            "error_x": {
             "color": "#2a3f5f"
            },
            "error_y": {
             "color": "#2a3f5f"
            },
            "marker": {
             "line": {
              "color": "#E5ECF6",
              "width": 0.5
             },
             "pattern": {
              "fillmode": "overlay",
              "size": 10,
              "solidity": 0.2
             }
            },
            "type": "bar"
           }
          ],
          "scattergeo": [
           {
            "type": "scattergeo",
            "marker": {
             "colorbar": {
              "outlinewidth": 0,
              "ticks": ""
             }
            }
           }
          ],
          "scatterpolar": [
           {
            "type": "scatterpolar",
            "marker": {
             "colorbar": {
              "outlinewidth": 0,
              "ticks": ""
             }
            }
           }
          ],
          "histogram": [
           {
            "marker": {
             "pattern": {
              "fillmode": "overlay",
              "size": 10,
              "solidity": 0.2
             }
            },
            "type": "histogram"
           }
          ],
          "scattergl": [
           {
            "type": "scattergl",
            "marker": {
             "colorbar": {
              "outlinewidth": 0,
              "ticks": ""
             }
            }
           }
          ],
          "scatter3d": [
           {
            "type": "scatter3d",
            "line": {
             "colorbar": {
              "outlinewidth": 0,
              "ticks": ""
             }
            },
            "marker": {
             "colorbar": {
              "outlinewidth": 0,
              "ticks": ""
             }
            }
           }
          ],
          "scattermapbox": [
           {
            "type": "scattermapbox",
            "marker": {
             "colorbar": {
              "outlinewidth": 0,
              "ticks": ""
             }
            }
           }
          ],
          "scatterternary": [
           {
            "type": "scatterternary",
            "marker": {
             "colorbar": {
              "outlinewidth": 0,
              "ticks": ""
             }
            }
           }
          ],
          "scattercarpet": [
           {
            "type": "scattercarpet",
            "marker": {
             "colorbar": {
              "outlinewidth": 0,
              "ticks": ""
             }
            }
           }
          ],
          "carpet": [
           {
            "aaxis": {
             "endlinecolor": "#2a3f5f",
             "gridcolor": "white",
             "linecolor": "white",
             "minorgridcolor": "white",
             "startlinecolor": "#2a3f5f"
            },
            "baxis": {
             "endlinecolor": "#2a3f5f",
             "gridcolor": "white",
             "linecolor": "white",
             "minorgridcolor": "white",
             "startlinecolor": "#2a3f5f"
            },
            "type": "carpet"
           }
          ],
          "table": [
           {
            "cells": {
             "fill": {
              "color": "#EBF0F8"
             },
             "line": {
              "color": "white"
             }
            },
            "header": {
             "fill": {
              "color": "#C8D4E3"
             },
             "line": {
              "color": "white"
             }
            },
            "type": "table"
           }
          ],
          "barpolar": [
           {
            "marker": {
             "line": {
              "color": "#E5ECF6",
              "width": 0.5
             },
             "pattern": {
              "fillmode": "overlay",
              "size": 10,
              "solidity": 0.2
             }
            },
            "type": "barpolar"
           }
          ],
          "pie": [
           {
            "automargin": true,
            "type": "pie"
           }
          ]
         },
         "layout": {
          "autotypenumbers": "strict",
          "colorway": [
           "#636efa",
           "#EF553B",
           "#00cc96",
           "#ab63fa",
           "#FFA15A",
           "#19d3f3",
           "#FF6692",
           "#B6E880",
           "#FF97FF",
           "#FECB52"
          ],
          "font": {
           "color": "#2a3f5f"
          },
          "hovermode": "closest",
          "hoverlabel": {
           "align": "left"
          },
          "paper_bgcolor": "white",
          "plot_bgcolor": "#E5ECF6",
          "polar": {
           "bgcolor": "#E5ECF6",
           "angularaxis": {
            "gridcolor": "white",
            "linecolor": "white",
            "ticks": ""
           },
           "radialaxis": {
            "gridcolor": "white",
            "linecolor": "white",
            "ticks": ""
           }
          },
          "ternary": {
           "bgcolor": "#E5ECF6",
           "aaxis": {
            "gridcolor": "white",
            "linecolor": "white",
            "ticks": ""
           },
           "baxis": {
            "gridcolor": "white",
            "linecolor": "white",
            "ticks": ""
           },
           "caxis": {
            "gridcolor": "white",
            "linecolor": "white",
            "ticks": ""
           }
          },
          "coloraxis": {
           "colorbar": {
            "outlinewidth": 0,
            "ticks": ""
           }
          },
          "colorscale": {
           "sequential": [
            [
             0,
             "#0d0887"
            ],
            [
             0.1111111111111111,
             "#46039f"
            ],
            [
             0.2222222222222222,
             "#7201a8"
            ],
            [
             0.3333333333333333,
             "#9c179e"
            ],
            [
             0.4444444444444444,
             "#bd3786"
            ],
            [
             0.5555555555555556,
             "#d8576b"
            ],
            [
             0.6666666666666666,
             "#ed7953"
            ],
            [
             0.7777777777777778,
             "#fb9f3a"
            ],
            [
             0.8888888888888888,
             "#fdca26"
            ],
            [
             1,
             "#f0f921"
            ]
           ],
           "sequentialminus": [
            [
             0,
             "#0d0887"
            ],
            [
             0.1111111111111111,
             "#46039f"
            ],
            [
             0.2222222222222222,
             "#7201a8"
            ],
            [
             0.3333333333333333,
             "#9c179e"
            ],
            [
             0.4444444444444444,
             "#bd3786"
            ],
            [
             0.5555555555555556,
             "#d8576b"
            ],
            [
             0.6666666666666666,
             "#ed7953"
            ],
            [
             0.7777777777777778,
             "#fb9f3a"
            ],
            [
             0.8888888888888888,
             "#fdca26"
            ],
            [
             1,
             "#f0f921"
            ]
           ],
           "diverging": [
            [
             0,
             "#8e0152"
            ],
            [
             0.1,
             "#c51b7d"
            ],
            [
             0.2,
             "#de77ae"
            ],
            [
             0.3,
             "#f1b6da"
            ],
            [
             0.4,
             "#fde0ef"
            ],
            [
             0.5,
             "#f7f7f7"
            ],
            [
             0.6,
             "#e6f5d0"
            ],
            [
             0.7,
             "#b8e186"
            ],
            [
             0.8,
             "#7fbc41"
            ],
            [
             0.9,
             "#4d9221"
            ],
            [
             1,
             "#276419"
            ]
           ]
          },
          "xaxis": {
           "gridcolor": "white",
           "linecolor": "white",
           "ticks": "",
           "title": {
            "standoff": 15
           },
           "zerolinecolor": "white",
           "automargin": true,
           "zerolinewidth": 2
          },
          "yaxis": {
           "gridcolor": "white",
           "linecolor": "white",
           "ticks": "",
           "title": {
            "standoff": 15
           },
           "zerolinecolor": "white",
           "automargin": true,
           "zerolinewidth": 2
          },
          "scene": {
           "xaxis": {
            "backgroundcolor": "#E5ECF6",
            "gridcolor": "white",
            "linecolor": "white",
            "showbackground": true,
            "ticks": "",
            "zerolinecolor": "white",
            "gridwidth": 2
           },
           "yaxis": {
            "backgroundcolor": "#E5ECF6",
            "gridcolor": "white",
            "linecolor": "white",
            "showbackground": true,
            "ticks": "",
            "zerolinecolor": "white",
            "gridwidth": 2
           },
           "zaxis": {
            "backgroundcolor": "#E5ECF6",
            "gridcolor": "white",
            "linecolor": "white",
            "showbackground": true,
            "ticks": "",
            "zerolinecolor": "white",
            "gridwidth": 2
           }
          },
          "shapedefaults": {
           "line": {
            "color": "#2a3f5f"
           }
          },
          "annotationdefaults": {
           "arrowcolor": "#2a3f5f",
           "arrowhead": 0,
           "arrowwidth": 1
          },
          "geo": {
           "bgcolor": "white",
           "landcolor": "#E5ECF6",
           "subunitcolor": "white",
           "showland": true,
           "showlakes": true,
           "lakecolor": "white"
          },
          "title": {
           "x": 0.05
          },
          "mapbox": {
           "style": "light"
          }
         }
        },
        "title": {
         "text": "Emissions de carbone d'une viande crue par étape de production"
        },
        "xaxis": {
         "title": {
          "text": "Etape de production"
         }
        },
        "yaxis": {
         "title": {
          "text": "Quantité"
         }
        }
       },
       "config": {
        "plotlyServerURL": "https://plot.ly"
       }
      }
     },
     "metadata": {}
    }
   ],
   "source": [
    "couleurs = ['green', 'red', 'blue', 'orange', 'purple','pink']\n",
    "\n",
    "fig = go.Figure(data=[go.Bar(x=viandes_cru.index, y=viandes_cru, marker=dict(color=couleurs))])\n",
    "\n",
    "fig.update_layout(\n",
    "    title=\"Emissions de carbone d'une viande crue par étape de production\",\n",
    "    xaxis_title=\"Etape de production\",\n",
    "    yaxis_title=\"Quantité\"\n",
    ")\n",
    "\n",
    "fig.show()"
   ]
  },
  {
   "cell_type": "code",
   "execution_count": 62,
   "metadata": {},
   "outputs": [
    {
     "output_type": "display_data",
     "data": {
      "application/vnd.plotly.v1+json": {
       "data": [
        {
         "x": [
          "viandes cuites",
          "viandes crues",
          "mollusques et crustacés cuits",
          "autres produits à base de viande",
          "poissons cuits",
          "poissons crus",
          "charcuteries",
          "mollusques et crustacés crus",
          "épices",
          "produits à base de poissons et produits de la mer",
          "algues",
          "plats composés",
          "beurres",
          "feuilletées et autres entrées",
          "fruits à coque et graines oléagineuses",
          "fromages",
          "œufs",
          "huiles et graisses végétales",
          "sandwichs",
          "salades composées et crudités",
          "laits",
          "laits et boissons infantiles",
          "pizzas, tartes et crêpes salées",
          "céréales de petit-déjeuner et biscuits",
          "pâtes, riz et céréales",
          "chocolats et produits à base de chocolat",
          "gâteaux et pâtisseries",
          "margarines",
          "sauces",
          "fruits",
          "céréales et biscuits infantiles",
          "boissons sans alcool",
          "confiseries non chocolatées",
          "crèmes et spécialités à base de crème",
          "herbes",
          "farines et pâtes à tarte",
          "confitures et assimilés",
          "produits laitiers frais et assimilés",
          "sucres, miels et assimilés",
          "autres matières grasses",
          "denrées destinées à une alimentation particulière",
          "pains et viennoiseries",
          "soupes",
          "desserts glacés",
          "glaces",
          "ingrédients divers",
          "petits pots salés et plats infantiles",
          "condiments",
          "aides culinaires",
          "sorbets",
          "desserts infantiles",
          "légumes",
          "pommes de terre et autres tubercules",
          "plats végétariens",
          "substituts de charcuterie",
          "légumineuses",
          "sels",
          "boisson alcoolisées",
          "substituts de viande",
          "eaux",
          "huiles de poissons"
         ],
         "y": [
          2.5189310055238097,
          1.6914830836029413,
          1.682055577142857,
          1.4984040360000002,
          1.4913588629090908,
          1.2379534295531915,
          1.0205142945833332,
          0.8594266307142856,
          0.81804387,
          0.7389575715217391,
          0.65481156,
          0.6402971447459016,
          0.6023410659999999,
          0.5645551981818181,
          0.5611763812244898,
          0.5352491977851239,
          0.5229506766666666,
          0.47253476378947373,
          0.4617789133,
          0.43416230138461537,
          0.3754505144705882,
          0.3628120633333333,
          0.3569572937777778,
          0.300945555072,
          0.2742508003548387,
          0.24422395313333334,
          0.23806090790789472,
          0.22840764411764705,
          0.2273401797457627,
          0.2239063526122449,
          0.2087565,
          0.20624694490235293,
          0.20620777899999998,
          0.20491498833333333,
          0.18625587829166665,
          0.181885335375,
          0.17958770171428573,
          0.16879197270886073,
          0.1678180922857143,
          0.15248362666666668,
          0.15194142,
          0.14708751549315066,
          0.13301425092093022,
          0.129503495,
          0.12714497,
          0.1151399910105263,
          0.11197730469230767,
          0.10856757471428571,
          0.10343527533333334,
          0.10100195899999996,
          0.080199138,
          0.07935775315736039,
          0.07659603182608694,
          0.0601972607142857,
          0.0583343223333333,
          0.05602423116666663,
          0.046244631,
          0.042389386237619044,
          0.02998084119999998,
          0.00084698284,
          0
         ],
         "type": "bar"
        }
       ],
       "layout": {
        "template": {
         "data": {
          "histogram2dcontour": [
           {
            "type": "histogram2dcontour",
            "colorbar": {
             "outlinewidth": 0,
             "ticks": ""
            },
            "colorscale": [
             [
              0,
              "#0d0887"
             ],
             [
              0.1111111111111111,
              "#46039f"
             ],
             [
              0.2222222222222222,
              "#7201a8"
             ],
             [
              0.3333333333333333,
              "#9c179e"
             ],
             [
              0.4444444444444444,
              "#bd3786"
             ],
             [
              0.5555555555555556,
              "#d8576b"
             ],
             [
              0.6666666666666666,
              "#ed7953"
             ],
             [
              0.7777777777777778,
              "#fb9f3a"
             ],
             [
              0.8888888888888888,
              "#fdca26"
             ],
             [
              1,
              "#f0f921"
             ]
            ]
           }
          ],
          "choropleth": [
           {
            "type": "choropleth",
            "colorbar": {
             "outlinewidth": 0,
             "ticks": ""
            }
           }
          ],
          "histogram2d": [
           {
            "type": "histogram2d",
            "colorbar": {
             "outlinewidth": 0,
             "ticks": ""
            },
            "colorscale": [
             [
              0,
              "#0d0887"
             ],
             [
              0.1111111111111111,
              "#46039f"
             ],
             [
              0.2222222222222222,
              "#7201a8"
             ],
             [
              0.3333333333333333,
              "#9c179e"
             ],
             [
              0.4444444444444444,
              "#bd3786"
             ],
             [
              0.5555555555555556,
              "#d8576b"
             ],
             [
              0.6666666666666666,
              "#ed7953"
             ],
             [
              0.7777777777777778,
              "#fb9f3a"
             ],
             [
              0.8888888888888888,
              "#fdca26"
             ],
             [
              1,
              "#f0f921"
             ]
            ]
           }
          ],
          "heatmap": [
           {
            "type": "heatmap",
            "colorbar": {
             "outlinewidth": 0,
             "ticks": ""
            },
            "colorscale": [
             [
              0,
              "#0d0887"
             ],
             [
              0.1111111111111111,
              "#46039f"
             ],
             [
              0.2222222222222222,
              "#7201a8"
             ],
             [
              0.3333333333333333,
              "#9c179e"
             ],
             [
              0.4444444444444444,
              "#bd3786"
             ],
             [
              0.5555555555555556,
              "#d8576b"
             ],
             [
              0.6666666666666666,
              "#ed7953"
             ],
             [
              0.7777777777777778,
              "#fb9f3a"
             ],
             [
              0.8888888888888888,
              "#fdca26"
             ],
             [
              1,
              "#f0f921"
             ]
            ]
           }
          ],
          "heatmapgl": [
           {
            "type": "heatmapgl",
            "colorbar": {
             "outlinewidth": 0,
             "ticks": ""
            },
            "colorscale": [
             [
              0,
              "#0d0887"
             ],
             [
              0.1111111111111111,
              "#46039f"
             ],
             [
              0.2222222222222222,
              "#7201a8"
             ],
             [
              0.3333333333333333,
              "#9c179e"
             ],
             [
              0.4444444444444444,
              "#bd3786"
             ],
             [
              0.5555555555555556,
              "#d8576b"
             ],
             [
              0.6666666666666666,
              "#ed7953"
             ],
             [
              0.7777777777777778,
              "#fb9f3a"
             ],
             [
              0.8888888888888888,
              "#fdca26"
             ],
             [
              1,
              "#f0f921"
             ]
            ]
           }
          ],
          "contourcarpet": [
           {
            "type": "contourcarpet",
            "colorbar": {
             "outlinewidth": 0,
             "ticks": ""
            }
           }
          ],
          "contour": [
           {
            "type": "contour",
            "colorbar": {
             "outlinewidth": 0,
             "ticks": ""
            },
            "colorscale": [
             [
              0,
              "#0d0887"
             ],
             [
              0.1111111111111111,
              "#46039f"
             ],
             [
              0.2222222222222222,
              "#7201a8"
             ],
             [
              0.3333333333333333,
              "#9c179e"
             ],
             [
              0.4444444444444444,
              "#bd3786"
             ],
             [
              0.5555555555555556,
              "#d8576b"
             ],
             [
              0.6666666666666666,
              "#ed7953"
             ],
             [
              0.7777777777777778,
              "#fb9f3a"
             ],
             [
              0.8888888888888888,
              "#fdca26"
             ],
             [
              1,
              "#f0f921"
             ]
            ]
           }
          ],
          "surface": [
           {
            "type": "surface",
            "colorbar": {
             "outlinewidth": 0,
             "ticks": ""
            },
            "colorscale": [
             [
              0,
              "#0d0887"
             ],
             [
              0.1111111111111111,
              "#46039f"
             ],
             [
              0.2222222222222222,
              "#7201a8"
             ],
             [
              0.3333333333333333,
              "#9c179e"
             ],
             [
              0.4444444444444444,
              "#bd3786"
             ],
             [
              0.5555555555555556,
              "#d8576b"
             ],
             [
              0.6666666666666666,
              "#ed7953"
             ],
             [
              0.7777777777777778,
              "#fb9f3a"
             ],
             [
              0.8888888888888888,
              "#fdca26"
             ],
             [
              1,
              "#f0f921"
             ]
            ]
           }
          ],
          "mesh3d": [
           {
            "type": "mesh3d",
            "colorbar": {
             "outlinewidth": 0,
             "ticks": ""
            }
           }
          ],
          "scatter": [
           {
            "fillpattern": {
             "fillmode": "overlay",
             "size": 10,
             "solidity": 0.2
            },
            "type": "scatter"
           }
          ],
          "parcoords": [
           {
            "type": "parcoords",
            "line": {
             "colorbar": {
              "outlinewidth": 0,
              "ticks": ""
             }
            }
           }
          ],
          "scatterpolargl": [
           {
            "type": "scatterpolargl",
            "marker": {
             "colorbar": {
              "outlinewidth": 0,
              "ticks": ""
             }
            }
           }
          ],
          "bar": [
           {
            "error_x": {
             "color": "#2a3f5f"
            },
            "error_y": {
             "color": "#2a3f5f"
            },
            "marker": {
             "line": {
              "color": "#E5ECF6",
              "width": 0.5
             },
             "pattern": {
              "fillmode": "overlay",
              "size": 10,
              "solidity": 0.2
             }
            },
            "type": "bar"
           }
          ],
          "scattergeo": [
           {
            "type": "scattergeo",
            "marker": {
             "colorbar": {
              "outlinewidth": 0,
              "ticks": ""
             }
            }
           }
          ],
          "scatterpolar": [
           {
            "type": "scatterpolar",
            "marker": {
             "colorbar": {
              "outlinewidth": 0,
              "ticks": ""
             }
            }
           }
          ],
          "histogram": [
           {
            "marker": {
             "pattern": {
              "fillmode": "overlay",
              "size": 10,
              "solidity": 0.2
             }
            },
            "type": "histogram"
           }
          ],
          "scattergl": [
           {
            "type": "scattergl",
            "marker": {
             "colorbar": {
              "outlinewidth": 0,
              "ticks": ""
             }
            }
           }
          ],
          "scatter3d": [
           {
            "type": "scatter3d",
            "line": {
             "colorbar": {
              "outlinewidth": 0,
              "ticks": ""
             }
            },
            "marker": {
             "colorbar": {
              "outlinewidth": 0,
              "ticks": ""
             }
            }
           }
          ],
          "scattermapbox": [
           {
            "type": "scattermapbox",
            "marker": {
             "colorbar": {
              "outlinewidth": 0,
              "ticks": ""
             }
            }
           }
          ],
          "scatterternary": [
           {
            "type": "scatterternary",
            "marker": {
             "colorbar": {
              "outlinewidth": 0,
              "ticks": ""
             }
            }
           }
          ],
          "scattercarpet": [
           {
            "type": "scattercarpet",
            "marker": {
             "colorbar": {
              "outlinewidth": 0,
              "ticks": ""
             }
            }
           }
          ],
          "carpet": [
           {
            "aaxis": {
             "endlinecolor": "#2a3f5f",
             "gridcolor": "white",
             "linecolor": "white",
             "minorgridcolor": "white",
             "startlinecolor": "#2a3f5f"
            },
            "baxis": {
             "endlinecolor": "#2a3f5f",
             "gridcolor": "white",
             "linecolor": "white",
             "minorgridcolor": "white",
             "startlinecolor": "#2a3f5f"
            },
            "type": "carpet"
           }
          ],
          "table": [
           {
            "cells": {
             "fill": {
              "color": "#EBF0F8"
             },
             "line": {
              "color": "white"
             }
            },
            "header": {
             "fill": {
              "color": "#C8D4E3"
             },
             "line": {
              "color": "white"
             }
            },
            "type": "table"
           }
          ],
          "barpolar": [
           {
            "marker": {
             "line": {
              "color": "#E5ECF6",
              "width": 0.5
             },
             "pattern": {
              "fillmode": "overlay",
              "size": 10,
              "solidity": 0.2
             }
            },
            "type": "barpolar"
           }
          ],
          "pie": [
           {
            "automargin": true,
            "type": "pie"
           }
          ]
         },
         "layout": {
          "autotypenumbers": "strict",
          "colorway": [
           "#636efa",
           "#EF553B",
           "#00cc96",
           "#ab63fa",
           "#FFA15A",
           "#19d3f3",
           "#FF6692",
           "#B6E880",
           "#FF97FF",
           "#FECB52"
          ],
          "font": {
           "color": "#2a3f5f"
          },
          "hovermode": "closest",
          "hoverlabel": {
           "align": "left"
          },
          "paper_bgcolor": "white",
          "plot_bgcolor": "#E5ECF6",
          "polar": {
           "bgcolor": "#E5ECF6",
           "angularaxis": {
            "gridcolor": "white",
            "linecolor": "white",
            "ticks": ""
           },
           "radialaxis": {
            "gridcolor": "white",
            "linecolor": "white",
            "ticks": ""
           }
          },
          "ternary": {
           "bgcolor": "#E5ECF6",
           "aaxis": {
            "gridcolor": "white",
            "linecolor": "white",
            "ticks": ""
           },
           "baxis": {
            "gridcolor": "white",
            "linecolor": "white",
            "ticks": ""
           },
           "caxis": {
            "gridcolor": "white",
            "linecolor": "white",
            "ticks": ""
           }
          },
          "coloraxis": {
           "colorbar": {
            "outlinewidth": 0,
            "ticks": ""
           }
          },
          "colorscale": {
           "sequential": [
            [
             0,
             "#0d0887"
            ],
            [
             0.1111111111111111,
             "#46039f"
            ],
            [
             0.2222222222222222,
             "#7201a8"
            ],
            [
             0.3333333333333333,
             "#9c179e"
            ],
            [
             0.4444444444444444,
             "#bd3786"
            ],
            [
             0.5555555555555556,
             "#d8576b"
            ],
            [
             0.6666666666666666,
             "#ed7953"
            ],
            [
             0.7777777777777778,
             "#fb9f3a"
            ],
            [
             0.8888888888888888,
             "#fdca26"
            ],
            [
             1,
             "#f0f921"
            ]
           ],
           "sequentialminus": [
            [
             0,
             "#0d0887"
            ],
            [
             0.1111111111111111,
             "#46039f"
            ],
            [
             0.2222222222222222,
             "#7201a8"
            ],
            [
             0.3333333333333333,
             "#9c179e"
            ],
            [
             0.4444444444444444,
             "#bd3786"
            ],
            [
             0.5555555555555556,
             "#d8576b"
            ],
            [
             0.6666666666666666,
             "#ed7953"
            ],
            [
             0.7777777777777778,
             "#fb9f3a"
            ],
            [
             0.8888888888888888,
             "#fdca26"
            ],
            [
             1,
             "#f0f921"
            ]
           ],
           "diverging": [
            [
             0,
             "#8e0152"
            ],
            [
             0.1,
             "#c51b7d"
            ],
            [
             0.2,
             "#de77ae"
            ],
            [
             0.3,
             "#f1b6da"
            ],
            [
             0.4,
             "#fde0ef"
            ],
            [
             0.5,
             "#f7f7f7"
            ],
            [
             0.6,
             "#e6f5d0"
            ],
            [
             0.7,
             "#b8e186"
            ],
            [
             0.8,
             "#7fbc41"
            ],
            [
             0.9,
             "#4d9221"
            ],
            [
             1,
             "#276419"
            ]
           ]
          },
          "xaxis": {
           "gridcolor": "white",
           "linecolor": "white",
           "ticks": "",
           "title": {
            "standoff": 15
           },
           "zerolinecolor": "white",
           "automargin": true,
           "zerolinewidth": 2
          },
          "yaxis": {
           "gridcolor": "white",
           "linecolor": "white",
           "ticks": "",
           "title": {
            "standoff": 15
           },
           "zerolinecolor": "white",
           "automargin": true,
           "zerolinewidth": 2
          },
          "scene": {
           "xaxis": {
            "backgroundcolor": "#E5ECF6",
            "gridcolor": "white",
            "linecolor": "white",
            "showbackground": true,
            "ticks": "",
            "zerolinecolor": "white",
            "gridwidth": 2
           },
           "yaxis": {
            "backgroundcolor": "#E5ECF6",
            "gridcolor": "white",
            "linecolor": "white",
            "showbackground": true,
            "ticks": "",
            "zerolinecolor": "white",
            "gridwidth": 2
           },
           "zaxis": {
            "backgroundcolor": "#E5ECF6",
            "gridcolor": "white",
            "linecolor": "white",
            "showbackground": true,
            "ticks": "",
            "zerolinecolor": "white",
            "gridwidth": 2
           }
          },
          "shapedefaults": {
           "line": {
            "color": "#2a3f5f"
           }
          },
          "annotationdefaults": {
           "arrowcolor": "#2a3f5f",
           "arrowhead": 0,
           "arrowwidth": 1
          },
          "geo": {
           "bgcolor": "white",
           "landcolor": "#E5ECF6",
           "subunitcolor": "white",
           "showland": true,
           "showlakes": true,
           "lakecolor": "white"
          },
          "title": {
           "x": 0.05
          },
          "mapbox": {
           "style": "light"
          }
         }
        },
        "title": {
         "text": "Emissions de carbone en agriculture pour chaque sous groupe d'ingrédient"
        },
        "xaxis": {
         "title": {
          "text": "Sous groupe d'aliment"
         }
        },
        "yaxis": {
         "title": {
          "text": "Emission de carbone"
         }
        }
       },
       "config": {
        "plotlyServerURL": "https://plot.ly"
       }
      }
     },
     "metadata": {}
    }
   ],
   "source": [
    "couleurs = ['green', 'red', 'blue', 'orange', 'purple']\n",
    "vi_agri=df.groupby([\"Sous-groupe d'aliment\"])[\"Agriculture\"].mean()\n",
    "vi_agri_tri = vi_agri.sort_values(ascending=False)\n",
    "\n",
    "\n",
    "fig = go.Figure(data=[go.Bar(x=vi_agri_tri.index, y=vi_agri_tri)])\n",
    "\n",
    "\n",
    "fig.update_layout(\n",
    "    title=\"Emissions de carbone en agriculture pour chaque sous groupe d'ingrédient\",\n",
    "    xaxis_title=\"Sous groupe d'aliment\",\n",
    "    yaxis_title=\"Emission de carbone\"\n",
    ")\n",
    "\n",
    "fig.show()"
   ]
  },
  {
   "cell_type": "code",
   "execution_count": 137,
   "metadata": {},
   "outputs": [
    {
     "output_type": "execute_result",
     "data": {
      "text/plain": [
       "     Code AGB  Code CIQUAL           Groupe d'aliment  \\\n",
       "423     25551        25551  entrées et plats composés   \n",
       "429     25412        25412  entrées et plats composés   \n",
       "433     25947        25947  entrées et plats composés   \n",
       "439     25438        25438  entrées et plats composés   \n",
       "445      7814         7814  entrées et plats composés   \n",
       "554     25126        25126  entrées et plats composés   \n",
       "649     25928        25928  entrées et plats composés   \n",
       "650     25901        25901  entrées et plats composés   \n",
       "651     25950        25950  entrées et plats composés   \n",
       "652     25908        25908  entrées et plats composés   \n",
       "1971    25504        25504    viandes, œufs, poissons   \n",
       "2034     8125         8125    viandes, œufs, poissons   \n",
       "2041    25089        25089    viandes, œufs, poissons   \n",
       "2050    28929        28929    viandes, œufs, poissons   \n",
       "2097    40108        40108    viandes, œufs, poissons   \n",
       "2105    28927        28927    viandes, œufs, poissons   \n",
       "2262     8316         8316    viandes, œufs, poissons   \n",
       "2351     8910         8910    viandes, œufs, poissons   \n",
       "2352     8912         8912    viandes, œufs, poissons   \n",
       "2386    28976        28976    viandes, œufs, poissons   \n",
       "2418    30130        30130    viandes, œufs, poissons   \n",
       "2419    30131        30131    viandes, œufs, poissons   \n",
       "2516    25512        25512    viandes, œufs, poissons   \n",
       "\n",
       "                 Sous-groupe d'aliment  \\\n",
       "423      feuilletées et autres entrées   \n",
       "429      feuilletées et autres entrées   \n",
       "433                             soupes   \n",
       "439      feuilletées et autres entrées   \n",
       "445      feuilletées et autres entrées   \n",
       "554                     plats composés   \n",
       "649                             soupes   \n",
       "650                             soupes   \n",
       "651                             soupes   \n",
       "652                             soupes   \n",
       "1971  autres produits à base de viande   \n",
       "2034                      charcuteries   \n",
       "2041  autres produits à base de viande   \n",
       "2050                      charcuteries   \n",
       "2097                     viandes crues   \n",
       "2105                      charcuteries   \n",
       "2262                      charcuteries   \n",
       "2351                      charcuteries   \n",
       "2352                      charcuteries   \n",
       "2386                      charcuteries   \n",
       "2418                      charcuteries   \n",
       "2419                      charcuteries   \n",
       "2516  autres produits à base de viande   \n",
       "\n",
       "                             Nom du Produit en Français  \\\n",
       "423   Beignet de viande, volaille ou poisson, fait m...   \n",
       "429   Bouchée à la reine, à la viande/volaille/quenelle   \n",
       "433                                Bouillon de volaille   \n",
       "439   Brick garni (garniture : crevettes, légumes, v...   \n",
       "445   Cake salé (garniture : fromage, légumes, viand...   \n",
       "554                               Paupiette de volaille   \n",
       "649   Soupe à la volaille et aux légumes, déshydraté...   \n",
       "650   Soupe à la volaille et aux légumes, préemballé...   \n",
       "651   Soupe à la volaille et aux vermicelles, déshyd...   \n",
       "652   Soupe à la volaille et aux vermicelles, préemb...   \n",
       "1971                              Brochette de volaille   \n",
       "2034                         Confit de foie de volaille   \n",
       "2041                            Cordon bleu de volaille   \n",
       "2050  Dés, allumettes, râpé ou haché de jambon de vo...   \n",
       "2097                                Foie, volaille, cru   \n",
       "2105                                  Haché de volaille   \n",
       "2262                           Pâté de foie de volaille   \n",
       "2351                         Quenelle de volaille, crue   \n",
       "2352                     Quenelle de volaille, en sauce   \n",
       "2386                 Rôti de volaille en salaison, cuit   \n",
       "2418            Saucisse de volaille, façon charcutière   \n",
       "2419                   Saucisse de volaille, type Knack   \n",
       "2516               Volaille, croquette panée ou nuggets   \n",
       "\n",
       "                                               LCI Name       DQR  \\\n",
       "423           Meat, poultry or fish fritters, home-made  1.920000   \n",
       "429             Vol-au-vent, with meat/poultry/quenelle  2.070000   \n",
       "433                   Broth, stock or bouillon, poultry  2.111055   \n",
       "439   Fritter, filled (filo pastry) (garnish : shrim...  2.320000   \n",
       "445   Savoury cake (with cheese, vegetables, meat, f...  1.910000   \n",
       "554                                   Poultry paupiette  3.420000   \n",
       "649   Soup, chicken and vegetables, dehydrated and r...  2.890000   \n",
       "650   Soup, chicken and vegetables, prepacked, to be...  3.310000   \n",
       "651   Soup, chicken and vermicelli, dehydrated and r...  2.940000   \n",
       "652   Soup, chicken and vermicelli, prepacked, to be...  2.450000   \n",
       "1971                                  Poultry on skewer  2.670000   \n",
       "2034                            Preserved poultry liver  3.050000   \n",
       "2041  Escalope cordon bleu (topped with a ham slice ...  2.520000   \n",
       "2050              Poultry ham in cube, grated or minced  3.110000   \n",
       "2097                                Liver, poultry, raw  3.050000   \n",
       "2105                               Poultry, minced meat  2.670000   \n",
       "2262                                 Poultry liver pâté  2.780000   \n",
       "2351                              Poultry quenelle, raw  2.650000   \n",
       "2352                         Poultry quenelle, in sauce  2.660000   \n",
       "2386                  Salt curing roast poultry, cooked  3.110000   \n",
       "2418                Poultry sausage, delicatessen style  2.550000   \n",
       "2419                                    Poultry sausage  2.250000   \n",
       "2516                                    Poultry nuggets  2.790000   \n",
       "\n",
       "                                            Nom et code  Agriculture  \\\n",
       "423   Beignet de viande, volaille ou poisson, fait m...     0.633044   \n",
       "429   Bouchée à la reine, à la viande/volaille/quene...     0.389009   \n",
       "433                        Bouillon de volaille (25947)     0.001608   \n",
       "439   Brick garni (garniture : crevettes, légumes, v...     0.446526   \n",
       "445   Cake salé (garniture : fromage, légumes, viand...     0.435597   \n",
       "554                       Paupiette de volaille (25126)     0.810210   \n",
       "649   Soupe à la volaille et aux légumes, déshydraté...     0.004120   \n",
       "650   Soupe à la volaille et aux légumes, préemballé...     0.004120   \n",
       "651   Soupe à la volaille et aux vermicelles, déshyd...     0.081434   \n",
       "652   Soupe à la volaille et aux vermicelles, préemb...     0.081452   \n",
       "1971                      Brochette de volaille (25504)     0.971727   \n",
       "2034                  Confit de foie de volaille (8125)     0.158213   \n",
       "2041                    Cordon bleu de volaille (25089)     0.618750   \n",
       "2050  Dés, allumettes, râpé ou haché de jambon de vo...     0.734005   \n",
       "2097                        Foie, volaille, cru (40108)     0.156565   \n",
       "2105                          Haché de volaille (28927)     0.971727   \n",
       "2262                    Pâté de foie de volaille (8316)     0.606918   \n",
       "2351                  Quenelle de volaille, crue (8910)     0.628792   \n",
       "2352              Quenelle de volaille, en sauce (8912)     0.628792   \n",
       "2386         Rôti de volaille en salaison, cuit (28976)     0.971727   \n",
       "2418    Saucisse de volaille, façon charcutière (30130)     1.359110   \n",
       "2419           Saucisse de volaille, type Knack (30131)     1.461366   \n",
       "2516       Volaille, croquette panée ou nuggets (25512)     0.633044   \n",
       "\n",
       "      Transformation  Emballage  Transport  Supermarché et distribution  \\\n",
       "423         0.129015   0.039739   0.016279                     0.009087   \n",
       "429         0.102544   0.010388   0.037686                     0.009087   \n",
       "433         0.002340   0.004168   0.001158                     0.000095   \n",
       "439         0.077111   0.024654   0.022642                     0.009087   \n",
       "445         0.064980   0.022333   0.017949                     0.009087   \n",
       "554         0.140418   0.027647   0.021235                     0.009087   \n",
       "649         0.005996   0.000551   0.002859                     0.000249   \n",
       "650         0.005996   0.000551   0.002859                     0.000249   \n",
       "651         0.094130   0.000551   0.004364                     0.000249   \n",
       "652         0.037819   0.009970   0.012478                     0.004503   \n",
       "1971        0.127480   0.023696   0.025379                     0.011985   \n",
       "2034        0.020076   0.018058   0.015810                     0.009087   \n",
       "2041        0.107362   0.018062   0.022172                     0.009087   \n",
       "2050        0.096294   0.017899   0.019170                     0.009053   \n",
       "2097        0.019867   0.017899   0.015683                     0.009053   \n",
       "2105        0.127480   0.023696   0.025379                     0.011985   \n",
       "2262        0.120362   0.032366   0.010353                     0.004642   \n",
       "2351        0.074702   0.022595   0.020587                     0.009087   \n",
       "2352        0.074702   0.022595   0.020587                     0.009087   \n",
       "2386        0.127480   0.023696   0.025379                     0.011985   \n",
       "2418        0.129461   0.018058   0.024507                     0.009087   \n",
       "2419        0.098546   0.027576   0.015934                     0.009087   \n",
       "2516        0.129015   0.039739   0.016279                     0.009087   \n",
       "\n",
       "      Consommation  \n",
       "423       0.034049  \n",
       "429       0.034049  \n",
       "433       0.005307  \n",
       "439       0.034049  \n",
       "445       0.034049  \n",
       "554       0.006509  \n",
       "649       0.004349  \n",
       "650       0.004349  \n",
       "651       0.004349  \n",
       "652       0.004055  \n",
       "1971      0.034844  \n",
       "2034      0.002455  \n",
       "2041      0.034049  \n",
       "2050      0.002455  \n",
       "2097      0.002455  \n",
       "2105      0.034844  \n",
       "2262      0.002455  \n",
       "2351      0.002455  \n",
       "2352      0.034049  \n",
       "2386      0.034844  \n",
       "2418      0.034049  \n",
       "2419      0.034049  \n",
       "2516      0.034049  "
      ],
      "text/html": "<div>\n<style scoped>\n    .dataframe tbody tr th:only-of-type {\n        vertical-align: middle;\n    }\n\n    .dataframe tbody tr th {\n        vertical-align: top;\n    }\n\n    .dataframe thead th {\n        text-align: right;\n    }\n</style>\n<table border=\"1\" class=\"dataframe\">\n  <thead>\n    <tr style=\"text-align: right;\">\n      <th></th>\n      <th>Code AGB</th>\n      <th>Code CIQUAL</th>\n      <th>Groupe d'aliment</th>\n      <th>Sous-groupe d'aliment</th>\n      <th>Nom du Produit en Français</th>\n      <th>LCI Name</th>\n      <th>DQR</th>\n      <th>Nom et code</th>\n      <th>Agriculture</th>\n      <th>Transformation</th>\n      <th>Emballage</th>\n      <th>Transport</th>\n      <th>Supermarché et distribution</th>\n      <th>Consommation</th>\n    </tr>\n  </thead>\n  <tbody>\n    <tr>\n      <th>423</th>\n      <td>25551</td>\n      <td>25551</td>\n      <td>entrées et plats composés</td>\n      <td>feuilletées et autres entrées</td>\n      <td>Beignet de viande, volaille ou poisson, fait m...</td>\n      <td>Meat, poultry or fish fritters, home-made</td>\n      <td>1.920000</td>\n      <td>Beignet de viande, volaille ou poisson, fait m...</td>\n      <td>0.633044</td>\n      <td>0.129015</td>\n      <td>0.039739</td>\n      <td>0.016279</td>\n      <td>0.009087</td>\n      <td>0.034049</td>\n    </tr>\n    <tr>\n      <th>429</th>\n      <td>25412</td>\n      <td>25412</td>\n      <td>entrées et plats composés</td>\n      <td>feuilletées et autres entrées</td>\n      <td>Bouchée à la reine, à la viande/volaille/quenelle</td>\n      <td>Vol-au-vent, with meat/poultry/quenelle</td>\n      <td>2.070000</td>\n      <td>Bouchée à la reine, à la viande/volaille/quene...</td>\n      <td>0.389009</td>\n      <td>0.102544</td>\n      <td>0.010388</td>\n      <td>0.037686</td>\n      <td>0.009087</td>\n      <td>0.034049</td>\n    </tr>\n    <tr>\n      <th>433</th>\n      <td>25947</td>\n      <td>25947</td>\n      <td>entrées et plats composés</td>\n      <td>soupes</td>\n      <td>Bouillon de volaille</td>\n      <td>Broth, stock or bouillon, poultry</td>\n      <td>2.111055</td>\n      <td>Bouillon de volaille (25947)</td>\n      <td>0.001608</td>\n      <td>0.002340</td>\n      <td>0.004168</td>\n      <td>0.001158</td>\n      <td>0.000095</td>\n      <td>0.005307</td>\n    </tr>\n    <tr>\n      <th>439</th>\n      <td>25438</td>\n      <td>25438</td>\n      <td>entrées et plats composés</td>\n      <td>feuilletées et autres entrées</td>\n      <td>Brick garni (garniture : crevettes, légumes, v...</td>\n      <td>Fritter, filled (filo pastry) (garnish : shrim...</td>\n      <td>2.320000</td>\n      <td>Brick garni (garniture : crevettes, légumes, v...</td>\n      <td>0.446526</td>\n      <td>0.077111</td>\n      <td>0.024654</td>\n      <td>0.022642</td>\n      <td>0.009087</td>\n      <td>0.034049</td>\n    </tr>\n    <tr>\n      <th>445</th>\n      <td>7814</td>\n      <td>7814</td>\n      <td>entrées et plats composés</td>\n      <td>feuilletées et autres entrées</td>\n      <td>Cake salé (garniture : fromage, légumes, viand...</td>\n      <td>Savoury cake (with cheese, vegetables, meat, f...</td>\n      <td>1.910000</td>\n      <td>Cake salé (garniture : fromage, légumes, viand...</td>\n      <td>0.435597</td>\n      <td>0.064980</td>\n      <td>0.022333</td>\n      <td>0.017949</td>\n      <td>0.009087</td>\n      <td>0.034049</td>\n    </tr>\n    <tr>\n      <th>554</th>\n      <td>25126</td>\n      <td>25126</td>\n      <td>entrées et plats composés</td>\n      <td>plats composés</td>\n      <td>Paupiette de volaille</td>\n      <td>Poultry paupiette</td>\n      <td>3.420000</td>\n      <td>Paupiette de volaille (25126)</td>\n      <td>0.810210</td>\n      <td>0.140418</td>\n      <td>0.027647</td>\n      <td>0.021235</td>\n      <td>0.009087</td>\n      <td>0.006509</td>\n    </tr>\n    <tr>\n      <th>649</th>\n      <td>25928</td>\n      <td>25928</td>\n      <td>entrées et plats composés</td>\n      <td>soupes</td>\n      <td>Soupe à la volaille et aux légumes, déshydraté...</td>\n      <td>Soup, chicken and vegetables, dehydrated and r...</td>\n      <td>2.890000</td>\n      <td>Soupe à la volaille et aux légumes, déshydraté...</td>\n      <td>0.004120</td>\n      <td>0.005996</td>\n      <td>0.000551</td>\n      <td>0.002859</td>\n      <td>0.000249</td>\n      <td>0.004349</td>\n    </tr>\n    <tr>\n      <th>650</th>\n      <td>25901</td>\n      <td>25901</td>\n      <td>entrées et plats composés</td>\n      <td>soupes</td>\n      <td>Soupe à la volaille et aux légumes, préemballé...</td>\n      <td>Soup, chicken and vegetables, prepacked, to be...</td>\n      <td>3.310000</td>\n      <td>Soupe à la volaille et aux légumes, préemballé...</td>\n      <td>0.004120</td>\n      <td>0.005996</td>\n      <td>0.000551</td>\n      <td>0.002859</td>\n      <td>0.000249</td>\n      <td>0.004349</td>\n    </tr>\n    <tr>\n      <th>651</th>\n      <td>25950</td>\n      <td>25950</td>\n      <td>entrées et plats composés</td>\n      <td>soupes</td>\n      <td>Soupe à la volaille et aux vermicelles, déshyd...</td>\n      <td>Soup, chicken and vermicelli, dehydrated and r...</td>\n      <td>2.940000</td>\n      <td>Soupe à la volaille et aux vermicelles, déshyd...</td>\n      <td>0.081434</td>\n      <td>0.094130</td>\n      <td>0.000551</td>\n      <td>0.004364</td>\n      <td>0.000249</td>\n      <td>0.004349</td>\n    </tr>\n    <tr>\n      <th>652</th>\n      <td>25908</td>\n      <td>25908</td>\n      <td>entrées et plats composés</td>\n      <td>soupes</td>\n      <td>Soupe à la volaille et aux vermicelles, préemb...</td>\n      <td>Soup, chicken and vermicelli, prepacked, to be...</td>\n      <td>2.450000</td>\n      <td>Soupe à la volaille et aux vermicelles, préemb...</td>\n      <td>0.081452</td>\n      <td>0.037819</td>\n      <td>0.009970</td>\n      <td>0.012478</td>\n      <td>0.004503</td>\n      <td>0.004055</td>\n    </tr>\n    <tr>\n      <th>1971</th>\n      <td>25504</td>\n      <td>25504</td>\n      <td>viandes, œufs, poissons</td>\n      <td>autres produits à base de viande</td>\n      <td>Brochette de volaille</td>\n      <td>Poultry on skewer</td>\n      <td>2.670000</td>\n      <td>Brochette de volaille (25504)</td>\n      <td>0.971727</td>\n      <td>0.127480</td>\n      <td>0.023696</td>\n      <td>0.025379</td>\n      <td>0.011985</td>\n      <td>0.034844</td>\n    </tr>\n    <tr>\n      <th>2034</th>\n      <td>8125</td>\n      <td>8125</td>\n      <td>viandes, œufs, poissons</td>\n      <td>charcuteries</td>\n      <td>Confit de foie de volaille</td>\n      <td>Preserved poultry liver</td>\n      <td>3.050000</td>\n      <td>Confit de foie de volaille (8125)</td>\n      <td>0.158213</td>\n      <td>0.020076</td>\n      <td>0.018058</td>\n      <td>0.015810</td>\n      <td>0.009087</td>\n      <td>0.002455</td>\n    </tr>\n    <tr>\n      <th>2041</th>\n      <td>25089</td>\n      <td>25089</td>\n      <td>viandes, œufs, poissons</td>\n      <td>autres produits à base de viande</td>\n      <td>Cordon bleu de volaille</td>\n      <td>Escalope cordon bleu (topped with a ham slice ...</td>\n      <td>2.520000</td>\n      <td>Cordon bleu de volaille (25089)</td>\n      <td>0.618750</td>\n      <td>0.107362</td>\n      <td>0.018062</td>\n      <td>0.022172</td>\n      <td>0.009087</td>\n      <td>0.034049</td>\n    </tr>\n    <tr>\n      <th>2050</th>\n      <td>28929</td>\n      <td>28929</td>\n      <td>viandes, œufs, poissons</td>\n      <td>charcuteries</td>\n      <td>Dés, allumettes, râpé ou haché de jambon de vo...</td>\n      <td>Poultry ham in cube, grated or minced</td>\n      <td>3.110000</td>\n      <td>Dés, allumettes, râpé ou haché de jambon de vo...</td>\n      <td>0.734005</td>\n      <td>0.096294</td>\n      <td>0.017899</td>\n      <td>0.019170</td>\n      <td>0.009053</td>\n      <td>0.002455</td>\n    </tr>\n    <tr>\n      <th>2097</th>\n      <td>40108</td>\n      <td>40108</td>\n      <td>viandes, œufs, poissons</td>\n      <td>viandes crues</td>\n      <td>Foie, volaille, cru</td>\n      <td>Liver, poultry, raw</td>\n      <td>3.050000</td>\n      <td>Foie, volaille, cru (40108)</td>\n      <td>0.156565</td>\n      <td>0.019867</td>\n      <td>0.017899</td>\n      <td>0.015683</td>\n      <td>0.009053</td>\n      <td>0.002455</td>\n    </tr>\n    <tr>\n      <th>2105</th>\n      <td>28927</td>\n      <td>28927</td>\n      <td>viandes, œufs, poissons</td>\n      <td>charcuteries</td>\n      <td>Haché de volaille</td>\n      <td>Poultry, minced meat</td>\n      <td>2.670000</td>\n      <td>Haché de volaille (28927)</td>\n      <td>0.971727</td>\n      <td>0.127480</td>\n      <td>0.023696</td>\n      <td>0.025379</td>\n      <td>0.011985</td>\n      <td>0.034844</td>\n    </tr>\n    <tr>\n      <th>2262</th>\n      <td>8316</td>\n      <td>8316</td>\n      <td>viandes, œufs, poissons</td>\n      <td>charcuteries</td>\n      <td>Pâté de foie de volaille</td>\n      <td>Poultry liver pâté</td>\n      <td>2.780000</td>\n      <td>Pâté de foie de volaille (8316)</td>\n      <td>0.606918</td>\n      <td>0.120362</td>\n      <td>0.032366</td>\n      <td>0.010353</td>\n      <td>0.004642</td>\n      <td>0.002455</td>\n    </tr>\n    <tr>\n      <th>2351</th>\n      <td>8910</td>\n      <td>8910</td>\n      <td>viandes, œufs, poissons</td>\n      <td>charcuteries</td>\n      <td>Quenelle de volaille, crue</td>\n      <td>Poultry quenelle, raw</td>\n      <td>2.650000</td>\n      <td>Quenelle de volaille, crue (8910)</td>\n      <td>0.628792</td>\n      <td>0.074702</td>\n      <td>0.022595</td>\n      <td>0.020587</td>\n      <td>0.009087</td>\n      <td>0.002455</td>\n    </tr>\n    <tr>\n      <th>2352</th>\n      <td>8912</td>\n      <td>8912</td>\n      <td>viandes, œufs, poissons</td>\n      <td>charcuteries</td>\n      <td>Quenelle de volaille, en sauce</td>\n      <td>Poultry quenelle, in sauce</td>\n      <td>2.660000</td>\n      <td>Quenelle de volaille, en sauce (8912)</td>\n      <td>0.628792</td>\n      <td>0.074702</td>\n      <td>0.022595</td>\n      <td>0.020587</td>\n      <td>0.009087</td>\n      <td>0.034049</td>\n    </tr>\n    <tr>\n      <th>2386</th>\n      <td>28976</td>\n      <td>28976</td>\n      <td>viandes, œufs, poissons</td>\n      <td>charcuteries</td>\n      <td>Rôti de volaille en salaison, cuit</td>\n      <td>Salt curing roast poultry, cooked</td>\n      <td>3.110000</td>\n      <td>Rôti de volaille en salaison, cuit (28976)</td>\n      <td>0.971727</td>\n      <td>0.127480</td>\n      <td>0.023696</td>\n      <td>0.025379</td>\n      <td>0.011985</td>\n      <td>0.034844</td>\n    </tr>\n    <tr>\n      <th>2418</th>\n      <td>30130</td>\n      <td>30130</td>\n      <td>viandes, œufs, poissons</td>\n      <td>charcuteries</td>\n      <td>Saucisse de volaille, façon charcutière</td>\n      <td>Poultry sausage, delicatessen style</td>\n      <td>2.550000</td>\n      <td>Saucisse de volaille, façon charcutière (30130)</td>\n      <td>1.359110</td>\n      <td>0.129461</td>\n      <td>0.018058</td>\n      <td>0.024507</td>\n      <td>0.009087</td>\n      <td>0.034049</td>\n    </tr>\n    <tr>\n      <th>2419</th>\n      <td>30131</td>\n      <td>30131</td>\n      <td>viandes, œufs, poissons</td>\n      <td>charcuteries</td>\n      <td>Saucisse de volaille, type Knack</td>\n      <td>Poultry sausage</td>\n      <td>2.250000</td>\n      <td>Saucisse de volaille, type Knack (30131)</td>\n      <td>1.461366</td>\n      <td>0.098546</td>\n      <td>0.027576</td>\n      <td>0.015934</td>\n      <td>0.009087</td>\n      <td>0.034049</td>\n    </tr>\n    <tr>\n      <th>2516</th>\n      <td>25512</td>\n      <td>25512</td>\n      <td>viandes, œufs, poissons</td>\n      <td>autres produits à base de viande</td>\n      <td>Volaille, croquette panée ou nuggets</td>\n      <td>Poultry nuggets</td>\n      <td>2.790000</td>\n      <td>Volaille, croquette panée ou nuggets (25512)</td>\n      <td>0.633044</td>\n      <td>0.129015</td>\n      <td>0.039739</td>\n      <td>0.016279</td>\n      <td>0.009087</td>\n      <td>0.034049</td>\n    </tr>\n  </tbody>\n</table>\n</div>"
     },
     "metadata": {},
     "execution_count": 137
    }
   ],
   "source": [
    "volailles = df[df[\"Nom et code\"].str.contains(\"volaille\", case=False, regex=False)]\n",
    "volailles"
   ]
  },
  {
   "cell_type": "code",
   "execution_count": 141,
   "metadata": {},
   "outputs": [
    {
     "output_type": "display_data",
     "data": {
      "application/vnd.plotly.v1+json": {
       "data": [
        {
         "marker": {
          "color": "green"
         },
         "x": [
          "autres produits à base de viande",
          "feuilletées et autres entrées",
          "charcuteries",
          "plats composés",
          "soupes",
          "viandes crues"
         ],
         "y": [
          0.8356275900000001,
          0.81021041,
          0.7411733533333335,
          0.47604373,
          0.1565652,
          0.03454688604
         ],
         "type": "bar",
         "xaxis": "x",
         "yaxis": "y"
        },
        {
         "x": [
          "autres produits à base de viande",
          "feuilletées et autres entrées",
          "charcuteries",
          "plats composés",
          "soupes",
          "viandes crues"
         ],
         "y": [
          0.1404182,
          0.12128577666666666,
          0.09656699711111111,
          0.09341232775,
          0.029256096839999957,
          0.019866605
         ],
         "type": "bar",
         "xaxis": "x2",
         "yaxis": "y2"
        },
        {
         "x": [
          "autres produits à base de viande",
          "feuilletées et autres entrées",
          "charcuteries",
          "plats composés",
          "soupes",
          "viandes crues"
         ],
         "y": [
          0.027647336,
          0.02716553966666663,
          0.024278637999999974,
          0.0229485322222222,
          0.017898703,
          0.0031582689499999998
         ],
         "type": "bar",
         "xaxis": "x3",
         "yaxis": "y3"
        },
        {
         "x": [
          "autres produits à base de viande",
          "feuilletées et autres entrées",
          "charcuteries",
          "plats composés",
          "soupes",
          "viandes crues"
         ],
         "y": [
          0.023638982250000003,
          0.021276460333333302,
          0.021234641,
          0.019745096333333323,
          0.015682534,
          0.0047436907799999995
         ],
         "type": "bar",
         "xaxis": "x4",
         "yaxis": "y4"
        },
        {
         "x": [
          "autres produits à base de viande",
          "feuilletées et autres entrées",
          "charcuteries",
          "plats composés",
          "soupes",
          "viandes crues"
         ],
         "y": [
          0.010053007733333333,
          0.009233279433333332,
          0.0090871221,
          0.0090871221,
          0.0090528378,
          0.0010688430936
         ],
         "type": "bar",
         "xaxis": "x5",
         "yaxis": "y5"
        },
        {
         "x": [
          "autres produits à base de viande",
          "feuilletées et autres entrées",
          "charcuteries",
          "plats composés",
          "soupes",
          "viandes crues"
         ],
         "y": [
          0.034314036,
          0.034049017,
          0.02018385126666667,
          0.0065094483,
          0.0044815756800000005,
          0.0024548656
         ],
         "type": "bar",
         "xaxis": "x6",
         "yaxis": "y6"
        }
       ],
       "layout": {
        "template": {
         "data": {
          "histogram2dcontour": [
           {
            "type": "histogram2dcontour",
            "colorbar": {
             "outlinewidth": 0,
             "ticks": ""
            },
            "colorscale": [
             [
              0,
              "#0d0887"
             ],
             [
              0.1111111111111111,
              "#46039f"
             ],
             [
              0.2222222222222222,
              "#7201a8"
             ],
             [
              0.3333333333333333,
              "#9c179e"
             ],
             [
              0.4444444444444444,
              "#bd3786"
             ],
             [
              0.5555555555555556,
              "#d8576b"
             ],
             [
              0.6666666666666666,
              "#ed7953"
             ],
             [
              0.7777777777777778,
              "#fb9f3a"
             ],
             [
              0.8888888888888888,
              "#fdca26"
             ],
             [
              1,
              "#f0f921"
             ]
            ]
           }
          ],
          "choropleth": [
           {
            "type": "choropleth",
            "colorbar": {
             "outlinewidth": 0,
             "ticks": ""
            }
           }
          ],
          "histogram2d": [
           {
            "type": "histogram2d",
            "colorbar": {
             "outlinewidth": 0,
             "ticks": ""
            },
            "colorscale": [
             [
              0,
              "#0d0887"
             ],
             [
              0.1111111111111111,
              "#46039f"
             ],
             [
              0.2222222222222222,
              "#7201a8"
             ],
             [
              0.3333333333333333,
              "#9c179e"
             ],
             [
              0.4444444444444444,
              "#bd3786"
             ],
             [
              0.5555555555555556,
              "#d8576b"
             ],
             [
              0.6666666666666666,
              "#ed7953"
             ],
             [
              0.7777777777777778,
              "#fb9f3a"
             ],
             [
              0.8888888888888888,
              "#fdca26"
             ],
             [
              1,
              "#f0f921"
             ]
            ]
           }
          ],
          "heatmap": [
           {
            "type": "heatmap",
            "colorbar": {
             "outlinewidth": 0,
             "ticks": ""
            },
            "colorscale": [
             [
              0,
              "#0d0887"
             ],
             [
              0.1111111111111111,
              "#46039f"
             ],
             [
              0.2222222222222222,
              "#7201a8"
             ],
             [
              0.3333333333333333,
              "#9c179e"
             ],
             [
              0.4444444444444444,
              "#bd3786"
             ],
             [
              0.5555555555555556,
              "#d8576b"
             ],
             [
              0.6666666666666666,
              "#ed7953"
             ],
             [
              0.7777777777777778,
              "#fb9f3a"
             ],
             [
              0.8888888888888888,
              "#fdca26"
             ],
             [
              1,
              "#f0f921"
             ]
            ]
           }
          ],
          "heatmapgl": [
           {
            "type": "heatmapgl",
            "colorbar": {
             "outlinewidth": 0,
             "ticks": ""
            },
            "colorscale": [
             [
              0,
              "#0d0887"
             ],
             [
              0.1111111111111111,
              "#46039f"
             ],
             [
              0.2222222222222222,
              "#7201a8"
             ],
             [
              0.3333333333333333,
              "#9c179e"
             ],
             [
              0.4444444444444444,
              "#bd3786"
             ],
             [
              0.5555555555555556,
              "#d8576b"
             ],
             [
              0.6666666666666666,
              "#ed7953"
             ],
             [
              0.7777777777777778,
              "#fb9f3a"
             ],
             [
              0.8888888888888888,
              "#fdca26"
             ],
             [
              1,
              "#f0f921"
             ]
            ]
           }
          ],
          "contourcarpet": [
           {
            "type": "contourcarpet",
            "colorbar": {
             "outlinewidth": 0,
             "ticks": ""
            }
           }
          ],
          "contour": [
           {
            "type": "contour",
            "colorbar": {
             "outlinewidth": 0,
             "ticks": ""
            },
            "colorscale": [
             [
              0,
              "#0d0887"
             ],
             [
              0.1111111111111111,
              "#46039f"
             ],
             [
              0.2222222222222222,
              "#7201a8"
             ],
             [
              0.3333333333333333,
              "#9c179e"
             ],
             [
              0.4444444444444444,
              "#bd3786"
             ],
             [
              0.5555555555555556,
              "#d8576b"
             ],
             [
              0.6666666666666666,
              "#ed7953"
             ],
             [
              0.7777777777777778,
              "#fb9f3a"
             ],
             [
              0.8888888888888888,
              "#fdca26"
             ],
             [
              1,
              "#f0f921"
             ]
            ]
           }
          ],
          "surface": [
           {
            "type": "surface",
            "colorbar": {
             "outlinewidth": 0,
             "ticks": ""
            },
            "colorscale": [
             [
              0,
              "#0d0887"
             ],
             [
              0.1111111111111111,
              "#46039f"
             ],
             [
              0.2222222222222222,
              "#7201a8"
             ],
             [
              0.3333333333333333,
              "#9c179e"
             ],
             [
              0.4444444444444444,
              "#bd3786"
             ],
             [
              0.5555555555555556,
              "#d8576b"
             ],
             [
              0.6666666666666666,
              "#ed7953"
             ],
             [
              0.7777777777777778,
              "#fb9f3a"
             ],
             [
              0.8888888888888888,
              "#fdca26"
             ],
             [
              1,
              "#f0f921"
             ]
            ]
           }
          ],
          "mesh3d": [
           {
            "type": "mesh3d",
            "colorbar": {
             "outlinewidth": 0,
             "ticks": ""
            }
           }
          ],
          "scatter": [
           {
            "fillpattern": {
             "fillmode": "overlay",
             "size": 10,
             "solidity": 0.2
            },
            "type": "scatter"
           }
          ],
          "parcoords": [
           {
            "type": "parcoords",
            "line": {
             "colorbar": {
              "outlinewidth": 0,
              "ticks": ""
             }
            }
           }
          ],
          "scatterpolargl": [
           {
            "type": "scatterpolargl",
            "marker": {
             "colorbar": {
              "outlinewidth": 0,
              "ticks": ""
             }
            }
           }
          ],
          "bar": [
           {
            "error_x": {
             "color": "#2a3f5f"
            },
            "error_y": {
             "color": "#2a3f5f"
            },
            "marker": {
             "line": {
              "color": "#E5ECF6",
              "width": 0.5
             },
             "pattern": {
              "fillmode": "overlay",
              "size": 10,
              "solidity": 0.2
             }
            },
            "type": "bar"
           }
          ],
          "scattergeo": [
           {
            "type": "scattergeo",
            "marker": {
             "colorbar": {
              "outlinewidth": 0,
              "ticks": ""
             }
            }
           }
          ],
          "scatterpolar": [
           {
            "type": "scatterpolar",
            "marker": {
             "colorbar": {
              "outlinewidth": 0,
              "ticks": ""
             }
            }
           }
          ],
          "histogram": [
           {
            "marker": {
             "pattern": {
              "fillmode": "overlay",
              "size": 10,
              "solidity": 0.2
             }
            },
            "type": "histogram"
           }
          ],
          "scattergl": [
           {
            "type": "scattergl",
            "marker": {
             "colorbar": {
              "outlinewidth": 0,
              "ticks": ""
             }
            }
           }
          ],
          "scatter3d": [
           {
            "type": "scatter3d",
            "line": {
             "colorbar": {
              "outlinewidth": 0,
              "ticks": ""
             }
            },
            "marker": {
             "colorbar": {
              "outlinewidth": 0,
              "ticks": ""
             }
            }
           }
          ],
          "scattermapbox": [
           {
            "type": "scattermapbox",
            "marker": {
             "colorbar": {
              "outlinewidth": 0,
              "ticks": ""
             }
            }
           }
          ],
          "scatterternary": [
           {
            "type": "scatterternary",
            "marker": {
             "colorbar": {
              "outlinewidth": 0,
              "ticks": ""
             }
            }
           }
          ],
          "scattercarpet": [
           {
            "type": "scattercarpet",
            "marker": {
             "colorbar": {
              "outlinewidth": 0,
              "ticks": ""
             }
            }
           }
          ],
          "carpet": [
           {
            "aaxis": {
             "endlinecolor": "#2a3f5f",
             "gridcolor": "white",
             "linecolor": "white",
             "minorgridcolor": "white",
             "startlinecolor": "#2a3f5f"
            },
            "baxis": {
             "endlinecolor": "#2a3f5f",
             "gridcolor": "white",
             "linecolor": "white",
             "minorgridcolor": "white",
             "startlinecolor": "#2a3f5f"
            },
            "type": "carpet"
           }
          ],
          "table": [
           {
            "cells": {
             "fill": {
              "color": "#EBF0F8"
             },
             "line": {
              "color": "white"
             }
            },
            "header": {
             "fill": {
              "color": "#C8D4E3"
             },
             "line": {
              "color": "white"
             }
            },
            "type": "table"
           }
          ],
          "barpolar": [
           {
            "marker": {
             "line": {
              "color": "#E5ECF6",
              "width": 0.5
             },
             "pattern": {
              "fillmode": "overlay",
              "size": 10,
              "solidity": 0.2
             }
            },
            "type": "barpolar"
           }
          ],
          "pie": [
           {
            "automargin": true,
            "type": "pie"
           }
          ]
         },
         "layout": {
          "autotypenumbers": "strict",
          "colorway": [
           "#636efa",
           "#EF553B",
           "#00cc96",
           "#ab63fa",
           "#FFA15A",
           "#19d3f3",
           "#FF6692",
           "#B6E880",
           "#FF97FF",
           "#FECB52"
          ],
          "font": {
           "color": "#2a3f5f"
          },
          "hovermode": "closest",
          "hoverlabel": {
           "align": "left"
          },
          "paper_bgcolor": "white",
          "plot_bgcolor": "#E5ECF6",
          "polar": {
           "bgcolor": "#E5ECF6",
           "angularaxis": {
            "gridcolor": "white",
            "linecolor": "white",
            "ticks": ""
           },
           "radialaxis": {
            "gridcolor": "white",
            "linecolor": "white",
            "ticks": ""
           }
          },
          "ternary": {
           "bgcolor": "#E5ECF6",
           "aaxis": {
            "gridcolor": "white",
            "linecolor": "white",
            "ticks": ""
           },
           "baxis": {
            "gridcolor": "white",
            "linecolor": "white",
            "ticks": ""
           },
           "caxis": {
            "gridcolor": "white",
            "linecolor": "white",
            "ticks": ""
           }
          },
          "coloraxis": {
           "colorbar": {
            "outlinewidth": 0,
            "ticks": ""
           }
          },
          "colorscale": {
           "sequential": [
            [
             0,
             "#0d0887"
            ],
            [
             0.1111111111111111,
             "#46039f"
            ],
            [
             0.2222222222222222,
             "#7201a8"
            ],
            [
             0.3333333333333333,
             "#9c179e"
            ],
            [
             0.4444444444444444,
             "#bd3786"
            ],
            [
             0.5555555555555556,
             "#d8576b"
            ],
            [
             0.6666666666666666,
             "#ed7953"
            ],
            [
             0.7777777777777778,
             "#fb9f3a"
            ],
            [
             0.8888888888888888,
             "#fdca26"
            ],
            [
             1,
             "#f0f921"
            ]
           ],
           "sequentialminus": [
            [
             0,
             "#0d0887"
            ],
            [
             0.1111111111111111,
             "#46039f"
            ],
            [
             0.2222222222222222,
             "#7201a8"
            ],
            [
             0.3333333333333333,
             "#9c179e"
            ],
            [
             0.4444444444444444,
             "#bd3786"
            ],
            [
             0.5555555555555556,
             "#d8576b"
            ],
            [
             0.6666666666666666,
             "#ed7953"
            ],
            [
             0.7777777777777778,
             "#fb9f3a"
            ],
            [
             0.8888888888888888,
             "#fdca26"
            ],
            [
             1,
             "#f0f921"
            ]
           ],
           "diverging": [
            [
             0,
             "#8e0152"
            ],
            [
             0.1,
             "#c51b7d"
            ],
            [
             0.2,
             "#de77ae"
            ],
            [
             0.3,
             "#f1b6da"
            ],
            [
             0.4,
             "#fde0ef"
            ],
            [
             0.5,
             "#f7f7f7"
            ],
            [
             0.6,
             "#e6f5d0"
            ],
            [
             0.7,
             "#b8e186"
            ],
            [
             0.8,
             "#7fbc41"
            ],
            [
             0.9,
             "#4d9221"
            ],
            [
             1,
             "#276419"
            ]
           ]
          },
          "xaxis": {
           "gridcolor": "white",
           "linecolor": "white",
           "ticks": "",
           "title": {
            "standoff": 15
           },
           "zerolinecolor": "white",
           "automargin": true,
           "zerolinewidth": 2
          },
          "yaxis": {
           "gridcolor": "white",
           "linecolor": "white",
           "ticks": "",
           "title": {
            "standoff": 15
           },
           "zerolinecolor": "white",
           "automargin": true,
           "zerolinewidth": 2
          },
          "scene": {
           "xaxis": {
            "backgroundcolor": "#E5ECF6",
            "gridcolor": "white",
            "linecolor": "white",
            "showbackground": true,
            "ticks": "",
            "zerolinecolor": "white",
            "gridwidth": 2
           },
           "yaxis": {
            "backgroundcolor": "#E5ECF6",
            "gridcolor": "white",
            "linecolor": "white",
            "showbackground": true,
            "ticks": "",
            "zerolinecolor": "white",
            "gridwidth": 2
           },
           "zaxis": {
            "backgroundcolor": "#E5ECF6",
            "gridcolor": "white",
            "linecolor": "white",
            "showbackground": true,
            "ticks": "",
            "zerolinecolor": "white",
            "gridwidth": 2
           }
          },
          "shapedefaults": {
           "line": {
            "color": "#2a3f5f"
           }
          },
          "annotationdefaults": {
           "arrowcolor": "#2a3f5f",
           "arrowhead": 0,
           "arrowwidth": 1
          },
          "geo": {
           "bgcolor": "white",
           "landcolor": "#E5ECF6",
           "subunitcolor": "white",
           "showland": true,
           "showlakes": true,
           "lakecolor": "white"
          },
          "title": {
           "x": 0.05
          },
          "mapbox": {
           "style": "light"
          }
         }
        },
        "xaxis": {
         "anchor": "y",
         "domain": [
          0,
          0.1388888888888889
         ],
         "title": {
          "text": "Sous-groupe d'aliment",
          "standoff": 30
         },
         "tickangle": 90,
         "automargin": true
        },
        "yaxis": {
         "anchor": "x",
         "domain": [
          0,
          1
         ]
        },
        "xaxis2": {
         "anchor": "y2",
         "domain": [
          0.17222222222222222,
          0.3111111111111111
         ],
         "tickangle": 90,
         "automargin": true
        },
        "yaxis2": {
         "anchor": "x2",
         "domain": [
          0,
          1
         ],
         "matches": "y",
         "showticklabels": false
        },
        "xaxis3": {
         "anchor": "y3",
         "domain": [
          0.34444444444444444,
          0.48333333333333334
         ],
         "tickangle": 90,
         "automargin": true
        },
        "yaxis3": {
         "anchor": "x3",
         "domain": [
          0,
          1
         ],
         "matches": "y",
         "showticklabels": false
        },
        "xaxis4": {
         "anchor": "y4",
         "domain": [
          0.5166666666666667,
          0.6555555555555557
         ],
         "tickangle": 90,
         "automargin": true
        },
        "yaxis4": {
         "anchor": "x4",
         "domain": [
          0,
          1
         ],
         "matches": "y",
         "showticklabels": false
        },
        "xaxis5": {
         "anchor": "y5",
         "domain": [
          0.6888888888888889,
          0.8277777777777777
         ]
        },
        "yaxis5": {
         "anchor": "x5",
         "domain": [
          0,
          1
         ],
         "matches": "y",
         "showticklabels": false
        },
        "xaxis6": {
         "anchor": "y6",
         "domain": [
          0.861111111111111,
          1
         ]
        },
        "yaxis6": {
         "anchor": "x6",
         "domain": [
          0,
          1
         ],
         "matches": "y",
         "showticklabels": false
        },
        "annotations": [
         {
          "font": {
           "size": 16
          },
          "showarrow": false,
          "text": "Agriculture",
          "x": 0.06944444444444445,
          "xanchor": "center",
          "xref": "paper",
          "y": 1,
          "yanchor": "bottom",
          "yref": "paper"
         },
         {
          "font": {
           "size": 16
          },
          "showarrow": false,
          "text": "Transformation",
          "x": 0.24166666666666667,
          "xanchor": "center",
          "xref": "paper",
          "y": 1,
          "yanchor": "bottom",
          "yref": "paper"
         },
         {
          "font": {
           "size": 16
          },
          "showarrow": false,
          "text": "Emballage",
          "x": 0.41388888888888886,
          "xanchor": "center",
          "xref": "paper",
          "y": 1,
          "yanchor": "bottom",
          "yref": "paper"
         },
         {
          "font": {
           "size": 16
          },
          "showarrow": false,
          "text": "Transport",
          "x": 0.5861111111111112,
          "xanchor": "center",
          "xref": "paper",
          "y": 1,
          "yanchor": "bottom",
          "yref": "paper"
         },
         {
          "font": {
           "size": 16
          },
          "showarrow": false,
          "text": "Distri",
          "x": 0.7583333333333333,
          "xanchor": "center",
          "xref": "paper",
          "y": 1,
          "yanchor": "bottom",
          "yref": "paper"
         },
         {
          "font": {
           "size": 16
          },
          "showarrow": false,
          "text": "Consommation",
          "x": 0.9305555555555556,
          "xanchor": "center",
          "xref": "paper",
          "y": 1,
          "yanchor": "bottom",
          "yref": "paper"
         }
        ],
        "margin": {
         "l": 50,
         "r": 50,
         "t": 100,
         "b": 100,
         "pad": 4
        },
        "title": {
         "text": "Moyennes des emissions pour les plats contenant de la volaille"
        },
        "height": 600,
        "width": 800,
        "showlegend": false
       },
       "config": {
        "plotlyServerURL": "https://plot.ly"
       }
      }
     },
     "metadata": {}
    }
   ],
   "source": [
    "couleurs = ['green', 'red', 'blue', 'orange', 'purple','pink']\n",
    "\n",
    "vol=volailles.groupby([\"Sous-groupe d'aliment\"])[[\"Agriculture\", \"Transformation\", \"Emballage\", \"Transport\",\"Supermarché et distribution\",\"Consommation\"]].mean().reset_index()\n",
    "\n",
    "vol = vol.sort_values(\"Agriculture\", ascending=False)\n",
    "agriv_sorted = vol[\"Agriculture\"]\n",
    "vol = vol.sort_values(\"Transformation\", ascending=False)\n",
    "transfv_sorted = vol[\"Transformation\"]\n",
    "vol = vol.sort_values(\"Emballage\", ascending=False)\n",
    "embalv_sorted = vol[\"Emballage\"]\n",
    "vol = vol.sort_values(\"Transport\", ascending=False)\n",
    "transpv_sorted = vol[\"Transport\"]\n",
    "vol = vol.sort_values(\"Supermarché et distribution\", ascending=False)\n",
    "supv_sorted = vol[\"Supermarché et distribution\"]\n",
    "vol = vol.sort_values(\"Consommation\", ascending=False)\n",
    "consov_sorted = vol[\"Consommation\"]\n",
    "\n",
    "fig = make_subplots(rows=1, cols=6, shared_yaxes=True,subplot_titles=(\"Agriculture\", \"Transformation\", \"Emballage\", \"Transport\",\"Distri\",\"Consommation\"))\n",
    "\n",
    "fig.add_trace(go.Bar(x=vol[\"Sous-groupe d'aliment\"], y=agriv_sorted, marker=dict(color='green')), row=1, col=1)\n",
    "fig.add_trace(go.Bar(x=vol[\"Sous-groupe d'aliment\"], y=transfv_sorted), row=1, col=2)\n",
    "fig.add_trace(go.Bar(x=vol[\"Sous-groupe d'aliment\"], y=embalv_sorted), row=1, col=3)\n",
    "fig.add_trace(go.Bar(x=vol[\"Sous-groupe d'aliment\"], y=transpv_sorted), row=1, col=4)\n",
    "fig.add_trace(go.Bar(x=vol[\"Sous-groupe d'aliment\"], y=supv_sorted), row=1, col=5)\n",
    "fig.add_trace(go.Bar(x=vol[\"Sous-groupe d'aliment\"], y=consov_sorted), row=1, col=6)\n",
    "\n",
    "fig.update_layout(\n",
    "    title=\"Moyennes des emissions pour les plats contenant de la volaille\",\n",
    "    height=600,\n",
    "    width=800,\n",
    "    showlegend=False,\n",
    "    margin=dict(l=50, r=50, t=100, b=100, pad=4),\n",
    "    xaxis=dict(\n",
    "        title=\"Sous-groupe d'aliment\",\n",
    "        title_standoff=30,\n",
    "        tickangle=90,\n",
    "        \n",
    "        automargin=True\n",
    "    ),\n",
    "    xaxis2=dict(tickangle=90, automargin=True),\n",
    "    xaxis3=dict(tickangle=90, automargin=True),\n",
    "    xaxis4=dict(tickangle=90, automargin=True),\n",
    ")\n",
    "\n",
    "fig.show()\n",
    "\n",
    "\n",
    "\n",
    "\n",
    "\n",
    "\n"
   ]
  },
  {
   "cell_type": "code",
   "execution_count": 139,
   "metadata": {},
   "outputs": [
    {
     "output_type": "display_data",
     "data": {
      "application/vnd.plotly.v1+json": {
       "data": [
        {
         "marker": {
          "color": [
           "green",
           "red",
           "blue",
           "orange",
           "purple",
           "pink"
          ]
         },
         "x": [
          0,
          2,
          1,
          3,
          4,
          5
         ],
         "y": [
          [
           "autres produits à base de viande",
           0.7411733533333335,
           0.12128577666666666,
           0.02716553966666663,
           0.021276460333333302,
           0.010053007733333333,
           0.034314036
          ],
          [
           "feuilletées et autres entrées",
           0.47604373,
           0.09341232775,
           0.024278637999999974,
           0.023638982250000003,
           0.0090871221,
           0.034049017
          ],
          [
           "charcuteries",
           0.8356275900000001,
           0.09656699711111111,
           0.0229485322222222,
           0.019745096333333323,
           0.009233279433333332,
           0.02018385126666667
          ],
          [
           "plats composés",
           0.81021041,
           0.1404182,
           0.027647336,
           0.021234641,
           0.0090871221,
           0.0065094483
          ],
          [
           "soupes",
           0.03454688604,
           0.029256096839999957,
           0.0031582689499999998,
           0.0047436907799999995,
           0.0010688430936,
           0.0044815756800000005
          ],
          [
           "viandes crues",
           0.1565652,
           0.019866605,
           0.017898703,
           0.015682534,
           0.0090528378,
           0.0024548656
          ]
         ],
         "type": "bar"
        }
       ],
       "layout": {
        "template": {
         "data": {
          "histogram2dcontour": [
           {
            "type": "histogram2dcontour",
            "colorbar": {
             "outlinewidth": 0,
             "ticks": ""
            },
            "colorscale": [
             [
              0,
              "#0d0887"
             ],
             [
              0.1111111111111111,
              "#46039f"
             ],
             [
              0.2222222222222222,
              "#7201a8"
             ],
             [
              0.3333333333333333,
              "#9c179e"
             ],
             [
              0.4444444444444444,
              "#bd3786"
             ],
             [
              0.5555555555555556,
              "#d8576b"
             ],
             [
              0.6666666666666666,
              "#ed7953"
             ],
             [
              0.7777777777777778,
              "#fb9f3a"
             ],
             [
              0.8888888888888888,
              "#fdca26"
             ],
             [
              1,
              "#f0f921"
             ]
            ]
           }
          ],
          "choropleth": [
           {
            "type": "choropleth",
            "colorbar": {
             "outlinewidth": 0,
             "ticks": ""
            }
           }
          ],
          "histogram2d": [
           {
            "type": "histogram2d",
            "colorbar": {
             "outlinewidth": 0,
             "ticks": ""
            },
            "colorscale": [
             [
              0,
              "#0d0887"
             ],
             [
              0.1111111111111111,
              "#46039f"
             ],
             [
              0.2222222222222222,
              "#7201a8"
             ],
             [
              0.3333333333333333,
              "#9c179e"
             ],
             [
              0.4444444444444444,
              "#bd3786"
             ],
             [
              0.5555555555555556,
              "#d8576b"
             ],
             [
              0.6666666666666666,
              "#ed7953"
             ],
             [
              0.7777777777777778,
              "#fb9f3a"
             ],
             [
              0.8888888888888888,
              "#fdca26"
             ],
             [
              1,
              "#f0f921"
             ]
            ]
           }
          ],
          "heatmap": [
           {
            "type": "heatmap",
            "colorbar": {
             "outlinewidth": 0,
             "ticks": ""
            },
            "colorscale": [
             [
              0,
              "#0d0887"
             ],
             [
              0.1111111111111111,
              "#46039f"
             ],
             [
              0.2222222222222222,
              "#7201a8"
             ],
             [
              0.3333333333333333,
              "#9c179e"
             ],
             [
              0.4444444444444444,
              "#bd3786"
             ],
             [
              0.5555555555555556,
              "#d8576b"
             ],
             [
              0.6666666666666666,
              "#ed7953"
             ],
             [
              0.7777777777777778,
              "#fb9f3a"
             ],
             [
              0.8888888888888888,
              "#fdca26"
             ],
             [
              1,
              "#f0f921"
             ]
            ]
           }
          ],
          "heatmapgl": [
           {
            "type": "heatmapgl",
            "colorbar": {
             "outlinewidth": 0,
             "ticks": ""
            },
            "colorscale": [
             [
              0,
              "#0d0887"
             ],
             [
              0.1111111111111111,
              "#46039f"
             ],
             [
              0.2222222222222222,
              "#7201a8"
             ],
             [
              0.3333333333333333,
              "#9c179e"
             ],
             [
              0.4444444444444444,
              "#bd3786"
             ],
             [
              0.5555555555555556,
              "#d8576b"
             ],
             [
              0.6666666666666666,
              "#ed7953"
             ],
             [
              0.7777777777777778,
              "#fb9f3a"
             ],
             [
              0.8888888888888888,
              "#fdca26"
             ],
             [
              1,
              "#f0f921"
             ]
            ]
           }
          ],
          "contourcarpet": [
           {
            "type": "contourcarpet",
            "colorbar": {
             "outlinewidth": 0,
             "ticks": ""
            }
           }
          ],
          "contour": [
           {
            "type": "contour",
            "colorbar": {
             "outlinewidth": 0,
             "ticks": ""
            },
            "colorscale": [
             [
              0,
              "#0d0887"
             ],
             [
              0.1111111111111111,
              "#46039f"
             ],
             [
              0.2222222222222222,
              "#7201a8"
             ],
             [
              0.3333333333333333,
              "#9c179e"
             ],
             [
              0.4444444444444444,
              "#bd3786"
             ],
             [
              0.5555555555555556,
              "#d8576b"
             ],
             [
              0.6666666666666666,
              "#ed7953"
             ],
             [
              0.7777777777777778,
              "#fb9f3a"
             ],
             [
              0.8888888888888888,
              "#fdca26"
             ],
             [
              1,
              "#f0f921"
             ]
            ]
           }
          ],
          "surface": [
           {
            "type": "surface",
            "colorbar": {
             "outlinewidth": 0,
             "ticks": ""
            },
            "colorscale": [
             [
              0,
              "#0d0887"
             ],
             [
              0.1111111111111111,
              "#46039f"
             ],
             [
              0.2222222222222222,
              "#7201a8"
             ],
             [
              0.3333333333333333,
              "#9c179e"
             ],
             [
              0.4444444444444444,
              "#bd3786"
             ],
             [
              0.5555555555555556,
              "#d8576b"
             ],
             [
              0.6666666666666666,
              "#ed7953"
             ],
             [
              0.7777777777777778,
              "#fb9f3a"
             ],
             [
              0.8888888888888888,
              "#fdca26"
             ],
             [
              1,
              "#f0f921"
             ]
            ]
           }
          ],
          "mesh3d": [
           {
            "type": "mesh3d",
            "colorbar": {
             "outlinewidth": 0,
             "ticks": ""
            }
           }
          ],
          "scatter": [
           {
            "fillpattern": {
             "fillmode": "overlay",
             "size": 10,
             "solidity": 0.2
            },
            "type": "scatter"
           }
          ],
          "parcoords": [
           {
            "type": "parcoords",
            "line": {
             "colorbar": {
              "outlinewidth": 0,
              "ticks": ""
             }
            }
           }
          ],
          "scatterpolargl": [
           {
            "type": "scatterpolargl",
            "marker": {
             "colorbar": {
              "outlinewidth": 0,
              "ticks": ""
             }
            }
           }
          ],
          "bar": [
           {
            "error_x": {
             "color": "#2a3f5f"
            },
            "error_y": {
             "color": "#2a3f5f"
            },
            "marker": {
             "line": {
              "color": "#E5ECF6",
              "width": 0.5
             },
             "pattern": {
              "fillmode": "overlay",
              "size": 10,
              "solidity": 0.2
             }
            },
            "type": "bar"
           }
          ],
          "scattergeo": [
           {
            "type": "scattergeo",
            "marker": {
             "colorbar": {
              "outlinewidth": 0,
              "ticks": ""
             }
            }
           }
          ],
          "scatterpolar": [
           {
            "type": "scatterpolar",
            "marker": {
             "colorbar": {
              "outlinewidth": 0,
              "ticks": ""
             }
            }
           }
          ],
          "histogram": [
           {
            "marker": {
             "pattern": {
              "fillmode": "overlay",
              "size": 10,
              "solidity": 0.2
             }
            },
            "type": "histogram"
           }
          ],
          "scattergl": [
           {
            "type": "scattergl",
            "marker": {
             "colorbar": {
              "outlinewidth": 0,
              "ticks": ""
             }
            }
           }
          ],
          "scatter3d": [
           {
            "type": "scatter3d",
            "line": {
             "colorbar": {
              "outlinewidth": 0,
              "ticks": ""
             }
            },
            "marker": {
             "colorbar": {
              "outlinewidth": 0,
              "ticks": ""
             }
            }
           }
          ],
          "scattermapbox": [
           {
            "type": "scattermapbox",
            "marker": {
             "colorbar": {
              "outlinewidth": 0,
              "ticks": ""
             }
            }
           }
          ],
          "scatterternary": [
           {
            "type": "scatterternary",
            "marker": {
             "colorbar": {
              "outlinewidth": 0,
              "ticks": ""
             }
            }
           }
          ],
          "scattercarpet": [
           {
            "type": "scattercarpet",
            "marker": {
             "colorbar": {
              "outlinewidth": 0,
              "ticks": ""
             }
            }
           }
          ],
          "carpet": [
           {
            "aaxis": {
             "endlinecolor": "#2a3f5f",
             "gridcolor": "white",
             "linecolor": "white",
             "minorgridcolor": "white",
             "startlinecolor": "#2a3f5f"
            },
            "baxis": {
             "endlinecolor": "#2a3f5f",
             "gridcolor": "white",
             "linecolor": "white",
             "minorgridcolor": "white",
             "startlinecolor": "#2a3f5f"
            },
            "type": "carpet"
           }
          ],
          "table": [
           {
            "cells": {
             "fill": {
              "color": "#EBF0F8"
             },
             "line": {
              "color": "white"
             }
            },
            "header": {
             "fill": {
              "color": "#C8D4E3"
             },
             "line": {
              "color": "white"
             }
            },
            "type": "table"
           }
          ],
          "barpolar": [
           {
            "marker": {
             "line": {
              "color": "#E5ECF6",
              "width": 0.5
             },
             "pattern": {
              "fillmode": "overlay",
              "size": 10,
              "solidity": 0.2
             }
            },
            "type": "barpolar"
           }
          ],
          "pie": [
           {
            "automargin": true,
            "type": "pie"
           }
          ]
         },
         "layout": {
          "autotypenumbers": "strict",
          "colorway": [
           "#636efa",
           "#EF553B",
           "#00cc96",
           "#ab63fa",
           "#FFA15A",
           "#19d3f3",
           "#FF6692",
           "#B6E880",
           "#FF97FF",
           "#FECB52"
          ],
          "font": {
           "color": "#2a3f5f"
          },
          "hovermode": "closest",
          "hoverlabel": {
           "align": "left"
          },
          "paper_bgcolor": "white",
          "plot_bgcolor": "#E5ECF6",
          "polar": {
           "bgcolor": "#E5ECF6",
           "angularaxis": {
            "gridcolor": "white",
            "linecolor": "white",
            "ticks": ""
           },
           "radialaxis": {
            "gridcolor": "white",
            "linecolor": "white",
            "ticks": ""
           }
          },
          "ternary": {
           "bgcolor": "#E5ECF6",
           "aaxis": {
            "gridcolor": "white",
            "linecolor": "white",
            "ticks": ""
           },
           "baxis": {
            "gridcolor": "white",
            "linecolor": "white",
            "ticks": ""
           },
           "caxis": {
            "gridcolor": "white",
            "linecolor": "white",
            "ticks": ""
           }
          },
          "coloraxis": {
           "colorbar": {
            "outlinewidth": 0,
            "ticks": ""
           }
          },
          "colorscale": {
           "sequential": [
            [
             0,
             "#0d0887"
            ],
            [
             0.1111111111111111,
             "#46039f"
            ],
            [
             0.2222222222222222,
             "#7201a8"
            ],
            [
             0.3333333333333333,
             "#9c179e"
            ],
            [
             0.4444444444444444,
             "#bd3786"
            ],
            [
             0.5555555555555556,
             "#d8576b"
            ],
            [
             0.6666666666666666,
             "#ed7953"
            ],
            [
             0.7777777777777778,
             "#fb9f3a"
            ],
            [
             0.8888888888888888,
             "#fdca26"
            ],
            [
             1,
             "#f0f921"
            ]
           ],
           "sequentialminus": [
            [
             0,
             "#0d0887"
            ],
            [
             0.1111111111111111,
             "#46039f"
            ],
            [
             0.2222222222222222,
             "#7201a8"
            ],
            [
             0.3333333333333333,
             "#9c179e"
            ],
            [
             0.4444444444444444,
             "#bd3786"
            ],
            [
             0.5555555555555556,
             "#d8576b"
            ],
            [
             0.6666666666666666,
             "#ed7953"
            ],
            [
             0.7777777777777778,
             "#fb9f3a"
            ],
            [
             0.8888888888888888,
             "#fdca26"
            ],
            [
             1,
             "#f0f921"
            ]
           ],
           "diverging": [
            [
             0,
             "#8e0152"
            ],
            [
             0.1,
             "#c51b7d"
            ],
            [
             0.2,
             "#de77ae"
            ],
            [
             0.3,
             "#f1b6da"
            ],
            [
             0.4,
             "#fde0ef"
            ],
            [
             0.5,
             "#f7f7f7"
            ],
            [
             0.6,
             "#e6f5d0"
            ],
            [
             0.7,
             "#b8e186"
            ],
            [
             0.8,
             "#7fbc41"
            ],
            [
             0.9,
             "#4d9221"
            ],
            [
             1,
             "#276419"
            ]
           ]
          },
          "xaxis": {
           "gridcolor": "white",
           "linecolor": "white",
           "ticks": "",
           "title": {
            "standoff": 15
           },
           "zerolinecolor": "white",
           "automargin": true,
           "zerolinewidth": 2
          },
          "yaxis": {
           "gridcolor": "white",
           "linecolor": "white",
           "ticks": "",
           "title": {
            "standoff": 15
           },
           "zerolinecolor": "white",
           "automargin": true,
           "zerolinewidth": 2
          },
          "scene": {
           "xaxis": {
            "backgroundcolor": "#E5ECF6",
            "gridcolor": "white",
            "linecolor": "white",
            "showbackground": true,
            "ticks": "",
            "zerolinecolor": "white",
            "gridwidth": 2
           },
           "yaxis": {
            "backgroundcolor": "#E5ECF6",
            "gridcolor": "white",
            "linecolor": "white",
            "showbackground": true,
            "ticks": "",
            "zerolinecolor": "white",
            "gridwidth": 2
           },
           "zaxis": {
            "backgroundcolor": "#E5ECF6",
            "gridcolor": "white",
            "linecolor": "white",
            "showbackground": true,
            "ticks": "",
            "zerolinecolor": "white",
            "gridwidth": 2
           }
          },
          "shapedefaults": {
           "line": {
            "color": "#2a3f5f"
           }
          },
          "annotationdefaults": {
           "arrowcolor": "#2a3f5f",
           "arrowhead": 0,
           "arrowwidth": 1
          },
          "geo": {
           "bgcolor": "white",
           "landcolor": "#E5ECF6",
           "subunitcolor": "white",
           "showland": true,
           "showlakes": true,
           "lakecolor": "white"
          },
          "title": {
           "x": 0.05
          },
          "mapbox": {
           "style": "light"
          }
         }
        },
        "title": {
         "text": "Emissions de carbone d'une viande crue par étape de production"
        },
        "xaxis": {
         "title": {
          "text": "Etape de production"
         }
        },
        "yaxis": {
         "title": {
          "text": "Quantité"
         }
        }
       },
       "config": {
        "plotlyServerURL": "https://plot.ly"
       }
      }
     },
     "metadata": {}
    }
   ],
   "source": [
    "couleurs = ['green', 'red', 'blue', 'orange', 'purple','pink']\n",
    "\n",
    "fig = go.Figure(data=[go.Bar(x=vol.index, y=vol, marker=dict(color=couleurs))])\n",
    "\n",
    "fig.update_layout(\n",
    "    title=\"Emissions de carbone d'une viande crue par étape de production\",\n",
    "    xaxis_title=\"Etape de production\",\n",
    "    yaxis_title=\"Quantité\"\n",
    ")\n",
    "\n",
    "fig.show()"
   ]
  },
  {
   "cell_type": "code",
   "execution_count": 154,
   "metadata": {},
   "outputs": [],
   "source": [
    "vol_con=volailles.groupby([\"Groupe d'aliment\"])[[\"Agriculture\", \"Transformation\", \"Emballage\", \"Transport\",\"Supermarché et distribution\",\"Consommation\"]].mean()"
   ]
  },
  {
   "cell_type": "code",
   "execution_count": 158,
   "metadata": {},
   "outputs": [
    {
     "output_type": "display_data",
     "data": {
      "application/vnd.plotly.v1+json": {
       "data": [
        {
         "marker": {
          "color": [
           "green",
           "red",
           "blue",
           "orange",
           "purple",
           "pink"
          ]
         },
         "x": [
          "Agriculture",
          "Transformation",
          "Emballage",
          "Transport",
          "Supermarché et distribution",
          "Consommation"
         ],
         "y": [
          0.5251534330100001,
          0.08120305010615383,
          0.018794281329807677,
          0.016868442810384607,
          0.007243274986861538,
          0.019296117235
         ],
         "type": "bar"
        }
       ],
       "layout": {
        "template": {
         "data": {
          "histogram2dcontour": [
           {
            "type": "histogram2dcontour",
            "colorbar": {
             "outlinewidth": 0,
             "ticks": ""
            },
            "colorscale": [
             [
              0,
              "#0d0887"
             ],
             [
              0.1111111111111111,
              "#46039f"
             ],
             [
              0.2222222222222222,
              "#7201a8"
             ],
             [
              0.3333333333333333,
              "#9c179e"
             ],
             [
              0.4444444444444444,
              "#bd3786"
             ],
             [
              0.5555555555555556,
              "#d8576b"
             ],
             [
              0.6666666666666666,
              "#ed7953"
             ],
             [
              0.7777777777777778,
              "#fb9f3a"
             ],
             [
              0.8888888888888888,
              "#fdca26"
             ],
             [
              1,
              "#f0f921"
             ]
            ]
           }
          ],
          "choropleth": [
           {
            "type": "choropleth",
            "colorbar": {
             "outlinewidth": 0,
             "ticks": ""
            }
           }
          ],
          "histogram2d": [
           {
            "type": "histogram2d",
            "colorbar": {
             "outlinewidth": 0,
             "ticks": ""
            },
            "colorscale": [
             [
              0,
              "#0d0887"
             ],
             [
              0.1111111111111111,
              "#46039f"
             ],
             [
              0.2222222222222222,
              "#7201a8"
             ],
             [
              0.3333333333333333,
              "#9c179e"
             ],
             [
              0.4444444444444444,
              "#bd3786"
             ],
             [
              0.5555555555555556,
              "#d8576b"
             ],
             [
              0.6666666666666666,
              "#ed7953"
             ],
             [
              0.7777777777777778,
              "#fb9f3a"
             ],
             [
              0.8888888888888888,
              "#fdca26"
             ],
             [
              1,
              "#f0f921"
             ]
            ]
           }
          ],
          "heatmap": [
           {
            "type": "heatmap",
            "colorbar": {
             "outlinewidth": 0,
             "ticks": ""
            },
            "colorscale": [
             [
              0,
              "#0d0887"
             ],
             [
              0.1111111111111111,
              "#46039f"
             ],
             [
              0.2222222222222222,
              "#7201a8"
             ],
             [
              0.3333333333333333,
              "#9c179e"
             ],
             [
              0.4444444444444444,
              "#bd3786"
             ],
             [
              0.5555555555555556,
              "#d8576b"
             ],
             [
              0.6666666666666666,
              "#ed7953"
             ],
             [
              0.7777777777777778,
              "#fb9f3a"
             ],
             [
              0.8888888888888888,
              "#fdca26"
             ],
             [
              1,
              "#f0f921"
             ]
            ]
           }
          ],
          "heatmapgl": [
           {
            "type": "heatmapgl",
            "colorbar": {
             "outlinewidth": 0,
             "ticks": ""
            },
            "colorscale": [
             [
              0,
              "#0d0887"
             ],
             [
              0.1111111111111111,
              "#46039f"
             ],
             [
              0.2222222222222222,
              "#7201a8"
             ],
             [
              0.3333333333333333,
              "#9c179e"
             ],
             [
              0.4444444444444444,
              "#bd3786"
             ],
             [
              0.5555555555555556,
              "#d8576b"
             ],
             [
              0.6666666666666666,
              "#ed7953"
             ],
             [
              0.7777777777777778,
              "#fb9f3a"
             ],
             [
              0.8888888888888888,
              "#fdca26"
             ],
             [
              1,
              "#f0f921"
             ]
            ]
           }
          ],
          "contourcarpet": [
           {
            "type": "contourcarpet",
            "colorbar": {
             "outlinewidth": 0,
             "ticks": ""
            }
           }
          ],
          "contour": [
           {
            "type": "contour",
            "colorbar": {
             "outlinewidth": 0,
             "ticks": ""
            },
            "colorscale": [
             [
              0,
              "#0d0887"
             ],
             [
              0.1111111111111111,
              "#46039f"
             ],
             [
              0.2222222222222222,
              "#7201a8"
             ],
             [
              0.3333333333333333,
              "#9c179e"
             ],
             [
              0.4444444444444444,
              "#bd3786"
             ],
             [
              0.5555555555555556,
              "#d8576b"
             ],
             [
              0.6666666666666666,
              "#ed7953"
             ],
             [
              0.7777777777777778,
              "#fb9f3a"
             ],
             [
              0.8888888888888888,
              "#fdca26"
             ],
             [
              1,
              "#f0f921"
             ]
            ]
           }
          ],
          "surface": [
           {
            "type": "surface",
            "colorbar": {
             "outlinewidth": 0,
             "ticks": ""
            },
            "colorscale": [
             [
              0,
              "#0d0887"
             ],
             [
              0.1111111111111111,
              "#46039f"
             ],
             [
              0.2222222222222222,
              "#7201a8"
             ],
             [
              0.3333333333333333,
              "#9c179e"
             ],
             [
              0.4444444444444444,
              "#bd3786"
             ],
             [
              0.5555555555555556,
              "#d8576b"
             ],
             [
              0.6666666666666666,
              "#ed7953"
             ],
             [
              0.7777777777777778,
              "#fb9f3a"
             ],
             [
              0.8888888888888888,
              "#fdca26"
             ],
             [
              1,
              "#f0f921"
             ]
            ]
           }
          ],
          "mesh3d": [
           {
            "type": "mesh3d",
            "colorbar": {
             "outlinewidth": 0,
             "ticks": ""
            }
           }
          ],
          "scatter": [
           {
            "fillpattern": {
             "fillmode": "overlay",
             "size": 10,
             "solidity": 0.2
            },
            "type": "scatter"
           }
          ],
          "parcoords": [
           {
            "type": "parcoords",
            "line": {
             "colorbar": {
              "outlinewidth": 0,
              "ticks": ""
             }
            }
           }
          ],
          "scatterpolargl": [
           {
            "type": "scatterpolargl",
            "marker": {
             "colorbar": {
              "outlinewidth": 0,
              "ticks": ""
             }
            }
           }
          ],
          "bar": [
           {
            "error_x": {
             "color": "#2a3f5f"
            },
            "error_y": {
             "color": "#2a3f5f"
            },
            "marker": {
             "line": {
              "color": "#E5ECF6",
              "width": 0.5
             },
             "pattern": {
              "fillmode": "overlay",
              "size": 10,
              "solidity": 0.2
             }
            },
            "type": "bar"
           }
          ],
          "scattergeo": [
           {
            "type": "scattergeo",
            "marker": {
             "colorbar": {
              "outlinewidth": 0,
              "ticks": ""
             }
            }
           }
          ],
          "scatterpolar": [
           {
            "type": "scatterpolar",
            "marker": {
             "colorbar": {
              "outlinewidth": 0,
              "ticks": ""
             }
            }
           }
          ],
          "histogram": [
           {
            "marker": {
             "pattern": {
              "fillmode": "overlay",
              "size": 10,
              "solidity": 0.2
             }
            },
            "type": "histogram"
           }
          ],
          "scattergl": [
           {
            "type": "scattergl",
            "marker": {
             "colorbar": {
              "outlinewidth": 0,
              "ticks": ""
             }
            }
           }
          ],
          "scatter3d": [
           {
            "type": "scatter3d",
            "line": {
             "colorbar": {
              "outlinewidth": 0,
              "ticks": ""
             }
            },
            "marker": {
             "colorbar": {
              "outlinewidth": 0,
              "ticks": ""
             }
            }
           }
          ],
          "scattermapbox": [
           {
            "type": "scattermapbox",
            "marker": {
             "colorbar": {
              "outlinewidth": 0,
              "ticks": ""
             }
            }
           }
          ],
          "scatterternary": [
           {
            "type": "scatterternary",
            "marker": {
             "colorbar": {
              "outlinewidth": 0,
              "ticks": ""
             }
            }
           }
          ],
          "scattercarpet": [
           {
            "type": "scattercarpet",
            "marker": {
             "colorbar": {
              "outlinewidth": 0,
              "ticks": ""
             }
            }
           }
          ],
          "carpet": [
           {
            "aaxis": {
             "endlinecolor": "#2a3f5f",
             "gridcolor": "white",
             "linecolor": "white",
             "minorgridcolor": "white",
             "startlinecolor": "#2a3f5f"
            },
            "baxis": {
             "endlinecolor": "#2a3f5f",
             "gridcolor": "white",
             "linecolor": "white",
             "minorgridcolor": "white",
             "startlinecolor": "#2a3f5f"
            },
            "type": "carpet"
           }
          ],
          "table": [
           {
            "cells": {
             "fill": {
              "color": "#EBF0F8"
             },
             "line": {
              "color": "white"
             }
            },
            "header": {
             "fill": {
              "color": "#C8D4E3"
             },
             "line": {
              "color": "white"
             }
            },
            "type": "table"
           }
          ],
          "barpolar": [
           {
            "marker": {
             "line": {
              "color": "#E5ECF6",
              "width": 0.5
             },
             "pattern": {
              "fillmode": "overlay",
              "size": 10,
              "solidity": 0.2
             }
            },
            "type": "barpolar"
           }
          ],
          "pie": [
           {
            "automargin": true,
            "type": "pie"
           }
          ]
         },
         "layout": {
          "autotypenumbers": "strict",
          "colorway": [
           "#636efa",
           "#EF553B",
           "#00cc96",
           "#ab63fa",
           "#FFA15A",
           "#19d3f3",
           "#FF6692",
           "#B6E880",
           "#FF97FF",
           "#FECB52"
          ],
          "font": {
           "color": "#2a3f5f"
          },
          "hovermode": "closest",
          "hoverlabel": {
           "align": "left"
          },
          "paper_bgcolor": "white",
          "plot_bgcolor": "#E5ECF6",
          "polar": {
           "bgcolor": "#E5ECF6",
           "angularaxis": {
            "gridcolor": "white",
            "linecolor": "white",
            "ticks": ""
           },
           "radialaxis": {
            "gridcolor": "white",
            "linecolor": "white",
            "ticks": ""
           }
          },
          "ternary": {
           "bgcolor": "#E5ECF6",
           "aaxis": {
            "gridcolor": "white",
            "linecolor": "white",
            "ticks": ""
           },
           "baxis": {
            "gridcolor": "white",
            "linecolor": "white",
            "ticks": ""
           },
           "caxis": {
            "gridcolor": "white",
            "linecolor": "white",
            "ticks": ""
           }
          },
          "coloraxis": {
           "colorbar": {
            "outlinewidth": 0,
            "ticks": ""
           }
          },
          "colorscale": {
           "sequential": [
            [
             0,
             "#0d0887"
            ],
            [
             0.1111111111111111,
             "#46039f"
            ],
            [
             0.2222222222222222,
             "#7201a8"
            ],
            [
             0.3333333333333333,
             "#9c179e"
            ],
            [
             0.4444444444444444,
             "#bd3786"
            ],
            [
             0.5555555555555556,
             "#d8576b"
            ],
            [
             0.6666666666666666,
             "#ed7953"
            ],
            [
             0.7777777777777778,
             "#fb9f3a"
            ],
            [
             0.8888888888888888,
             "#fdca26"
            ],
            [
             1,
             "#f0f921"
            ]
           ],
           "sequentialminus": [
            [
             0,
             "#0d0887"
            ],
            [
             0.1111111111111111,
             "#46039f"
            ],
            [
             0.2222222222222222,
             "#7201a8"
            ],
            [
             0.3333333333333333,
             "#9c179e"
            ],
            [
             0.4444444444444444,
             "#bd3786"
            ],
            [
             0.5555555555555556,
             "#d8576b"
            ],
            [
             0.6666666666666666,
             "#ed7953"
            ],
            [
             0.7777777777777778,
             "#fb9f3a"
            ],
            [
             0.8888888888888888,
             "#fdca26"
            ],
            [
             1,
             "#f0f921"
            ]
           ],
           "diverging": [
            [
             0,
             "#8e0152"
            ],
            [
             0.1,
             "#c51b7d"
            ],
            [
             0.2,
             "#de77ae"
            ],
            [
             0.3,
             "#f1b6da"
            ],
            [
             0.4,
             "#fde0ef"
            ],
            [
             0.5,
             "#f7f7f7"
            ],
            [
             0.6,
             "#e6f5d0"
            ],
            [
             0.7,
             "#b8e186"
            ],
            [
             0.8,
             "#7fbc41"
            ],
            [
             0.9,
             "#4d9221"
            ],
            [
             1,
             "#276419"
            ]
           ]
          },
          "xaxis": {
           "gridcolor": "white",
           "linecolor": "white",
           "ticks": "",
           "title": {
            "standoff": 15
           },
           "zerolinecolor": "white",
           "automargin": true,
           "zerolinewidth": 2
          },
          "yaxis": {
           "gridcolor": "white",
           "linecolor": "white",
           "ticks": "",
           "title": {
            "standoff": 15
           },
           "zerolinecolor": "white",
           "automargin": true,
           "zerolinewidth": 2
          },
          "scene": {
           "xaxis": {
            "backgroundcolor": "#E5ECF6",
            "gridcolor": "white",
            "linecolor": "white",
            "showbackground": true,
            "ticks": "",
            "zerolinecolor": "white",
            "gridwidth": 2
           },
           "yaxis": {
            "backgroundcolor": "#E5ECF6",
            "gridcolor": "white",
            "linecolor": "white",
            "showbackground": true,
            "ticks": "",
            "zerolinecolor": "white",
            "gridwidth": 2
           },
           "zaxis": {
            "backgroundcolor": "#E5ECF6",
            "gridcolor": "white",
            "linecolor": "white",
            "showbackground": true,
            "ticks": "",
            "zerolinecolor": "white",
            "gridwidth": 2
           }
          },
          "shapedefaults": {
           "line": {
            "color": "#2a3f5f"
           }
          },
          "annotationdefaults": {
           "arrowcolor": "#2a3f5f",
           "arrowhead": 0,
           "arrowwidth": 1
          },
          "geo": {
           "bgcolor": "white",
           "landcolor": "#E5ECF6",
           "subunitcolor": "white",
           "showland": true,
           "showlakes": true,
           "lakecolor": "white"
          },
          "title": {
           "x": 0.05
          },
          "mapbox": {
           "style": "light"
          }
         }
        },
        "title": {
         "text": "Emissions de carbone d'une volaille par étape de production"
        },
        "xaxis": {
         "title": {
          "text": "Etape de production"
         }
        },
        "yaxis": {
         "title": {
          "text": "quantité d'émission de carbone"
         }
        }
       },
       "config": {
        "plotlyServerURL": "https://plot.ly"
       }
      }
     },
     "metadata": {}
    }
   ],
   "source": [
    "couleurs = ['green', 'red', 'blue', 'orange', 'purple','pink']\n",
    "\n",
    "fig = go.Figure(data=[go.Bar(x=vol_con.mean().index, y=vol_con.mean(), marker=dict(color=couleurs))])\n",
    "\n",
    "fig.update_layout(\n",
    "    title=\"Emissions de carbone d'une volaille par étape de production\",\n",
    "    xaxis_title=\"Etape de production\",\n",
    "    yaxis_title=\"quantité d'émission de carbone\"\n",
    ")\n",
    "\n",
    "fig.show()"
   ]
  },
  {
   "cell_type": "code",
   "execution_count": null,
   "metadata": {},
   "outputs": [],
   "source": []
  }
 ]
}