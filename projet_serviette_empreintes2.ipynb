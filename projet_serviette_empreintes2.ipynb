{
 "metadata": {
  "language_info": {
   "codemirror_mode": {
    "name": "ipython",
    "version": 3
   },
   "file_extension": ".py",
   "mimetype": "text/x-python",
   "name": "python",
   "nbconvert_exporter": "python",
   "pygments_lexer": "ipython3",
   "version": "3.9.13-final"
  },
  "orig_nbformat": 2,
  "kernelspec": {
   "name": "python3",
   "display_name": "Python 3.9.13 64-bit ('CEFIM': virtualenv)",
   "metadata": {
    "interpreter": {
     "hash": "bdff91ece41161bfc8419e2037b325266a1bff589078ccd6b21e9d3b9060f5f1"
    }
   }
  }
 },
 "nbformat": 4,
 "nbformat_minor": 2,
 "cells": [
  {
   "cell_type": "code",
   "execution_count": 1,
   "metadata": {},
   "outputs": [],
   "source": [
    "import pandas as pd\n",
    "\n",
    "import plotly.graph_objects as go\n",
    "import plotly.express as px\n",
    "from plotly.subplots import make_subplots"
   ]
  },
  {
   "cell_type": "code",
   "execution_count": 2,
   "metadata": {},
   "outputs": [],
   "source": [
    "df=pd.read_csv(\"data/etape.csv\")"
   ]
  },
  {
   "cell_type": "code",
   "execution_count": 3,
   "metadata": {},
   "outputs": [
    {
     "output_type": "execute_result",
     "data": {
      "text/plain": [
       "     Code AGB  Code CIQUAL                        Groupe d'aliment  \\\n",
       "0       11084        11084  aides culinaires et ingrédients divers   \n",
       "1       11023        11023  aides culinaires et ingrédients divers   \n",
       "2       11000        11000  aides culinaires et ingrédients divers   \n",
       "3       11093        11093  aides culinaires et ingrédients divers   \n",
       "4       20995        20995  aides culinaires et ingrédients divers   \n",
       "...       ...          ...                                     ...   \n",
       "2512     6535         6535                 viandes, œufs, poissons   \n",
       "2513     6582         6582                 viandes, œufs, poissons   \n",
       "2514    26146        26146                 viandes, œufs, poissons   \n",
       "2515    26147        26147                 viandes, œufs, poissons   \n",
       "2516    25512        25512                 viandes, œufs, poissons   \n",
       "\n",
       "                 Sous-groupe d'aliment  \\\n",
       "0                               algues   \n",
       "1                               herbes   \n",
       "2                               herbes   \n",
       "3                               herbes   \n",
       "4                               algues   \n",
       "...                                ...   \n",
       "2512                     viandes crues   \n",
       "2513                    viandes cuites   \n",
       "2514                     poissons crus   \n",
       "2515                    poissons cuits   \n",
       "2516  autres produits à base de viande   \n",
       "\n",
       "                             Nom du Produit en Français  \\\n",
       "0                                     Agar (algue), cru   \n",
       "1                                     Ail séché, poudre   \n",
       "2                                              Ail, cru   \n",
       "3                                          Aneth, frais   \n",
       "4     Ao-nori (Enteromorpha sp.), séchée ou déshydratée   \n",
       "...                                                 ...   \n",
       "2512                      Veau, steak haché 20% MG, cru   \n",
       "2513                 Veau, tête, bouillie/cuite à l'eau   \n",
       "2514                                      Vivaneau, cru   \n",
       "2515                                     Vivaneau, cuit   \n",
       "2516               Volaille, croquette panée ou nuggets   \n",
       "\n",
       "                                               LCI Name   DQR  \\\n",
       "0                                    Seaweed, agar, raw  2.99   \n",
       "1                                 Garlic, powder, dried  4.11   \n",
       "2                                         Garlic, fresh  3.54   \n",
       "3                                           Dill, fresh  3.75   \n",
       "4     Sea lettuce (Enteromorpha sp.), dried or dehyd...  2.99   \n",
       "...                                                 ...   ...   \n",
       "2512                   Veal, minced steak, 20% fat, raw  2.47   \n",
       "2513                 Calf, head, boiled/cooked in water  2.45   \n",
       "2514                                       Snapper, raw  3.68   \n",
       "2515                                    Snapper, cooked  3.56   \n",
       "2516                                    Poultry nuggets  2.79   \n",
       "\n",
       "                                            Nom et code  Agriculture  \\\n",
       "0                             Agar (algue), cru (11084)     0.654812   \n",
       "1                             Ail séché, poudre (11023)     0.032661   \n",
       "2                                      Ail, cru (11000)     0.040826   \n",
       "3                                  Aneth, frais (11093)     0.082933   \n",
       "4     Ao-nori (Enteromorpha sp.), séchée ou déshydra...     0.654812   \n",
       "...                                                 ...          ...   \n",
       "2512               Veau, steak haché 20% MG, cru (6535)     2.085451   \n",
       "2513          Veau, tête, bouillie/cuite à l'eau (6582)     2.147376   \n",
       "2514                              Vivaneau, cru (26146)     0.719615   \n",
       "2515                             Vivaneau, cuit (26147)     0.878692   \n",
       "2516       Volaille, croquette panée ou nuggets (25512)     0.633044   \n",
       "\n",
       "      Transformation  Emballage  Transport  Supermarché et distribution  \\\n",
       "0           0.500987   0.024443   0.046250                     0.004981   \n",
       "1           0.000000   0.050709   0.015277                     0.004503   \n",
       "2           0.000000   0.000000   0.014071                     0.005629   \n",
       "3           0.000000   0.027221   0.013011                     0.005629   \n",
       "4           0.500987   0.024443   0.046250                     0.004981   \n",
       "...              ...        ...        ...                          ...   \n",
       "2512        0.045533   0.017899   0.016104                     0.009053   \n",
       "2513        0.010702   0.028263   0.024679                     0.014295   \n",
       "2514        0.000000   0.017899   0.067222                     0.009053   \n",
       "2515        0.000000   0.018973   0.082082                     0.011054   \n",
       "2516        0.129015   0.039739   0.016279                     0.009087   \n",
       "\n",
       "      Consommation  \n",
       "0         0.000407  \n",
       "1         0.000000  \n",
       "2         0.003288  \n",
       "3         0.003288  \n",
       "4         0.000407  \n",
       "...            ...  \n",
       "2512      0.002455  \n",
       "2513      0.033860  \n",
       "2514      0.002455  \n",
       "2515      0.034592  \n",
       "2516      0.034049  \n",
       "\n",
       "[2517 rows x 14 columns]"
      ],
      "text/html": "<div>\n<style scoped>\n    .dataframe tbody tr th:only-of-type {\n        vertical-align: middle;\n    }\n\n    .dataframe tbody tr th {\n        vertical-align: top;\n    }\n\n    .dataframe thead th {\n        text-align: right;\n    }\n</style>\n<table border=\"1\" class=\"dataframe\">\n  <thead>\n    <tr style=\"text-align: right;\">\n      <th></th>\n      <th>Code AGB</th>\n      <th>Code CIQUAL</th>\n      <th>Groupe d'aliment</th>\n      <th>Sous-groupe d'aliment</th>\n      <th>Nom du Produit en Français</th>\n      <th>LCI Name</th>\n      <th>DQR</th>\n      <th>Nom et code</th>\n      <th>Agriculture</th>\n      <th>Transformation</th>\n      <th>Emballage</th>\n      <th>Transport</th>\n      <th>Supermarché et distribution</th>\n      <th>Consommation</th>\n    </tr>\n  </thead>\n  <tbody>\n    <tr>\n      <th>0</th>\n      <td>11084</td>\n      <td>11084</td>\n      <td>aides culinaires et ingrédients divers</td>\n      <td>algues</td>\n      <td>Agar (algue), cru</td>\n      <td>Seaweed, agar, raw</td>\n      <td>2.99</td>\n      <td>Agar (algue), cru (11084)</td>\n      <td>0.654812</td>\n      <td>0.500987</td>\n      <td>0.024443</td>\n      <td>0.046250</td>\n      <td>0.004981</td>\n      <td>0.000407</td>\n    </tr>\n    <tr>\n      <th>1</th>\n      <td>11023</td>\n      <td>11023</td>\n      <td>aides culinaires et ingrédients divers</td>\n      <td>herbes</td>\n      <td>Ail séché, poudre</td>\n      <td>Garlic, powder, dried</td>\n      <td>4.11</td>\n      <td>Ail séché, poudre (11023)</td>\n      <td>0.032661</td>\n      <td>0.000000</td>\n      <td>0.050709</td>\n      <td>0.015277</td>\n      <td>0.004503</td>\n      <td>0.000000</td>\n    </tr>\n    <tr>\n      <th>2</th>\n      <td>11000</td>\n      <td>11000</td>\n      <td>aides culinaires et ingrédients divers</td>\n      <td>herbes</td>\n      <td>Ail, cru</td>\n      <td>Garlic, fresh</td>\n      <td>3.54</td>\n      <td>Ail, cru (11000)</td>\n      <td>0.040826</td>\n      <td>0.000000</td>\n      <td>0.000000</td>\n      <td>0.014071</td>\n      <td>0.005629</td>\n      <td>0.003288</td>\n    </tr>\n    <tr>\n      <th>3</th>\n      <td>11093</td>\n      <td>11093</td>\n      <td>aides culinaires et ingrédients divers</td>\n      <td>herbes</td>\n      <td>Aneth, frais</td>\n      <td>Dill, fresh</td>\n      <td>3.75</td>\n      <td>Aneth, frais (11093)</td>\n      <td>0.082933</td>\n      <td>0.000000</td>\n      <td>0.027221</td>\n      <td>0.013011</td>\n      <td>0.005629</td>\n      <td>0.003288</td>\n    </tr>\n    <tr>\n      <th>4</th>\n      <td>20995</td>\n      <td>20995</td>\n      <td>aides culinaires et ingrédients divers</td>\n      <td>algues</td>\n      <td>Ao-nori (Enteromorpha sp.), séchée ou déshydratée</td>\n      <td>Sea lettuce (Enteromorpha sp.), dried or dehyd...</td>\n      <td>2.99</td>\n      <td>Ao-nori (Enteromorpha sp.), séchée ou déshydra...</td>\n      <td>0.654812</td>\n      <td>0.500987</td>\n      <td>0.024443</td>\n      <td>0.046250</td>\n      <td>0.004981</td>\n      <td>0.000407</td>\n    </tr>\n    <tr>\n      <th>...</th>\n      <td>...</td>\n      <td>...</td>\n      <td>...</td>\n      <td>...</td>\n      <td>...</td>\n      <td>...</td>\n      <td>...</td>\n      <td>...</td>\n      <td>...</td>\n      <td>...</td>\n      <td>...</td>\n      <td>...</td>\n      <td>...</td>\n      <td>...</td>\n    </tr>\n    <tr>\n      <th>2512</th>\n      <td>6535</td>\n      <td>6535</td>\n      <td>viandes, œufs, poissons</td>\n      <td>viandes crues</td>\n      <td>Veau, steak haché 20% MG, cru</td>\n      <td>Veal, minced steak, 20% fat, raw</td>\n      <td>2.47</td>\n      <td>Veau, steak haché 20% MG, cru (6535)</td>\n      <td>2.085451</td>\n      <td>0.045533</td>\n      <td>0.017899</td>\n      <td>0.016104</td>\n      <td>0.009053</td>\n      <td>0.002455</td>\n    </tr>\n    <tr>\n      <th>2513</th>\n      <td>6582</td>\n      <td>6582</td>\n      <td>viandes, œufs, poissons</td>\n      <td>viandes cuites</td>\n      <td>Veau, tête, bouillie/cuite à l'eau</td>\n      <td>Calf, head, boiled/cooked in water</td>\n      <td>2.45</td>\n      <td>Veau, tête, bouillie/cuite à l'eau (6582)</td>\n      <td>2.147376</td>\n      <td>0.010702</td>\n      <td>0.028263</td>\n      <td>0.024679</td>\n      <td>0.014295</td>\n      <td>0.033860</td>\n    </tr>\n    <tr>\n      <th>2514</th>\n      <td>26146</td>\n      <td>26146</td>\n      <td>viandes, œufs, poissons</td>\n      <td>poissons crus</td>\n      <td>Vivaneau, cru</td>\n      <td>Snapper, raw</td>\n      <td>3.68</td>\n      <td>Vivaneau, cru (26146)</td>\n      <td>0.719615</td>\n      <td>0.000000</td>\n      <td>0.017899</td>\n      <td>0.067222</td>\n      <td>0.009053</td>\n      <td>0.002455</td>\n    </tr>\n    <tr>\n      <th>2515</th>\n      <td>26147</td>\n      <td>26147</td>\n      <td>viandes, œufs, poissons</td>\n      <td>poissons cuits</td>\n      <td>Vivaneau, cuit</td>\n      <td>Snapper, cooked</td>\n      <td>3.56</td>\n      <td>Vivaneau, cuit (26147)</td>\n      <td>0.878692</td>\n      <td>0.000000</td>\n      <td>0.018973</td>\n      <td>0.082082</td>\n      <td>0.011054</td>\n      <td>0.034592</td>\n    </tr>\n    <tr>\n      <th>2516</th>\n      <td>25512</td>\n      <td>25512</td>\n      <td>viandes, œufs, poissons</td>\n      <td>autres produits à base de viande</td>\n      <td>Volaille, croquette panée ou nuggets</td>\n      <td>Poultry nuggets</td>\n      <td>2.79</td>\n      <td>Volaille, croquette panée ou nuggets (25512)</td>\n      <td>0.633044</td>\n      <td>0.129015</td>\n      <td>0.039739</td>\n      <td>0.016279</td>\n      <td>0.009087</td>\n      <td>0.034049</td>\n    </tr>\n  </tbody>\n</table>\n<p>2517 rows × 14 columns</p>\n</div>"
     },
     "metadata": {},
     "execution_count": 3
    }
   ],
   "source": [
    "df"
   ]
  },
  {
   "cell_type": "code",
   "execution_count": 5,
   "metadata": {},
   "outputs": [
    {
     "output_type": "stream",
     "name": "stdout",
     "text": [
      "                                             Agriculture  Transformation  \\\nGroupe d'aliment                                                           \naides culinaires et ingrédients divers          0.320451        0.100962   \naliments infantiles                             0.207173        0.048868   \nboissons                                        0.100389        0.031453   \nentrées et plats composés                       0.468684        0.059792   \nfruits, légumes, légumineuses et oléagineux     0.165761        0.022262   \nglaces et sorbets                               0.125140        0.044961   \nlait et produits laitiers                       0.384358        0.041104   \nmatières grasses                                0.353561        0.054216   \nproduits céréaliers                             0.241296        0.055356   \nproduits sucrés                                 0.219140        0.237136   \nviandes, œufs, poissons                         1.444120        0.066213   \n\n                                             Emballage  Transport  \nGroupe d'aliment                                                   \naides culinaires et ingrédients divers        0.031071   0.021325  \naliments infantiles                           0.016139   0.013200  \nboissons                                      0.027859   0.014394  \nentrées et plats composés                     0.016792   0.023325  \nfruits, légumes, légumineuses et oléagineux   0.015301   0.026126  \nglaces et sorbets                             0.015343   0.016236  \nlait et produits laitiers                     0.019442   0.016631  \nmatières grasses                              0.023303   0.025262  \nproduits céréaliers                           0.015797   0.014302  \nproduits sucrés                               0.018220   0.020157  \nviandes, œufs, poissons                       0.031382   0.044673  \n"
     ]
    }
   ],
   "source": [
    "groupe_ali=df.groupby([\"Groupe d'aliment\"])[\"Agriculture\",\t\"Transformation\",\t\"Emballage\",\t\"Transport\"].mean()\n",
    "print(groupe_ali)"
   ]
  },
  {
   "cell_type": "code",
   "execution_count": 7,
   "metadata": {},
   "outputs": [
    {
     "output_type": "stream",
     "name": "stdout",
     "text": [
      "                                                                                          Agriculture  \\\nGroupe d'aliment                       Sous-groupe d'aliment                                            \naides culinaires et ingrédients divers aides culinaires                                      0.103435   \n                                       algues                                                0.654812   \n                                       condiments                                            0.108568   \n                                       denrées destinées à une alimentation particulière     0.151941   \n                                       herbes                                                0.186256   \n...                                                                                               ...   \nviandes, œufs, poissons                substituts de charcuterie                             0.058334   \n                                       substituts de viande                                  0.029981   \n                                       viandes crues                                         1.691483   \n                                       viandes cuites                                        2.518931   \n                                       œufs                                                  0.522951   \n\n                                                                                          Transformation  \\\nGroupe d'aliment                       Sous-groupe d'aliment                                               \naides culinaires et ingrédients divers aides culinaires                                         0.591943   \n                                       algues                                                   0.500987   \n                                       condiments                                               0.029916   \n                                       denrées destinées à une alimentation particulière        0.045760   \n                                       herbes                                                   0.000000   \n...                                                                                                  ...   \nviandes, œufs, poissons                substituts de charcuterie                                0.087680   \n                                       substituts de viande                                     0.084776   \n                                       viandes crues                                            0.062768   \n                                       viandes cuites                                           0.065358   \n                                       œufs                                                     0.021407   \n\n                                                                                          Emballage  \\\nGroupe d'aliment                       Sous-groupe d'aliment                                          \naides culinaires et ingrédients divers aides culinaires                                    0.073661   \n                                       algues                                              0.024443   \n                                       condiments                                          0.060047   \n                                       denrées destinées à une alimentation particulière   0.042666   \n                                       herbes                                              0.036369   \n...                                                                                             ...   \nviandes, œufs, poissons                substituts de charcuterie                           0.018662   \n                                       substituts de viande                                0.013713   \n                                       viandes crues                                       0.024396   \n                                       viandes cuites                                      0.029521   \n                                       œufs                                                0.014072   \n\n                                                                                          Transport  \nGroupe d'aliment                       Sous-groupe d'aliment                                         \naides culinaires et ingrédients divers aides culinaires                                    0.016176  \n                                       algues                                              0.032936  \n                                       condiments                                          0.019421  \n                                       denrées destinées à une alimentation particulière   0.015680  \n                                       herbes                                              0.013707  \n...                                                                                             ...  \nviandes, œufs, poissons                substituts de charcuterie                           0.016952  \n                                       substituts de viande                                0.014448  \n                                       viandes crues                                       0.018281  \n                                       viandes cuites                                      0.023583  \n                                       œufs                                                0.017158  \n\n[61 rows x 4 columns]\n"
     ]
    }
   ],
   "source": [
    "sous_groupe=df.groupby([\"Groupe d'aliment\",\"Sous-groupe d'aliment\"])[\"Agriculture\",\t\"Transformation\",\"Emballage\",\"Transport\"].mean()\n",
    "print(sous_groupe)"
   ]
  },
  {
   "cell_type": "code",
   "execution_count": 10,
   "metadata": {},
   "outputs": [
    {
     "output_type": "stream",
     "name": "stdout",
     "text": [
      "                                                   Agriculture  \\\nSous-groupe d'aliment                                            \nautres produits à base de viande                      1.498404   \ncharcuteries                                          1.020514   \nmollusques et crustacés crus                          0.859427   \nmollusques et crustacés cuits                         1.682056   \npoissons crus                                         1.237953   \npoissons cuits                                        1.491359   \nproduits à base de poissons et produits de la mer     0.738958   \nsubstituts de charcuterie                             0.058334   \nsubstituts de viande                                  0.029981   \nviandes crues                                         1.691483   \nviandes cuites                                        2.518931   \nœufs                                                  0.522951   \n\n                                                   Transformation  Emballage  \\\nSous-groupe d'aliment                                                          \nautres produits à base de viande                         0.084695   0.027195   \ncharcuteries                                             0.132272   0.030181   \nmollusques et crustacés crus                             0.042426   0.054632   \nmollusques et crustacés cuits                            0.374154   0.027535   \npoissons crus                                            0.001764   0.018132   \npoissons cuits                                           0.002893   0.019265   \nproduits à base de poissons et produits de la mer        0.050364   0.107134   \nsubstituts de charcuterie                                0.087680   0.018662   \nsubstituts de viande                                     0.084776   0.013713   \nviandes crues                                            0.062768   0.024396   \nviandes cuites                                           0.065358   0.029521   \nœufs                                                     0.021407   0.014072   \n\n                                                   Transport  \nSous-groupe d'aliment                                         \nautres produits à base de viande                    0.019987  \ncharcuteries                                        0.017151  \nmollusques et crustacés crus                        0.163019  \nmollusques et crustacés cuits                       0.227531  \npoissons crus                                       0.086904  \npoissons cuits                                      0.101720  \nproduits à base de poissons et produits de la mer   0.064354  \nsubstituts de charcuterie                           0.016952  \nsubstituts de viande                                0.014448  \nviandes crues                                       0.018281  \nviandes cuites                                      0.023583  \nœufs                                                0.017158  \n"
     ]
    }
   ],
   "source": [
    "df_viande=df.groupby([\"Groupe d'aliment\",\"Sous-groupe d'aliment\"])[\"Agriculture\",\t\"Transformation\",\t\"Emballage\",\t\"Transport\"].mean()\n",
    "viandes_liv=df_viande.loc[(\"viandes, œufs, poissons\")]\n",
    "print(viandes_liv)"
   ]
  },
  {
   "cell_type": "code",
   "execution_count": 12,
   "metadata": {},
   "outputs": [
    {
     "output_type": "stream",
     "name": "stdout",
     "text": [
      "Agriculture       1.691483\nTransformation    0.062768\nEmballage         0.024396\nTransport         0.018281\nName: viandes crues, dtype: float64\n"
     ]
    }
   ],
   "source": [
    "viandes_cru=viandes_liv.loc[(\"viandes crues\")]\n",
    "print(viandes_cru)"
   ]
  },
  {
   "cell_type": "code",
   "execution_count": 32,
   "metadata": {},
   "outputs": [
    {
     "output_type": "display_data",
     "data": {
      "application/vnd.plotly.v1+json": {
       "data": [
        {
         "marker": {
          "color": [
           "green",
           "red",
           "blue",
           "orange",
           "purple"
          ]
         },
         "x": [
          "Agriculture",
          "Transformation",
          "Emballage",
          "Transport"
         ],
         "y": [
          1.6914830836029413,
          0.06276759622867646,
          0.024395957176470588,
          0.018281389367647043
         ],
         "type": "bar"
        }
       ],
       "layout": {
        "template": {
         "data": {
          "histogram2dcontour": [
           {
            "type": "histogram2dcontour",
            "colorbar": {
             "outlinewidth": 0,
             "ticks": ""
            },
            "colorscale": [
             [
              0,
              "#0d0887"
             ],
             [
              0.1111111111111111,
              "#46039f"
             ],
             [
              0.2222222222222222,
              "#7201a8"
             ],
             [
              0.3333333333333333,
              "#9c179e"
             ],
             [
              0.4444444444444444,
              "#bd3786"
             ],
             [
              0.5555555555555556,
              "#d8576b"
             ],
             [
              0.6666666666666666,
              "#ed7953"
             ],
             [
              0.7777777777777778,
              "#fb9f3a"
             ],
             [
              0.8888888888888888,
              "#fdca26"
             ],
             [
              1,
              "#f0f921"
             ]
            ]
           }
          ],
          "choropleth": [
           {
            "type": "choropleth",
            "colorbar": {
             "outlinewidth": 0,
             "ticks": ""
            }
           }
          ],
          "histogram2d": [
           {
            "type": "histogram2d",
            "colorbar": {
             "outlinewidth": 0,
             "ticks": ""
            },
            "colorscale": [
             [
              0,
              "#0d0887"
             ],
             [
              0.1111111111111111,
              "#46039f"
             ],
             [
              0.2222222222222222,
              "#7201a8"
             ],
             [
              0.3333333333333333,
              "#9c179e"
             ],
             [
              0.4444444444444444,
              "#bd3786"
             ],
             [
              0.5555555555555556,
              "#d8576b"
             ],
             [
              0.6666666666666666,
              "#ed7953"
             ],
             [
              0.7777777777777778,
              "#fb9f3a"
             ],
             [
              0.8888888888888888,
              "#fdca26"
             ],
             [
              1,
              "#f0f921"
             ]
            ]
           }
          ],
          "heatmap": [
           {
            "type": "heatmap",
            "colorbar": {
             "outlinewidth": 0,
             "ticks": ""
            },
            "colorscale": [
             [
              0,
              "#0d0887"
             ],
             [
              0.1111111111111111,
              "#46039f"
             ],
             [
              0.2222222222222222,
              "#7201a8"
             ],
             [
              0.3333333333333333,
              "#9c179e"
             ],
             [
              0.4444444444444444,
              "#bd3786"
             ],
             [
              0.5555555555555556,
              "#d8576b"
             ],
             [
              0.6666666666666666,
              "#ed7953"
             ],
             [
              0.7777777777777778,
              "#fb9f3a"
             ],
             [
              0.8888888888888888,
              "#fdca26"
             ],
             [
              1,
              "#f0f921"
             ]
            ]
           }
          ],
          "heatmapgl": [
           {
            "type": "heatmapgl",
            "colorbar": {
             "outlinewidth": 0,
             "ticks": ""
            },
            "colorscale": [
             [
              0,
              "#0d0887"
             ],
             [
              0.1111111111111111,
              "#46039f"
             ],
             [
              0.2222222222222222,
              "#7201a8"
             ],
             [
              0.3333333333333333,
              "#9c179e"
             ],
             [
              0.4444444444444444,
              "#bd3786"
             ],
             [
              0.5555555555555556,
              "#d8576b"
             ],
             [
              0.6666666666666666,
              "#ed7953"
             ],
             [
              0.7777777777777778,
              "#fb9f3a"
             ],
             [
              0.8888888888888888,
              "#fdca26"
             ],
             [
              1,
              "#f0f921"
             ]
            ]
           }
          ],
          "contourcarpet": [
           {
            "type": "contourcarpet",
            "colorbar": {
             "outlinewidth": 0,
             "ticks": ""
            }
           }
          ],
          "contour": [
           {
            "type": "contour",
            "colorbar": {
             "outlinewidth": 0,
             "ticks": ""
            },
            "colorscale": [
             [
              0,
              "#0d0887"
             ],
             [
              0.1111111111111111,
              "#46039f"
             ],
             [
              0.2222222222222222,
              "#7201a8"
             ],
             [
              0.3333333333333333,
              "#9c179e"
             ],
             [
              0.4444444444444444,
              "#bd3786"
             ],
             [
              0.5555555555555556,
              "#d8576b"
             ],
             [
              0.6666666666666666,
              "#ed7953"
             ],
             [
              0.7777777777777778,
              "#fb9f3a"
             ],
             [
              0.8888888888888888,
              "#fdca26"
             ],
             [
              1,
              "#f0f921"
             ]
            ]
           }
          ],
          "surface": [
           {
            "type": "surface",
            "colorbar": {
             "outlinewidth": 0,
             "ticks": ""
            },
            "colorscale": [
             [
              0,
              "#0d0887"
             ],
             [
              0.1111111111111111,
              "#46039f"
             ],
             [
              0.2222222222222222,
              "#7201a8"
             ],
             [
              0.3333333333333333,
              "#9c179e"
             ],
             [
              0.4444444444444444,
              "#bd3786"
             ],
             [
              0.5555555555555556,
              "#d8576b"
             ],
             [
              0.6666666666666666,
              "#ed7953"
             ],
             [
              0.7777777777777778,
              "#fb9f3a"
             ],
             [
              0.8888888888888888,
              "#fdca26"
             ],
             [
              1,
              "#f0f921"
             ]
            ]
           }
          ],
          "mesh3d": [
           {
            "type": "mesh3d",
            "colorbar": {
             "outlinewidth": 0,
             "ticks": ""
            }
           }
          ],
          "scatter": [
           {
            "fillpattern": {
             "fillmode": "overlay",
             "size": 10,
             "solidity": 0.2
            },
            "type": "scatter"
           }
          ],
          "parcoords": [
           {
            "type": "parcoords",
            "line": {
             "colorbar": {
              "outlinewidth": 0,
              "ticks": ""
             }
            }
           }
          ],
          "scatterpolargl": [
           {
            "type": "scatterpolargl",
            "marker": {
             "colorbar": {
              "outlinewidth": 0,
              "ticks": ""
             }
            }
           }
          ],
          "bar": [
           {
            "error_x": {
             "color": "#2a3f5f"
            },
            "error_y": {
             "color": "#2a3f5f"
            },
            "marker": {
             "line": {
              "color": "#E5ECF6",
              "width": 0.5
             },
             "pattern": {
              "fillmode": "overlay",
              "size": 10,
              "solidity": 0.2
             }
            },
            "type": "bar"
           }
          ],
          "scattergeo": [
           {
            "type": "scattergeo",
            "marker": {
             "colorbar": {
              "outlinewidth": 0,
              "ticks": ""
             }
            }
           }
          ],
          "scatterpolar": [
           {
            "type": "scatterpolar",
            "marker": {
             "colorbar": {
              "outlinewidth": 0,
              "ticks": ""
             }
            }
           }
          ],
          "histogram": [
           {
            "marker": {
             "pattern": {
              "fillmode": "overlay",
              "size": 10,
              "solidity": 0.2
             }
            },
            "type": "histogram"
           }
          ],
          "scattergl": [
           {
            "type": "scattergl",
            "marker": {
             "colorbar": {
              "outlinewidth": 0,
              "ticks": ""
             }
            }
           }
          ],
          "scatter3d": [
           {
            "type": "scatter3d",
            "line": {
             "colorbar": {
              "outlinewidth": 0,
              "ticks": ""
             }
            },
            "marker": {
             "colorbar": {
              "outlinewidth": 0,
              "ticks": ""
             }
            }
           }
          ],
          "scattermapbox": [
           {
            "type": "scattermapbox",
            "marker": {
             "colorbar": {
              "outlinewidth": 0,
              "ticks": ""
             }
            }
           }
          ],
          "scatterternary": [
           {
            "type": "scatterternary",
            "marker": {
             "colorbar": {
              "outlinewidth": 0,
              "ticks": ""
             }
            }
           }
          ],
          "scattercarpet": [
           {
            "type": "scattercarpet",
            "marker": {
             "colorbar": {
              "outlinewidth": 0,
              "ticks": ""
             }
            }
           }
          ],
          "carpet": [
           {
            "aaxis": {
             "endlinecolor": "#2a3f5f",
             "gridcolor": "white",
             "linecolor": "white",
             "minorgridcolor": "white",
             "startlinecolor": "#2a3f5f"
            },
            "baxis": {
             "endlinecolor": "#2a3f5f",
             "gridcolor": "white",
             "linecolor": "white",
             "minorgridcolor": "white",
             "startlinecolor": "#2a3f5f"
            },
            "type": "carpet"
           }
          ],
          "table": [
           {
            "cells": {
             "fill": {
              "color": "#EBF0F8"
             },
             "line": {
              "color": "white"
             }
            },
            "header": {
             "fill": {
              "color": "#C8D4E3"
             },
             "line": {
              "color": "white"
             }
            },
            "type": "table"
           }
          ],
          "barpolar": [
           {
            "marker": {
             "line": {
              "color": "#E5ECF6",
              "width": 0.5
             },
             "pattern": {
              "fillmode": "overlay",
              "size": 10,
              "solidity": 0.2
             }
            },
            "type": "barpolar"
           }
          ],
          "pie": [
           {
            "automargin": true,
            "type": "pie"
           }
          ]
         },
         "layout": {
          "autotypenumbers": "strict",
          "colorway": [
           "#636efa",
           "#EF553B",
           "#00cc96",
           "#ab63fa",
           "#FFA15A",
           "#19d3f3",
           "#FF6692",
           "#B6E880",
           "#FF97FF",
           "#FECB52"
          ],
          "font": {
           "color": "#2a3f5f"
          },
          "hovermode": "closest",
          "hoverlabel": {
           "align": "left"
          },
          "paper_bgcolor": "white",
          "plot_bgcolor": "#E5ECF6",
          "polar": {
           "bgcolor": "#E5ECF6",
           "angularaxis": {
            "gridcolor": "white",
            "linecolor": "white",
            "ticks": ""
           },
           "radialaxis": {
            "gridcolor": "white",
            "linecolor": "white",
            "ticks": ""
           }
          },
          "ternary": {
           "bgcolor": "#E5ECF6",
           "aaxis": {
            "gridcolor": "white",
            "linecolor": "white",
            "ticks": ""
           },
           "baxis": {
            "gridcolor": "white",
            "linecolor": "white",
            "ticks": ""
           },
           "caxis": {
            "gridcolor": "white",
            "linecolor": "white",
            "ticks": ""
           }
          },
          "coloraxis": {
           "colorbar": {
            "outlinewidth": 0,
            "ticks": ""
           }
          },
          "colorscale": {
           "sequential": [
            [
             0,
             "#0d0887"
            ],
            [
             0.1111111111111111,
             "#46039f"
            ],
            [
             0.2222222222222222,
             "#7201a8"
            ],
            [
             0.3333333333333333,
             "#9c179e"
            ],
            [
             0.4444444444444444,
             "#bd3786"
            ],
            [
             0.5555555555555556,
             "#d8576b"
            ],
            [
             0.6666666666666666,
             "#ed7953"
            ],
            [
             0.7777777777777778,
             "#fb9f3a"
            ],
            [
             0.8888888888888888,
             "#fdca26"
            ],
            [
             1,
             "#f0f921"
            ]
           ],
           "sequentialminus": [
            [
             0,
             "#0d0887"
            ],
            [
             0.1111111111111111,
             "#46039f"
            ],
            [
             0.2222222222222222,
             "#7201a8"
            ],
            [
             0.3333333333333333,
             "#9c179e"
            ],
            [
             0.4444444444444444,
             "#bd3786"
            ],
            [
             0.5555555555555556,
             "#d8576b"
            ],
            [
             0.6666666666666666,
             "#ed7953"
            ],
            [
             0.7777777777777778,
             "#fb9f3a"
            ],
            [
             0.8888888888888888,
             "#fdca26"
            ],
            [
             1,
             "#f0f921"
            ]
           ],
           "diverging": [
            [
             0,
             "#8e0152"
            ],
            [
             0.1,
             "#c51b7d"
            ],
            [
             0.2,
             "#de77ae"
            ],
            [
             0.3,
             "#f1b6da"
            ],
            [
             0.4,
             "#fde0ef"
            ],
            [
             0.5,
             "#f7f7f7"
            ],
            [
             0.6,
             "#e6f5d0"
            ],
            [
             0.7,
             "#b8e186"
            ],
            [
             0.8,
             "#7fbc41"
            ],
            [
             0.9,
             "#4d9221"
            ],
            [
             1,
             "#276419"
            ]
           ]
          },
          "xaxis": {
           "gridcolor": "white",
           "linecolor": "white",
           "ticks": "",
           "title": {
            "standoff": 15
           },
           "zerolinecolor": "white",
           "automargin": true,
           "zerolinewidth": 2
          },
          "yaxis": {
           "gridcolor": "white",
           "linecolor": "white",
           "ticks": "",
           "title": {
            "standoff": 15
           },
           "zerolinecolor": "white",
           "automargin": true,
           "zerolinewidth": 2
          },
          "scene": {
           "xaxis": {
            "backgroundcolor": "#E5ECF6",
            "gridcolor": "white",
            "linecolor": "white",
            "showbackground": true,
            "ticks": "",
            "zerolinecolor": "white",
            "gridwidth": 2
           },
           "yaxis": {
            "backgroundcolor": "#E5ECF6",
            "gridcolor": "white",
            "linecolor": "white",
            "showbackground": true,
            "ticks": "",
            "zerolinecolor": "white",
            "gridwidth": 2
           },
           "zaxis": {
            "backgroundcolor": "#E5ECF6",
            "gridcolor": "white",
            "linecolor": "white",
            "showbackground": true,
            "ticks": "",
            "zerolinecolor": "white",
            "gridwidth": 2
           }
          },
          "shapedefaults": {
           "line": {
            "color": "#2a3f5f"
           }
          },
          "annotationdefaults": {
           "arrowcolor": "#2a3f5f",
           "arrowhead": 0,
           "arrowwidth": 1
          },
          "geo": {
           "bgcolor": "white",
           "landcolor": "#E5ECF6",
           "subunitcolor": "white",
           "showland": true,
           "showlakes": true,
           "lakecolor": "white"
          },
          "title": {
           "x": 0.05
          },
          "mapbox": {
           "style": "light"
          }
         }
        },
        "title": {
         "text": "Emissions de carbone par étape de production"
        },
        "xaxis": {
         "title": {
          "text": "Type de viande"
         }
        },
        "yaxis": {
         "title": {
          "text": "Quantité"
         }
        }
       },
       "config": {
        "plotlyServerURL": "https://plot.ly"
       }
      }
     },
     "metadata": {}
    }
   ],
   "source": [
    "couleurs = ['green', 'red', 'blue', 'orange', 'purple']\n",
    "\n",
    "fig = go.Figure(data=[go.Bar(x=viandes_cru.index, y=viandes_cru, marker=dict(color=couleurs))])\n",
    "\n",
    "fig.update_layout(\n",
    "    title=\"Emissions de carbone par étape de production\",\n",
    "    xaxis_title=\"Type de viande\",\n",
    "    yaxis_title=\"Quantité\"\n",
    ")\n",
    "\n",
    "fig.show()"
   ]
  },
  {
   "cell_type": "code",
   "execution_count": 62,
   "metadata": {},
   "outputs": [
    {
     "output_type": "display_data",
     "data": {
      "application/vnd.plotly.v1+json": {
       "data": [
        {
         "x": [
          "viandes cuites",
          "viandes crues",
          "mollusques et crustacés cuits",
          "autres produits à base de viande",
          "poissons cuits",
          "poissons crus",
          "charcuteries",
          "mollusques et crustacés crus",
          "épices",
          "produits à base de poissons et produits de la mer",
          "algues",
          "plats composés",
          "beurres",
          "feuilletées et autres entrées",
          "fruits à coque et graines oléagineuses",
          "fromages",
          "œufs",
          "huiles et graisses végétales",
          "sandwichs",
          "salades composées et crudités",
          "laits",
          "laits et boissons infantiles",
          "pizzas, tartes et crêpes salées",
          "céréales de petit-déjeuner et biscuits",
          "pâtes, riz et céréales",
          "chocolats et produits à base de chocolat",
          "gâteaux et pâtisseries",
          "margarines",
          "sauces",
          "fruits",
          "céréales et biscuits infantiles",
          "boissons sans alcool",
          "confiseries non chocolatées",
          "crèmes et spécialités à base de crème",
          "herbes",
          "farines et pâtes à tarte",
          "confitures et assimilés",
          "produits laitiers frais et assimilés",
          "sucres, miels et assimilés",
          "autres matières grasses",
          "denrées destinées à une alimentation particulière",
          "pains et viennoiseries",
          "soupes",
          "desserts glacés",
          "glaces",
          "ingrédients divers",
          "petits pots salés et plats infantiles",
          "condiments",
          "aides culinaires",
          "sorbets",
          "desserts infantiles",
          "légumes",
          "pommes de terre et autres tubercules",
          "plats végétariens",
          "substituts de charcuterie",
          "légumineuses",
          "sels",
          "boisson alcoolisées",
          "substituts de viande",
          "eaux",
          "huiles de poissons"
         ],
         "y": [
          2.5189310055238097,
          1.6914830836029413,
          1.682055577142857,
          1.4984040360000002,
          1.4913588629090908,
          1.2379534295531915,
          1.0205142945833332,
          0.8594266307142856,
          0.81804387,
          0.7389575715217391,
          0.65481156,
          0.6402971447459016,
          0.6023410659999999,
          0.5645551981818181,
          0.5611763812244898,
          0.5352491977851239,
          0.5229506766666666,
          0.47253476378947373,
          0.4617789133,
          0.43416230138461537,
          0.3754505144705882,
          0.3628120633333333,
          0.3569572937777778,
          0.300945555072,
          0.2742508003548387,
          0.24422395313333334,
          0.23806090790789472,
          0.22840764411764705,
          0.2273401797457627,
          0.2239063526122449,
          0.2087565,
          0.20624694490235293,
          0.20620777899999998,
          0.20491498833333333,
          0.18625587829166665,
          0.181885335375,
          0.17958770171428573,
          0.16879197270886073,
          0.1678180922857143,
          0.15248362666666668,
          0.15194142,
          0.14708751549315066,
          0.13301425092093022,
          0.129503495,
          0.12714497,
          0.1151399910105263,
          0.11197730469230767,
          0.10856757471428571,
          0.10343527533333334,
          0.10100195899999996,
          0.080199138,
          0.07935775315736039,
          0.07659603182608694,
          0.0601972607142857,
          0.0583343223333333,
          0.05602423116666663,
          0.046244631,
          0.042389386237619044,
          0.02998084119999998,
          0.00084698284,
          0
         ],
         "type": "bar"
        }
       ],
       "layout": {
        "template": {
         "data": {
          "histogram2dcontour": [
           {
            "type": "histogram2dcontour",
            "colorbar": {
             "outlinewidth": 0,
             "ticks": ""
            },
            "colorscale": [
             [
              0,
              "#0d0887"
             ],
             [
              0.1111111111111111,
              "#46039f"
             ],
             [
              0.2222222222222222,
              "#7201a8"
             ],
             [
              0.3333333333333333,
              "#9c179e"
             ],
             [
              0.4444444444444444,
              "#bd3786"
             ],
             [
              0.5555555555555556,
              "#d8576b"
             ],
             [
              0.6666666666666666,
              "#ed7953"
             ],
             [
              0.7777777777777778,
              "#fb9f3a"
             ],
             [
              0.8888888888888888,
              "#fdca26"
             ],
             [
              1,
              "#f0f921"
             ]
            ]
           }
          ],
          "choropleth": [
           {
            "type": "choropleth",
            "colorbar": {
             "outlinewidth": 0,
             "ticks": ""
            }
           }
          ],
          "histogram2d": [
           {
            "type": "histogram2d",
            "colorbar": {
             "outlinewidth": 0,
             "ticks": ""
            },
            "colorscale": [
             [
              0,
              "#0d0887"
             ],
             [
              0.1111111111111111,
              "#46039f"
             ],
             [
              0.2222222222222222,
              "#7201a8"
             ],
             [
              0.3333333333333333,
              "#9c179e"
             ],
             [
              0.4444444444444444,
              "#bd3786"
             ],
             [
              0.5555555555555556,
              "#d8576b"
             ],
             [
              0.6666666666666666,
              "#ed7953"
             ],
             [
              0.7777777777777778,
              "#fb9f3a"
             ],
             [
              0.8888888888888888,
              "#fdca26"
             ],
             [
              1,
              "#f0f921"
             ]
            ]
           }
          ],
          "heatmap": [
           {
            "type": "heatmap",
            "colorbar": {
             "outlinewidth": 0,
             "ticks": ""
            },
            "colorscale": [
             [
              0,
              "#0d0887"
             ],
             [
              0.1111111111111111,
              "#46039f"
             ],
             [
              0.2222222222222222,
              "#7201a8"
             ],
             [
              0.3333333333333333,
              "#9c179e"
             ],
             [
              0.4444444444444444,
              "#bd3786"
             ],
             [
              0.5555555555555556,
              "#d8576b"
             ],
             [
              0.6666666666666666,
              "#ed7953"
             ],
             [
              0.7777777777777778,
              "#fb9f3a"
             ],
             [
              0.8888888888888888,
              "#fdca26"
             ],
             [
              1,
              "#f0f921"
             ]
            ]
           }
          ],
          "heatmapgl": [
           {
            "type": "heatmapgl",
            "colorbar": {
             "outlinewidth": 0,
             "ticks": ""
            },
            "colorscale": [
             [
              0,
              "#0d0887"
             ],
             [
              0.1111111111111111,
              "#46039f"
             ],
             [
              0.2222222222222222,
              "#7201a8"
             ],
             [
              0.3333333333333333,
              "#9c179e"
             ],
             [
              0.4444444444444444,
              "#bd3786"
             ],
             [
              0.5555555555555556,
              "#d8576b"
             ],
             [
              0.6666666666666666,
              "#ed7953"
             ],
             [
              0.7777777777777778,
              "#fb9f3a"
             ],
             [
              0.8888888888888888,
              "#fdca26"
             ],
             [
              1,
              "#f0f921"
             ]
            ]
           }
          ],
          "contourcarpet": [
           {
            "type": "contourcarpet",
            "colorbar": {
             "outlinewidth": 0,
             "ticks": ""
            }
           }
          ],
          "contour": [
           {
            "type": "contour",
            "colorbar": {
             "outlinewidth": 0,
             "ticks": ""
            },
            "colorscale": [
             [
              0,
              "#0d0887"
             ],
             [
              0.1111111111111111,
              "#46039f"
             ],
             [
              0.2222222222222222,
              "#7201a8"
             ],
             [
              0.3333333333333333,
              "#9c179e"
             ],
             [
              0.4444444444444444,
              "#bd3786"
             ],
             [
              0.5555555555555556,
              "#d8576b"
             ],
             [
              0.6666666666666666,
              "#ed7953"
             ],
             [
              0.7777777777777778,
              "#fb9f3a"
             ],
             [
              0.8888888888888888,
              "#fdca26"
             ],
             [
              1,
              "#f0f921"
             ]
            ]
           }
          ],
          "surface": [
           {
            "type": "surface",
            "colorbar": {
             "outlinewidth": 0,
             "ticks": ""
            },
            "colorscale": [
             [
              0,
              "#0d0887"
             ],
             [
              0.1111111111111111,
              "#46039f"
             ],
             [
              0.2222222222222222,
              "#7201a8"
             ],
             [
              0.3333333333333333,
              "#9c179e"
             ],
             [
              0.4444444444444444,
              "#bd3786"
             ],
             [
              0.5555555555555556,
              "#d8576b"
             ],
             [
              0.6666666666666666,
              "#ed7953"
             ],
             [
              0.7777777777777778,
              "#fb9f3a"
             ],
             [
              0.8888888888888888,
              "#fdca26"
             ],
             [
              1,
              "#f0f921"
             ]
            ]
           }
          ],
          "mesh3d": [
           {
            "type": "mesh3d",
            "colorbar": {
             "outlinewidth": 0,
             "ticks": ""
            }
           }
          ],
          "scatter": [
           {
            "fillpattern": {
             "fillmode": "overlay",
             "size": 10,
             "solidity": 0.2
            },
            "type": "scatter"
           }
          ],
          "parcoords": [
           {
            "type": "parcoords",
            "line": {
             "colorbar": {
              "outlinewidth": 0,
              "ticks": ""
             }
            }
           }
          ],
          "scatterpolargl": [
           {
            "type": "scatterpolargl",
            "marker": {
             "colorbar": {
              "outlinewidth": 0,
              "ticks": ""
             }
            }
           }
          ],
          "bar": [
           {
            "error_x": {
             "color": "#2a3f5f"
            },
            "error_y": {
             "color": "#2a3f5f"
            },
            "marker": {
             "line": {
              "color": "#E5ECF6",
              "width": 0.5
             },
             "pattern": {
              "fillmode": "overlay",
              "size": 10,
              "solidity": 0.2
             }
            },
            "type": "bar"
           }
          ],
          "scattergeo": [
           {
            "type": "scattergeo",
            "marker": {
             "colorbar": {
              "outlinewidth": 0,
              "ticks": ""
             }
            }
           }
          ],
          "scatterpolar": [
           {
            "type": "scatterpolar",
            "marker": {
             "colorbar": {
              "outlinewidth": 0,
              "ticks": ""
             }
            }
           }
          ],
          "histogram": [
           {
            "marker": {
             "pattern": {
              "fillmode": "overlay",
              "size": 10,
              "solidity": 0.2
             }
            },
            "type": "histogram"
           }
          ],
          "scattergl": [
           {
            "type": "scattergl",
            "marker": {
             "colorbar": {
              "outlinewidth": 0,
              "ticks": ""
             }
            }
           }
          ],
          "scatter3d": [
           {
            "type": "scatter3d",
            "line": {
             "colorbar": {
              "outlinewidth": 0,
              "ticks": ""
             }
            },
            "marker": {
             "colorbar": {
              "outlinewidth": 0,
              "ticks": ""
             }
            }
           }
          ],
          "scattermapbox": [
           {
            "type": "scattermapbox",
            "marker": {
             "colorbar": {
              "outlinewidth": 0,
              "ticks": ""
             }
            }
           }
          ],
          "scatterternary": [
           {
            "type": "scatterternary",
            "marker": {
             "colorbar": {
              "outlinewidth": 0,
              "ticks": ""
             }
            }
           }
          ],
          "scattercarpet": [
           {
            "type": "scattercarpet",
            "marker": {
             "colorbar": {
              "outlinewidth": 0,
              "ticks": ""
             }
            }
           }
          ],
          "carpet": [
           {
            "aaxis": {
             "endlinecolor": "#2a3f5f",
             "gridcolor": "white",
             "linecolor": "white",
             "minorgridcolor": "white",
             "startlinecolor": "#2a3f5f"
            },
            "baxis": {
             "endlinecolor": "#2a3f5f",
             "gridcolor": "white",
             "linecolor": "white",
             "minorgridcolor": "white",
             "startlinecolor": "#2a3f5f"
            },
            "type": "carpet"
           }
          ],
          "table": [
           {
            "cells": {
             "fill": {
              "color": "#EBF0F8"
             },
             "line": {
              "color": "white"
             }
            },
            "header": {
             "fill": {
              "color": "#C8D4E3"
             },
             "line": {
              "color": "white"
             }
            },
            "type": "table"
           }
          ],
          "barpolar": [
           {
            "marker": {
             "line": {
              "color": "#E5ECF6",
              "width": 0.5
             },
             "pattern": {
              "fillmode": "overlay",
              "size": 10,
              "solidity": 0.2
             }
            },
            "type": "barpolar"
           }
          ],
          "pie": [
           {
            "automargin": true,
            "type": "pie"
           }
          ]
         },
         "layout": {
          "autotypenumbers": "strict",
          "colorway": [
           "#636efa",
           "#EF553B",
           "#00cc96",
           "#ab63fa",
           "#FFA15A",
           "#19d3f3",
           "#FF6692",
           "#B6E880",
           "#FF97FF",
           "#FECB52"
          ],
          "font": {
           "color": "#2a3f5f"
          },
          "hovermode": "closest",
          "hoverlabel": {
           "align": "left"
          },
          "paper_bgcolor": "white",
          "plot_bgcolor": "#E5ECF6",
          "polar": {
           "bgcolor": "#E5ECF6",
           "angularaxis": {
            "gridcolor": "white",
            "linecolor": "white",
            "ticks": ""
           },
           "radialaxis": {
            "gridcolor": "white",
            "linecolor": "white",
            "ticks": ""
           }
          },
          "ternary": {
           "bgcolor": "#E5ECF6",
           "aaxis": {
            "gridcolor": "white",
            "linecolor": "white",
            "ticks": ""
           },
           "baxis": {
            "gridcolor": "white",
            "linecolor": "white",
            "ticks": ""
           },
           "caxis": {
            "gridcolor": "white",
            "linecolor": "white",
            "ticks": ""
           }
          },
          "coloraxis": {
           "colorbar": {
            "outlinewidth": 0,
            "ticks": ""
           }
          },
          "colorscale": {
           "sequential": [
            [
             0,
             "#0d0887"
            ],
            [
             0.1111111111111111,
             "#46039f"
            ],
            [
             0.2222222222222222,
             "#7201a8"
            ],
            [
             0.3333333333333333,
             "#9c179e"
            ],
            [
             0.4444444444444444,
             "#bd3786"
            ],
            [
             0.5555555555555556,
             "#d8576b"
            ],
            [
             0.6666666666666666,
             "#ed7953"
            ],
            [
             0.7777777777777778,
             "#fb9f3a"
            ],
            [
             0.8888888888888888,
             "#fdca26"
            ],
            [
             1,
             "#f0f921"
            ]
           ],
           "sequentialminus": [
            [
             0,
             "#0d0887"
            ],
            [
             0.1111111111111111,
             "#46039f"
            ],
            [
             0.2222222222222222,
             "#7201a8"
            ],
            [
             0.3333333333333333,
             "#9c179e"
            ],
            [
             0.4444444444444444,
             "#bd3786"
            ],
            [
             0.5555555555555556,
             "#d8576b"
            ],
            [
             0.6666666666666666,
             "#ed7953"
            ],
            [
             0.7777777777777778,
             "#fb9f3a"
            ],
            [
             0.8888888888888888,
             "#fdca26"
            ],
            [
             1,
             "#f0f921"
            ]
           ],
           "diverging": [
            [
             0,
             "#8e0152"
            ],
            [
             0.1,
             "#c51b7d"
            ],
            [
             0.2,
             "#de77ae"
            ],
            [
             0.3,
             "#f1b6da"
            ],
            [
             0.4,
             "#fde0ef"
            ],
            [
             0.5,
             "#f7f7f7"
            ],
            [
             0.6,
             "#e6f5d0"
            ],
            [
             0.7,
             "#b8e186"
            ],
            [
             0.8,
             "#7fbc41"
            ],
            [
             0.9,
             "#4d9221"
            ],
            [
             1,
             "#276419"
            ]
           ]
          },
          "xaxis": {
           "gridcolor": "white",
           "linecolor": "white",
           "ticks": "",
           "title": {
            "standoff": 15
           },
           "zerolinecolor": "white",
           "automargin": true,
           "zerolinewidth": 2
          },
          "yaxis": {
           "gridcolor": "white",
           "linecolor": "white",
           "ticks": "",
           "title": {
            "standoff": 15
           },
           "zerolinecolor": "white",
           "automargin": true,
           "zerolinewidth": 2
          },
          "scene": {
           "xaxis": {
            "backgroundcolor": "#E5ECF6",
            "gridcolor": "white",
            "linecolor": "white",
            "showbackground": true,
            "ticks": "",
            "zerolinecolor": "white",
            "gridwidth": 2
           },
           "yaxis": {
            "backgroundcolor": "#E5ECF6",
            "gridcolor": "white",
            "linecolor": "white",
            "showbackground": true,
            "ticks": "",
            "zerolinecolor": "white",
            "gridwidth": 2
           },
           "zaxis": {
            "backgroundcolor": "#E5ECF6",
            "gridcolor": "white",
            "linecolor": "white",
            "showbackground": true,
            "ticks": "",
            "zerolinecolor": "white",
            "gridwidth": 2
           }
          },
          "shapedefaults": {
           "line": {
            "color": "#2a3f5f"
           }
          },
          "annotationdefaults": {
           "arrowcolor": "#2a3f5f",
           "arrowhead": 0,
           "arrowwidth": 1
          },
          "geo": {
           "bgcolor": "white",
           "landcolor": "#E5ECF6",
           "subunitcolor": "white",
           "showland": true,
           "showlakes": true,
           "lakecolor": "white"
          },
          "title": {
           "x": 0.05
          },
          "mapbox": {
           "style": "light"
          }
         }
        },
        "title": {
         "text": "Emissions de carbone en agriculture pour chaque sous groupe d'ingrédient"
        },
        "xaxis": {
         "title": {
          "text": "Sous groupe d'aliment"
         }
        },
        "yaxis": {
         "title": {
          "text": "Emission de carbone"
         }
        }
       },
       "config": {
        "plotlyServerURL": "https://plot.ly"
       }
      }
     },
     "metadata": {}
    }
   ],
   "source": [
    "couleurs = ['green', 'red', 'blue', 'orange', 'purple']\n",
    "vi_agri=df.groupby([\"Sous-groupe d'aliment\"])[\"Agriculture\"].mean()\n",
    "vi_agri_tri = vi_agri.sort_values(ascending=False)\n",
    "\n",
    "\n",
    "fig = go.Figure(data=[go.Bar(x=vi_agri_tri.index, y=vi_agri_tri)])\n",
    "\n",
    "\n",
    "fig.update_layout(\n",
    "    title=\"Emissions de carbone en agriculture pour chaque sous groupe d'ingrédient\",\n",
    "    xaxis_title=\"Sous groupe d'aliment\",\n",
    "    yaxis_title=\"Emission de carbone\"\n",
    ")\n",
    "\n",
    "fig.show()"
   ]
  },
  {
   "cell_type": "code",
   "execution_count": 79,
   "metadata": {},
   "outputs": [
    {
     "output_type": "display_data",
     "data": {
      "application/vnd.plotly.v1+json": {
       "data": [
        {
         "marker": {
          "color": "green"
         },
         "x": [
          "viandes, œufs, poissons",
          "fruits, légumes, légumineuses et oléagineux",
          "matières grasses",
          "entrées et plats composés",
          "aides culinaires et ingrédients divers",
          "produits sucrés",
          "lait et produits laitiers",
          "glaces et sorbets",
          "boissons",
          "produits céréaliers",
          "aliments infantiles"
         ],
         "y": [
          1.4441197136294575,
          0.4686842613136986,
          0.38435815000896856,
          0.35356076575,
          0.320450832295,
          0.2412956783324468,
          0.21914017288679247,
          0.2071731791212121,
          0.1657611089061033,
          0.12513990068,
          0.1003889875464035
         ],
         "type": "bar",
         "xaxis": "x",
         "yaxis": "y"
        },
        {
         "x": [
          "viandes, œufs, poissons",
          "fruits, légumes, légumineuses et oléagineux",
          "matières grasses",
          "entrées et plats composés",
          "aides culinaires et ingrédients divers",
          "produits sucrés",
          "lait et produits laitiers",
          "glaces et sorbets",
          "boissons",
          "produits céréaliers",
          "aliments infantiles"
         ],
         "y": [
          0.23713624898113206,
          0.100961580447125,
          0.06621333976605581,
          0.059791773067226016,
          0.05535643607952126,
          0.05421596141071427,
          0.04886781728787878,
          0.044960711,
          0.04110421505874439,
          0.03145270764385965,
          0.022261784912816895
         ],
         "type": "bar",
         "xaxis": "x2",
         "yaxis": "y2"
        },
        {
         "x": [
          "viandes, œufs, poissons",
          "fruits, légumes, légumineuses et oléagineux",
          "matières grasses",
          "entrées et plats composés",
          "aides culinaires et ingrédients divers",
          "produits sucrés",
          "lait et produits laitiers",
          "glaces et sorbets",
          "boissons",
          "produits céréaliers",
          "aliments infantiles"
         ],
         "y": [
          0.03138187468852712,
          0.031071100936874967,
          0.02785949211118419,
          0.023302954214285708,
          0.019442424459192826,
          0.01821987799245283,
          0.016791530967602733,
          0.016139306090909068,
          0.015797167414095734,
          0.01534262896,
          0.015300914413380277
         ],
         "type": "bar",
         "xaxis": "x3",
         "yaxis": "y3"
        },
        {
         "x": [
          "viandes, œufs, poissons",
          "fruits, légumes, légumineuses et oléagineux",
          "matières grasses",
          "entrées et plats composés",
          "aides culinaires et ingrédients divers",
          "produits sucrés",
          "lait et produits laitiers",
          "glaces et sorbets",
          "boissons",
          "produits céréaliers",
          "aliments infantiles"
         ],
         "y": [
          0.04467337785240309,
          0.026125566697887306,
          0.025262295696428568,
          0.02332547761746574,
          0.02132517738312499,
          0.020156704594339617,
          0.016631200068609863,
          0.016235614359999997,
          0.014393819375087717,
          0.014302182598404243,
          0.013199593048484821
         ],
         "type": "bar",
         "xaxis": "x4",
         "yaxis": "y4"
        }
       ],
       "layout": {
        "template": {
         "data": {
          "histogram2dcontour": [
           {
            "type": "histogram2dcontour",
            "colorbar": {
             "outlinewidth": 0,
             "ticks": ""
            },
            "colorscale": [
             [
              0,
              "#0d0887"
             ],
             [
              0.1111111111111111,
              "#46039f"
             ],
             [
              0.2222222222222222,
              "#7201a8"
             ],
             [
              0.3333333333333333,
              "#9c179e"
             ],
             [
              0.4444444444444444,
              "#bd3786"
             ],
             [
              0.5555555555555556,
              "#d8576b"
             ],
             [
              0.6666666666666666,
              "#ed7953"
             ],
             [
              0.7777777777777778,
              "#fb9f3a"
             ],
             [
              0.8888888888888888,
              "#fdca26"
             ],
             [
              1,
              "#f0f921"
             ]
            ]
           }
          ],
          "choropleth": [
           {
            "type": "choropleth",
            "colorbar": {
             "outlinewidth": 0,
             "ticks": ""
            }
           }
          ],
          "histogram2d": [
           {
            "type": "histogram2d",
            "colorbar": {
             "outlinewidth": 0,
             "ticks": ""
            },
            "colorscale": [
             [
              0,
              "#0d0887"
             ],
             [
              0.1111111111111111,
              "#46039f"
             ],
             [
              0.2222222222222222,
              "#7201a8"
             ],
             [
              0.3333333333333333,
              "#9c179e"
             ],
             [
              0.4444444444444444,
              "#bd3786"
             ],
             [
              0.5555555555555556,
              "#d8576b"
             ],
             [
              0.6666666666666666,
              "#ed7953"
             ],
             [
              0.7777777777777778,
              "#fb9f3a"
             ],
             [
              0.8888888888888888,
              "#fdca26"
             ],
             [
              1,
              "#f0f921"
             ]
            ]
           }
          ],
          "heatmap": [
           {
            "type": "heatmap",
            "colorbar": {
             "outlinewidth": 0,
             "ticks": ""
            },
            "colorscale": [
             [
              0,
              "#0d0887"
             ],
             [
              0.1111111111111111,
              "#46039f"
             ],
             [
              0.2222222222222222,
              "#7201a8"
             ],
             [
              0.3333333333333333,
              "#9c179e"
             ],
             [
              0.4444444444444444,
              "#bd3786"
             ],
             [
              0.5555555555555556,
              "#d8576b"
             ],
             [
              0.6666666666666666,
              "#ed7953"
             ],
             [
              0.7777777777777778,
              "#fb9f3a"
             ],
             [
              0.8888888888888888,
              "#fdca26"
             ],
             [
              1,
              "#f0f921"
             ]
            ]
           }
          ],
          "heatmapgl": [
           {
            "type": "heatmapgl",
            "colorbar": {
             "outlinewidth": 0,
             "ticks": ""
            },
            "colorscale": [
             [
              0,
              "#0d0887"
             ],
             [
              0.1111111111111111,
              "#46039f"
             ],
             [
              0.2222222222222222,
              "#7201a8"
             ],
             [
              0.3333333333333333,
              "#9c179e"
             ],
             [
              0.4444444444444444,
              "#bd3786"
             ],
             [
              0.5555555555555556,
              "#d8576b"
             ],
             [
              0.6666666666666666,
              "#ed7953"
             ],
             [
              0.7777777777777778,
              "#fb9f3a"
             ],
             [
              0.8888888888888888,
              "#fdca26"
             ],
             [
              1,
              "#f0f921"
             ]
            ]
           }
          ],
          "contourcarpet": [
           {
            "type": "contourcarpet",
            "colorbar": {
             "outlinewidth": 0,
             "ticks": ""
            }
           }
          ],
          "contour": [
           {
            "type": "contour",
            "colorbar": {
             "outlinewidth": 0,
             "ticks": ""
            },
            "colorscale": [
             [
              0,
              "#0d0887"
             ],
             [
              0.1111111111111111,
              "#46039f"
             ],
             [
              0.2222222222222222,
              "#7201a8"
             ],
             [
              0.3333333333333333,
              "#9c179e"
             ],
             [
              0.4444444444444444,
              "#bd3786"
             ],
             [
              0.5555555555555556,
              "#d8576b"
             ],
             [
              0.6666666666666666,
              "#ed7953"
             ],
             [
              0.7777777777777778,
              "#fb9f3a"
             ],
             [
              0.8888888888888888,
              "#fdca26"
             ],
             [
              1,
              "#f0f921"
             ]
            ]
           }
          ],
          "surface": [
           {
            "type": "surface",
            "colorbar": {
             "outlinewidth": 0,
             "ticks": ""
            },
            "colorscale": [
             [
              0,
              "#0d0887"
             ],
             [
              0.1111111111111111,
              "#46039f"
             ],
             [
              0.2222222222222222,
              "#7201a8"
             ],
             [
              0.3333333333333333,
              "#9c179e"
             ],
             [
              0.4444444444444444,
              "#bd3786"
             ],
             [
              0.5555555555555556,
              "#d8576b"
             ],
             [
              0.6666666666666666,
              "#ed7953"
             ],
             [
              0.7777777777777778,
              "#fb9f3a"
             ],
             [
              0.8888888888888888,
              "#fdca26"
             ],
             [
              1,
              "#f0f921"
             ]
            ]
           }
          ],
          "mesh3d": [
           {
            "type": "mesh3d",
            "colorbar": {
             "outlinewidth": 0,
             "ticks": ""
            }
           }
          ],
          "scatter": [
           {
            "fillpattern": {
             "fillmode": "overlay",
             "size": 10,
             "solidity": 0.2
            },
            "type": "scatter"
           }
          ],
          "parcoords": [
           {
            "type": "parcoords",
            "line": {
             "colorbar": {
              "outlinewidth": 0,
              "ticks": ""
             }
            }
           }
          ],
          "scatterpolargl": [
           {
            "type": "scatterpolargl",
            "marker": {
             "colorbar": {
              "outlinewidth": 0,
              "ticks": ""
             }
            }
           }
          ],
          "bar": [
           {
            "error_x": {
             "color": "#2a3f5f"
            },
            "error_y": {
             "color": "#2a3f5f"
            },
            "marker": {
             "line": {
              "color": "#E5ECF6",
              "width": 0.5
             },
             "pattern": {
              "fillmode": "overlay",
              "size": 10,
              "solidity": 0.2
             }
            },
            "type": "bar"
           }
          ],
          "scattergeo": [
           {
            "type": "scattergeo",
            "marker": {
             "colorbar": {
              "outlinewidth": 0,
              "ticks": ""
             }
            }
           }
          ],
          "scatterpolar": [
           {
            "type": "scatterpolar",
            "marker": {
             "colorbar": {
              "outlinewidth": 0,
              "ticks": ""
             }
            }
           }
          ],
          "histogram": [
           {
            "marker": {
             "pattern": {
              "fillmode": "overlay",
              "size": 10,
              "solidity": 0.2
             }
            },
            "type": "histogram"
           }
          ],
          "scattergl": [
           {
            "type": "scattergl",
            "marker": {
             "colorbar": {
              "outlinewidth": 0,
              "ticks": ""
             }
            }
           }
          ],
          "scatter3d": [
           {
            "type": "scatter3d",
            "line": {
             "colorbar": {
              "outlinewidth": 0,
              "ticks": ""
             }
            },
            "marker": {
             "colorbar": {
              "outlinewidth": 0,
              "ticks": ""
             }
            }
           }
          ],
          "scattermapbox": [
           {
            "type": "scattermapbox",
            "marker": {
             "colorbar": {
              "outlinewidth": 0,
              "ticks": ""
             }
            }
           }
          ],
          "scatterternary": [
           {
            "type": "scatterternary",
            "marker": {
             "colorbar": {
              "outlinewidth": 0,
              "ticks": ""
             }
            }
           }
          ],
          "scattercarpet": [
           {
            "type": "scattercarpet",
            "marker": {
             "colorbar": {
              "outlinewidth": 0,
              "ticks": ""
             }
            }
           }
          ],
          "carpet": [
           {
            "aaxis": {
             "endlinecolor": "#2a3f5f",
             "gridcolor": "white",
             "linecolor": "white",
             "minorgridcolor": "white",
             "startlinecolor": "#2a3f5f"
            },
            "baxis": {
             "endlinecolor": "#2a3f5f",
             "gridcolor": "white",
             "linecolor": "white",
             "minorgridcolor": "white",
             "startlinecolor": "#2a3f5f"
            },
            "type": "carpet"
           }
          ],
          "table": [
           {
            "cells": {
             "fill": {
              "color": "#EBF0F8"
             },
             "line": {
              "color": "white"
             }
            },
            "header": {
             "fill": {
              "color": "#C8D4E3"
             },
             "line": {
              "color": "white"
             }
            },
            "type": "table"
           }
          ],
          "barpolar": [
           {
            "marker": {
             "line": {
              "color": "#E5ECF6",
              "width": 0.5
             },
             "pattern": {
              "fillmode": "overlay",
              "size": 10,
              "solidity": 0.2
             }
            },
            "type": "barpolar"
           }
          ],
          "pie": [
           {
            "automargin": true,
            "type": "pie"
           }
          ]
         },
         "layout": {
          "autotypenumbers": "strict",
          "colorway": [
           "#636efa",
           "#EF553B",
           "#00cc96",
           "#ab63fa",
           "#FFA15A",
           "#19d3f3",
           "#FF6692",
           "#B6E880",
           "#FF97FF",
           "#FECB52"
          ],
          "font": {
           "color": "#2a3f5f"
          },
          "hovermode": "closest",
          "hoverlabel": {
           "align": "left"
          },
          "paper_bgcolor": "white",
          "plot_bgcolor": "#E5ECF6",
          "polar": {
           "bgcolor": "#E5ECF6",
           "angularaxis": {
            "gridcolor": "white",
            "linecolor": "white",
            "ticks": ""
           },
           "radialaxis": {
            "gridcolor": "white",
            "linecolor": "white",
            "ticks": ""
           }
          },
          "ternary": {
           "bgcolor": "#E5ECF6",
           "aaxis": {
            "gridcolor": "white",
            "linecolor": "white",
            "ticks": ""
           },
           "baxis": {
            "gridcolor": "white",
            "linecolor": "white",
            "ticks": ""
           },
           "caxis": {
            "gridcolor": "white",
            "linecolor": "white",
            "ticks": ""
           }
          },
          "coloraxis": {
           "colorbar": {
            "outlinewidth": 0,
            "ticks": ""
           }
          },
          "colorscale": {
           "sequential": [
            [
             0,
             "#0d0887"
            ],
            [
             0.1111111111111111,
             "#46039f"
            ],
            [
             0.2222222222222222,
             "#7201a8"
            ],
            [
             0.3333333333333333,
             "#9c179e"
            ],
            [
             0.4444444444444444,
             "#bd3786"
            ],
            [
             0.5555555555555556,
             "#d8576b"
            ],
            [
             0.6666666666666666,
             "#ed7953"
            ],
            [
             0.7777777777777778,
             "#fb9f3a"
            ],
            [
             0.8888888888888888,
             "#fdca26"
            ],
            [
             1,
             "#f0f921"
            ]
           ],
           "sequentialminus": [
            [
             0,
             "#0d0887"
            ],
            [
             0.1111111111111111,
             "#46039f"
            ],
            [
             0.2222222222222222,
             "#7201a8"
            ],
            [
             0.3333333333333333,
             "#9c179e"
            ],
            [
             0.4444444444444444,
             "#bd3786"
            ],
            [
             0.5555555555555556,
             "#d8576b"
            ],
            [
             0.6666666666666666,
             "#ed7953"
            ],
            [
             0.7777777777777778,
             "#fb9f3a"
            ],
            [
             0.8888888888888888,
             "#fdca26"
            ],
            [
             1,
             "#f0f921"
            ]
           ],
           "diverging": [
            [
             0,
             "#8e0152"
            ],
            [
             0.1,
             "#c51b7d"
            ],
            [
             0.2,
             "#de77ae"
            ],
            [
             0.3,
             "#f1b6da"
            ],
            [
             0.4,
             "#fde0ef"
            ],
            [
             0.5,
             "#f7f7f7"
            ],
            [
             0.6,
             "#e6f5d0"
            ],
            [
             0.7,
             "#b8e186"
            ],
            [
             0.8,
             "#7fbc41"
            ],
            [
             0.9,
             "#4d9221"
            ],
            [
             1,
             "#276419"
            ]
           ]
          },
          "xaxis": {
           "gridcolor": "white",
           "linecolor": "white",
           "ticks": "",
           "title": {
            "standoff": 15
           },
           "zerolinecolor": "white",
           "automargin": true,
           "zerolinewidth": 2
          },
          "yaxis": {
           "gridcolor": "white",
           "linecolor": "white",
           "ticks": "",
           "title": {
            "standoff": 15
           },
           "zerolinecolor": "white",
           "automargin": true,
           "zerolinewidth": 2
          },
          "scene": {
           "xaxis": {
            "backgroundcolor": "#E5ECF6",
            "gridcolor": "white",
            "linecolor": "white",
            "showbackground": true,
            "ticks": "",
            "zerolinecolor": "white",
            "gridwidth": 2
           },
           "yaxis": {
            "backgroundcolor": "#E5ECF6",
            "gridcolor": "white",
            "linecolor": "white",
            "showbackground": true,
            "ticks": "",
            "zerolinecolor": "white",
            "gridwidth": 2
           },
           "zaxis": {
            "backgroundcolor": "#E5ECF6",
            "gridcolor": "white",
            "linecolor": "white",
            "showbackground": true,
            "ticks": "",
            "zerolinecolor": "white",
            "gridwidth": 2
           }
          },
          "shapedefaults": {
           "line": {
            "color": "#2a3f5f"
           }
          },
          "annotationdefaults": {
           "arrowcolor": "#2a3f5f",
           "arrowhead": 0,
           "arrowwidth": 1
          },
          "geo": {
           "bgcolor": "white",
           "landcolor": "#E5ECF6",
           "subunitcolor": "white",
           "showland": true,
           "showlakes": true,
           "lakecolor": "white"
          },
          "title": {
           "x": 0.05
          },
          "mapbox": {
           "style": "light"
          }
         }
        },
        "xaxis": {
         "anchor": "y",
         "domain": [
          0,
          0.45
         ],
         "title": {
          "text": "Groupe d'aliment"
         },
         "tickangle": -50,
         "automargin": true
        },
        "yaxis": {
         "anchor": "x",
         "domain": [
          0.625,
          1
         ]
        },
        "xaxis2": {
         "anchor": "y2",
         "domain": [
          0.55,
          1
         ],
         "tickangle": 50,
         "automargin": true
        },
        "yaxis2": {
         "anchor": "x2",
         "domain": [
          0.625,
          1
         ]
        },
        "xaxis3": {
         "anchor": "y3",
         "domain": [
          0,
          0.45
         ],
         "tickangle": -50,
         "automargin": true
        },
        "yaxis3": {
         "anchor": "x3",
         "domain": [
          0,
          0.375
         ]
        },
        "xaxis4": {
         "anchor": "y4",
         "domain": [
          0.55,
          1
         ],
         "tickangle": 50,
         "automargin": true
        },
        "yaxis4": {
         "anchor": "x4",
         "domain": [
          0,
          0.375
         ]
        },
        "annotations": [
         {
          "font": {
           "size": 16
          },
          "showarrow": false,
          "text": "Agriculture",
          "x": 0.225,
          "xanchor": "center",
          "xref": "paper",
          "y": 1,
          "yanchor": "bottom",
          "yref": "paper"
         },
         {
          "font": {
           "size": 16
          },
          "showarrow": false,
          "text": "Transformation",
          "x": 0.775,
          "xanchor": "center",
          "xref": "paper",
          "y": 1,
          "yanchor": "bottom",
          "yref": "paper"
         },
         {
          "font": {
           "size": 16
          },
          "showarrow": false,
          "text": "Emballage",
          "x": 0.225,
          "xanchor": "center",
          "xref": "paper",
          "y": 0.375,
          "yanchor": "bottom",
          "yref": "paper"
         },
         {
          "font": {
           "size": 16
          },
          "showarrow": false,
          "text": "Transport",
          "x": 0.775,
          "xanchor": "center",
          "xref": "paper",
          "y": 0.375,
          "yanchor": "bottom",
          "yref": "paper"
         }
        ],
        "margin": {
         "l": 50,
         "r": 50,
         "t": 100,
         "b": 100,
         "pad": 4
        },
        "title": {
         "text": "Moyennes des variables par groupe d'aliment (ordre décroissant)"
        },
        "height": 600,
        "width": 800,
        "showlegend": false
       },
       "config": {
        "plotlyServerURL": "https://plot.ly"
       }
      }
     },
     "metadata": {}
    }
   ],
   "source": [
    "\n",
    "groupe_ali = df.groupby([\"Groupe d'aliment\"])[[\"Agriculture\", \"Transformation\", \"Emballage\", \"Transport\"]].mean().reset_index()\n",
    "\n",
    "# Trier chaque variable par ordre décroissant\n",
    "groupe_ali = groupe_ali.sort_values(\"Agriculture\", ascending=False)\n",
    "agri_sorted = groupe_ali[\"Agriculture\"]\n",
    "groupe_ali = groupe_ali.sort_values(\"Transformation\", ascending=False)\n",
    "transf_sorted = groupe_ali[\"Transformation\"]\n",
    "groupe_ali = groupe_ali.sort_values(\"Emballage\", ascending=False)\n",
    "embal_sorted = groupe_ali[\"Emballage\"]\n",
    "groupe_ali = groupe_ali.sort_values(\"Transport\", ascending=False)\n",
    "transp_sorted = groupe_ali[\"Transport\"]\n",
    "\n",
    "# Créer les sous-graphiques\n",
    "fig = make_subplots(rows=2, cols=2, subplot_titles=(\"Agriculture\", \"Transformation\", \"Emballage\", \"Transport\"))\n",
    "\n",
    "# Ajouter les traces de chaque variable triée aux sous-graphiques\n",
    "fig.add_trace(go.Bar(x=groupe_ali[\"Groupe d'aliment\"], y=agri_sorted, marker=dict(color='green')), row=1, col=1)\n",
    "fig.add_trace(go.Bar(x=groupe_ali[\"Groupe d'aliment\"], y=transf_sorted), row=1, col=2)\n",
    "fig.add_trace(go.Bar(x=groupe_ali[\"Groupe d'aliment\"], y=embal_sorted), row=2, col=1)\n",
    "fig.add_trace(go.Bar(x=groupe_ali[\"Groupe d'aliment\"], y=transp_sorted), row=2, col=2)\n",
    "\n",
    "# Personnaliser la mise en page des sous-graphiques\n",
    "fig.update_layout(\n",
    "    title=\"Moyennes des variables par groupe d'aliment (ordre décroissant)\",\n",
    "    height=600,\n",
    "    width=800,\n",
    "    showlegend=False,\n",
    "    margin=dict(l=50, r=50, t=100, b=100, pad=4),\n",
    "    xaxis=dict(\n",
    "        title=\"Groupe d'aliment\",\n",
    "        tickangle=-50,\n",
    "        automargin=True\n",
    "    ),\n",
    "    xaxis2=dict(tickangle=50, automargin=True),\n",
    "    xaxis3=dict(tickangle=-50, automargin=True),\n",
    "    xaxis4=dict(tickangle=50, automargin=True),\n",
    ")\n",
    "\n",
    "# Afficher le graphique\n",
    "fig.show()\n"
   ]
  },
  {
   "cell_type": "code",
   "execution_count": null,
   "metadata": {},
   "outputs": [],
   "source": []
  }
 ]
}