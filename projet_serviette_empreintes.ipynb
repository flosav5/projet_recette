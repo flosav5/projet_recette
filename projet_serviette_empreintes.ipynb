{
 "metadata": {
  "language_info": {
   "codemirror_mode": {
    "name": "ipython",
    "version": 3
   },
   "file_extension": ".py",
   "mimetype": "text/x-python",
   "name": "python",
   "nbconvert_exporter": "python",
   "pygments_lexer": "ipython3",
   "version": "3.9.13-final"
  },
  "orig_nbformat": 2,
  "kernelspec": {
   "name": "python3",
   "display_name": "Python 3.9.13 64-bit (conda)",
   "metadata": {
    "interpreter": {
     "hash": "bdff91ece41161bfc8419e2037b325266a1bff589078ccd6b21e9d3b9060f5f1"
    }
   }
  }
 },
 "nbformat": 4,
 "nbformat_minor": 2,
 "cells": [
  {
   "source": [
    "### Analyse des empreintes de certains ingredients"
   ],
   "cell_type": "markdown",
   "metadata": {}
  },
  {
   "cell_type": "code",
   "execution_count": 1,
   "metadata": {},
   "outputs": [],
   "source": [
    "import pandas as pd"
   ]
  },
  {
   "cell_type": "code",
   "execution_count": 2,
   "metadata": {},
   "outputs": [],
   "source": [
    "df=pd.read_csv(\"data/synth.csv\")"
   ]
  },
  {
   "cell_type": "code",
   "execution_count": 3,
   "metadata": {},
   "outputs": [
    {
     "output_type": "execute_result",
     "data": {
      "text/plain": [
       "     Code\\nAGB  Code\\nCIQUAL                        Groupe d'aliment  \\\n",
       "0        11084         11084  aides culinaires et ingrédients divers   \n",
       "1        11023         11023  aides culinaires et ingrédients divers   \n",
       "2        11000         11000  aides culinaires et ingrédients divers   \n",
       "3        11093         11093  aides culinaires et ingrédients divers   \n",
       "4        20995         20995  aides culinaires et ingrédients divers   \n",
       "...        ...           ...                                     ...   \n",
       "2512      6535          6535                 viandes, œufs, poissons   \n",
       "2513      6582          6582                 viandes, œufs, poissons   \n",
       "2514     26146         26146                 viandes, œufs, poissons   \n",
       "2515     26147         26147                 viandes, œufs, poissons   \n",
       "2516     25512         25512                 viandes, œufs, poissons   \n",
       "\n",
       "                 Sous-groupe d'aliment  \\\n",
       "0                               algues   \n",
       "1                               herbes   \n",
       "2                               herbes   \n",
       "3                               herbes   \n",
       "4                               algues   \n",
       "...                                ...   \n",
       "2512                     viandes crues   \n",
       "2513                    viandes cuites   \n",
       "2514                     poissons crus   \n",
       "2515                    poissons cuits   \n",
       "2516  autres produits à base de viande   \n",
       "\n",
       "                             Nom du Produit en Français  \\\n",
       "0                                     Agar (algue), cru   \n",
       "1                                     Ail séché, poudre   \n",
       "2                                              Ail, cru   \n",
       "3                                          Aneth, frais   \n",
       "4     Ao-nori (Enteromorpha sp.), séchée ou déshydratée   \n",
       "...                                                 ...   \n",
       "2512                      Veau, steak haché 20% MG, cru   \n",
       "2513                 Veau, tête, bouillie/cuite à l'eau   \n",
       "2514                                      Vivaneau, cru   \n",
       "2515                                     Vivaneau, cuit   \n",
       "2516               Volaille, croquette panée ou nuggets   \n",
       "\n",
       "                                               LCI Name  \\\n",
       "0                                    Seaweed, agar, raw   \n",
       "1                                 Garlic, powder, dried   \n",
       "2                                         Garlic, fresh   \n",
       "3                                           Dill, fresh   \n",
       "4     Sea lettuce (Enteromorpha sp.), dried or dehyd...   \n",
       "...                                                 ...   \n",
       "2512                   Veal, minced steak, 20% fat, raw   \n",
       "2513                 Calf, head, boiled/cooked in water   \n",
       "2514                                       Snapper, raw   \n",
       "2515                                    Snapper, cooked   \n",
       "2516                                    Poultry nuggets   \n",
       "\n",
       "      code saison (0 : hors saison ; 1 : de saison ; 2 : mix de consommation FR)  \\\n",
       "0                                                     2                            \n",
       "1                                                     2                            \n",
       "2                                                     2                            \n",
       "3                                                     2                            \n",
       "4                                                     2                            \n",
       "...                                                 ...                            \n",
       "2512                                                  2                            \n",
       "2513                                                  2                            \n",
       "2514                                                  2                            \n",
       "2515                                                  2                            \n",
       "2516                                                  2                            \n",
       "\n",
       "      code avion (1 : par avion)       Livraison Matériau d'emballage  \\\n",
       "0                              0  Ambiant (long)                 LDPE   \n",
       "1                              0  Ambiant (long)                Verre   \n",
       "2                              0  Ambiant (long)      Pas d'emballage   \n",
       "3                              0  Ambiant (long)                 LDPE   \n",
       "4                              0  Ambiant (long)                 LDPE   \n",
       "...                          ...             ...                  ...   \n",
       "2512                           0           Glacé                   PS   \n",
       "2513                           0           Glacé                   PS   \n",
       "2514                           0           Glacé                   PS   \n",
       "2515                           0           Glacé                   PP   \n",
       "2516                           0           Glacé                   PS   \n",
       "\n",
       "             Préparation  \\\n",
       "0     Pas de préparation   \n",
       "1     Pas de préparation   \n",
       "2     Pas de préparation   \n",
       "3     Pas de préparation   \n",
       "4     Pas de préparation   \n",
       "...                  ...   \n",
       "2512  Pas de préparation   \n",
       "2513     Cuisson à l'eau   \n",
       "2514  Pas de préparation   \n",
       "2515                Four   \n",
       "2516               Four    \n",
       "\n",
       "      DQR - Note de qualité de la donnée (1 excellente ; 5 très faible)  \\\n",
       "0                                                  2.99                   \n",
       "1                                                  4.11                   \n",
       "2                                                  3.54                   \n",
       "3                                                  3.75                   \n",
       "4                                                  2.99                   \n",
       "...                                                 ...                   \n",
       "2512                                               2.47                   \n",
       "2513                                               2.45                   \n",
       "2514                                               3.68                   \n",
       "2515                                               3.56                   \n",
       "2516                                               2.79                   \n",
       "\n",
       "      mPt/kg de produit  kg CO2 eq/kg de produit  \n",
       "0              1.231879                 6.766407  \n",
       "1              0.103150                 0.749409  \n",
       "2              0.063814                 0.356122  \n",
       "3              0.132081                 0.814944  \n",
       "4              1.231879                 6.766407  \n",
       "...                 ...                      ...  \n",
       "2512           2.176514                22.449542  \n",
       "2513           2.259190                23.553954  \n",
       "2514           0.816244                 4.250231  \n",
       "2515           1.025393                 5.164618  \n",
       "2516           0.861131                 6.037270  \n",
       "\n",
       "[2517 rows x 14 columns]"
      ],
      "text/html": "<div>\n<style scoped>\n    .dataframe tbody tr th:only-of-type {\n        vertical-align: middle;\n    }\n\n    .dataframe tbody tr th {\n        vertical-align: top;\n    }\n\n    .dataframe thead th {\n        text-align: right;\n    }\n</style>\n<table border=\"1\" class=\"dataframe\">\n  <thead>\n    <tr style=\"text-align: right;\">\n      <th></th>\n      <th>Code\\nAGB</th>\n      <th>Code\\nCIQUAL</th>\n      <th>Groupe d'aliment</th>\n      <th>Sous-groupe d'aliment</th>\n      <th>Nom du Produit en Français</th>\n      <th>LCI Name</th>\n      <th>code saison (0 : hors saison ; 1 : de saison ; 2 : mix de consommation FR)</th>\n      <th>code avion (1 : par avion)</th>\n      <th>Livraison</th>\n      <th>Matériau d'emballage</th>\n      <th>Préparation</th>\n      <th>DQR - Note de qualité de la donnée (1 excellente ; 5 très faible)</th>\n      <th>mPt/kg de produit</th>\n      <th>kg CO2 eq/kg de produit</th>\n    </tr>\n  </thead>\n  <tbody>\n    <tr>\n      <th>0</th>\n      <td>11084</td>\n      <td>11084</td>\n      <td>aides culinaires et ingrédients divers</td>\n      <td>algues</td>\n      <td>Agar (algue), cru</td>\n      <td>Seaweed, agar, raw</td>\n      <td>2</td>\n      <td>0</td>\n      <td>Ambiant (long)</td>\n      <td>LDPE</td>\n      <td>Pas de préparation</td>\n      <td>2.99</td>\n      <td>1.231879</td>\n      <td>6.766407</td>\n    </tr>\n    <tr>\n      <th>1</th>\n      <td>11023</td>\n      <td>11023</td>\n      <td>aides culinaires et ingrédients divers</td>\n      <td>herbes</td>\n      <td>Ail séché, poudre</td>\n      <td>Garlic, powder, dried</td>\n      <td>2</td>\n      <td>0</td>\n      <td>Ambiant (long)</td>\n      <td>Verre</td>\n      <td>Pas de préparation</td>\n      <td>4.11</td>\n      <td>0.103150</td>\n      <td>0.749409</td>\n    </tr>\n    <tr>\n      <th>2</th>\n      <td>11000</td>\n      <td>11000</td>\n      <td>aides culinaires et ingrédients divers</td>\n      <td>herbes</td>\n      <td>Ail, cru</td>\n      <td>Garlic, fresh</td>\n      <td>2</td>\n      <td>0</td>\n      <td>Ambiant (long)</td>\n      <td>Pas d'emballage</td>\n      <td>Pas de préparation</td>\n      <td>3.54</td>\n      <td>0.063814</td>\n      <td>0.356122</td>\n    </tr>\n    <tr>\n      <th>3</th>\n      <td>11093</td>\n      <td>11093</td>\n      <td>aides culinaires et ingrédients divers</td>\n      <td>herbes</td>\n      <td>Aneth, frais</td>\n      <td>Dill, fresh</td>\n      <td>2</td>\n      <td>0</td>\n      <td>Ambiant (long)</td>\n      <td>LDPE</td>\n      <td>Pas de préparation</td>\n      <td>3.75</td>\n      <td>0.132081</td>\n      <td>0.814944</td>\n    </tr>\n    <tr>\n      <th>4</th>\n      <td>20995</td>\n      <td>20995</td>\n      <td>aides culinaires et ingrédients divers</td>\n      <td>algues</td>\n      <td>Ao-nori (Enteromorpha sp.), séchée ou déshydratée</td>\n      <td>Sea lettuce (Enteromorpha sp.), dried or dehyd...</td>\n      <td>2</td>\n      <td>0</td>\n      <td>Ambiant (long)</td>\n      <td>LDPE</td>\n      <td>Pas de préparation</td>\n      <td>2.99</td>\n      <td>1.231879</td>\n      <td>6.766407</td>\n    </tr>\n    <tr>\n      <th>...</th>\n      <td>...</td>\n      <td>...</td>\n      <td>...</td>\n      <td>...</td>\n      <td>...</td>\n      <td>...</td>\n      <td>...</td>\n      <td>...</td>\n      <td>...</td>\n      <td>...</td>\n      <td>...</td>\n      <td>...</td>\n      <td>...</td>\n      <td>...</td>\n    </tr>\n    <tr>\n      <th>2512</th>\n      <td>6535</td>\n      <td>6535</td>\n      <td>viandes, œufs, poissons</td>\n      <td>viandes crues</td>\n      <td>Veau, steak haché 20% MG, cru</td>\n      <td>Veal, minced steak, 20% fat, raw</td>\n      <td>2</td>\n      <td>0</td>\n      <td>Glacé</td>\n      <td>PS</td>\n      <td>Pas de préparation</td>\n      <td>2.47</td>\n      <td>2.176514</td>\n      <td>22.449542</td>\n    </tr>\n    <tr>\n      <th>2513</th>\n      <td>6582</td>\n      <td>6582</td>\n      <td>viandes, œufs, poissons</td>\n      <td>viandes cuites</td>\n      <td>Veau, tête, bouillie/cuite à l'eau</td>\n      <td>Calf, head, boiled/cooked in water</td>\n      <td>2</td>\n      <td>0</td>\n      <td>Glacé</td>\n      <td>PS</td>\n      <td>Cuisson à l'eau</td>\n      <td>2.45</td>\n      <td>2.259190</td>\n      <td>23.553954</td>\n    </tr>\n    <tr>\n      <th>2514</th>\n      <td>26146</td>\n      <td>26146</td>\n      <td>viandes, œufs, poissons</td>\n      <td>poissons crus</td>\n      <td>Vivaneau, cru</td>\n      <td>Snapper, raw</td>\n      <td>2</td>\n      <td>0</td>\n      <td>Glacé</td>\n      <td>PS</td>\n      <td>Pas de préparation</td>\n      <td>3.68</td>\n      <td>0.816244</td>\n      <td>4.250231</td>\n    </tr>\n    <tr>\n      <th>2515</th>\n      <td>26147</td>\n      <td>26147</td>\n      <td>viandes, œufs, poissons</td>\n      <td>poissons cuits</td>\n      <td>Vivaneau, cuit</td>\n      <td>Snapper, cooked</td>\n      <td>2</td>\n      <td>0</td>\n      <td>Glacé</td>\n      <td>PP</td>\n      <td>Four</td>\n      <td>3.56</td>\n      <td>1.025393</td>\n      <td>5.164618</td>\n    </tr>\n    <tr>\n      <th>2516</th>\n      <td>25512</td>\n      <td>25512</td>\n      <td>viandes, œufs, poissons</td>\n      <td>autres produits à base de viande</td>\n      <td>Volaille, croquette panée ou nuggets</td>\n      <td>Poultry nuggets</td>\n      <td>2</td>\n      <td>0</td>\n      <td>Glacé</td>\n      <td>PS</td>\n      <td>Four</td>\n      <td>2.79</td>\n      <td>0.861131</td>\n      <td>6.037270</td>\n    </tr>\n  </tbody>\n</table>\n<p>2517 rows × 14 columns</p>\n</div>"
     },
     "metadata": {},
     "execution_count": 3
    }
   ],
   "source": [
    "df"
   ]
  },
  {
   "source": [
    "La seconde étape du projet consiste à analyser l'empreinte écologique des aliments individuellement, via de la visualisation des données. Le but est d'identifier l'impact écologique de différents groupes d'aliments et au cours des différentes étapes de production.\n",
    "\n",
    "- Comparez l'impact moyen d'un indicateur écologique en fonction de l'étape de production pour chaque catégorie d'aliment.\n",
    "- De même, mais cette fois en prenant en compte la variabilité au sein des groupes d'aliments.\n",
    "- Réalisez un zoom sur la catégorie \"viandes, œufs, poissons\".\n",
    "- De même avec la sous-catégorie \"viande crues\".\n",
    "- Faites un regroupement de modalités pour obtenir une meilleur visualisation (par espèce animale par exemple)."
   ],
   "cell_type": "markdown",
   "metadata": {}
  },
  {
   "cell_type": "code",
   "execution_count": 16,
   "metadata": {},
   "outputs": [
    {
     "output_type": "execute_result",
     "data": {
      "text/plain": [
       "Groupe d'aliment                             Livraison      \n",
       "aides culinaires et ingrédients divers       Ambiant (long)      3.565662\n",
       "                                             Glacé               2.476099\n",
       "aliments infantiles                          Ambiant (long)      2.459691\n",
       "                                             Glacé               1.528307\n",
       "boissons                                     Ambiant (long)      1.835243\n",
       "                                             Glacé               0.802559\n",
       "entrées et plats composés                    Ambiant (long)      1.833142\n",
       "                                             Congelé             3.111970\n",
       "                                             Glacé               5.271023\n",
       "fruits, légumes, légumineuses et oléagineux  Ambiant (long)      1.999692\n",
       "                                             Ambiant (moyen)     1.079151\n",
       "                                             Congelé             1.265878\n",
       "                                             Glacé               1.091200\n",
       "glaces et sorbets                            Congelé             1.774742\n",
       "lait et produits laitiers                    Ambiant (long)      3.434052\n",
       "                                             Glacé               4.417891\n",
       "matières grasses                             Ambiant (long)      4.301295\n",
       "                                             Glacé               3.743044\n",
       "produits céréaliers                          Ambiant (court)     1.724869\n",
       "                                             Ambiant (long)      2.692074\n",
       "                                             Congelé             3.363030\n",
       "                                             Glacé               2.352102\n",
       "produits sucrés                              Ambiant (long)      6.710126\n",
       "viandes, œufs, poissons                      Ambiant (long)      5.964750\n",
       "                                             Ambiant (moyen)     3.798720\n",
       "                                             Congelé             7.319069\n",
       "                                             Glacé              13.548927\n",
       "Name: kg CO2 eq/kg de produit, dtype: float64"
      ]
     },
     "metadata": {},
     "execution_count": 16
    }
   ],
   "source": [
    "df.groupby([\"Groupe d'aliment\", \"Livraison\"])[\"kg CO2 eq/kg de produit\"].mean()"
   ]
  },
  {
   "cell_type": "code",
   "execution_count": 18,
   "metadata": {},
   "outputs": [
    {
     "output_type": "execute_result",
     "data": {
      "text/plain": [
       "Groupe d'aliment                             Préparation                   \n",
       "aides culinaires et ingrédients divers       Micro-onde                         2.848460\n",
       "                                             Pas de préparation                 3.226055\n",
       "aliments infantiles                          Micro-onde                         1.267110\n",
       "                                             Pas de préparation                 3.766604\n",
       "boissons                                     Cuisson à l'eau                    0.529182\n",
       "                                             Pas de préparation                 1.727542\n",
       "                                             Réfrigéré chez le consommateur     1.064587\n",
       "entrées et plats composés                    Cuisson à l'eau                    1.530493\n",
       "                                             Four                               9.584925\n",
       "                                             Four                               4.357634\n",
       "                                             Micro-onde                         5.127935\n",
       "                                             Pas de préparation                 3.749214\n",
       "                                             Poêle                              1.614387\n",
       "fruits, légumes, légumineuses et oléagineux  Cuisson à l'eau                    1.138511\n",
       "                                             Four                               1.757515\n",
       "                                             Friture                            1.287954\n",
       "                                             Micro-onde                         0.943131\n",
       "                                             Pas de préparation                 1.491727\n",
       "                                             Poêle                              0.809994\n",
       "                                             Réfrigéré chez le consommateur     3.480381\n",
       "glaces et sorbets                            Pas de préparation                 1.774742\n",
       "lait et produits laitiers                    Pas de préparation                 4.312007\n",
       "matières grasses                             Pas de préparation                 3.962357\n",
       "produits céréaliers                          Cuisson à l'eau                    1.064024\n",
       "                                             Four                               0.946959\n",
       "                                             Four                               2.853801\n",
       "                                             Micro-onde                         3.754036\n",
       "                                             Micro-onde                         1.138970\n",
       "                                             Pas de préparation                 2.573720\n",
       "produits sucrés                              Pas de préparation                 6.710126\n",
       "viandes, œufs, poissons                      Cuisson à l'eau                   19.756378\n",
       "                                             Four                              16.435383\n",
       "                                             Four                              10.198284\n",
       "                                             Micro-onde                         4.346273\n",
       "                                             Pas de préparation                10.878861\n",
       "                                             Poêle                             22.732806\n",
       "                                             Réfrigéré chez le consommateur     8.766305\n",
       "Name: kg CO2 eq/kg de produit, dtype: float64"
      ]
     },
     "metadata": {},
     "execution_count": 18
    }
   ],
   "source": [
    "df.groupby([\"Groupe d'aliment\", \"Préparation\"])[\"kg CO2 eq/kg de produit\"].mean()"
   ]
  },
  {
   "cell_type": "code",
   "execution_count": 20,
   "metadata": {},
   "outputs": [
    {
     "output_type": "execute_result",
     "data": {
      "text/plain": [
       "Groupe d'aliment                        Sous-groupe d'aliment                              Matériau d'emballage\n",
       "aides culinaires et ingrédients divers  aides culinaires                                   Aluminium                9.425162\n",
       "                                                                                           Carton                   0.882828\n",
       "                                        algues                                             LDPE                     6.673668\n",
       "                                        condiments                                         Verre                    1.356028\n",
       "                                        denrées destinées à une alimentation particulière  PET                      2.313005\n",
       "                                                                                                                     ...    \n",
       "viandes, œufs, poissons                 viandes cuites                                     PS                      25.932122\n",
       "                                                                                           Pas d'emballage          8.854430\n",
       "                                        œufs                                               Carton                   3.754852\n",
       "                                                                                           LDPE                     3.685887\n",
       "                                                                                           Pas d'emballage          3.672076\n",
       "Name: kg CO2 eq/kg de produit, Length: 151, dtype: float64"
      ]
     },
     "metadata": {},
     "execution_count": 20
    }
   ],
   "source": [
    "df.groupby([\"Groupe d'aliment\",\"Sous-groupe d'aliment\", \"Matériau d'emballage\"])[\"kg CO2 eq/kg de produit\"].mean()"
   ]
  },
  {
   "cell_type": "code",
   "execution_count": 21,
   "metadata": {},
   "outputs": [
    {
     "output_type": "execute_result",
     "data": {
      "text/plain": [
       "Groupe d'aliment                        Sous-groupe d'aliment                              Préparation       \n",
       "aides culinaires et ingrédients divers  aides culinaires                                   Pas de préparation     3.730273\n",
       "                                        algues                                             Pas de préparation     6.673668\n",
       "                                        condiments                                         Micro-onde             1.336142\n",
       "                                                                                           Pas de préparation     1.359343\n",
       "                                        denrées destinées à une alimentation particulière  Pas de préparation     2.313005\n",
       "                                                                                                                   ...    \n",
       "viandes, œufs, poissons                 viandes cuites                                     Poêle                 36.803829\n",
       "                                        œufs                                               Cuisson à l'eau        3.773022\n",
       "                                                                                           Micro-onde             3.685887\n",
       "                                                                                           Pas de préparation     3.630500\n",
       "                                                                                           Poêle                  4.000323\n",
       "Name: kg CO2 eq/kg de produit, Length: 113, dtype: float64"
      ]
     },
     "metadata": {},
     "execution_count": 21
    }
   ],
   "source": [
    "df.groupby([\"Groupe d'aliment\",\"Sous-groupe d'aliment\", \"Préparation\"])[\"kg CO2 eq/kg de produit\"].mean()"
   ]
  },
  {
   "cell_type": "code",
   "execution_count": 22,
   "metadata": {},
   "outputs": [
    {
     "output_type": "execute_result",
     "data": {
      "text/plain": [
       "Groupe d'aliment                        Sous-groupe d'aliment                              Livraison      \n",
       "aides culinaires et ingrédients divers  aides culinaires                                   Ambiant (long)      3.730273\n",
       "                                        algues                                             Ambiant (long)      6.673668\n",
       "                                        condiments                                         Ambiant (long)      1.452437\n",
       "                                                                                           Glacé               1.115007\n",
       "                                        denrées destinées à une alimentation particulière  Glacé               2.313005\n",
       "                                                                                                                ...    \n",
       "viandes, œufs, poissons                 substituts de viande                               Glacé               1.650464\n",
       "                                        viandes crues                                      Glacé              16.523450\n",
       "                                        viandes cuites                                     Glacé              24.917457\n",
       "                                        œufs                                               Ambiant (moyen)     3.630500\n",
       "                                                                                           Glacé               3.812483\n",
       "Name: kg CO2 eq/kg de produit, Length: 95, dtype: float64"
      ]
     },
     "metadata": {},
     "execution_count": 22
    }
   ],
   "source": [
    "df.groupby([\"Groupe d'aliment\",\"Sous-groupe d'aliment\", \"Livraison\"])[\"kg CO2 eq/kg de produit\"].mean()"
   ]
  },
  {
   "cell_type": "code",
   "execution_count": 27,
   "metadata": {},
   "outputs": [
    {
     "output_type": "stream",
     "name": "stdout",
     "text": [
      "Sous-groupe d'aliment                              Livraison      \nautres produits à base de viande                   Ambiant (long)      4.480977\n                                                   Glacé              15.494286\ncharcuteries                                       Ambiant (long)      5.634195\n                                                   Ambiant (moyen)     5.312703\n                                                   Glacé               9.896990\nmollusques et crustacés crus                       Congelé            10.922219\n                                                   Glacé               9.086794\nmollusques et crustacés cuits                      Glacé              15.441560\npoissons crus                                      Congelé             6.397466\n                                                   Glacé               7.712976\npoissons cuits                                     Glacé               9.000984\nproduits à base de poissons et produits de la mer  Ambiant (long)      6.727692\n                                                   Congelé             6.899899\n                                                   Glacé               6.171760\nsubstituts de charcuterie                          Glacé               1.698058\nsubstituts de viande                               Ambiant (long)      0.907805\n                                                   Glacé               1.650464\nviandes crues                                      Glacé              16.523450\nviandes cuites                                     Glacé              24.917457\nœufs                                               Ambiant (moyen)     3.630500\n                                                   Glacé               3.812483\nName: kg CO2 eq/kg de produit, dtype: float64\n"
     ]
    }
   ],
   "source": [
    "df_viande=df.groupby([\"Groupe d'aliment\",\"Sous-groupe d'aliment\", \"Livraison\"])[\"kg CO2 eq/kg de produit\"].mean()\n",
    "viandes_liv=df_viande.loc[(\"viandes, œufs, poissons\")]\n",
    "print(viandes_liv)"
   ]
  },
  {
   "cell_type": "code",
   "execution_count": 28,
   "metadata": {},
   "outputs": [
    {
     "output_type": "stream",
     "name": "stdout",
     "text": [
      "Sous-groupe d'aliment                              Préparation                   \nautres produits à base de viande                   Four                              30.879226\n                                                   Four                              14.763995\n                                                   Pas de préparation                 9.372603\ncharcuteries                                       Four                               9.232461\n                                                   Pas de préparation                 9.388739\nmollusques et crustacés crus                       Pas de préparation                 9.217896\nmollusques et crustacés cuits                      Cuisson à l'eau                   20.691102\n                                                   Four                              11.232231\n                                                   Pas de préparation                 7.641588\n                                                   Poêle                              6.452693\npoissons crus                                      Four                               8.308114\n                                                   Pas de préparation                 7.664141\npoissons cuits                                     Cuisson à l'eau                    7.869052\n                                                   Four                              10.166878\n                                                   Micro-onde                         7.648202\n                                                   Pas de préparation                 5.482836\n                                                   Poêle                              7.247628\n                                                   Réfrigéré chez le consommateur     8.766305\nproduits à base de poissons et produits de la mer  Four                               7.307941\n                                                   Pas de préparation                 5.876931\n                                                   Poêle                             13.339817\nsubstituts de charcuterie                          Pas de préparation                 1.622792\n                                                   Poêle                              1.735691\nsubstituts de viande                               Cuisson à l'eau                    0.566212\n                                                   Pas de préparation                 1.249397\n                                                   Poêle                              1.650464\nviandes crues                                      Four                               9.116732\n                                                   Pas de préparation                16.578315\nviandes cuites                                     Cuisson à l'eau                   29.167460\n                                                   Four                              20.763584\n                                                   Poêle                             36.803829\nœufs                                               Cuisson à l'eau                    3.773022\n                                                   Micro-onde                         3.685887\n                                                   Pas de préparation                 3.630500\n                                                   Poêle                              4.000323\nName: kg CO2 eq/kg de produit, dtype: float64\n"
     ]
    }
   ],
   "source": [
    "df_viande=df.groupby([\"Groupe d'aliment\",\"Sous-groupe d'aliment\", \"Préparation\"])[\"kg CO2 eq/kg de produit\"].mean()\n",
    "viandes_pre=df_viande.loc[(\"viandes, œufs, poissons\")]\n",
    "print(viandes_pre)"
   ]
  },
  {
   "cell_type": "code",
   "execution_count": 29,
   "metadata": {},
   "outputs": [
    {
     "output_type": "stream",
     "name": "stdout",
     "text": [
      "Sous-groupe d'aliment                              Matériau d'emballage\nautres produits à base de viande                   LDPE                    10.582291\n                                                   PS                      15.402800\ncharcuteries                                       Acier                    5.617274\n                                                   LDPE                     5.385767\n                                                   PET                      6.802116\n                                                   PP/PE                   10.289424\n                                                   PS                      12.077549\n                                                   PVC                      4.289498\nmollusques et crustacés crus                       LDPE                     7.507150\n                                                   PS                      10.500955\nmollusques et crustacés cuits                      PS                       7.711797\n                                                   Pas d'emballage         34.765968\npoissons crus                                      LDPE                     6.493237\n                                                   PS                       7.723337\npoissons cuits                                     Carton et LDPE           8.766305\n                                                   LDPE                     7.058002\n                                                   PP                       9.554630\n                                                   PVC                      5.027039\nproduits à base de poissons et produits de la mer  Acier                    5.761439\n                                                   Aluminium                7.243027\n                                                   PS                       6.235076\nsubstituts de charcuterie                          PP                       1.735691\n                                                   PPE/PE                   1.622792\nsubstituts de viande                               Carton                   1.421873\n                                                   LDPE                     0.907805\n                                                   PP                       2.107646\nviandes crues                                      LDPE                    28.708325\n                                                   PET                     10.455625\n                                                   PP                      27.558574\n                                                   PS                      16.972514\nviandes cuites                                     LDPE                    36.444242\n                                                   PET                     13.020963\n                                                   PS                      25.932122\n                                                   Pas d'emballage          8.854430\nœufs                                               Carton                   3.754852\n                                                   LDPE                     3.685887\n                                                   Pas d'emballage          3.672076\nName: kg CO2 eq/kg de produit, dtype: float64\n"
     ]
    }
   ],
   "source": [
    "df_viande=df.groupby([\"Groupe d'aliment\",\"Sous-groupe d'aliment\", \"Matériau d'emballage\"])[\"kg CO2 eq/kg de produit\"].mean()\n",
    "viandes_mat=df_viande.loc[(\"viandes, œufs, poissons\")]\n",
    "print(viandes_mat)"
   ]
  },
  {
   "cell_type": "code",
   "execution_count": 30,
   "metadata": {},
   "outputs": [
    {
     "output_type": "stream",
     "name": "stdout",
     "text": [
      "Matériau d'emballage\nLDPE    28.708325\nPET     10.455625\nPP      27.558574\nPS      16.972514\nName: kg CO2 eq/kg de produit, dtype: float64\n"
     ]
    }
   ],
   "source": [
    "df_viande=df.groupby([\"Sous-groupe d'aliment\", \"Matériau d'emballage\"])[\"kg CO2 eq/kg de produit\"].mean()\n",
    "viandes_cru_mat=df_viande.loc[(\"viandes crues\")]\n",
    "print(viandes_cru_mat)"
   ]
  },
  {
   "cell_type": "code",
   "execution_count": 33,
   "metadata": {},
   "outputs": [
    {
     "output_type": "stream",
     "name": "stdout",
     "text": [
      "Préparation\nFour                   9.116732\nPas de préparation    16.578315\nName: kg CO2 eq/kg de produit, dtype: float64\n"
     ]
    }
   ],
   "source": [
    "df_viande=df.groupby([\"Sous-groupe d'aliment\", \"Préparation\"])[\"kg CO2 eq/kg de produit\"].mean()\n",
    "viandes_cru_pre=df_viande.loc[(\"viandes crues\")]\n",
    "print(viandes_cru_pre)"
   ]
  },
  {
   "cell_type": "code",
   "execution_count": 32,
   "metadata": {},
   "outputs": [
    {
     "output_type": "stream",
     "name": "stdout",
     "text": [
      "Livraison\nGlacé    16.52345\nName: kg CO2 eq/kg de produit, dtype: float64\n"
     ]
    }
   ],
   "source": [
    "df_viande=df.groupby([\"Sous-groupe d'aliment\", \"Livraison\"])[\"kg CO2 eq/kg de produit\"].mean()\n",
    "viandes_cru_liv=df_viande.loc[(\"viandes crues\")]\n",
    "print(viandes_cru_liv)"
   ]
  },
  {
   "cell_type": "code",
   "execution_count": 38,
   "metadata": {},
   "outputs": [
    {
     "output_type": "stream",
     "name": "stdout",
     "text": [
      "                                                                                                                              kg CO2 eq/kg de produit\nGroupe d'aliment          Sous-groupe d'aliment            Nom du Produit en Français                         Livraison                              \nentrées et plats composés feuilletées et autres entrées    Nem ou Pâté impérial, au poulet, cuit              Glacé                          3.353860\n                          pizzas, tartes et crêpes salées  Pastilla au poulet                                 Glacé                          3.877497\n                                                           Pizza au poulet                                    Glacé                          2.977169\n                          plats composés                   Couscous au poulet                                 Glacé                          2.723569\n                                                           Couscous à la viande ou au poulet, allégé          Glacé                          2.983331\n                                                           Poulet au curry et au lait de coco                 Glacé                          6.790635\n                                                           Poulet basquaise                                   Glacé                          5.165411\n                                                           Poêlée de pommes de terre préfrites, lardons ou... Glacé                          2.278840\n                                                           Riz blanc, cuit, avec poulet                       Glacé                          2.937040\n                                                           Tajine de poulet                                   Glacé                          5.486786\n                          salades composées et crudités    Salade César au poulet (salade verte, fromage, ... Glacé                          3.137597\n                                                           Taboulé ou Salade de couscous au poulet, préemb... Glacé                          2.190199\n                          sandwichs                        Burger au poulet                                   Glacé                          4.624307\n                                                           Sandwich baguette, poulet, crudités (tomate, sa... Glacé                          3.510775\n                                                           Sandwich pain de mie complet, poulet, crudités,... Glacé                          3.510775\nmatières grasses          autres matières grasses          Graisse de poulet                                  Glacé                          1.707039\nviandes, œufs, poissons   autres produits à base de viande Poulet, croquette panée ou nuggets                 Glacé                          6.037270\n                                                           Poulet, escalope panée                             Glacé                          9.061940\n                                                           Poulet, manchons marinés, rôtis/cuits au four      Glacé                          7.136144\n                          charcuteries                     Jambon de poulet ou Blanc de poulet en tranche     Glacé                          6.821413\n                                                           Rillettes de poulet                                Ambiant (long)                 5.312703\n                          viandes crues                    Coeur, poulet, cru                                 Glacé                          1.844482\n                                                           Foie, poulet, cru                                  Glacé                          1.844482\n                                                           Gésier, poulet, cru                                Glacé                          1.844482\n                                                           Poulet (var. blanc), viande et peau, cru           Glacé                          6.979272\n                                                           Poulet fermier, viande et peau, cru                Glacé                          6.979272\n                                                           Poulet éviscéré sans abats, cru                    Glacé                          6.979272\n                                                           Poulet, aile, viande et peau, cru                  Glacé                          6.979272\n                                                           Poulet, cuisse, viande et peau, cru                Glacé                          6.979272\n                                                           Poulet, cuisse, viande, cru                        Glacé                          6.979272\n                                                           Poulet, filet, sans peau, cru                      Glacé                          6.821413\n                                                           Poulet, haut de cuisse, viande, cru                Glacé                          6.979272\n                                                           Poulet, pilon, cru                                 Glacé                          6.979272\n                                                           Poulet, poitrine, viande et peau, cru              Glacé                          6.821413\n                                                           Poulet, viande et peau, cru                        Glacé                          5.519121\n                                                           Poulet, viande, crue                               Glacé                          5.519121\n                          viandes cuites                   Coeur, poulet, cuit                                Glacé                          2.614314\n                                                           Foie, poulet, cuit                                 Glacé                          2.614314\n                                                           Poulet, aile, viande et peau, rôti/cuit au four    Glacé                          9.325717\n                                                           Poulet, cuisse, viande et peau, bouilli/cuit à ... Glacé                          9.325717\n                                                           Poulet, cuisse, viande et peau, rôtie/cuite au ... Glacé                          9.325717\n                                                           Poulet, cuisse, viande, bouilli/cuit à l'eau       Glacé                          9.325717\n                                                           Poulet, cuisse, viande, rôti/cuit au four          Glacé                          9.325717\n                                                           Poulet, filet, sans peau, cuit                     Glacé                          9.116732\n                                                           Poulet, poitrine, viande et peau, rôti/cuit au ... Glacé                          9.116732\n                                                           Poulet, viande et peau, rôti/cuit au four          Glacé                          7.392668\n"
     ]
    }
   ],
   "source": [
    "poulet = df_poulet[df_poulet.index.get_level_values(\"Nom du Produit en Français\").str.contains(\"poulet\", case=False)]\n",
    "df_poulet=pd.DataFrame(poulet)\n",
    "print(df_poulet)"
   ]
  },
  {
   "cell_type": "code",
   "execution_count": 39,
   "metadata": {},
   "outputs": [],
   "source": [
    "import plotly.graph_objects as go\n",
    "import plotly.express as px\n",
    "from plotly.subplots import make_subplots"
   ]
  },
  {
   "cell_type": "code",
   "execution_count": 59,
   "metadata": {},
   "outputs": [
    {
     "output_type": "error",
     "ename": "KeyError",
     "evalue": "'Nom du Produit en Français '",
     "traceback": [
      "\u001b[1;31m---------------------------------------------------------------------------\u001b[0m",
      "\u001b[1;31mKeyError\u001b[0m                                  Traceback (most recent call last)",
      "\u001b[1;32m~\\anaconda3\\lib\\site-packages\\pandas\\core\\indexes\\base.py\u001b[0m in \u001b[0;36mget_loc\u001b[1;34m(self, key, method, tolerance)\u001b[0m\n\u001b[0;32m   3628\u001b[0m             \u001b[1;32mtry\u001b[0m\u001b[1;33m:\u001b[0m\u001b[1;33m\u001b[0m\u001b[1;33m\u001b[0m\u001b[0m\n\u001b[1;32m-> 3629\u001b[1;33m                 \u001b[1;32mreturn\u001b[0m \u001b[0mself\u001b[0m\u001b[1;33m.\u001b[0m\u001b[0m_engine\u001b[0m\u001b[1;33m.\u001b[0m\u001b[0mget_loc\u001b[0m\u001b[1;33m(\u001b[0m\u001b[0mcasted_key\u001b[0m\u001b[1;33m)\u001b[0m\u001b[1;33m\u001b[0m\u001b[1;33m\u001b[0m\u001b[0m\n\u001b[0m\u001b[0;32m   3630\u001b[0m             \u001b[1;32mexcept\u001b[0m \u001b[0mKeyError\u001b[0m \u001b[1;32mas\u001b[0m \u001b[0merr\u001b[0m\u001b[1;33m:\u001b[0m\u001b[1;33m\u001b[0m\u001b[1;33m\u001b[0m\u001b[0m\n",
      "\u001b[1;32m~\\anaconda3\\lib\\site-packages\\pandas\\_libs\\index.pyx\u001b[0m in \u001b[0;36mpandas._libs.index.IndexEngine.get_loc\u001b[1;34m()\u001b[0m\n",
      "\u001b[1;32m~\\anaconda3\\lib\\site-packages\\pandas\\_libs\\index.pyx\u001b[0m in \u001b[0;36mpandas._libs.index.IndexEngine.get_loc\u001b[1;34m()\u001b[0m\n",
      "\u001b[1;32mpandas\\_libs\\hashtable_class_helper.pxi\u001b[0m in \u001b[0;36mpandas._libs.hashtable.PyObjectHashTable.get_item\u001b[1;34m()\u001b[0m\n",
      "\u001b[1;32mpandas\\_libs\\hashtable_class_helper.pxi\u001b[0m in \u001b[0;36mpandas._libs.hashtable.PyObjectHashTable.get_item\u001b[1;34m()\u001b[0m\n",
      "\u001b[1;31mKeyError\u001b[0m: 'Nom du Produit en Français '",
      "\nThe above exception was the direct cause of the following exception:\n",
      "\u001b[1;31mKeyError\u001b[0m                                  Traceback (most recent call last)",
      "\u001b[1;32m~\\AppData\\Local\\Temp\\ipykernel_12392\\558721213.py\u001b[0m in \u001b[0;36m<module>\u001b[1;34m\u001b[0m\n\u001b[0;32m      3\u001b[0m graph_viande = go.Histogram(\n\u001b[0;32m      4\u001b[0m     \u001b[0mx\u001b[0m\u001b[1;33m=\u001b[0m\u001b[0mdf\u001b[0m\u001b[1;33m[\u001b[0m\u001b[1;34m\"kg CO2 eq/kg de produit\"\u001b[0m\u001b[1;33m]\u001b[0m\u001b[1;33m,\u001b[0m\u001b[1;33m\u001b[0m\u001b[1;33m\u001b[0m\u001b[0m\n\u001b[1;32m----> 5\u001b[1;33m     \u001b[0my\u001b[0m\u001b[1;33m=\u001b[0m\u001b[0mdf_poulet\u001b[0m\u001b[1;33m.\u001b[0m\u001b[0mloc\u001b[0m\u001b[1;33m[\u001b[0m\u001b[1;34m\"Nom du Produit en Français \"\u001b[0m\u001b[1;33m]\u001b[0m\u001b[1;33m,\u001b[0m\u001b[1;33m\u001b[0m\u001b[1;33m\u001b[0m\u001b[0m\n\u001b[0m\u001b[0;32m      6\u001b[0m     \u001b[0mname\u001b[0m\u001b[1;33m=\u001b[0m\u001b[1;34m'Aliments'\u001b[0m\u001b[1;33m,\u001b[0m\u001b[1;33m\u001b[0m\u001b[1;33m\u001b[0m\u001b[0m\n\u001b[0;32m      7\u001b[0m     \u001b[0mmarker\u001b[0m\u001b[1;33m=\u001b[0m\u001b[0mdict\u001b[0m\u001b[1;33m(\u001b[0m\u001b[0mcolor\u001b[0m\u001b[1;33m=\u001b[0m\u001b[1;34m'red'\u001b[0m\u001b[1;33m)\u001b[0m\u001b[1;33m\u001b[0m\u001b[1;33m\u001b[0m\u001b[0m\n",
      "\u001b[1;32m~\\anaconda3\\lib\\site-packages\\pandas\\core\\indexing.py\u001b[0m in \u001b[0;36m__getitem__\u001b[1;34m(self, key)\u001b[0m\n\u001b[0;32m    965\u001b[0m \u001b[1;33m\u001b[0m\u001b[0m\n\u001b[0;32m    966\u001b[0m             \u001b[0mmaybe_callable\u001b[0m \u001b[1;33m=\u001b[0m \u001b[0mcom\u001b[0m\u001b[1;33m.\u001b[0m\u001b[0mapply_if_callable\u001b[0m\u001b[1;33m(\u001b[0m\u001b[0mkey\u001b[0m\u001b[1;33m,\u001b[0m \u001b[0mself\u001b[0m\u001b[1;33m.\u001b[0m\u001b[0mobj\u001b[0m\u001b[1;33m)\u001b[0m\u001b[1;33m\u001b[0m\u001b[1;33m\u001b[0m\u001b[0m\n\u001b[1;32m--> 967\u001b[1;33m             \u001b[1;32mreturn\u001b[0m \u001b[0mself\u001b[0m\u001b[1;33m.\u001b[0m\u001b[0m_getitem_axis\u001b[0m\u001b[1;33m(\u001b[0m\u001b[0mmaybe_callable\u001b[0m\u001b[1;33m,\u001b[0m \u001b[0maxis\u001b[0m\u001b[1;33m=\u001b[0m\u001b[0maxis\u001b[0m\u001b[1;33m)\u001b[0m\u001b[1;33m\u001b[0m\u001b[1;33m\u001b[0m\u001b[0m\n\u001b[0m\u001b[0;32m    968\u001b[0m \u001b[1;33m\u001b[0m\u001b[0m\n\u001b[0;32m    969\u001b[0m     \u001b[1;32mdef\u001b[0m \u001b[0m_is_scalar_access\u001b[0m\u001b[1;33m(\u001b[0m\u001b[0mself\u001b[0m\u001b[1;33m,\u001b[0m \u001b[0mkey\u001b[0m\u001b[1;33m:\u001b[0m \u001b[0mtuple\u001b[0m\u001b[1;33m)\u001b[0m\u001b[1;33m:\u001b[0m\u001b[1;33m\u001b[0m\u001b[1;33m\u001b[0m\u001b[0m\n",
      "\u001b[1;32m~\\anaconda3\\lib\\site-packages\\pandas\\core\\indexing.py\u001b[0m in \u001b[0;36m_getitem_axis\u001b[1;34m(self, key, axis)\u001b[0m\n\u001b[0;32m   1203\u001b[0m         \u001b[1;31m# fall thru to straight lookup\u001b[0m\u001b[1;33m\u001b[0m\u001b[1;33m\u001b[0m\u001b[0m\n\u001b[0;32m   1204\u001b[0m         \u001b[0mself\u001b[0m\u001b[1;33m.\u001b[0m\u001b[0m_validate_key\u001b[0m\u001b[1;33m(\u001b[0m\u001b[0mkey\u001b[0m\u001b[1;33m,\u001b[0m \u001b[0maxis\u001b[0m\u001b[1;33m)\u001b[0m\u001b[1;33m\u001b[0m\u001b[1;33m\u001b[0m\u001b[0m\n\u001b[1;32m-> 1205\u001b[1;33m         \u001b[1;32mreturn\u001b[0m \u001b[0mself\u001b[0m\u001b[1;33m.\u001b[0m\u001b[0m_get_label\u001b[0m\u001b[1;33m(\u001b[0m\u001b[0mkey\u001b[0m\u001b[1;33m,\u001b[0m \u001b[0maxis\u001b[0m\u001b[1;33m=\u001b[0m\u001b[0maxis\u001b[0m\u001b[1;33m)\u001b[0m\u001b[1;33m\u001b[0m\u001b[1;33m\u001b[0m\u001b[0m\n\u001b[0m\u001b[0;32m   1206\u001b[0m \u001b[1;33m\u001b[0m\u001b[0m\n\u001b[0;32m   1207\u001b[0m     \u001b[1;32mdef\u001b[0m \u001b[0m_get_slice_axis\u001b[0m\u001b[1;33m(\u001b[0m\u001b[0mself\u001b[0m\u001b[1;33m,\u001b[0m \u001b[0mslice_obj\u001b[0m\u001b[1;33m:\u001b[0m \u001b[0mslice\u001b[0m\u001b[1;33m,\u001b[0m \u001b[0maxis\u001b[0m\u001b[1;33m:\u001b[0m \u001b[0mint\u001b[0m\u001b[1;33m)\u001b[0m\u001b[1;33m:\u001b[0m\u001b[1;33m\u001b[0m\u001b[1;33m\u001b[0m\u001b[0m\n",
      "\u001b[1;32m~\\anaconda3\\lib\\site-packages\\pandas\\core\\indexing.py\u001b[0m in \u001b[0;36m_get_label\u001b[1;34m(self, label, axis)\u001b[0m\n\u001b[0;32m   1151\u001b[0m     \u001b[1;32mdef\u001b[0m \u001b[0m_get_label\u001b[0m\u001b[1;33m(\u001b[0m\u001b[0mself\u001b[0m\u001b[1;33m,\u001b[0m \u001b[0mlabel\u001b[0m\u001b[1;33m,\u001b[0m \u001b[0maxis\u001b[0m\u001b[1;33m:\u001b[0m \u001b[0mint\u001b[0m\u001b[1;33m)\u001b[0m\u001b[1;33m:\u001b[0m\u001b[1;33m\u001b[0m\u001b[1;33m\u001b[0m\u001b[0m\n\u001b[0;32m   1152\u001b[0m         \u001b[1;31m# GH#5667 this will fail if the label is not present in the axis.\u001b[0m\u001b[1;33m\u001b[0m\u001b[1;33m\u001b[0m\u001b[0m\n\u001b[1;32m-> 1153\u001b[1;33m         \u001b[1;32mreturn\u001b[0m \u001b[0mself\u001b[0m\u001b[1;33m.\u001b[0m\u001b[0mobj\u001b[0m\u001b[1;33m.\u001b[0m\u001b[0mxs\u001b[0m\u001b[1;33m(\u001b[0m\u001b[0mlabel\u001b[0m\u001b[1;33m,\u001b[0m \u001b[0maxis\u001b[0m\u001b[1;33m=\u001b[0m\u001b[0maxis\u001b[0m\u001b[1;33m)\u001b[0m\u001b[1;33m\u001b[0m\u001b[1;33m\u001b[0m\u001b[0m\n\u001b[0m\u001b[0;32m   1154\u001b[0m \u001b[1;33m\u001b[0m\u001b[0m\n\u001b[0;32m   1155\u001b[0m     \u001b[1;32mdef\u001b[0m \u001b[0m_handle_lowerdim_multi_index_axis0\u001b[0m\u001b[1;33m(\u001b[0m\u001b[0mself\u001b[0m\u001b[1;33m,\u001b[0m \u001b[0mtup\u001b[0m\u001b[1;33m:\u001b[0m \u001b[0mtuple\u001b[0m\u001b[1;33m)\u001b[0m\u001b[1;33m:\u001b[0m\u001b[1;33m\u001b[0m\u001b[1;33m\u001b[0m\u001b[0m\n",
      "\u001b[1;32m~\\anaconda3\\lib\\site-packages\\pandas\\core\\generic.py\u001b[0m in \u001b[0;36mxs\u001b[1;34m(self, key, axis, level, drop_level)\u001b[0m\n\u001b[0;32m   3855\u001b[0m \u001b[1;33m\u001b[0m\u001b[0m\n\u001b[0;32m   3856\u001b[0m         \u001b[1;32mif\u001b[0m \u001b[0misinstance\u001b[0m\u001b[1;33m(\u001b[0m\u001b[0mindex\u001b[0m\u001b[1;33m,\u001b[0m \u001b[0mMultiIndex\u001b[0m\u001b[1;33m)\u001b[0m\u001b[1;33m:\u001b[0m\u001b[1;33m\u001b[0m\u001b[1;33m\u001b[0m\u001b[0m\n\u001b[1;32m-> 3857\u001b[1;33m             \u001b[0mloc\u001b[0m\u001b[1;33m,\u001b[0m \u001b[0mnew_index\u001b[0m \u001b[1;33m=\u001b[0m \u001b[0mindex\u001b[0m\u001b[1;33m.\u001b[0m\u001b[0m_get_loc_level\u001b[0m\u001b[1;33m(\u001b[0m\u001b[0mkey\u001b[0m\u001b[1;33m,\u001b[0m \u001b[0mlevel\u001b[0m\u001b[1;33m=\u001b[0m\u001b[1;36m0\u001b[0m\u001b[1;33m)\u001b[0m\u001b[1;33m\u001b[0m\u001b[1;33m\u001b[0m\u001b[0m\n\u001b[0m\u001b[0;32m   3858\u001b[0m             \u001b[1;32mif\u001b[0m \u001b[1;32mnot\u001b[0m \u001b[0mdrop_level\u001b[0m\u001b[1;33m:\u001b[0m\u001b[1;33m\u001b[0m\u001b[1;33m\u001b[0m\u001b[0m\n\u001b[0;32m   3859\u001b[0m                 \u001b[1;32mif\u001b[0m \u001b[0mlib\u001b[0m\u001b[1;33m.\u001b[0m\u001b[0mis_integer\u001b[0m\u001b[1;33m(\u001b[0m\u001b[0mloc\u001b[0m\u001b[1;33m)\u001b[0m\u001b[1;33m:\u001b[0m\u001b[1;33m\u001b[0m\u001b[1;33m\u001b[0m\u001b[0m\n",
      "\u001b[1;32m~\\anaconda3\\lib\\site-packages\\pandas\\core\\indexes\\multi.py\u001b[0m in \u001b[0;36m_get_loc_level\u001b[1;34m(self, key, level)\u001b[0m\n\u001b[0;32m   3111\u001b[0m                 \u001b[1;32mreturn\u001b[0m \u001b[0mindexer\u001b[0m\u001b[1;33m,\u001b[0m \u001b[0mmaybe_mi_droplevels\u001b[0m\u001b[1;33m(\u001b[0m\u001b[0mindexer\u001b[0m\u001b[1;33m,\u001b[0m \u001b[0milevels\u001b[0m\u001b[1;33m)\u001b[0m\u001b[1;33m\u001b[0m\u001b[1;33m\u001b[0m\u001b[0m\n\u001b[0;32m   3112\u001b[0m         \u001b[1;32melse\u001b[0m\u001b[1;33m:\u001b[0m\u001b[1;33m\u001b[0m\u001b[1;33m\u001b[0m\u001b[0m\n\u001b[1;32m-> 3113\u001b[1;33m             \u001b[0mindexer\u001b[0m \u001b[1;33m=\u001b[0m \u001b[0mself\u001b[0m\u001b[1;33m.\u001b[0m\u001b[0m_get_level_indexer\u001b[0m\u001b[1;33m(\u001b[0m\u001b[0mkey\u001b[0m\u001b[1;33m,\u001b[0m \u001b[0mlevel\u001b[0m\u001b[1;33m=\u001b[0m\u001b[0mlevel\u001b[0m\u001b[1;33m)\u001b[0m\u001b[1;33m\u001b[0m\u001b[1;33m\u001b[0m\u001b[0m\n\u001b[0m\u001b[0;32m   3114\u001b[0m             if (\n\u001b[0;32m   3115\u001b[0m                 \u001b[0misinstance\u001b[0m\u001b[1;33m(\u001b[0m\u001b[0mkey\u001b[0m\u001b[1;33m,\u001b[0m \u001b[0mstr\u001b[0m\u001b[1;33m)\u001b[0m\u001b[1;33m\u001b[0m\u001b[1;33m\u001b[0m\u001b[0m\n",
      "\u001b[1;32m~\\anaconda3\\lib\\site-packages\\pandas\\core\\indexes\\multi.py\u001b[0m in \u001b[0;36m_get_level_indexer\u001b[1;34m(self, key, level, indexer)\u001b[0m\n\u001b[0;32m   3220\u001b[0m         \u001b[1;32melse\u001b[0m\u001b[1;33m:\u001b[0m\u001b[1;33m\u001b[0m\u001b[1;33m\u001b[0m\u001b[0m\n\u001b[0;32m   3221\u001b[0m \u001b[1;33m\u001b[0m\u001b[0m\n\u001b[1;32m-> 3222\u001b[1;33m             \u001b[0midx\u001b[0m \u001b[1;33m=\u001b[0m \u001b[0mself\u001b[0m\u001b[1;33m.\u001b[0m\u001b[0m_get_loc_single_level_index\u001b[0m\u001b[1;33m(\u001b[0m\u001b[0mlevel_index\u001b[0m\u001b[1;33m,\u001b[0m \u001b[0mkey\u001b[0m\u001b[1;33m)\u001b[0m\u001b[1;33m\u001b[0m\u001b[1;33m\u001b[0m\u001b[0m\n\u001b[0m\u001b[0;32m   3223\u001b[0m \u001b[1;33m\u001b[0m\u001b[0m\n\u001b[0;32m   3224\u001b[0m             \u001b[1;32mif\u001b[0m \u001b[0mlevel\u001b[0m \u001b[1;33m>\u001b[0m \u001b[1;36m0\u001b[0m \u001b[1;32mor\u001b[0m \u001b[0mself\u001b[0m\u001b[1;33m.\u001b[0m\u001b[0m_lexsort_depth\u001b[0m \u001b[1;33m==\u001b[0m \u001b[1;36m0\u001b[0m\u001b[1;33m:\u001b[0m\u001b[1;33m\u001b[0m\u001b[1;33m\u001b[0m\u001b[0m\n",
      "\u001b[1;32m~\\anaconda3\\lib\\site-packages\\pandas\\core\\indexes\\multi.py\u001b[0m in \u001b[0;36m_get_loc_single_level_index\u001b[1;34m(self, level_index, key)\u001b[0m\n\u001b[0;32m   2800\u001b[0m             \u001b[1;32mreturn\u001b[0m \u001b[1;33m-\u001b[0m\u001b[1;36m1\u001b[0m\u001b[1;33m\u001b[0m\u001b[1;33m\u001b[0m\u001b[0m\n\u001b[0;32m   2801\u001b[0m         \u001b[1;32melse\u001b[0m\u001b[1;33m:\u001b[0m\u001b[1;33m\u001b[0m\u001b[1;33m\u001b[0m\u001b[0m\n\u001b[1;32m-> 2802\u001b[1;33m             \u001b[1;32mreturn\u001b[0m \u001b[0mlevel_index\u001b[0m\u001b[1;33m.\u001b[0m\u001b[0mget_loc\u001b[0m\u001b[1;33m(\u001b[0m\u001b[0mkey\u001b[0m\u001b[1;33m)\u001b[0m\u001b[1;33m\u001b[0m\u001b[1;33m\u001b[0m\u001b[0m\n\u001b[0m\u001b[0;32m   2803\u001b[0m \u001b[1;33m\u001b[0m\u001b[0m\n\u001b[0;32m   2804\u001b[0m     \u001b[1;32mdef\u001b[0m \u001b[0mget_loc\u001b[0m\u001b[1;33m(\u001b[0m\u001b[0mself\u001b[0m\u001b[1;33m,\u001b[0m \u001b[0mkey\u001b[0m\u001b[1;33m,\u001b[0m \u001b[0mmethod\u001b[0m\u001b[1;33m=\u001b[0m\u001b[1;32mNone\u001b[0m\u001b[1;33m)\u001b[0m\u001b[1;33m:\u001b[0m\u001b[1;33m\u001b[0m\u001b[1;33m\u001b[0m\u001b[0m\n",
      "\u001b[1;32m~\\anaconda3\\lib\\site-packages\\pandas\\core\\indexes\\base.py\u001b[0m in \u001b[0;36mget_loc\u001b[1;34m(self, key, method, tolerance)\u001b[0m\n\u001b[0;32m   3629\u001b[0m                 \u001b[1;32mreturn\u001b[0m \u001b[0mself\u001b[0m\u001b[1;33m.\u001b[0m\u001b[0m_engine\u001b[0m\u001b[1;33m.\u001b[0m\u001b[0mget_loc\u001b[0m\u001b[1;33m(\u001b[0m\u001b[0mcasted_key\u001b[0m\u001b[1;33m)\u001b[0m\u001b[1;33m\u001b[0m\u001b[1;33m\u001b[0m\u001b[0m\n\u001b[0;32m   3630\u001b[0m             \u001b[1;32mexcept\u001b[0m \u001b[0mKeyError\u001b[0m \u001b[1;32mas\u001b[0m \u001b[0merr\u001b[0m\u001b[1;33m:\u001b[0m\u001b[1;33m\u001b[0m\u001b[1;33m\u001b[0m\u001b[0m\n\u001b[1;32m-> 3631\u001b[1;33m                 \u001b[1;32mraise\u001b[0m \u001b[0mKeyError\u001b[0m\u001b[1;33m(\u001b[0m\u001b[0mkey\u001b[0m\u001b[1;33m)\u001b[0m \u001b[1;32mfrom\u001b[0m \u001b[0merr\u001b[0m\u001b[1;33m\u001b[0m\u001b[1;33m\u001b[0m\u001b[0m\n\u001b[0m\u001b[0;32m   3632\u001b[0m             \u001b[1;32mexcept\u001b[0m \u001b[0mTypeError\u001b[0m\u001b[1;33m:\u001b[0m\u001b[1;33m\u001b[0m\u001b[1;33m\u001b[0m\u001b[0m\n\u001b[0;32m   3633\u001b[0m                 \u001b[1;31m# If we have a listlike key, _check_indexing_error will raise\u001b[0m\u001b[1;33m\u001b[0m\u001b[1;33m\u001b[0m\u001b[0m\n",
      "\u001b[1;31mKeyError\u001b[0m: 'Nom du Produit en Français '"
     ]
    }
   ],
   "source": [
    "import plotly.graph_objects as go\n",
    "\n",
    "graph_viande = go.Histogram(\n",
    "    x=df[\"kg CO2 eq/kg de produit\"],\n",
    "    y=df_poulet.loc[\"Nom du Produit en Français \"],\n",
    "    name='Aliments',\n",
    "    marker=dict(color='red')\n",
    ")\n",
    "\n",
    "fig = go.Figure(graph_viande)\n",
    "fig.show()"
   ]
  },
  {
   "cell_type": "code",
   "execution_count": 54,
   "metadata": {},
   "outputs": [
    {
     "output_type": "error",
     "ename": "KeyError",
     "evalue": "'poulet'",
     "traceback": [
      "\u001b[1;31m---------------------------------------------------------------------------\u001b[0m",
      "\u001b[1;31mKeyError\u001b[0m                                  Traceback (most recent call last)",
      "\u001b[1;32m~\\anaconda3\\lib\\site-packages\\pandas\\core\\indexes\\base.py\u001b[0m in \u001b[0;36mget_loc\u001b[1;34m(self, key, method, tolerance)\u001b[0m\n\u001b[0;32m   3628\u001b[0m             \u001b[1;32mtry\u001b[0m\u001b[1;33m:\u001b[0m\u001b[1;33m\u001b[0m\u001b[1;33m\u001b[0m\u001b[0m\n\u001b[1;32m-> 3629\u001b[1;33m                 \u001b[1;32mreturn\u001b[0m \u001b[0mself\u001b[0m\u001b[1;33m.\u001b[0m\u001b[0m_engine\u001b[0m\u001b[1;33m.\u001b[0m\u001b[0mget_loc\u001b[0m\u001b[1;33m(\u001b[0m\u001b[0mcasted_key\u001b[0m\u001b[1;33m)\u001b[0m\u001b[1;33m\u001b[0m\u001b[1;33m\u001b[0m\u001b[0m\n\u001b[0m\u001b[0;32m   3630\u001b[0m             \u001b[1;32mexcept\u001b[0m \u001b[0mKeyError\u001b[0m \u001b[1;32mas\u001b[0m \u001b[0merr\u001b[0m\u001b[1;33m:\u001b[0m\u001b[1;33m\u001b[0m\u001b[1;33m\u001b[0m\u001b[0m\n",
      "\u001b[1;32m~\\anaconda3\\lib\\site-packages\\pandas\\_libs\\index.pyx\u001b[0m in \u001b[0;36mpandas._libs.index.IndexEngine.get_loc\u001b[1;34m()\u001b[0m\n",
      "\u001b[1;32m~\\anaconda3\\lib\\site-packages\\pandas\\_libs\\index.pyx\u001b[0m in \u001b[0;36mpandas._libs.index.IndexEngine.get_loc\u001b[1;34m()\u001b[0m\n",
      "\u001b[1;32mpandas\\_libs\\hashtable_class_helper.pxi\u001b[0m in \u001b[0;36mpandas._libs.hashtable.PyObjectHashTable.get_item\u001b[1;34m()\u001b[0m\n",
      "\u001b[1;32mpandas\\_libs\\hashtable_class_helper.pxi\u001b[0m in \u001b[0;36mpandas._libs.hashtable.PyObjectHashTable.get_item\u001b[1;34m()\u001b[0m\n",
      "\u001b[1;31mKeyError\u001b[0m: 'poulet'",
      "\nThe above exception was the direct cause of the following exception:\n",
      "\u001b[1;31mKeyError\u001b[0m                                  Traceback (most recent call last)",
      "\u001b[1;32m~\\AppData\\Local\\Temp\\ipykernel_12392\\3150490886.py\u001b[0m in \u001b[0;36m<module>\u001b[1;34m\u001b[0m\n\u001b[0;32m      2\u001b[0m \u001b[1;33m\u001b[0m\u001b[0m\n\u001b[0;32m      3\u001b[0m \u001b[1;32mfor\u001b[0m \u001b[0mi\u001b[0m\u001b[1;33m,\u001b[0m \u001b[0mLivraison\u001b[0m \u001b[1;32min\u001b[0m \u001b[0menumerate\u001b[0m\u001b[1;33m(\u001b[0m\u001b[0mdf_poulet\u001b[0m\u001b[1;33m.\u001b[0m\u001b[0mindex\u001b[0m\u001b[1;33m.\u001b[0m\u001b[0mget_level_values\u001b[0m\u001b[1;33m(\u001b[0m\u001b[1;34m'Livraison'\u001b[0m\u001b[1;33m)\u001b[0m\u001b[1;33m.\u001b[0m\u001b[0munique\u001b[0m\u001b[1;33m(\u001b[0m\u001b[1;33m)\u001b[0m\u001b[1;33m)\u001b[0m\u001b[1;33m:\u001b[0m\u001b[1;33m\u001b[0m\u001b[1;33m\u001b[0m\u001b[0m\n\u001b[1;32m----> 4\u001b[1;33m     \u001b[0msub_df\u001b[0m \u001b[1;33m=\u001b[0m \u001b[0mdf_poulet\u001b[0m\u001b[1;33m.\u001b[0m\u001b[0mloc\u001b[0m\u001b[1;33m[\u001b[0m\u001b[1;33m(\u001b[0m\u001b[1;34m\"viandes, œufs, poissons\"\u001b[0m\u001b[1;33m,\u001b[0m \u001b[1;34m\"poulet\"\u001b[0m\u001b[1;33m,\u001b[0m \u001b[0mslice\u001b[0m\u001b[1;33m(\u001b[0m\u001b[1;32mNone\u001b[0m\u001b[1;33m)\u001b[0m\u001b[1;33m,\u001b[0m \u001b[0mLivraison\u001b[0m\u001b[1;33m)\u001b[0m\u001b[1;33m,\u001b[0m \u001b[1;34m\"kg CO2 eq/kg de produit\"\u001b[0m\u001b[1;33m]\u001b[0m\u001b[1;33m\u001b[0m\u001b[1;33m\u001b[0m\u001b[0m\n\u001b[0m\u001b[0;32m      5\u001b[0m     \u001b[0mgraph\u001b[0m \u001b[1;33m=\u001b[0m \u001b[0mgo\u001b[0m\u001b[1;33m.\u001b[0m\u001b[0mBar\u001b[0m\u001b[1;33m(\u001b[0m\u001b[0mx\u001b[0m\u001b[1;33m=\u001b[0m\u001b[0msub_df\u001b[0m\u001b[1;33m.\u001b[0m\u001b[0mindex\u001b[0m\u001b[1;33m.\u001b[0m\u001b[0mget_level_values\u001b[0m\u001b[1;33m(\u001b[0m\u001b[1;34m\"Nom du Produit en Français\"\u001b[0m\u001b[1;33m)\u001b[0m\u001b[1;33m,\u001b[0m \u001b[0my\u001b[0m\u001b[1;33m=\u001b[0m\u001b[0msub_df\u001b[0m\u001b[1;33m,\u001b[0m \u001b[0mname\u001b[0m\u001b[1;33m=\u001b[0m\u001b[0mLivraison\u001b[0m\u001b[1;33m)\u001b[0m\u001b[1;33m\u001b[0m\u001b[1;33m\u001b[0m\u001b[0m\n\u001b[0;32m      6\u001b[0m     \u001b[0mfigu\u001b[0m\u001b[1;33m.\u001b[0m\u001b[0madd_trace\u001b[0m\u001b[1;33m(\u001b[0m\u001b[0mgraph\u001b[0m\u001b[1;33m,\u001b[0m \u001b[0mrow\u001b[0m\u001b[1;33m=\u001b[0m\u001b[1;36m1\u001b[0m\u001b[1;33m,\u001b[0m \u001b[0mcol\u001b[0m\u001b[1;33m=\u001b[0m\u001b[0mi\u001b[0m\u001b[1;33m+\u001b[0m\u001b[1;36m1\u001b[0m\u001b[1;33m)\u001b[0m\u001b[1;33m\u001b[0m\u001b[1;33m\u001b[0m\u001b[0m\n",
      "\u001b[1;32m~\\anaconda3\\lib\\site-packages\\pandas\\core\\indexing.py\u001b[0m in \u001b[0;36m__getitem__\u001b[1;34m(self, key)\u001b[0m\n\u001b[0;32m    959\u001b[0m             \u001b[1;32mif\u001b[0m \u001b[0mself\u001b[0m\u001b[1;33m.\u001b[0m\u001b[0m_is_scalar_access\u001b[0m\u001b[1;33m(\u001b[0m\u001b[0mkey\u001b[0m\u001b[1;33m)\u001b[0m\u001b[1;33m:\u001b[0m\u001b[1;33m\u001b[0m\u001b[1;33m\u001b[0m\u001b[0m\n\u001b[0;32m    960\u001b[0m                 \u001b[1;32mreturn\u001b[0m \u001b[0mself\u001b[0m\u001b[1;33m.\u001b[0m\u001b[0mobj\u001b[0m\u001b[1;33m.\u001b[0m\u001b[0m_get_value\u001b[0m\u001b[1;33m(\u001b[0m\u001b[1;33m*\u001b[0m\u001b[0mkey\u001b[0m\u001b[1;33m,\u001b[0m \u001b[0mtakeable\u001b[0m\u001b[1;33m=\u001b[0m\u001b[0mself\u001b[0m\u001b[1;33m.\u001b[0m\u001b[0m_takeable\u001b[0m\u001b[1;33m)\u001b[0m\u001b[1;33m\u001b[0m\u001b[1;33m\u001b[0m\u001b[0m\n\u001b[1;32m--> 961\u001b[1;33m             \u001b[1;32mreturn\u001b[0m \u001b[0mself\u001b[0m\u001b[1;33m.\u001b[0m\u001b[0m_getitem_tuple\u001b[0m\u001b[1;33m(\u001b[0m\u001b[0mkey\u001b[0m\u001b[1;33m)\u001b[0m\u001b[1;33m\u001b[0m\u001b[1;33m\u001b[0m\u001b[0m\n\u001b[0m\u001b[0;32m    962\u001b[0m         \u001b[1;32melse\u001b[0m\u001b[1;33m:\u001b[0m\u001b[1;33m\u001b[0m\u001b[1;33m\u001b[0m\u001b[0m\n\u001b[0;32m    963\u001b[0m             \u001b[1;31m# we by definition only have the 0th axis\u001b[0m\u001b[1;33m\u001b[0m\u001b[1;33m\u001b[0m\u001b[0m\n",
      "\u001b[1;32m~\\anaconda3\\lib\\site-packages\\pandas\\core\\indexing.py\u001b[0m in \u001b[0;36m_getitem_tuple\u001b[1;34m(self, tup)\u001b[0m\n\u001b[0;32m   1138\u001b[0m         \u001b[1;32mwith\u001b[0m \u001b[0msuppress\u001b[0m\u001b[1;33m(\u001b[0m\u001b[0mIndexingError\u001b[0m\u001b[1;33m)\u001b[0m\u001b[1;33m:\u001b[0m\u001b[1;33m\u001b[0m\u001b[1;33m\u001b[0m\u001b[0m\n\u001b[0;32m   1139\u001b[0m             \u001b[0mtup\u001b[0m \u001b[1;33m=\u001b[0m \u001b[0mself\u001b[0m\u001b[1;33m.\u001b[0m\u001b[0m_expand_ellipsis\u001b[0m\u001b[1;33m(\u001b[0m\u001b[0mtup\u001b[0m\u001b[1;33m)\u001b[0m\u001b[1;33m\u001b[0m\u001b[1;33m\u001b[0m\u001b[0m\n\u001b[1;32m-> 1140\u001b[1;33m             \u001b[1;32mreturn\u001b[0m \u001b[0mself\u001b[0m\u001b[1;33m.\u001b[0m\u001b[0m_getitem_lowerdim\u001b[0m\u001b[1;33m(\u001b[0m\u001b[0mtup\u001b[0m\u001b[1;33m)\u001b[0m\u001b[1;33m\u001b[0m\u001b[1;33m\u001b[0m\u001b[0m\n\u001b[0m\u001b[0;32m   1141\u001b[0m \u001b[1;33m\u001b[0m\u001b[0m\n\u001b[0;32m   1142\u001b[0m         \u001b[1;31m# no multi-index, so validate all of the indexers\u001b[0m\u001b[1;33m\u001b[0m\u001b[1;33m\u001b[0m\u001b[0m\n",
      "\u001b[1;32m~\\anaconda3\\lib\\site-packages\\pandas\\core\\indexing.py\u001b[0m in \u001b[0;36m_getitem_lowerdim\u001b[1;34m(self, tup)\u001b[0m\n\u001b[0;32m    841\u001b[0m         \u001b[1;31m# we may have a nested tuples indexer here\u001b[0m\u001b[1;33m\u001b[0m\u001b[1;33m\u001b[0m\u001b[0m\n\u001b[0;32m    842\u001b[0m         \u001b[1;32mif\u001b[0m \u001b[0mself\u001b[0m\u001b[1;33m.\u001b[0m\u001b[0m_is_nested_tuple_indexer\u001b[0m\u001b[1;33m(\u001b[0m\u001b[0mtup\u001b[0m\u001b[1;33m)\u001b[0m\u001b[1;33m:\u001b[0m\u001b[1;33m\u001b[0m\u001b[1;33m\u001b[0m\u001b[0m\n\u001b[1;32m--> 843\u001b[1;33m             \u001b[1;32mreturn\u001b[0m \u001b[0mself\u001b[0m\u001b[1;33m.\u001b[0m\u001b[0m_getitem_nested_tuple\u001b[0m\u001b[1;33m(\u001b[0m\u001b[0mtup\u001b[0m\u001b[1;33m)\u001b[0m\u001b[1;33m\u001b[0m\u001b[1;33m\u001b[0m\u001b[0m\n\u001b[0m\u001b[0;32m    844\u001b[0m \u001b[1;33m\u001b[0m\u001b[0m\n\u001b[0;32m    845\u001b[0m         \u001b[1;31m# we maybe be using a tuple to represent multiple dimensions here\u001b[0m\u001b[1;33m\u001b[0m\u001b[1;33m\u001b[0m\u001b[0m\n",
      "\u001b[1;32m~\\anaconda3\\lib\\site-packages\\pandas\\core\\indexing.py\u001b[0m in \u001b[0;36m_getitem_nested_tuple\u001b[1;34m(self, tup)\u001b[0m\n\u001b[0;32m    940\u001b[0m                 \u001b[1;32mcontinue\u001b[0m\u001b[1;33m\u001b[0m\u001b[1;33m\u001b[0m\u001b[0m\n\u001b[0;32m    941\u001b[0m \u001b[1;33m\u001b[0m\u001b[0m\n\u001b[1;32m--> 942\u001b[1;33m             \u001b[0mobj\u001b[0m \u001b[1;33m=\u001b[0m \u001b[0mgetattr\u001b[0m\u001b[1;33m(\u001b[0m\u001b[0mobj\u001b[0m\u001b[1;33m,\u001b[0m \u001b[0mself\u001b[0m\u001b[1;33m.\u001b[0m\u001b[0mname\u001b[0m\u001b[1;33m)\u001b[0m\u001b[1;33m.\u001b[0m\u001b[0m_getitem_axis\u001b[0m\u001b[1;33m(\u001b[0m\u001b[0mkey\u001b[0m\u001b[1;33m,\u001b[0m \u001b[0maxis\u001b[0m\u001b[1;33m=\u001b[0m\u001b[0maxis\u001b[0m\u001b[1;33m)\u001b[0m\u001b[1;33m\u001b[0m\u001b[1;33m\u001b[0m\u001b[0m\n\u001b[0m\u001b[0;32m    943\u001b[0m             \u001b[0maxis\u001b[0m \u001b[1;33m-=\u001b[0m \u001b[1;36m1\u001b[0m\u001b[1;33m\u001b[0m\u001b[1;33m\u001b[0m\u001b[0m\n\u001b[0;32m    944\u001b[0m \u001b[1;33m\u001b[0m\u001b[0m\n",
      "\u001b[1;32m~\\anaconda3\\lib\\site-packages\\pandas\\core\\indexing.py\u001b[0m in \u001b[0;36m_getitem_axis\u001b[1;34m(self, key, axis)\u001b[0m\n\u001b[0;32m   1196\u001b[0m             \u001b[1;31m# nested tuple slicing\u001b[0m\u001b[1;33m\u001b[0m\u001b[1;33m\u001b[0m\u001b[0m\n\u001b[0;32m   1197\u001b[0m             \u001b[1;32mif\u001b[0m \u001b[0mis_nested_tuple\u001b[0m\u001b[1;33m(\u001b[0m\u001b[0mkey\u001b[0m\u001b[1;33m,\u001b[0m \u001b[0mlabels\u001b[0m\u001b[1;33m)\u001b[0m\u001b[1;33m:\u001b[0m\u001b[1;33m\u001b[0m\u001b[1;33m\u001b[0m\u001b[0m\n\u001b[1;32m-> 1198\u001b[1;33m                 \u001b[0mlocs\u001b[0m \u001b[1;33m=\u001b[0m \u001b[0mlabels\u001b[0m\u001b[1;33m.\u001b[0m\u001b[0mget_locs\u001b[0m\u001b[1;33m(\u001b[0m\u001b[0mkey\u001b[0m\u001b[1;33m)\u001b[0m\u001b[1;33m\u001b[0m\u001b[1;33m\u001b[0m\u001b[0m\n\u001b[0m\u001b[0;32m   1199\u001b[0m                 \u001b[0mindexer\u001b[0m \u001b[1;33m=\u001b[0m \u001b[1;33m[\u001b[0m\u001b[0mslice\u001b[0m\u001b[1;33m(\u001b[0m\u001b[1;32mNone\u001b[0m\u001b[1;33m)\u001b[0m\u001b[1;33m]\u001b[0m \u001b[1;33m*\u001b[0m \u001b[0mself\u001b[0m\u001b[1;33m.\u001b[0m\u001b[0mndim\u001b[0m\u001b[1;33m\u001b[0m\u001b[1;33m\u001b[0m\u001b[0m\n\u001b[0;32m   1200\u001b[0m                 \u001b[0mindexer\u001b[0m\u001b[1;33m[\u001b[0m\u001b[0maxis\u001b[0m\u001b[1;33m]\u001b[0m \u001b[1;33m=\u001b[0m \u001b[0mlocs\u001b[0m\u001b[1;33m\u001b[0m\u001b[1;33m\u001b[0m\u001b[0m\n",
      "\u001b[1;32m~\\anaconda3\\lib\\site-packages\\pandas\\core\\indexes\\multi.py\u001b[0m in \u001b[0;36mget_locs\u001b[1;34m(self, seq)\u001b[0m\n\u001b[0;32m   3423\u001b[0m             \u001b[1;32melse\u001b[0m\u001b[1;33m:\u001b[0m\u001b[1;33m\u001b[0m\u001b[1;33m\u001b[0m\u001b[0m\n\u001b[0;32m   3424\u001b[0m                 \u001b[1;31m# a single label\u001b[0m\u001b[1;33m\u001b[0m\u001b[1;33m\u001b[0m\u001b[0m\n\u001b[1;32m-> 3425\u001b[1;33m                 \u001b[0mlvl_indexer\u001b[0m \u001b[1;33m=\u001b[0m \u001b[0mself\u001b[0m\u001b[1;33m.\u001b[0m\u001b[0m_get_loc_level\u001b[0m\u001b[1;33m(\u001b[0m\u001b[0mk\u001b[0m\u001b[1;33m,\u001b[0m \u001b[0mlevel\u001b[0m\u001b[1;33m=\u001b[0m\u001b[0mi\u001b[0m\u001b[1;33m)\u001b[0m\u001b[1;33m[\u001b[0m\u001b[1;36m0\u001b[0m\u001b[1;33m]\u001b[0m\u001b[1;33m\u001b[0m\u001b[1;33m\u001b[0m\u001b[0m\n\u001b[0m\u001b[0;32m   3426\u001b[0m                 indexer = _update_indexer(\n\u001b[0;32m   3427\u001b[0m                     \u001b[0m_convert_to_indexer\u001b[0m\u001b[1;33m(\u001b[0m\u001b[0mlvl_indexer\u001b[0m\u001b[1;33m)\u001b[0m\u001b[1;33m,\u001b[0m\u001b[1;33m\u001b[0m\u001b[1;33m\u001b[0m\u001b[0m\n",
      "\u001b[1;32m~\\anaconda3\\lib\\site-packages\\pandas\\core\\indexes\\multi.py\u001b[0m in \u001b[0;36m_get_loc_level\u001b[1;34m(self, key, level)\u001b[0m\n\u001b[0;32m   3111\u001b[0m                 \u001b[1;32mreturn\u001b[0m \u001b[0mindexer\u001b[0m\u001b[1;33m,\u001b[0m \u001b[0mmaybe_mi_droplevels\u001b[0m\u001b[1;33m(\u001b[0m\u001b[0mindexer\u001b[0m\u001b[1;33m,\u001b[0m \u001b[0milevels\u001b[0m\u001b[1;33m)\u001b[0m\u001b[1;33m\u001b[0m\u001b[1;33m\u001b[0m\u001b[0m\n\u001b[0;32m   3112\u001b[0m         \u001b[1;32melse\u001b[0m\u001b[1;33m:\u001b[0m\u001b[1;33m\u001b[0m\u001b[1;33m\u001b[0m\u001b[0m\n\u001b[1;32m-> 3113\u001b[1;33m             \u001b[0mindexer\u001b[0m \u001b[1;33m=\u001b[0m \u001b[0mself\u001b[0m\u001b[1;33m.\u001b[0m\u001b[0m_get_level_indexer\u001b[0m\u001b[1;33m(\u001b[0m\u001b[0mkey\u001b[0m\u001b[1;33m,\u001b[0m \u001b[0mlevel\u001b[0m\u001b[1;33m=\u001b[0m\u001b[0mlevel\u001b[0m\u001b[1;33m)\u001b[0m\u001b[1;33m\u001b[0m\u001b[1;33m\u001b[0m\u001b[0m\n\u001b[0m\u001b[0;32m   3114\u001b[0m             if (\n\u001b[0;32m   3115\u001b[0m                 \u001b[0misinstance\u001b[0m\u001b[1;33m(\u001b[0m\u001b[0mkey\u001b[0m\u001b[1;33m,\u001b[0m \u001b[0mstr\u001b[0m\u001b[1;33m)\u001b[0m\u001b[1;33m\u001b[0m\u001b[1;33m\u001b[0m\u001b[0m\n",
      "\u001b[1;32m~\\anaconda3\\lib\\site-packages\\pandas\\core\\indexes\\multi.py\u001b[0m in \u001b[0;36m_get_level_indexer\u001b[1;34m(self, key, level, indexer)\u001b[0m\n\u001b[0;32m   3220\u001b[0m         \u001b[1;32melse\u001b[0m\u001b[1;33m:\u001b[0m\u001b[1;33m\u001b[0m\u001b[1;33m\u001b[0m\u001b[0m\n\u001b[0;32m   3221\u001b[0m \u001b[1;33m\u001b[0m\u001b[0m\n\u001b[1;32m-> 3222\u001b[1;33m             \u001b[0midx\u001b[0m \u001b[1;33m=\u001b[0m \u001b[0mself\u001b[0m\u001b[1;33m.\u001b[0m\u001b[0m_get_loc_single_level_index\u001b[0m\u001b[1;33m(\u001b[0m\u001b[0mlevel_index\u001b[0m\u001b[1;33m,\u001b[0m \u001b[0mkey\u001b[0m\u001b[1;33m)\u001b[0m\u001b[1;33m\u001b[0m\u001b[1;33m\u001b[0m\u001b[0m\n\u001b[0m\u001b[0;32m   3223\u001b[0m \u001b[1;33m\u001b[0m\u001b[0m\n\u001b[0;32m   3224\u001b[0m             \u001b[1;32mif\u001b[0m \u001b[0mlevel\u001b[0m \u001b[1;33m>\u001b[0m \u001b[1;36m0\u001b[0m \u001b[1;32mor\u001b[0m \u001b[0mself\u001b[0m\u001b[1;33m.\u001b[0m\u001b[0m_lexsort_depth\u001b[0m \u001b[1;33m==\u001b[0m \u001b[1;36m0\u001b[0m\u001b[1;33m:\u001b[0m\u001b[1;33m\u001b[0m\u001b[1;33m\u001b[0m\u001b[0m\n",
      "\u001b[1;32m~\\anaconda3\\lib\\site-packages\\pandas\\core\\indexes\\multi.py\u001b[0m in \u001b[0;36m_get_loc_single_level_index\u001b[1;34m(self, level_index, key)\u001b[0m\n\u001b[0;32m   2800\u001b[0m             \u001b[1;32mreturn\u001b[0m \u001b[1;33m-\u001b[0m\u001b[1;36m1\u001b[0m\u001b[1;33m\u001b[0m\u001b[1;33m\u001b[0m\u001b[0m\n\u001b[0;32m   2801\u001b[0m         \u001b[1;32melse\u001b[0m\u001b[1;33m:\u001b[0m\u001b[1;33m\u001b[0m\u001b[1;33m\u001b[0m\u001b[0m\n\u001b[1;32m-> 2802\u001b[1;33m             \u001b[1;32mreturn\u001b[0m \u001b[0mlevel_index\u001b[0m\u001b[1;33m.\u001b[0m\u001b[0mget_loc\u001b[0m\u001b[1;33m(\u001b[0m\u001b[0mkey\u001b[0m\u001b[1;33m)\u001b[0m\u001b[1;33m\u001b[0m\u001b[1;33m\u001b[0m\u001b[0m\n\u001b[0m\u001b[0;32m   2803\u001b[0m \u001b[1;33m\u001b[0m\u001b[0m\n\u001b[0;32m   2804\u001b[0m     \u001b[1;32mdef\u001b[0m \u001b[0mget_loc\u001b[0m\u001b[1;33m(\u001b[0m\u001b[0mself\u001b[0m\u001b[1;33m,\u001b[0m \u001b[0mkey\u001b[0m\u001b[1;33m,\u001b[0m \u001b[0mmethod\u001b[0m\u001b[1;33m=\u001b[0m\u001b[1;32mNone\u001b[0m\u001b[1;33m)\u001b[0m\u001b[1;33m:\u001b[0m\u001b[1;33m\u001b[0m\u001b[1;33m\u001b[0m\u001b[0m\n",
      "\u001b[1;32m~\\anaconda3\\lib\\site-packages\\pandas\\core\\indexes\\base.py\u001b[0m in \u001b[0;36mget_loc\u001b[1;34m(self, key, method, tolerance)\u001b[0m\n\u001b[0;32m   3629\u001b[0m                 \u001b[1;32mreturn\u001b[0m \u001b[0mself\u001b[0m\u001b[1;33m.\u001b[0m\u001b[0m_engine\u001b[0m\u001b[1;33m.\u001b[0m\u001b[0mget_loc\u001b[0m\u001b[1;33m(\u001b[0m\u001b[0mcasted_key\u001b[0m\u001b[1;33m)\u001b[0m\u001b[1;33m\u001b[0m\u001b[1;33m\u001b[0m\u001b[0m\n\u001b[0;32m   3630\u001b[0m             \u001b[1;32mexcept\u001b[0m \u001b[0mKeyError\u001b[0m \u001b[1;32mas\u001b[0m \u001b[0merr\u001b[0m\u001b[1;33m:\u001b[0m\u001b[1;33m\u001b[0m\u001b[1;33m\u001b[0m\u001b[0m\n\u001b[1;32m-> 3631\u001b[1;33m                 \u001b[1;32mraise\u001b[0m \u001b[0mKeyError\u001b[0m\u001b[1;33m(\u001b[0m\u001b[0mkey\u001b[0m\u001b[1;33m)\u001b[0m \u001b[1;32mfrom\u001b[0m \u001b[0merr\u001b[0m\u001b[1;33m\u001b[0m\u001b[1;33m\u001b[0m\u001b[0m\n\u001b[0m\u001b[0;32m   3632\u001b[0m             \u001b[1;32mexcept\u001b[0m \u001b[0mTypeError\u001b[0m\u001b[1;33m:\u001b[0m\u001b[1;33m\u001b[0m\u001b[1;33m\u001b[0m\u001b[0m\n\u001b[0;32m   3633\u001b[0m                 \u001b[1;31m# If we have a listlike key, _check_indexing_error will raise\u001b[0m\u001b[1;33m\u001b[0m\u001b[1;33m\u001b[0m\u001b[0m\n",
      "\u001b[1;31mKeyError\u001b[0m: 'poulet'"
     ]
    }
   ],
   "source": [
    "fig = make_subplots(rows=1, cols=4, shared_yaxes=True)\n",
    "for i, region in enumerate( df2.index.get_level_values('Région').unique() ):\n",
    "    sub_df = df2[df2.index.get_level_values('Région') == region]['Ventes']\n",
    "    graph = go.Bar(x=sub_df.index.get_level_values('Produit'), y=sub_df, name=region, marker=dict(color=[\"red\", \"blue\"])) \n",
    "    fig.add_trace(graph, row=1, col=i+1)\n",
    "\n",
    "    # Set x-axis label for each subplot\n",
    "    fig.update_xaxes(title_text=region, row=1, col=i+1)\n",
    "\n",
    "# Add legend for each color with ingredient name\n",
    "for j, produit in enumerate(df2.index.get_level_values('Produit').unique()):\n",
    "    fig.add_trace(go.Scatter(x=[None], y=[None], mode='markers', marker=dict(color=[\"red\", \"blue\"][j], size=10, symbol='square'), showlegend=True, legendgroup=produit, name=produit), row=1, col=1)\n",
    "\n",
    "# Set y-axis label for the middle subplot\n",
    "fig.update_yaxes(title_text=\"Ventes (en €)\", row=1, col=1)\n",
    "\n",
    "# Hide column name from the legend\n",
    "fig.update_traces(showlegend=False, selector=dict(type='bar'))\n",
    "\n",
    "fig.show()"
   ]
  },
  {
   "cell_type": "code",
   "execution_count": null,
   "metadata": {},
   "outputs": [],
   "source": []
  }
 ]
}